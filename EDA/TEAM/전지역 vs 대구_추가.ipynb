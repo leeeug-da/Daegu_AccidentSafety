{
 "cells": [
  {
   "cell_type": "markdown",
   "metadata": {},
   "source": [
    "# 대구 v.s 전국 교통사고 현황"
   ]
  },
  {
   "cell_type": "markdown",
   "metadata": {},
   "source": [
    "### 데이터 로드"
   ]
  },
  {
   "cell_type": "code",
   "execution_count": 2,
   "metadata": {},
   "outputs": [],
   "source": [
    "import matplotlib.pyplot as plt\n",
    "%matplotlib inline\n",
    "\n",
    "import platform\n",
    "\n",
    "from matplotlib import font_manager, rc\n",
    "plt.rcParams['axes.unicode_minus'] = False\n",
    "\n",
    "if platform.system() == 'Darwin': # 맥OS\n",
    "     rc('font', family='AppleGothic')\n",
    "     \n",
    "elif platform.system() == 'Windows': # 윈도우\n",
    "\n",
    "     path = \"c:/Windows/Fonts/malgun.ttf\"\n",
    "     font_name = font_manager.FontProperties(fname=path).get_name()\n",
    "     rc('font', family=font_name)\n",
    "else:\n",
    "     print('Unknown system... sorry~~~')"
   ]
  },
  {
   "cell_type": "code",
   "execution_count": 3,
   "metadata": {},
   "outputs": [
    {
     "data": {
      "text/html": [
       "<div>\n",
       "<style scoped>\n",
       "    .dataframe tbody tr th:only-of-type {\n",
       "        vertical-align: middle;\n",
       "    }\n",
       "\n",
       "    .dataframe tbody tr th {\n",
       "        vertical-align: top;\n",
       "    }\n",
       "\n",
       "    .dataframe thead th {\n",
       "        text-align: right;\n",
       "    }\n",
       "</style>\n",
       "<table border=\"1\" class=\"dataframe\">\n",
       "  <thead>\n",
       "    <tr style=\"text-align: right;\">\n",
       "      <th></th>\n",
       "      <th>ID</th>\n",
       "      <th>사고일시</th>\n",
       "      <th>요일</th>\n",
       "      <th>기상상태</th>\n",
       "      <th>시군구</th>\n",
       "      <th>도로형태</th>\n",
       "      <th>노면상태</th>\n",
       "      <th>사고유형</th>\n",
       "      <th>사고유형 - 세부분류</th>\n",
       "      <th>법규위반</th>\n",
       "      <th>...</th>\n",
       "      <th>가해운전자 상해정도</th>\n",
       "      <th>피해운전자 차종</th>\n",
       "      <th>피해운전자 성별</th>\n",
       "      <th>피해운전자 연령</th>\n",
       "      <th>피해운전자 상해정도</th>\n",
       "      <th>사망자수</th>\n",
       "      <th>중상자수</th>\n",
       "      <th>경상자수</th>\n",
       "      <th>부상자수</th>\n",
       "      <th>ECLO</th>\n",
       "    </tr>\n",
       "  </thead>\n",
       "  <tbody>\n",
       "    <tr>\n",
       "      <th>0</th>\n",
       "      <td>COUNTRYWIDE_ACCIDENT_000000</td>\n",
       "      <td>2019-01-01 00</td>\n",
       "      <td>화요일</td>\n",
       "      <td>맑음</td>\n",
       "      <td>서울특별시 강서구 방화동</td>\n",
       "      <td>교차로 - 교차로횡단보도내</td>\n",
       "      <td>건조</td>\n",
       "      <td>차대사람</td>\n",
       "      <td>횡단중</td>\n",
       "      <td>보행자보호의무위반</td>\n",
       "      <td>...</td>\n",
       "      <td>상해없음</td>\n",
       "      <td>보행자</td>\n",
       "      <td>남</td>\n",
       "      <td>40세</td>\n",
       "      <td>경상</td>\n",
       "      <td>0</td>\n",
       "      <td>0</td>\n",
       "      <td>1</td>\n",
       "      <td>0</td>\n",
       "      <td>3</td>\n",
       "    </tr>\n",
       "    <tr>\n",
       "      <th>1</th>\n",
       "      <td>COUNTRYWIDE_ACCIDENT_000001</td>\n",
       "      <td>2019-01-01 00</td>\n",
       "      <td>화요일</td>\n",
       "      <td>맑음</td>\n",
       "      <td>경기도 포천시 소흘읍</td>\n",
       "      <td>교차로 - 교차로안</td>\n",
       "      <td>건조</td>\n",
       "      <td>차대차</td>\n",
       "      <td>기타</td>\n",
       "      <td>직진우회전진행방해</td>\n",
       "      <td>...</td>\n",
       "      <td>상해없음</td>\n",
       "      <td>이륜</td>\n",
       "      <td>남</td>\n",
       "      <td>20세</td>\n",
       "      <td>경상</td>\n",
       "      <td>0</td>\n",
       "      <td>0</td>\n",
       "      <td>1</td>\n",
       "      <td>0</td>\n",
       "      <td>3</td>\n",
       "    </tr>\n",
       "    <tr>\n",
       "      <th>2</th>\n",
       "      <td>COUNTRYWIDE_ACCIDENT_000002</td>\n",
       "      <td>2019-01-01 00</td>\n",
       "      <td>화요일</td>\n",
       "      <td>맑음</td>\n",
       "      <td>경기도 양주시 고암동</td>\n",
       "      <td>교차로 - 교차로안</td>\n",
       "      <td>건조</td>\n",
       "      <td>차대차</td>\n",
       "      <td>측면충돌</td>\n",
       "      <td>신호위반</td>\n",
       "      <td>...</td>\n",
       "      <td>상해없음</td>\n",
       "      <td>이륜</td>\n",
       "      <td>남</td>\n",
       "      <td>17세</td>\n",
       "      <td>중상</td>\n",
       "      <td>0</td>\n",
       "      <td>1</td>\n",
       "      <td>0</td>\n",
       "      <td>0</td>\n",
       "      <td>5</td>\n",
       "    </tr>\n",
       "    <tr>\n",
       "      <th>3</th>\n",
       "      <td>COUNTRYWIDE_ACCIDENT_000003</td>\n",
       "      <td>2019-01-01 00</td>\n",
       "      <td>화요일</td>\n",
       "      <td>맑음</td>\n",
       "      <td>경기도 남양주시 다산동</td>\n",
       "      <td>기타 - 기타</td>\n",
       "      <td>건조</td>\n",
       "      <td>차대사람</td>\n",
       "      <td>횡단중</td>\n",
       "      <td>보행자보호의무위반</td>\n",
       "      <td>...</td>\n",
       "      <td>상해없음</td>\n",
       "      <td>보행자</td>\n",
       "      <td>남</td>\n",
       "      <td>10세</td>\n",
       "      <td>중상</td>\n",
       "      <td>0</td>\n",
       "      <td>2</td>\n",
       "      <td>0</td>\n",
       "      <td>0</td>\n",
       "      <td>10</td>\n",
       "    </tr>\n",
       "    <tr>\n",
       "      <th>4</th>\n",
       "      <td>COUNTRYWIDE_ACCIDENT_000004</td>\n",
       "      <td>2019-01-01 00</td>\n",
       "      <td>화요일</td>\n",
       "      <td>맑음</td>\n",
       "      <td>인천광역시 부평구 부평동</td>\n",
       "      <td>교차로 - 교차로안</td>\n",
       "      <td>건조</td>\n",
       "      <td>차대차</td>\n",
       "      <td>측면충돌</td>\n",
       "      <td>신호위반</td>\n",
       "      <td>...</td>\n",
       "      <td>상해없음</td>\n",
       "      <td>승용</td>\n",
       "      <td>남</td>\n",
       "      <td>56세</td>\n",
       "      <td>경상</td>\n",
       "      <td>0</td>\n",
       "      <td>0</td>\n",
       "      <td>2</td>\n",
       "      <td>1</td>\n",
       "      <td>7</td>\n",
       "    </tr>\n",
       "  </tbody>\n",
       "</table>\n",
       "<p>5 rows × 23 columns</p>\n",
       "</div>"
      ],
      "text/plain": [
       "                            ID           사고일시   요일 기상상태            시군구  \\\n",
       "0  COUNTRYWIDE_ACCIDENT_000000  2019-01-01 00  화요일   맑음  서울특별시 강서구 방화동   \n",
       "1  COUNTRYWIDE_ACCIDENT_000001  2019-01-01 00  화요일   맑음    경기도 포천시 소흘읍   \n",
       "2  COUNTRYWIDE_ACCIDENT_000002  2019-01-01 00  화요일   맑음    경기도 양주시 고암동   \n",
       "3  COUNTRYWIDE_ACCIDENT_000003  2019-01-01 00  화요일   맑음   경기도 남양주시 다산동   \n",
       "4  COUNTRYWIDE_ACCIDENT_000004  2019-01-01 00  화요일   맑음  인천광역시 부평구 부평동   \n",
       "\n",
       "             도로형태 노면상태  사고유형 사고유형 - 세부분류       법규위반  ... 가해운전자 상해정도 피해운전자 차종  \\\n",
       "0  교차로 - 교차로횡단보도내   건조  차대사람         횡단중  보행자보호의무위반  ...       상해없음      보행자   \n",
       "1      교차로 - 교차로안   건조   차대차          기타  직진우회전진행방해  ...       상해없음       이륜   \n",
       "2      교차로 - 교차로안   건조   차대차        측면충돌       신호위반  ...       상해없음       이륜   \n",
       "3         기타 - 기타   건조  차대사람         횡단중  보행자보호의무위반  ...       상해없음      보행자   \n",
       "4      교차로 - 교차로안   건조   차대차        측면충돌       신호위반  ...       상해없음       승용   \n",
       "\n",
       "  피해운전자 성별 피해운전자 연령 피해운전자 상해정도 사망자수 중상자수 경상자수  부상자수  ECLO  \n",
       "0        남      40세         경상    0    0    1     0     3  \n",
       "1        남      20세         경상    0    0    1     0     3  \n",
       "2        남      17세         중상    0    1    0     0     5  \n",
       "3        남      10세         중상    0    2    0     0    10  \n",
       "4        남      56세         경상    0    0    2     1     7  \n",
       "\n",
       "[5 rows x 23 columns]"
      ]
     },
     "metadata": {},
     "output_type": "display_data"
    },
    {
     "data": {
      "text/html": [
       "<div>\n",
       "<style scoped>\n",
       "    .dataframe tbody tr th:only-of-type {\n",
       "        vertical-align: middle;\n",
       "    }\n",
       "\n",
       "    .dataframe tbody tr th {\n",
       "        vertical-align: top;\n",
       "    }\n",
       "\n",
       "    .dataframe thead th {\n",
       "        text-align: right;\n",
       "    }\n",
       "</style>\n",
       "<table border=\"1\" class=\"dataframe\">\n",
       "  <thead>\n",
       "    <tr style=\"text-align: right;\">\n",
       "      <th></th>\n",
       "      <th>ID</th>\n",
       "      <th>사고일시</th>\n",
       "      <th>요일</th>\n",
       "      <th>기상상태</th>\n",
       "      <th>시군구</th>\n",
       "      <th>도로형태</th>\n",
       "      <th>노면상태</th>\n",
       "      <th>사고유형</th>\n",
       "      <th>사고유형 - 세부분류</th>\n",
       "      <th>법규위반</th>\n",
       "      <th>...</th>\n",
       "      <th>가해운전자 상해정도</th>\n",
       "      <th>피해운전자 차종</th>\n",
       "      <th>피해운전자 성별</th>\n",
       "      <th>피해운전자 연령</th>\n",
       "      <th>피해운전자 상해정도</th>\n",
       "      <th>사망자수</th>\n",
       "      <th>중상자수</th>\n",
       "      <th>경상자수</th>\n",
       "      <th>부상자수</th>\n",
       "      <th>ECLO</th>\n",
       "    </tr>\n",
       "  </thead>\n",
       "  <tbody>\n",
       "    <tr>\n",
       "      <th>0</th>\n",
       "      <td>ACCIDENT_00000</td>\n",
       "      <td>2019-01-01 00</td>\n",
       "      <td>화요일</td>\n",
       "      <td>맑음</td>\n",
       "      <td>대구광역시 중구 대신동</td>\n",
       "      <td>단일로 - 기타</td>\n",
       "      <td>건조</td>\n",
       "      <td>차대사람</td>\n",
       "      <td>길가장자리구역통행중</td>\n",
       "      <td>안전운전불이행</td>\n",
       "      <td>...</td>\n",
       "      <td>상해없음</td>\n",
       "      <td>보행자</td>\n",
       "      <td>여</td>\n",
       "      <td>70세</td>\n",
       "      <td>중상</td>\n",
       "      <td>0</td>\n",
       "      <td>1</td>\n",
       "      <td>0</td>\n",
       "      <td>0</td>\n",
       "      <td>5</td>\n",
       "    </tr>\n",
       "    <tr>\n",
       "      <th>1</th>\n",
       "      <td>ACCIDENT_00001</td>\n",
       "      <td>2019-01-01 00</td>\n",
       "      <td>화요일</td>\n",
       "      <td>흐림</td>\n",
       "      <td>대구광역시 달서구 감삼동</td>\n",
       "      <td>단일로 - 기타</td>\n",
       "      <td>건조</td>\n",
       "      <td>차대사람</td>\n",
       "      <td>보도통행중</td>\n",
       "      <td>기타</td>\n",
       "      <td>...</td>\n",
       "      <td>상해없음</td>\n",
       "      <td>보행자</td>\n",
       "      <td>남</td>\n",
       "      <td>61세</td>\n",
       "      <td>경상</td>\n",
       "      <td>0</td>\n",
       "      <td>0</td>\n",
       "      <td>1</td>\n",
       "      <td>0</td>\n",
       "      <td>3</td>\n",
       "    </tr>\n",
       "    <tr>\n",
       "      <th>2</th>\n",
       "      <td>ACCIDENT_00002</td>\n",
       "      <td>2019-01-01 01</td>\n",
       "      <td>화요일</td>\n",
       "      <td>맑음</td>\n",
       "      <td>대구광역시 수성구 두산동</td>\n",
       "      <td>단일로 - 기타</td>\n",
       "      <td>건조</td>\n",
       "      <td>차대사람</td>\n",
       "      <td>차도통행중</td>\n",
       "      <td>안전운전불이행</td>\n",
       "      <td>...</td>\n",
       "      <td>상해없음</td>\n",
       "      <td>보행자</td>\n",
       "      <td>남</td>\n",
       "      <td>38세</td>\n",
       "      <td>경상</td>\n",
       "      <td>0</td>\n",
       "      <td>0</td>\n",
       "      <td>1</td>\n",
       "      <td>0</td>\n",
       "      <td>3</td>\n",
       "    </tr>\n",
       "    <tr>\n",
       "      <th>3</th>\n",
       "      <td>ACCIDENT_00003</td>\n",
       "      <td>2019-01-01 02</td>\n",
       "      <td>화요일</td>\n",
       "      <td>맑음</td>\n",
       "      <td>대구광역시 북구 복현동</td>\n",
       "      <td>단일로 - 기타</td>\n",
       "      <td>건조</td>\n",
       "      <td>차대차</td>\n",
       "      <td>추돌</td>\n",
       "      <td>안전운전불이행</td>\n",
       "      <td>...</td>\n",
       "      <td>상해없음</td>\n",
       "      <td>승용</td>\n",
       "      <td>남</td>\n",
       "      <td>36세</td>\n",
       "      <td>중상</td>\n",
       "      <td>0</td>\n",
       "      <td>1</td>\n",
       "      <td>0</td>\n",
       "      <td>0</td>\n",
       "      <td>5</td>\n",
       "    </tr>\n",
       "    <tr>\n",
       "      <th>4</th>\n",
       "      <td>ACCIDENT_00004</td>\n",
       "      <td>2019-01-01 04</td>\n",
       "      <td>화요일</td>\n",
       "      <td>맑음</td>\n",
       "      <td>대구광역시 동구 신암동</td>\n",
       "      <td>단일로 - 기타</td>\n",
       "      <td>건조</td>\n",
       "      <td>차대차</td>\n",
       "      <td>추돌</td>\n",
       "      <td>안전운전불이행</td>\n",
       "      <td>...</td>\n",
       "      <td>상해없음</td>\n",
       "      <td>승용</td>\n",
       "      <td>남</td>\n",
       "      <td>52세</td>\n",
       "      <td>경상</td>\n",
       "      <td>0</td>\n",
       "      <td>0</td>\n",
       "      <td>1</td>\n",
       "      <td>0</td>\n",
       "      <td>3</td>\n",
       "    </tr>\n",
       "  </tbody>\n",
       "</table>\n",
       "<p>5 rows × 23 columns</p>\n",
       "</div>"
      ],
      "text/plain": [
       "               ID           사고일시   요일 기상상태            시군구      도로형태 노면상태  \\\n",
       "0  ACCIDENT_00000  2019-01-01 00  화요일   맑음   대구광역시 중구 대신동  단일로 - 기타   건조   \n",
       "1  ACCIDENT_00001  2019-01-01 00  화요일   흐림  대구광역시 달서구 감삼동  단일로 - 기타   건조   \n",
       "2  ACCIDENT_00002  2019-01-01 01  화요일   맑음  대구광역시 수성구 두산동  단일로 - 기타   건조   \n",
       "3  ACCIDENT_00003  2019-01-01 02  화요일   맑음   대구광역시 북구 복현동  단일로 - 기타   건조   \n",
       "4  ACCIDENT_00004  2019-01-01 04  화요일   맑음   대구광역시 동구 신암동  단일로 - 기타   건조   \n",
       "\n",
       "   사고유형 사고유형 - 세부분류     법규위반  ... 가해운전자 상해정도 피해운전자 차종 피해운전자 성별 피해운전자 연령  \\\n",
       "0  차대사람  길가장자리구역통행중  안전운전불이행  ...       상해없음      보행자        여      70세   \n",
       "1  차대사람       보도통행중       기타  ...       상해없음      보행자        남      61세   \n",
       "2  차대사람       차도통행중  안전운전불이행  ...       상해없음      보행자        남      38세   \n",
       "3   차대차          추돌  안전운전불이행  ...       상해없음       승용        남      36세   \n",
       "4   차대차          추돌  안전운전불이행  ...       상해없음       승용        남      52세   \n",
       "\n",
       "  피해운전자 상해정도 사망자수 중상자수 경상자수  부상자수  ECLO  \n",
       "0         중상    0    1    0     0     5  \n",
       "1         경상    0    0    1     0     3  \n",
       "2         경상    0    0    1     0     3  \n",
       "3         중상    0    1    0     0     5  \n",
       "4         경상    0    0    1     0     3  \n",
       "\n",
       "[5 rows x 23 columns]"
      ]
     },
     "metadata": {},
     "output_type": "display_data"
    }
   ],
   "source": [
    "import pandas as pd\n",
    "\n",
    "# 전국데이터\n",
    "df_org = pd.read_csv('./open/open/external_open/countrywide_accident.csv')\n",
    "# train 데이터\n",
    "train_org = pd.read_csv('./data/train.csv')\n",
    "\n",
    "display(df_org.head())\n",
    "display(train_org.head())\n"
   ]
  },
  {
   "cell_type": "markdown",
   "metadata": {},
   "source": [
    "### 데이터 확인"
   ]
  },
  {
   "cell_type": "code",
   "execution_count": 4,
   "metadata": {},
   "outputs": [
    {
     "name": "stdout",
     "output_type": "stream",
     "text": [
      "<class 'pandas.core.frame.DataFrame'>\n",
      "RangeIndex: 602775 entries, 0 to 602774\n",
      "Data columns (total 23 columns):\n",
      " #   Column       Non-Null Count   Dtype \n",
      "---  ------       --------------   ----- \n",
      " 0   ID           602775 non-null  object\n",
      " 1   사고일시         602775 non-null  object\n",
      " 2   요일           602775 non-null  object\n",
      " 3   기상상태         602775 non-null  object\n",
      " 4   시군구          602775 non-null  object\n",
      " 5   도로형태         602775 non-null  object\n",
      " 6   노면상태         602774 non-null  object\n",
      " 7   사고유형         602775 non-null  object\n",
      " 8   사고유형 - 세부분류  602775 non-null  object\n",
      " 9   법규위반         602775 non-null  object\n",
      " 10  가해운전자 차종     602775 non-null  object\n",
      " 11  가해운전자 성별     602775 non-null  object\n",
      " 12  가해운전자 연령     602775 non-null  object\n",
      " 13  가해운전자 상해정도   602775 non-null  object\n",
      " 14  피해운전자 차종     576948 non-null  object\n",
      " 15  피해운전자 성별     576946 non-null  object\n",
      " 16  피해운전자 연령     576949 non-null  object\n",
      " 17  피해운전자 상해정도   576946 non-null  object\n",
      " 18  사망자수         602775 non-null  int64 \n",
      " 19  중상자수         602775 non-null  int64 \n",
      " 20  경상자수         602775 non-null  int64 \n",
      " 21  부상자수         602775 non-null  int64 \n",
      " 22  ECLO         602775 non-null  int64 \n",
      "dtypes: int64(5), object(18)\n",
      "memory usage: 105.8+ MB\n"
     ]
    }
   ],
   "source": [
    "df_org.info()"
   ]
  },
  {
   "cell_type": "code",
   "execution_count": 5,
   "metadata": {},
   "outputs": [
    {
     "name": "stdout",
     "output_type": "stream",
     "text": [
      "ID                 0\n",
      "사고일시               0\n",
      "요일                 0\n",
      "기상상태               0\n",
      "시군구                0\n",
      "도로형태               0\n",
      "노면상태               1\n",
      "사고유형               0\n",
      "사고유형 - 세부분류        0\n",
      "법규위반               0\n",
      "가해운전자 차종           0\n",
      "가해운전자 성별           0\n",
      "가해운전자 연령           0\n",
      "가해운전자 상해정도         0\n",
      "피해운전자 차종       25827\n",
      "피해운전자 성별       25829\n",
      "피해운전자 연령       25826\n",
      "피해운전자 상해정도     25829\n",
      "사망자수               0\n",
      "중상자수               0\n",
      "경상자수               0\n",
      "부상자수               0\n",
      "ECLO               0\n",
      "dtype: int64\n",
      "ID               0\n",
      "사고일시             0\n",
      "요일               0\n",
      "기상상태             0\n",
      "시군구              0\n",
      "도로형태             0\n",
      "노면상태             0\n",
      "사고유형             0\n",
      "사고유형 - 세부분류      0\n",
      "법규위반             0\n",
      "가해운전자 차종         0\n",
      "가해운전자 성별         0\n",
      "가해운전자 연령         0\n",
      "가해운전자 상해정도       0\n",
      "피해운전자 차종       991\n",
      "피해운전자 성별       991\n",
      "피해운전자 연령       991\n",
      "피해운전자 상해정도     991\n",
      "사망자수             0\n",
      "중상자수             0\n",
      "경상자수             0\n",
      "부상자수             0\n",
      "ECLO             0\n",
      "dtype: int64\n"
     ]
    }
   ],
   "source": [
    "print(df_org.isnull().sum())\n",
    "print(train_org.isnull().sum())"
   ]
  },
  {
   "cell_type": "markdown",
   "metadata": {},
   "source": [
    "- 피해 운전자 차종, 성별, 연령, 상해정도에서 다수의 null값 확인\n",
    "- 정확한 분석을 위해 제외하고 분석 예정\n",
    "- 전국 교통사고 데이터의 노면상태 컬럼에서 1개의 null값이 존재하나 분석 시 문제 없을거라 판단해서 그대로 진행"
   ]
  },
  {
   "cell_type": "code",
   "execution_count": 6,
   "metadata": {},
   "outputs": [
    {
     "name": "stdout",
     "output_type": "stream",
     "text": [
      "['화요일' '수요일' '목요일' '금요일' '토요일' '일요일' '월요일']\n",
      "['화요일' '수요일' '목요일' '금요일' '토요일' '일요일' '월요일']\n"
     ]
    }
   ],
   "source": [
    "print(df_org['요일'].unique())\n",
    "print(train_org['요일'].unique())"
   ]
  },
  {
   "cell_type": "code",
   "execution_count": 27,
   "metadata": {},
   "outputs": [
    {
     "name": "stdout",
     "output_type": "stream",
     "text": [
      "['맑음' '흐림' '눈' '기타' '비' '안개']\n",
      "['맑음' '흐림' '기타' '비' '안개' '눈']\n"
     ]
    }
   ],
   "source": [
    "print(df_org['기상상태'].unique())\n",
    "print(train_org['기상상태'].unique())"
   ]
  },
  {
   "cell_type": "code",
   "execution_count": 37,
   "metadata": {},
   "outputs": [
    {
     "name": "stdout",
     "output_type": "stream",
     "text": [
      "['교차로 - 교차로횡단보도내' '교차로 - 교차로안' '기타 - 기타' '교차로 - 교차로부근' '단일로 - 기타'\n",
      " '단일로 - 터널' '주차장 - 주차장' '단일로 - 고가도로위' '단일로 - 교량' '단일로 - 지하차도(도로)내'\n",
      " '미분류 - 미분류' '단일로 - 철길건널목']\n",
      "['단일로 - 기타' '교차로 - 교차로안' '기타 - 기타' '단일로 - 터널' '단일로 - 지하차도(도로)내' '단일로 - 교량'\n",
      " '교차로 - 교차로횡단보도내' '주차장 - 주차장' '교차로 - 교차로부근' '단일로 - 고가도로위' '미분류 - 미분류']\n"
     ]
    }
   ],
   "source": [
    "print(df_org['도로형태'].unique())\n",
    "print(train_org['도로형태'].unique())"
   ]
  },
  {
   "cell_type": "code",
   "execution_count": 39,
   "metadata": {},
   "outputs": [
    {
     "name": "stdout",
     "output_type": "stream",
     "text": [
      "['건조' '젖음/습기' '기타' '서리/결빙' '적설' '해빙' '침수' nan]\n",
      "['건조' '젖음/습기' '서리/결빙' '기타' '침수' '적설']\n"
     ]
    }
   ],
   "source": [
    "print(df_org['노면상태'].unique())\n",
    "print(train_org['노면상태'].unique())"
   ]
  },
  {
   "cell_type": "code",
   "execution_count": 40,
   "metadata": {},
   "outputs": [
    {
     "name": "stdout",
     "output_type": "stream",
     "text": [
      "['차대사람' '차대차' '차량단독' '철길건널목']\n",
      "['차대사람' '차대차' '차량단독']\n"
     ]
    }
   ],
   "source": [
    "print(df_org['사고유형'].unique())\n",
    "print(train_org['사고유형'].unique())"
   ]
  },
  {
   "cell_type": "code",
   "execution_count": 41,
   "metadata": {},
   "outputs": [
    {
     "name": "stdout",
     "output_type": "stream",
     "text": [
      "['횡단중' '기타' '측면충돌' '길가장자리구역통행중' '공작물충돌' '추돌' '차도통행중' '정면충돌' '후진중충돌'\n",
      " '보도통행중' '전도전복 - 전도' '전도전복 - 전복' '도로외이탈 - 기타' '도로외이탈 - 추락' '주/정차차량 충돌'\n",
      " '철길건널목']\n",
      "['길가장자리구역통행중' '보도통행중' '차도통행중' '추돌' '측면충돌' '기타' '공작물충돌' '횡단중' '정면충돌'\n",
      " '후진중충돌' '전도전복 - 전도' '도로외이탈 - 추락' '도로외이탈 - 기타' '전도전복 - 전복']\n"
     ]
    }
   ],
   "source": [
    "print(df_org['사고유형 - 세부분류'].unique())\n",
    "print(train_org['사고유형 - 세부분류'].unique())"
   ]
  },
  {
   "cell_type": "code",
   "execution_count": 42,
   "metadata": {},
   "outputs": [
    {
     "name": "stdout",
     "output_type": "stream",
     "text": [
      "['보행자보호의무위반' '직진우회전진행방해' '신호위반' '안전운전불이행' '중앙선침범' '과속' '안전거리미확보'\n",
      " '교차로운행방법위반' '차로위반' '기타' '불법유턴']\n",
      "['안전운전불이행' '기타' '교차로운행방법위반' '신호위반' '중앙선침범' '안전거리미확보' '차로위반' '보행자보호의무위반'\n",
      " '직진우회전진행방해' '과속' '불법유턴']\n"
     ]
    }
   ],
   "source": [
    "print(df_org['법규위반'].unique())\n",
    "print(train_org['법규위반'].unique())"
   ]
  },
  {
   "cell_type": "code",
   "execution_count": 43,
   "metadata": {},
   "outputs": [
    {
     "name": "stdout",
     "output_type": "stream",
     "text": [
      "['승용' '기타불명' '이륜' '화물' '특수' '승합' '자전거' '원동기' '건설기계' '사륜오토바이(ATV)'\n",
      " '개인형이동수단(PM)' '농기계']\n",
      "['승용' '승합' '기타불명' '화물' '이륜' '특수' '자전거' '원동기' '건설기계' '사륜오토바이(ATV)'\n",
      " '개인형이동수단(PM)' '농기계']\n"
     ]
    }
   ],
   "source": [
    "print(df_org['가해운전자 차종'].unique())\n",
    "print(train_org['가해운전자 차종'].unique())"
   ]
  },
  {
   "cell_type": "code",
   "execution_count": 44,
   "metadata": {},
   "outputs": [
    {
     "name": "stdout",
     "output_type": "stream",
     "text": [
      "['남' '여' '기타불명']\n",
      "['여' '남' '기타불명']\n"
     ]
    }
   ],
   "source": [
    "print(df_org['가해운전자 성별'].unique())\n",
    "print(train_org['가해운전자 성별'].unique())"
   ]
  },
  {
   "cell_type": "code",
   "execution_count": 46,
   "metadata": {},
   "outputs": [
    {
     "name": "stdout",
     "output_type": "stream",
     "text": [
      "['상해없음' '기타불명' '경상' '부상신고' '사망' '중상']\n",
      "['상해없음' '경상' '기타불명' '중상' '부상신고' '사망']\n"
     ]
    }
   ],
   "source": [
    "print(df_org['가해운전자 상해정도'].unique())\n",
    "print(train_org['가해운전자 상해정도'].unique())"
   ]
  },
  {
   "cell_type": "markdown",
   "metadata": {},
   "source": [
    "#### 날짜, 시간 데이터 분리"
   ]
  },
  {
   "cell_type": "code",
   "execution_count": 7,
   "metadata": {},
   "outputs": [
    {
     "data": {
      "text/html": [
       "<div>\n",
       "<style scoped>\n",
       "    .dataframe tbody tr th:only-of-type {\n",
       "        vertical-align: middle;\n",
       "    }\n",
       "\n",
       "    .dataframe tbody tr th {\n",
       "        vertical-align: top;\n",
       "    }\n",
       "\n",
       "    .dataframe thead th {\n",
       "        text-align: right;\n",
       "    }\n",
       "</style>\n",
       "<table border=\"1\" class=\"dataframe\">\n",
       "  <thead>\n",
       "    <tr style=\"text-align: right;\">\n",
       "      <th></th>\n",
       "      <th>ID</th>\n",
       "      <th>요일</th>\n",
       "      <th>기상상태</th>\n",
       "      <th>시군구</th>\n",
       "      <th>도로형태</th>\n",
       "      <th>노면상태</th>\n",
       "      <th>사고유형</th>\n",
       "      <th>사고유형 - 세부분류</th>\n",
       "      <th>법규위반</th>\n",
       "      <th>가해운전자 차종</th>\n",
       "      <th>...</th>\n",
       "      <th>피해운전자 상해정도</th>\n",
       "      <th>사망자수</th>\n",
       "      <th>중상자수</th>\n",
       "      <th>경상자수</th>\n",
       "      <th>부상자수</th>\n",
       "      <th>ECLO</th>\n",
       "      <th>연</th>\n",
       "      <th>월</th>\n",
       "      <th>일</th>\n",
       "      <th>시간</th>\n",
       "    </tr>\n",
       "  </thead>\n",
       "  <tbody>\n",
       "    <tr>\n",
       "      <th>0</th>\n",
       "      <td>COUNTRYWIDE_ACCIDENT_000000</td>\n",
       "      <td>화요일</td>\n",
       "      <td>맑음</td>\n",
       "      <td>서울특별시 강서구 방화동</td>\n",
       "      <td>교차로 - 교차로횡단보도내</td>\n",
       "      <td>건조</td>\n",
       "      <td>차대사람</td>\n",
       "      <td>횡단중</td>\n",
       "      <td>보행자보호의무위반</td>\n",
       "      <td>승용</td>\n",
       "      <td>...</td>\n",
       "      <td>경상</td>\n",
       "      <td>0</td>\n",
       "      <td>0</td>\n",
       "      <td>1</td>\n",
       "      <td>0</td>\n",
       "      <td>3</td>\n",
       "      <td>2019</td>\n",
       "      <td>1</td>\n",
       "      <td>1</td>\n",
       "      <td>0</td>\n",
       "    </tr>\n",
       "    <tr>\n",
       "      <th>1</th>\n",
       "      <td>COUNTRYWIDE_ACCIDENT_000001</td>\n",
       "      <td>화요일</td>\n",
       "      <td>맑음</td>\n",
       "      <td>경기도 포천시 소흘읍</td>\n",
       "      <td>교차로 - 교차로안</td>\n",
       "      <td>건조</td>\n",
       "      <td>차대차</td>\n",
       "      <td>기타</td>\n",
       "      <td>직진우회전진행방해</td>\n",
       "      <td>승용</td>\n",
       "      <td>...</td>\n",
       "      <td>경상</td>\n",
       "      <td>0</td>\n",
       "      <td>0</td>\n",
       "      <td>1</td>\n",
       "      <td>0</td>\n",
       "      <td>3</td>\n",
       "      <td>2019</td>\n",
       "      <td>1</td>\n",
       "      <td>1</td>\n",
       "      <td>0</td>\n",
       "    </tr>\n",
       "    <tr>\n",
       "      <th>2</th>\n",
       "      <td>COUNTRYWIDE_ACCIDENT_000002</td>\n",
       "      <td>화요일</td>\n",
       "      <td>맑음</td>\n",
       "      <td>경기도 양주시 고암동</td>\n",
       "      <td>교차로 - 교차로안</td>\n",
       "      <td>건조</td>\n",
       "      <td>차대차</td>\n",
       "      <td>측면충돌</td>\n",
       "      <td>신호위반</td>\n",
       "      <td>승용</td>\n",
       "      <td>...</td>\n",
       "      <td>중상</td>\n",
       "      <td>0</td>\n",
       "      <td>1</td>\n",
       "      <td>0</td>\n",
       "      <td>0</td>\n",
       "      <td>5</td>\n",
       "      <td>2019</td>\n",
       "      <td>1</td>\n",
       "      <td>1</td>\n",
       "      <td>0</td>\n",
       "    </tr>\n",
       "    <tr>\n",
       "      <th>3</th>\n",
       "      <td>COUNTRYWIDE_ACCIDENT_000003</td>\n",
       "      <td>화요일</td>\n",
       "      <td>맑음</td>\n",
       "      <td>경기도 남양주시 다산동</td>\n",
       "      <td>기타 - 기타</td>\n",
       "      <td>건조</td>\n",
       "      <td>차대사람</td>\n",
       "      <td>횡단중</td>\n",
       "      <td>보행자보호의무위반</td>\n",
       "      <td>승용</td>\n",
       "      <td>...</td>\n",
       "      <td>중상</td>\n",
       "      <td>0</td>\n",
       "      <td>2</td>\n",
       "      <td>0</td>\n",
       "      <td>0</td>\n",
       "      <td>10</td>\n",
       "      <td>2019</td>\n",
       "      <td>1</td>\n",
       "      <td>1</td>\n",
       "      <td>0</td>\n",
       "    </tr>\n",
       "    <tr>\n",
       "      <th>4</th>\n",
       "      <td>COUNTRYWIDE_ACCIDENT_000004</td>\n",
       "      <td>화요일</td>\n",
       "      <td>맑음</td>\n",
       "      <td>인천광역시 부평구 부평동</td>\n",
       "      <td>교차로 - 교차로안</td>\n",
       "      <td>건조</td>\n",
       "      <td>차대차</td>\n",
       "      <td>측면충돌</td>\n",
       "      <td>신호위반</td>\n",
       "      <td>승용</td>\n",
       "      <td>...</td>\n",
       "      <td>경상</td>\n",
       "      <td>0</td>\n",
       "      <td>0</td>\n",
       "      <td>2</td>\n",
       "      <td>1</td>\n",
       "      <td>7</td>\n",
       "      <td>2019</td>\n",
       "      <td>1</td>\n",
       "      <td>1</td>\n",
       "      <td>0</td>\n",
       "    </tr>\n",
       "  </tbody>\n",
       "</table>\n",
       "<p>5 rows × 26 columns</p>\n",
       "</div>"
      ],
      "text/plain": [
       "                            ID   요일 기상상태            시군구            도로형태 노면상태  \\\n",
       "0  COUNTRYWIDE_ACCIDENT_000000  화요일   맑음  서울특별시 강서구 방화동  교차로 - 교차로횡단보도내   건조   \n",
       "1  COUNTRYWIDE_ACCIDENT_000001  화요일   맑음    경기도 포천시 소흘읍      교차로 - 교차로안   건조   \n",
       "2  COUNTRYWIDE_ACCIDENT_000002  화요일   맑음    경기도 양주시 고암동      교차로 - 교차로안   건조   \n",
       "3  COUNTRYWIDE_ACCIDENT_000003  화요일   맑음   경기도 남양주시 다산동         기타 - 기타   건조   \n",
       "4  COUNTRYWIDE_ACCIDENT_000004  화요일   맑음  인천광역시 부평구 부평동      교차로 - 교차로안   건조   \n",
       "\n",
       "   사고유형 사고유형 - 세부분류       법규위반 가해운전자 차종  ... 피해운전자 상해정도 사망자수 중상자수 경상자수 부상자수  \\\n",
       "0  차대사람         횡단중  보행자보호의무위반       승용  ...         경상    0    0    1    0   \n",
       "1   차대차          기타  직진우회전진행방해       승용  ...         경상    0    0    1    0   \n",
       "2   차대차        측면충돌       신호위반       승용  ...         중상    0    1    0    0   \n",
       "3  차대사람         횡단중  보행자보호의무위반       승용  ...         중상    0    2    0    0   \n",
       "4   차대차        측면충돌       신호위반       승용  ...         경상    0    0    2    1   \n",
       "\n",
       "  ECLO     연  월  일  시간  \n",
       "0    3  2019  1  1   0  \n",
       "1    3  2019  1  1   0  \n",
       "2    5  2019  1  1   0  \n",
       "3   10  2019  1  1   0  \n",
       "4    7  2019  1  1   0  \n",
       "\n",
       "[5 rows x 26 columns]"
      ]
     },
     "execution_count": 7,
     "metadata": {},
     "output_type": "execute_result"
    }
   ],
   "source": [
    "df = df_org.copy()\n",
    "train_df = train_org.copy()\n",
    "\n",
    "time_pattern = r'(\\d{4})-(\\d{1,2})-(\\d{1,2}) (\\d{1,2})' \n",
    "\n",
    "df[['연', '월', '일', '시간']] = df_org['사고일시'].str.extract(time_pattern)\n",
    "df[['연', '월', '일', '시간']] = df[['연', '월', '일', '시간']].apply(pd.to_numeric) \n",
    "df = df.drop(columns=['사고일시'])\n",
    "\n",
    "train_df[['연', '월', '일', '시간']] = train_org['사고일시'].str.extract(time_pattern)\n",
    "train_df[['연', '월', '일', '시간']] = train_df[['연', '월', '일', '시간']].apply(pd.to_numeric) \n",
    "train_df = train_df.drop(columns=['사고일시'])\n",
    " \n",
    "df.head()\n"
   ]
  },
  {
   "cell_type": "markdown",
   "metadata": {},
   "source": [
    "#### 공간데이터 분리"
   ]
  },
  {
   "cell_type": "code",
   "execution_count": 8,
   "metadata": {},
   "outputs": [
    {
     "data": {
      "text/html": [
       "<div>\n",
       "<style scoped>\n",
       "    .dataframe tbody tr th:only-of-type {\n",
       "        vertical-align: middle;\n",
       "    }\n",
       "\n",
       "    .dataframe tbody tr th {\n",
       "        vertical-align: top;\n",
       "    }\n",
       "\n",
       "    .dataframe thead th {\n",
       "        text-align: right;\n",
       "    }\n",
       "</style>\n",
       "<table border=\"1\" class=\"dataframe\">\n",
       "  <thead>\n",
       "    <tr style=\"text-align: right;\">\n",
       "      <th></th>\n",
       "      <th>ID</th>\n",
       "      <th>요일</th>\n",
       "      <th>기상상태</th>\n",
       "      <th>도로형태</th>\n",
       "      <th>노면상태</th>\n",
       "      <th>사고유형</th>\n",
       "      <th>사고유형 - 세부분류</th>\n",
       "      <th>법규위반</th>\n",
       "      <th>가해운전자 차종</th>\n",
       "      <th>가해운전자 성별</th>\n",
       "      <th>...</th>\n",
       "      <th>경상자수</th>\n",
       "      <th>부상자수</th>\n",
       "      <th>ECLO</th>\n",
       "      <th>연</th>\n",
       "      <th>월</th>\n",
       "      <th>일</th>\n",
       "      <th>시간</th>\n",
       "      <th>도시</th>\n",
       "      <th>구</th>\n",
       "      <th>동</th>\n",
       "    </tr>\n",
       "  </thead>\n",
       "  <tbody>\n",
       "    <tr>\n",
       "      <th>0</th>\n",
       "      <td>COUNTRYWIDE_ACCIDENT_000000</td>\n",
       "      <td>화요일</td>\n",
       "      <td>맑음</td>\n",
       "      <td>교차로 - 교차로횡단보도내</td>\n",
       "      <td>건조</td>\n",
       "      <td>차대사람</td>\n",
       "      <td>횡단중</td>\n",
       "      <td>보행자보호의무위반</td>\n",
       "      <td>승용</td>\n",
       "      <td>남</td>\n",
       "      <td>...</td>\n",
       "      <td>1</td>\n",
       "      <td>0</td>\n",
       "      <td>3</td>\n",
       "      <td>2019</td>\n",
       "      <td>1</td>\n",
       "      <td>1</td>\n",
       "      <td>0</td>\n",
       "      <td>서울특별시</td>\n",
       "      <td>강서구</td>\n",
       "      <td>방화동</td>\n",
       "    </tr>\n",
       "    <tr>\n",
       "      <th>1</th>\n",
       "      <td>COUNTRYWIDE_ACCIDENT_000001</td>\n",
       "      <td>화요일</td>\n",
       "      <td>맑음</td>\n",
       "      <td>교차로 - 교차로안</td>\n",
       "      <td>건조</td>\n",
       "      <td>차대차</td>\n",
       "      <td>기타</td>\n",
       "      <td>직진우회전진행방해</td>\n",
       "      <td>승용</td>\n",
       "      <td>남</td>\n",
       "      <td>...</td>\n",
       "      <td>1</td>\n",
       "      <td>0</td>\n",
       "      <td>3</td>\n",
       "      <td>2019</td>\n",
       "      <td>1</td>\n",
       "      <td>1</td>\n",
       "      <td>0</td>\n",
       "      <td>경기도</td>\n",
       "      <td>포천시</td>\n",
       "      <td>소흘읍</td>\n",
       "    </tr>\n",
       "    <tr>\n",
       "      <th>2</th>\n",
       "      <td>COUNTRYWIDE_ACCIDENT_000002</td>\n",
       "      <td>화요일</td>\n",
       "      <td>맑음</td>\n",
       "      <td>교차로 - 교차로안</td>\n",
       "      <td>건조</td>\n",
       "      <td>차대차</td>\n",
       "      <td>측면충돌</td>\n",
       "      <td>신호위반</td>\n",
       "      <td>승용</td>\n",
       "      <td>여</td>\n",
       "      <td>...</td>\n",
       "      <td>0</td>\n",
       "      <td>0</td>\n",
       "      <td>5</td>\n",
       "      <td>2019</td>\n",
       "      <td>1</td>\n",
       "      <td>1</td>\n",
       "      <td>0</td>\n",
       "      <td>경기도</td>\n",
       "      <td>양주시</td>\n",
       "      <td>고암동</td>\n",
       "    </tr>\n",
       "    <tr>\n",
       "      <th>3</th>\n",
       "      <td>COUNTRYWIDE_ACCIDENT_000003</td>\n",
       "      <td>화요일</td>\n",
       "      <td>맑음</td>\n",
       "      <td>기타 - 기타</td>\n",
       "      <td>건조</td>\n",
       "      <td>차대사람</td>\n",
       "      <td>횡단중</td>\n",
       "      <td>보행자보호의무위반</td>\n",
       "      <td>승용</td>\n",
       "      <td>여</td>\n",
       "      <td>...</td>\n",
       "      <td>0</td>\n",
       "      <td>0</td>\n",
       "      <td>10</td>\n",
       "      <td>2019</td>\n",
       "      <td>1</td>\n",
       "      <td>1</td>\n",
       "      <td>0</td>\n",
       "      <td>경기도</td>\n",
       "      <td>남양주시</td>\n",
       "      <td>다산동</td>\n",
       "    </tr>\n",
       "    <tr>\n",
       "      <th>4</th>\n",
       "      <td>COUNTRYWIDE_ACCIDENT_000004</td>\n",
       "      <td>화요일</td>\n",
       "      <td>맑음</td>\n",
       "      <td>교차로 - 교차로안</td>\n",
       "      <td>건조</td>\n",
       "      <td>차대차</td>\n",
       "      <td>측면충돌</td>\n",
       "      <td>신호위반</td>\n",
       "      <td>승용</td>\n",
       "      <td>여</td>\n",
       "      <td>...</td>\n",
       "      <td>2</td>\n",
       "      <td>1</td>\n",
       "      <td>7</td>\n",
       "      <td>2019</td>\n",
       "      <td>1</td>\n",
       "      <td>1</td>\n",
       "      <td>0</td>\n",
       "      <td>인천광역시</td>\n",
       "      <td>부평구</td>\n",
       "      <td>부평동</td>\n",
       "    </tr>\n",
       "  </tbody>\n",
       "</table>\n",
       "<p>5 rows × 28 columns</p>\n",
       "</div>"
      ],
      "text/plain": [
       "                            ID   요일 기상상태            도로형태 노면상태  사고유형  \\\n",
       "0  COUNTRYWIDE_ACCIDENT_000000  화요일   맑음  교차로 - 교차로횡단보도내   건조  차대사람   \n",
       "1  COUNTRYWIDE_ACCIDENT_000001  화요일   맑음      교차로 - 교차로안   건조   차대차   \n",
       "2  COUNTRYWIDE_ACCIDENT_000002  화요일   맑음      교차로 - 교차로안   건조   차대차   \n",
       "3  COUNTRYWIDE_ACCIDENT_000003  화요일   맑음         기타 - 기타   건조  차대사람   \n",
       "4  COUNTRYWIDE_ACCIDENT_000004  화요일   맑음      교차로 - 교차로안   건조   차대차   \n",
       "\n",
       "  사고유형 - 세부분류       법규위반 가해운전자 차종 가해운전자 성별  ... 경상자수 부상자수 ECLO     연  월  일  \\\n",
       "0         횡단중  보행자보호의무위반       승용        남  ...    1    0    3  2019  1  1   \n",
       "1          기타  직진우회전진행방해       승용        남  ...    1    0    3  2019  1  1   \n",
       "2        측면충돌       신호위반       승용        여  ...    0    0    5  2019  1  1   \n",
       "3         횡단중  보행자보호의무위반       승용        여  ...    0    0   10  2019  1  1   \n",
       "4        측면충돌       신호위반       승용        여  ...    2    1    7  2019  1  1   \n",
       "\n",
       "   시간     도시     구    동  \n",
       "0   0  서울특별시   강서구  방화동  \n",
       "1   0    경기도   포천시  소흘읍  \n",
       "2   0    경기도   양주시  고암동  \n",
       "3   0    경기도  남양주시  다산동  \n",
       "4   0  인천광역시   부평구  부평동  \n",
       "\n",
       "[5 rows x 28 columns]"
      ]
     },
     "execution_count": 8,
     "metadata": {},
     "output_type": "execute_result"
    }
   ],
   "source": [
    "location_pattern = r'(\\S+) (\\S+) (\\S+)'\n",
    "\n",
    "df[['도시', '구', '동']] = df_org['시군구'].str.extract(location_pattern)\n",
    "df = df.drop(columns=['시군구'])\n",
    "\n",
    "train_df[['도시', '구', '동']] = train_org['시군구'].str.extract(location_pattern)\n",
    "train_df = train_df.drop(columns=['시군구'])\n",
    "\n",
    "df.head()"
   ]
  },
  {
   "cell_type": "code",
   "execution_count": 9,
   "metadata": {},
   "outputs": [
    {
     "data": {
      "text/html": [
       "<div>\n",
       "<style scoped>\n",
       "    .dataframe tbody tr th:only-of-type {\n",
       "        vertical-align: middle;\n",
       "    }\n",
       "\n",
       "    .dataframe tbody tr th {\n",
       "        vertical-align: top;\n",
       "    }\n",
       "\n",
       "    .dataframe thead th {\n",
       "        text-align: right;\n",
       "    }\n",
       "</style>\n",
       "<table border=\"1\" class=\"dataframe\">\n",
       "  <thead>\n",
       "    <tr style=\"text-align: right;\">\n",
       "      <th></th>\n",
       "      <th>ID</th>\n",
       "      <th>요일</th>\n",
       "      <th>기상상태</th>\n",
       "      <th>도로형태</th>\n",
       "      <th>노면상태</th>\n",
       "      <th>사고유형</th>\n",
       "      <th>사고유형 - 세부분류</th>\n",
       "      <th>법규위반</th>\n",
       "      <th>가해운전자 차종</th>\n",
       "      <th>가해운전자 성별</th>\n",
       "      <th>...</th>\n",
       "      <th>경상자수</th>\n",
       "      <th>부상자수</th>\n",
       "      <th>ECLO</th>\n",
       "      <th>연</th>\n",
       "      <th>월</th>\n",
       "      <th>일</th>\n",
       "      <th>시간</th>\n",
       "      <th>도시</th>\n",
       "      <th>구</th>\n",
       "      <th>동</th>\n",
       "    </tr>\n",
       "  </thead>\n",
       "  <tbody>\n",
       "    <tr>\n",
       "      <th>0</th>\n",
       "      <td>ACCIDENT_00000</td>\n",
       "      <td>화요일</td>\n",
       "      <td>맑음</td>\n",
       "      <td>단일로 - 기타</td>\n",
       "      <td>건조</td>\n",
       "      <td>차대사람</td>\n",
       "      <td>길가장자리구역통행중</td>\n",
       "      <td>안전운전불이행</td>\n",
       "      <td>승용</td>\n",
       "      <td>여</td>\n",
       "      <td>...</td>\n",
       "      <td>0</td>\n",
       "      <td>0</td>\n",
       "      <td>5</td>\n",
       "      <td>2019</td>\n",
       "      <td>1</td>\n",
       "      <td>1</td>\n",
       "      <td>0</td>\n",
       "      <td>대구광역시</td>\n",
       "      <td>중구</td>\n",
       "      <td>대신동</td>\n",
       "    </tr>\n",
       "    <tr>\n",
       "      <th>1</th>\n",
       "      <td>ACCIDENT_00001</td>\n",
       "      <td>화요일</td>\n",
       "      <td>흐림</td>\n",
       "      <td>단일로 - 기타</td>\n",
       "      <td>건조</td>\n",
       "      <td>차대사람</td>\n",
       "      <td>보도통행중</td>\n",
       "      <td>기타</td>\n",
       "      <td>승용</td>\n",
       "      <td>남</td>\n",
       "      <td>...</td>\n",
       "      <td>1</td>\n",
       "      <td>0</td>\n",
       "      <td>3</td>\n",
       "      <td>2019</td>\n",
       "      <td>1</td>\n",
       "      <td>1</td>\n",
       "      <td>0</td>\n",
       "      <td>대구광역시</td>\n",
       "      <td>달서구</td>\n",
       "      <td>감삼동</td>\n",
       "    </tr>\n",
       "    <tr>\n",
       "      <th>2</th>\n",
       "      <td>ACCIDENT_00002</td>\n",
       "      <td>화요일</td>\n",
       "      <td>맑음</td>\n",
       "      <td>단일로 - 기타</td>\n",
       "      <td>건조</td>\n",
       "      <td>차대사람</td>\n",
       "      <td>차도통행중</td>\n",
       "      <td>안전운전불이행</td>\n",
       "      <td>승용</td>\n",
       "      <td>남</td>\n",
       "      <td>...</td>\n",
       "      <td>1</td>\n",
       "      <td>0</td>\n",
       "      <td>3</td>\n",
       "      <td>2019</td>\n",
       "      <td>1</td>\n",
       "      <td>1</td>\n",
       "      <td>1</td>\n",
       "      <td>대구광역시</td>\n",
       "      <td>수성구</td>\n",
       "      <td>두산동</td>\n",
       "    </tr>\n",
       "    <tr>\n",
       "      <th>3</th>\n",
       "      <td>ACCIDENT_00003</td>\n",
       "      <td>화요일</td>\n",
       "      <td>맑음</td>\n",
       "      <td>단일로 - 기타</td>\n",
       "      <td>건조</td>\n",
       "      <td>차대차</td>\n",
       "      <td>추돌</td>\n",
       "      <td>안전운전불이행</td>\n",
       "      <td>승용</td>\n",
       "      <td>남</td>\n",
       "      <td>...</td>\n",
       "      <td>0</td>\n",
       "      <td>0</td>\n",
       "      <td>5</td>\n",
       "      <td>2019</td>\n",
       "      <td>1</td>\n",
       "      <td>1</td>\n",
       "      <td>2</td>\n",
       "      <td>대구광역시</td>\n",
       "      <td>북구</td>\n",
       "      <td>복현동</td>\n",
       "    </tr>\n",
       "    <tr>\n",
       "      <th>4</th>\n",
       "      <td>ACCIDENT_00004</td>\n",
       "      <td>화요일</td>\n",
       "      <td>맑음</td>\n",
       "      <td>단일로 - 기타</td>\n",
       "      <td>건조</td>\n",
       "      <td>차대차</td>\n",
       "      <td>추돌</td>\n",
       "      <td>안전운전불이행</td>\n",
       "      <td>승용</td>\n",
       "      <td>남</td>\n",
       "      <td>...</td>\n",
       "      <td>1</td>\n",
       "      <td>0</td>\n",
       "      <td>3</td>\n",
       "      <td>2019</td>\n",
       "      <td>1</td>\n",
       "      <td>1</td>\n",
       "      <td>4</td>\n",
       "      <td>대구광역시</td>\n",
       "      <td>동구</td>\n",
       "      <td>신암동</td>\n",
       "    </tr>\n",
       "  </tbody>\n",
       "</table>\n",
       "<p>5 rows × 28 columns</p>\n",
       "</div>"
      ],
      "text/plain": [
       "               ID   요일 기상상태      도로형태 노면상태  사고유형 사고유형 - 세부분류     법규위반  \\\n",
       "0  ACCIDENT_00000  화요일   맑음  단일로 - 기타   건조  차대사람  길가장자리구역통행중  안전운전불이행   \n",
       "1  ACCIDENT_00001  화요일   흐림  단일로 - 기타   건조  차대사람       보도통행중       기타   \n",
       "2  ACCIDENT_00002  화요일   맑음  단일로 - 기타   건조  차대사람       차도통행중  안전운전불이행   \n",
       "3  ACCIDENT_00003  화요일   맑음  단일로 - 기타   건조   차대차          추돌  안전운전불이행   \n",
       "4  ACCIDENT_00004  화요일   맑음  단일로 - 기타   건조   차대차          추돌  안전운전불이행   \n",
       "\n",
       "  가해운전자 차종 가해운전자 성별  ... 경상자수 부상자수 ECLO     연  월  일  시간     도시    구    동  \n",
       "0       승용        여  ...    0    0    5  2019  1  1   0  대구광역시   중구  대신동  \n",
       "1       승용        남  ...    1    0    3  2019  1  1   0  대구광역시  달서구  감삼동  \n",
       "2       승용        남  ...    1    0    3  2019  1  1   1  대구광역시  수성구  두산동  \n",
       "3       승용        남  ...    0    0    5  2019  1  1   2  대구광역시   북구  복현동  \n",
       "4       승용        남  ...    1    0    3  2019  1  1   4  대구광역시   동구  신암동  \n",
       "\n",
       "[5 rows x 28 columns]"
      ]
     },
     "execution_count": 9,
     "metadata": {},
     "output_type": "execute_result"
    }
   ],
   "source": [
    "train_df.head()"
   ]
  },
  {
   "cell_type": "code",
   "execution_count": 89,
   "metadata": {},
   "outputs": [
    {
     "data": {
      "text/plain": [
       "Index(['ID', '요일', '기상상태', '도로형태', '노면상태', '사고유형', '사고유형 - 세부분류', '법규위반',\n",
       "       '가해운전자 차종', '가해운전자 성별', '가해운전자 연령', '가해운전자 상해정도', '피해운전자 차종',\n",
       "       '피해운전자 성별', '피해운전자 연령', '피해운전자 상해정도', '사망자수', '중상자수', '경상자수', '부상자수',\n",
       "       'ECLO', '연', '월', '일', '시간', '도시', '구', '동'],\n",
       "      dtype='object')"
      ]
     },
     "execution_count": 89,
     "metadata": {},
     "output_type": "execute_result"
    }
   ],
   "source": [
    "df.columns"
   ]
  },
  {
   "cell_type": "markdown",
   "metadata": {},
   "source": [
    "### 전지역과 대구의 도로형태 별 ECLO\n"
   ]
  },
  {
   "cell_type": "code",
   "execution_count": 67,
   "metadata": {},
   "outputs": [
    {
     "data": {
      "text/plain": [
       "도로형태\n",
       "교차로 - 교차로부근        4.899743\n",
       "교차로 - 교차로안         5.130705\n",
       "교차로 - 교차로횡단보도내     4.221762\n",
       "기타 - 기타            4.505765\n",
       "단일로 - 고가도로위        5.548842\n",
       "단일로 - 교량           5.966499\n",
       "단일로 - 기타           4.895735\n",
       "단일로 - 지하차도(도로)내    5.398260\n",
       "단일로 - 철길건널목        8.083333\n",
       "단일로 - 터널           7.140095\n",
       "미분류 - 미분류          4.426829\n",
       "주차장 - 주차장          4.085644\n",
       "Name: ECLO, dtype: float64"
      ]
     },
     "execution_count": 67,
     "metadata": {},
     "output_type": "execute_result"
    }
   ],
   "source": [
    "other = df.groupby('도로형태')['ECLO'].mean()\n",
    "other"
   ]
  },
  {
   "cell_type": "code",
   "execution_count": 68,
   "metadata": {},
   "outputs": [
    {
     "data": {
      "text/plain": [
       "도로형태\n",
       "교차로 - 교차로부근        4.863035\n",
       "교차로 - 교차로안         5.006142\n",
       "교차로 - 교차로횡단보도내     4.122795\n",
       "기타 - 기타            4.065962\n",
       "단일로 - 고가도로위        5.615942\n",
       "단일로 - 교량           5.211207\n",
       "단일로 - 기타           4.653990\n",
       "단일로 - 지하차도(도로)내    4.576052\n",
       "단일로 - 터널           6.578125\n",
       "미분류 - 미분류          3.750000\n",
       "주차장 - 주차장          3.716102\n",
       "단일로 - 철길건널목        0.000000\n",
       "Name: ECLO, dtype: float64"
      ]
     },
     "execution_count": 68,
     "metadata": {},
     "output_type": "execute_result"
    }
   ],
   "source": [
    "daegu = train_df.groupby('도로형태')['ECLO'].mean()\n",
    "daegu['단일로 - 철길건널목 '] = 0.0\n",
    "daegu"
   ]
  },
  {
   "cell_type": "code",
   "execution_count": 69,
   "metadata": {},
   "outputs": [],
   "source": [
    "oth_df = other.to_frame()\n",
    "dae_df = daegu.to_frame()"
   ]
  },
  {
   "cell_type": "code",
   "execution_count": 70,
   "metadata": {},
   "outputs": [
    {
     "data": {
      "text/html": [
       "<div>\n",
       "<style scoped>\n",
       "    .dataframe tbody tr th:only-of-type {\n",
       "        vertical-align: middle;\n",
       "    }\n",
       "\n",
       "    .dataframe tbody tr th {\n",
       "        vertical-align: top;\n",
       "    }\n",
       "\n",
       "    .dataframe thead th {\n",
       "        text-align: right;\n",
       "    }\n",
       "</style>\n",
       "<table border=\"1\" class=\"dataframe\">\n",
       "  <thead>\n",
       "    <tr style=\"text-align: right;\">\n",
       "      <th></th>\n",
       "      <th>ECLO_x</th>\n",
       "      <th>ECLO_y</th>\n",
       "    </tr>\n",
       "    <tr>\n",
       "      <th>도로형태</th>\n",
       "      <th></th>\n",
       "      <th></th>\n",
       "    </tr>\n",
       "  </thead>\n",
       "  <tbody>\n",
       "    <tr>\n",
       "      <th>교차로 - 교차로부근</th>\n",
       "      <td>4.899743</td>\n",
       "      <td>4.863035</td>\n",
       "    </tr>\n",
       "    <tr>\n",
       "      <th>교차로 - 교차로안</th>\n",
       "      <td>5.130705</td>\n",
       "      <td>5.006142</td>\n",
       "    </tr>\n",
       "    <tr>\n",
       "      <th>교차로 - 교차로횡단보도내</th>\n",
       "      <td>4.221762</td>\n",
       "      <td>4.122795</td>\n",
       "    </tr>\n",
       "    <tr>\n",
       "      <th>기타 - 기타</th>\n",
       "      <td>4.505765</td>\n",
       "      <td>4.065962</td>\n",
       "    </tr>\n",
       "    <tr>\n",
       "      <th>단일로 - 고가도로위</th>\n",
       "      <td>5.548842</td>\n",
       "      <td>5.615942</td>\n",
       "    </tr>\n",
       "    <tr>\n",
       "      <th>단일로 - 교량</th>\n",
       "      <td>5.966499</td>\n",
       "      <td>5.211207</td>\n",
       "    </tr>\n",
       "    <tr>\n",
       "      <th>단일로 - 기타</th>\n",
       "      <td>4.895735</td>\n",
       "      <td>4.653990</td>\n",
       "    </tr>\n",
       "    <tr>\n",
       "      <th>단일로 - 지하차도(도로)내</th>\n",
       "      <td>5.398260</td>\n",
       "      <td>4.576052</td>\n",
       "    </tr>\n",
       "    <tr>\n",
       "      <th>단일로 - 터널</th>\n",
       "      <td>7.140095</td>\n",
       "      <td>6.578125</td>\n",
       "    </tr>\n",
       "    <tr>\n",
       "      <th>미분류 - 미분류</th>\n",
       "      <td>4.426829</td>\n",
       "      <td>3.750000</td>\n",
       "    </tr>\n",
       "    <tr>\n",
       "      <th>주차장 - 주차장</th>\n",
       "      <td>4.085644</td>\n",
       "      <td>3.716102</td>\n",
       "    </tr>\n",
       "  </tbody>\n",
       "</table>\n",
       "</div>"
      ],
      "text/plain": [
       "                   ECLO_x    ECLO_y\n",
       "도로형태                               \n",
       "교차로 - 교차로부근      4.899743  4.863035\n",
       "교차로 - 교차로안       5.130705  5.006142\n",
       "교차로 - 교차로횡단보도내   4.221762  4.122795\n",
       "기타 - 기타          4.505765  4.065962\n",
       "단일로 - 고가도로위      5.548842  5.615942\n",
       "단일로 - 교량         5.966499  5.211207\n",
       "단일로 - 기타         4.895735  4.653990\n",
       "단일로 - 지하차도(도로)내  5.398260  4.576052\n",
       "단일로 - 터널         7.140095  6.578125\n",
       "미분류 - 미분류        4.426829  3.750000\n",
       "주차장 - 주차장        4.085644  3.716102"
      ]
     },
     "execution_count": 70,
     "metadata": {},
     "output_type": "execute_result"
    }
   ],
   "source": [
    "data_fin = pd.merge(oth_df, dae_df, left_index=True, right_index=True)\n",
    "data_fin"
   ]
  },
  {
   "cell_type": "code",
   "execution_count": 71,
   "metadata": {},
   "outputs": [],
   "source": [
    "data_fin = data_fin.rename(columns = {'ECLO_x' : '전역'})\n",
    "data_fin = data_fin.rename(columns = {'ECLO_y' : '대구'})"
   ]
  },
  {
   "cell_type": "code",
   "execution_count": 73,
   "metadata": {},
   "outputs": [
    {
     "data": {
      "text/plain": [
       "<Axes: xlabel='도로형태'>"
      ]
     },
     "execution_count": 73,
     "metadata": {},
     "output_type": "execute_result"
    },
    {
     "data": {
      "image/png": "[encoded data removed]",
      "text/plain": [
       "<Figure size 1200x800 with 1 Axes>"
      ]
     },
     "metadata": {},
     "output_type": "display_data"
    }
   ],
   "source": [
    "data_fin.plot(kind='bar', figsize=(12, 8), grid=True, rot=45)\n",
    "\n"
   ]
  },
  {
   "cell_type": "markdown",
   "metadata": {},
   "source": [
    "### 전지역과 대구의 노면 상태 별 ECLO"
   ]
  },
  {
   "cell_type": "code",
   "execution_count": 57,
   "metadata": {},
   "outputs": [
    {
     "data": {
      "text/plain": [
       "노면상태\n",
       "건조       4.932867\n",
       "기타       4.701468\n",
       "서리/결빙    5.677656\n",
       "적설       5.423500\n",
       "젖음/습기    5.086693\n",
       "침수       4.731343\n",
       "해빙       5.296296\n",
       "Name: ECLO, dtype: float64"
      ]
     },
     "execution_count": 57,
     "metadata": {},
     "output_type": "execute_result"
    }
   ],
   "source": [
    "other = df.groupby('노면상태')['ECLO'].mean()\n",
    "other"
   ]
  },
  {
   "cell_type": "code",
   "execution_count": 61,
   "metadata": {},
   "outputs": [
    {
     "data": {
      "text/plain": [
       "노면상태\n",
       "건조       4.712878\n",
       "기타       4.086207\n",
       "서리/결빙    4.160000\n",
       "적설       3.000000\n",
       "젖음/습기    4.906452\n",
       "침수       5.666667\n",
       "Name: ECLO, dtype: float64"
      ]
     },
     "execution_count": 61,
     "metadata": {},
     "output_type": "execute_result"
    }
   ],
   "source": [
    "daegu = train_df.groupby('노면상태')['ECLO'].mean()\n",
    "daegu"
   ]
  },
  {
   "cell_type": "code",
   "execution_count": 62,
   "metadata": {},
   "outputs": [],
   "source": [
    "oth_df = other.to_frame()\n",
    "dae_df = daegu.to_frame()\n"
   ]
  },
  {
   "cell_type": "code",
   "execution_count": 63,
   "metadata": {},
   "outputs": [
    {
     "data": {
      "text/html": [
       "<div>\n",
       "<style scoped>\n",
       "    .dataframe tbody tr th:only-of-type {\n",
       "        vertical-align: middle;\n",
       "    }\n",
       "\n",
       "    .dataframe tbody tr th {\n",
       "        vertical-align: top;\n",
       "    }\n",
       "\n",
       "    .dataframe thead th {\n",
       "        text-align: right;\n",
       "    }\n",
       "</style>\n",
       "<table border=\"1\" class=\"dataframe\">\n",
       "  <thead>\n",
       "    <tr style=\"text-align: right;\">\n",
       "      <th></th>\n",
       "      <th>ECLO_x</th>\n",
       "      <th>ECLO_y</th>\n",
       "    </tr>\n",
       "    <tr>\n",
       "      <th>노면상태</th>\n",
       "      <th></th>\n",
       "      <th></th>\n",
       "    </tr>\n",
       "  </thead>\n",
       "  <tbody>\n",
       "    <tr>\n",
       "      <th>건조</th>\n",
       "      <td>4.932867</td>\n",
       "      <td>4.712878</td>\n",
       "    </tr>\n",
       "    <tr>\n",
       "      <th>기타</th>\n",
       "      <td>4.701468</td>\n",
       "      <td>4.086207</td>\n",
       "    </tr>\n",
       "    <tr>\n",
       "      <th>서리/결빙</th>\n",
       "      <td>5.677656</td>\n",
       "      <td>4.160000</td>\n",
       "    </tr>\n",
       "    <tr>\n",
       "      <th>적설</th>\n",
       "      <td>5.423500</td>\n",
       "      <td>3.000000</td>\n",
       "    </tr>\n",
       "    <tr>\n",
       "      <th>젖음/습기</th>\n",
       "      <td>5.086693</td>\n",
       "      <td>4.906452</td>\n",
       "    </tr>\n",
       "    <tr>\n",
       "      <th>침수</th>\n",
       "      <td>4.731343</td>\n",
       "      <td>5.666667</td>\n",
       "    </tr>\n",
       "  </tbody>\n",
       "</table>\n",
       "</div>"
      ],
      "text/plain": [
       "         ECLO_x    ECLO_y\n",
       "노면상태                     \n",
       "건조     4.932867  4.712878\n",
       "기타     4.701468  4.086207\n",
       "서리/결빙  5.677656  4.160000\n",
       "적설     5.423500  3.000000\n",
       "젖음/습기  5.086693  4.906452\n",
       "침수     4.731343  5.666667"
      ]
     },
     "execution_count": 63,
     "metadata": {},
     "output_type": "execute_result"
    }
   ],
   "source": [
    "data_fin = pd.merge(oth_df, dae_df, left_index=True, right_index=True)\n",
    "data_fin"
   ]
  },
  {
   "cell_type": "code",
   "execution_count": 64,
   "metadata": {},
   "outputs": [
    {
     "data": {
      "text/html": [
       "<div>\n",
       "<style scoped>\n",
       "    .dataframe tbody tr th:only-of-type {\n",
       "        vertical-align: middle;\n",
       "    }\n",
       "\n",
       "    .dataframe tbody tr th {\n",
       "        vertical-align: top;\n",
       "    }\n",
       "\n",
       "    .dataframe thead th {\n",
       "        text-align: right;\n",
       "    }\n",
       "</style>\n",
       "<table border=\"1\" class=\"dataframe\">\n",
       "  <thead>\n",
       "    <tr style=\"text-align: right;\">\n",
       "      <th></th>\n",
       "      <th>전역</th>\n",
       "      <th>대구</th>\n",
       "    </tr>\n",
       "    <tr>\n",
       "      <th>노면상태</th>\n",
       "      <th></th>\n",
       "      <th></th>\n",
       "    </tr>\n",
       "  </thead>\n",
       "  <tbody>\n",
       "    <tr>\n",
       "      <th>건조</th>\n",
       "      <td>4.932867</td>\n",
       "      <td>4.712878</td>\n",
       "    </tr>\n",
       "    <tr>\n",
       "      <th>기타</th>\n",
       "      <td>4.701468</td>\n",
       "      <td>4.086207</td>\n",
       "    </tr>\n",
       "    <tr>\n",
       "      <th>서리/결빙</th>\n",
       "      <td>5.677656</td>\n",
       "      <td>4.160000</td>\n",
       "    </tr>\n",
       "    <tr>\n",
       "      <th>적설</th>\n",
       "      <td>5.423500</td>\n",
       "      <td>3.000000</td>\n",
       "    </tr>\n",
       "    <tr>\n",
       "      <th>젖음/습기</th>\n",
       "      <td>5.086693</td>\n",
       "      <td>4.906452</td>\n",
       "    </tr>\n",
       "    <tr>\n",
       "      <th>침수</th>\n",
       "      <td>4.731343</td>\n",
       "      <td>5.666667</td>\n",
       "    </tr>\n",
       "  </tbody>\n",
       "</table>\n",
       "</div>"
      ],
      "text/plain": [
       "             전역        대구\n",
       "노면상태                     \n",
       "건조     4.932867  4.712878\n",
       "기타     4.701468  4.086207\n",
       "서리/결빙  5.677656  4.160000\n",
       "적설     5.423500  3.000000\n",
       "젖음/습기  5.086693  4.906452\n",
       "침수     4.731343  5.666667"
      ]
     },
     "execution_count": 64,
     "metadata": {},
     "output_type": "execute_result"
    }
   ],
   "source": [
    "data_fin = data_fin.rename(columns={'ECLO_x':'전역'})\n",
    "data_fin = data_fin.rename(columns={'ECLO_y':'대구'})\n",
    "data_fin"
   ]
  },
  {
   "cell_type": "code",
   "execution_count": 66,
   "metadata": {},
   "outputs": [
    {
     "data": {
      "text/plain": [
       "<Axes: xlabel='노면상태'>"
      ]
     },
     "execution_count": 66,
     "metadata": {},
     "output_type": "execute_result"
    },
    {
     "data": {
      "image/png": "[encoded data removed]",
      "text/plain": [
       "<Figure size 1200x800 with 1 Axes>"
      ]
     },
     "metadata": {},
     "output_type": "display_data"
    }
   ],
   "source": [
    "data_fin.plot(kind='bar', figsize=(12, 8), grid=True)"
   ]
  },
  {
   "cell_type": "markdown",
   "metadata": {},
   "source": [
    "### 전지역과 대구 별 사고유형에 따른 ECLO"
   ]
  },
  {
   "cell_type": "code",
   "execution_count": 75,
   "metadata": {},
   "outputs": [
    {
     "data": {
      "text/plain": [
       "사고유형\n",
       "차대사람     4.046983\n",
       "차대차      5.176242\n",
       "차량단독     4.693290\n",
       "철길건널목    8.083333\n",
       "Name: ECLO, dtype: float64"
      ]
     },
     "execution_count": 75,
     "metadata": {},
     "output_type": "execute_result"
    }
   ],
   "source": [
    "other = df.groupby('사고유형')['ECLO'].mean()\n",
    "other"
   ]
  },
  {
   "cell_type": "code",
   "execution_count": 79,
   "metadata": {},
   "outputs": [
    {
     "data": {
      "text/plain": [
       "사고유형\n",
       "차대사람     3.817650\n",
       "차대차      4.944597\n",
       "차량단독     4.006054\n",
       "철길건널목    0.000000\n",
       "Name: ECLO, dtype: float64"
      ]
     },
     "execution_count": 79,
     "metadata": {},
     "output_type": "execute_result"
    }
   ],
   "source": [
    "daegu = train_df.groupby('사고유형')['ECLO'].mean()\n",
    "daegu['철길건널목'] = 0.0\n",
    "daegu"
   ]
  },
  {
   "cell_type": "code",
   "execution_count": 81,
   "metadata": {},
   "outputs": [],
   "source": [
    "oth_df = other.to_frame()\n",
    "dae_df = daegu.to_frame()"
   ]
  },
  {
   "cell_type": "code",
   "execution_count": 82,
   "metadata": {},
   "outputs": [
    {
     "data": {
      "text/html": [
       "<div>\n",
       "<style scoped>\n",
       "    .dataframe tbody tr th:only-of-type {\n",
       "        vertical-align: middle;\n",
       "    }\n",
       "\n",
       "    .dataframe tbody tr th {\n",
       "        vertical-align: top;\n",
       "    }\n",
       "\n",
       "    .dataframe thead th {\n",
       "        text-align: right;\n",
       "    }\n",
       "</style>\n",
       "<table border=\"1\" class=\"dataframe\">\n",
       "  <thead>\n",
       "    <tr style=\"text-align: right;\">\n",
       "      <th></th>\n",
       "      <th>ECLO_x</th>\n",
       "      <th>ECLO_y</th>\n",
       "    </tr>\n",
       "    <tr>\n",
       "      <th>사고유형</th>\n",
       "      <th></th>\n",
       "      <th></th>\n",
       "    </tr>\n",
       "  </thead>\n",
       "  <tbody>\n",
       "    <tr>\n",
       "      <th>차대사람</th>\n",
       "      <td>4.046983</td>\n",
       "      <td>3.817650</td>\n",
       "    </tr>\n",
       "    <tr>\n",
       "      <th>차대차</th>\n",
       "      <td>5.176242</td>\n",
       "      <td>4.944597</td>\n",
       "    </tr>\n",
       "    <tr>\n",
       "      <th>차량단독</th>\n",
       "      <td>4.693290</td>\n",
       "      <td>4.006054</td>\n",
       "    </tr>\n",
       "    <tr>\n",
       "      <th>철길건널목</th>\n",
       "      <td>8.083333</td>\n",
       "      <td>0.000000</td>\n",
       "    </tr>\n",
       "  </tbody>\n",
       "</table>\n",
       "</div>"
      ],
      "text/plain": [
       "         ECLO_x    ECLO_y\n",
       "사고유형                     \n",
       "차대사람   4.046983  3.817650\n",
       "차대차    5.176242  4.944597\n",
       "차량단독   4.693290  4.006054\n",
       "철길건널목  8.083333  0.000000"
      ]
     },
     "execution_count": 82,
     "metadata": {},
     "output_type": "execute_result"
    }
   ],
   "source": [
    "data_fin = pd.merge(oth_df, dae_df, left_index=True, right_index=True)\n",
    "data_fin"
   ]
  },
  {
   "cell_type": "code",
   "execution_count": 83,
   "metadata": {},
   "outputs": [],
   "source": [
    "data_fin = data_fin.rename(columns={'ECLO_x':'전역'})\n",
    "data_fin = data_fin.rename(columns={'ECLO_y':'대구'})"
   ]
  },
  {
   "cell_type": "code",
   "execution_count": 84,
   "metadata": {},
   "outputs": [
    {
     "data": {
      "text/plain": [
       "<Axes: xlabel='사고유형'>"
      ]
     },
     "execution_count": 84,
     "metadata": {},
     "output_type": "execute_result"
    },
    {
     "data": {
      "image/png": "[encoded data removed]",
      "text/plain": [
       "<Figure size 1200x800 with 1 Axes>"
      ]
     },
     "metadata": {},
     "output_type": "display_data"
    }
   ],
   "source": [
    "data_fin.plot(grid=True, kind='bar', figsize=(12, 8))"
   ]
  },
  {
   "cell_type": "markdown",
   "metadata": {},
   "source": [
    "### 전지역과 대구 별 연도에 따른 ECLO"
   ]
  },
  {
   "cell_type": "code",
   "execution_count": 85,
   "metadata": {},
   "outputs": [
    {
     "data": {
      "text/plain": [
       "<Axes: xlabel='연'>"
      ]
     },
     "execution_count": 85,
     "metadata": {},
     "output_type": "execute_result"
    },
    {
     "data": {
      "image/png": "[encoded data removed]",
      "text/plain": [
       "<Figure size 1200x800 with 1 Axes>"
      ]
     },
     "metadata": {},
     "output_type": "display_data"
    }
   ],
   "source": [
    "other = df.groupby('연')['ECLO'].mean()\n",
    "daegu = train_df.groupby('연')['ECLO'].mean()\n",
    "\n",
    "oth_df = other.to_frame()\n",
    "dae_df = daegu.to_frame()\n",
    "\n",
    "data_fin = pd.merge(oth_df, dae_df, left_index=True, right_index=True)\n",
    "\n",
    "data_fin = data_fin.rename(columns={'ECLO_x':'전역'})\n",
    "data_fin = data_fin.rename(columns={'ECLO_y':'대구'})\n",
    "\n",
    "data_fin.plot(grid=True, kind='bar', figsize=(12, 8))"
   ]
  },
  {
   "cell_type": "markdown",
   "metadata": {},
   "source": [
    "### 전지역과 대구 별 월별 ECLO"
   ]
  },
  {
   "cell_type": "code",
   "execution_count": 86,
   "metadata": {},
   "outputs": [
    {
     "data": {
      "text/plain": [
       "<Axes: xlabel='월'>"
      ]
     },
     "execution_count": 86,
     "metadata": {},
     "output_type": "execute_result"
    },
    {
     "data": {
      "image/png": "[encoded data removed]",
      "text/plain": [
       "<Figure size 1200x800 with 1 Axes>"
      ]
     },
     "metadata": {},
     "output_type": "display_data"
    }
   ],
   "source": [
    "other = df.groupby('월')['ECLO'].mean()\n",
    "daegu = train_df.groupby('월')['ECLO'].mean()\n",
    "\n",
    "oth_df = other.to_frame()\n",
    "dae_df = daegu.to_frame()\n",
    "\n",
    "data_fin = pd.merge(oth_df, dae_df, left_index=True, right_index=True)\n",
    "\n",
    "data_fin = data_fin.rename(columns={'ECLO_x':'전역'})\n",
    "data_fin = data_fin.rename(columns={'ECLO_y':'대구'})\n",
    "\n",
    "data_fin.plot(grid=True, kind='bar', figsize=(12, 8))"
   ]
  },
  {
   "cell_type": "markdown",
   "metadata": {},
   "source": [
    "### 전지역과 대구의 요일 별 ECLO"
   ]
  },
  {
   "cell_type": "code",
   "execution_count": 87,
   "metadata": {},
   "outputs": [
    {
     "data": {
      "text/plain": [
       "<Axes: xlabel='요일'>"
      ]
     },
     "execution_count": 87,
     "metadata": {},
     "output_type": "execute_result"
    },
    {
     "data": {
      "image/png": "[encoded data removed]",
      "text/plain": [
       "<Figure size 1200x800 with 1 Axes>"
      ]
     },
     "metadata": {},
     "output_type": "display_data"
    }
   ],
   "source": [
    "other = df.groupby('요일')['ECLO'].mean()\n",
    "daegu = train_df.groupby('요일')['ECLO'].mean()\n",
    "\n",
    "oth_df = other.to_frame()\n",
    "dae_df = daegu.to_frame()\n",
    "\n",
    "data_fin = pd.merge(oth_df, dae_df, left_index=True, right_index=True)\n",
    "\n",
    "data_fin = data_fin.rename(columns={'ECLO_x':'전역'})\n",
    "data_fin = data_fin.rename(columns={'ECLO_y':'대구'})\n",
    "\n",
    "data_fin.plot(grid=True, kind='bar', figsize=(12, 8))"
   ]
  },
  {
   "cell_type": "markdown",
   "metadata": {},
   "source": [
    "### 전지역과 대구 별 기상상태에 따른 ECLO"
   ]
  },
  {
   "cell_type": "code",
   "execution_count": 88,
   "metadata": {},
   "outputs": [
    {
     "data": {
      "text/plain": [
       "<Axes: xlabel='기상상태'>"
      ]
     },
     "execution_count": 88,
     "metadata": {},
     "output_type": "execute_result"
    },
    {
     "data": {
      "image/png": "[encoded data removed]",
      "text/plain": [
       "<Figure size 1200x800 with 1 Axes>"
      ]
     },
     "metadata": {},
     "output_type": "display_data"
    }
   ],
   "source": [
    "other = df.groupby('기상상태')['ECLO'].mean()\n",
    "daegu = train_df.groupby('기상상태')['ECLO'].mean()\n",
    "\n",
    "oth_df = other.to_frame()\n",
    "dae_df = daegu.to_frame()\n",
    "\n",
    "data_fin = pd.merge(oth_df, dae_df, left_index=True, right_index=True)\n",
    "\n",
    "data_fin = data_fin.rename(columns={'ECLO_x':'전역'})\n",
    "data_fin = data_fin.rename(columns={'ECLO_y':'대구'})\n",
    "\n",
    "data_fin.plot(grid=True, kind='bar', figsize=(12, 8))"
   ]
  },
  {
   "cell_type": "markdown",
   "metadata": {},
   "source": [
    "### 도시별 ECLO"
   ]
  },
  {
   "cell_type": "code",
   "execution_count": 161,
   "metadata": {},
   "outputs": [
    {
     "data": {
      "text/plain": [
       "<Axes: ylabel='도시'>"
      ]
     },
     "execution_count": 161,
     "metadata": {},
     "output_type": "execute_result"
    },
    {
     "data": {
      "image/png": "[encoded data removed]",
      "text/plain": [
       "<Figure size 1200x800 with 1 Axes>"
      ]
     },
     "metadata": {},
     "output_type": "display_data"
    }
   ],
   "source": [
    "other = df.groupby('도시')['ECLO'].mean()\n",
    "daegu = train_df.groupby('도시')['ECLO'].mean()\n",
    "\n",
    "\n",
    "oth_df = other.to_frame()\n",
    "dae_df = daegu.to_frame()\n",
    "\n",
    "data_fin = pd.concat([oth_df, dae_df], axis=1)\n",
    "data_fin = data_fin.drop('미분류')\n",
    "\n",
    "data_fin.plot(grid=True, kind='barh', figsize=(12, 8))"
   ]
  },
  {
   "cell_type": "markdown",
   "metadata": {},
   "source": [
    "### 도시별 ECLO 합계"
   ]
  },
  {
   "cell_type": "code",
   "execution_count": 168,
   "metadata": {},
   "outputs": [
    {
     "data": {
      "text/plain": [
       "<Axes: ylabel='도시'>"
      ]
     },
     "execution_count": 168,
     "metadata": {},
     "output_type": "execute_result"
    },
    {
     "data": {
      "image/png": "[encoded data removed]",
      "text/plain": [
       "<Figure size 1200x800 with 1 Axes>"
      ]
     },
     "metadata": {},
     "output_type": "display_data"
    }
   ],
   "source": [
    "other = df.groupby('도시')['ECLO'].sum()\n",
    "daegu = train_df.groupby('도시')['ECLO'].sum()\n",
    "\n",
    "\n",
    "oth_df = other.to_frame()\n",
    "dae_df = daegu.to_frame()\n",
    "\n",
    "data_fin = pd.concat([oth_df, dae_df], axis=1)\n",
    "data_fin = data_fin.drop('미분류')\n",
    "\n",
    "data_fin.plot(grid=True, kind='barh', figsize=(12, 8))"
   ]
  },
  {
   "cell_type": "markdown",
   "metadata": {},
   "source": [
    "### 사교유형 - 세부분류 별 ECLO"
   ]
  },
  {
   "cell_type": "code",
   "execution_count": 163,
   "metadata": {},
   "outputs": [
    {
     "data": {
      "text/plain": [
       "<Axes: xlabel='사고유형 - 세부분류'>"
      ]
     },
     "execution_count": 163,
     "metadata": {},
     "output_type": "execute_result"
    },
    {
     "data": {
      "image/png": "[encoded data removed]",
      "text/plain": [
       "<Figure size 1200x800 with 1 Axes>"
      ]
     },
     "metadata": {},
     "output_type": "display_data"
    }
   ],
   "source": [
    "other = df.groupby('사고유형 - 세부분류')['ECLO'].mean()\n",
    "daegu = train_df.groupby('사고유형 - 세부분류')['ECLO'].mean()\n",
    "\n",
    "oth_df = other.to_frame()\n",
    "dae_df = daegu.to_frame()\n",
    "\n",
    "data_fin = pd.merge(oth_df, dae_df, left_index=True, right_index=True)\n",
    "\n",
    "data_fin = data_fin.rename(columns={'ECLO_x':'전역'})\n",
    "data_fin = data_fin.rename(columns={'ECLO_y':'대구'})\n",
    "\n",
    "data_fin.plot(grid=True, kind='bar', figsize=(12, 8), rot=45)"
   ]
  },
  {
   "cell_type": "markdown",
   "metadata": {},
   "source": [
    "### 법규위반 별 ECLO"
   ]
  },
  {
   "cell_type": "code",
   "execution_count": 169,
   "metadata": {},
   "outputs": [
    {
     "data": {
      "text/plain": [
       "<Axes: xlabel='법규위반'>"
      ]
     },
     "execution_count": 169,
     "metadata": {},
     "output_type": "execute_result"
    },
    {
     "data": {
      "image/png": "[encoded data removed]",
      "text/plain": [
       "<Figure size 1200x800 with 1 Axes>"
      ]
     },
     "metadata": {},
     "output_type": "display_data"
    }
   ],
   "source": [
    "other = df.groupby('법규위반')['ECLO'].mean()\n",
    "daegu = train_df.groupby('법규위반')['ECLO'].mean()\n",
    "\n",
    "oth_df = other.to_frame()\n",
    "dae_df = daegu.to_frame()\n",
    "\n",
    "data_fin = pd.merge(oth_df, dae_df, left_index=True, right_index=True)\n",
    "\n",
    "data_fin = data_fin.rename(columns={'ECLO_x':'전역'})\n",
    "data_fin = data_fin.rename(columns={'ECLO_y':'대구'})\n",
    "\n",
    "data_fin.plot(grid=True, kind='bar', figsize=(12, 8), rot=45)"
   ]
  },
  {
   "cell_type": "markdown",
   "metadata": {},
   "source": [
    "### 도시별 사망자수"
   ]
  },
  {
   "cell_type": "code",
   "execution_count": 178,
   "metadata": {},
   "outputs": [
    {
     "data": {
      "text/plain": [
       "<Axes: ylabel='도시'>"
      ]
     },
     "execution_count": 178,
     "metadata": {},
     "output_type": "execute_result"
    },
    {
     "data": {
      "image/png": "[encoded data removed]",
      "text/plain": [
       "<Figure size 1200x800 with 1 Axes>"
      ]
     },
     "metadata": {},
     "output_type": "display_data"
    }
   ],
   "source": [
    "other = df.groupby('도시')['사망자수'].mean()\n",
    "daegu = train_df.groupby('도시')['사망자수'].mean()\n",
    "\n",
    "\n",
    "oth_df = other.to_frame()\n",
    "dae_df = daegu.to_frame()\n",
    "\n",
    "data_fin = pd.concat([oth_df, dae_df], axis=1)\n",
    "data_fin = data_fin.drop('미분류')\n",
    "\n",
    "data_fin.plot(grid=True, kind='barh', figsize=(12, 8))"
   ]
  },
  {
   "cell_type": "code",
   "execution_count": 184,
   "metadata": {},
   "outputs": [
    {
     "data": {
      "text/plain": [
       "<Axes: xlabel='시간'>"
      ]
     },
     "execution_count": 184,
     "metadata": {},
     "output_type": "execute_result"
    },
    {
     "data": {
      "image/png": "[encoded data removed]",
      "text/plain": [
       "<Figure size 1200x800 with 1 Axes>"
      ]
     },
     "metadata": {},
     "output_type": "display_data"
    }
   ],
   "source": [
    "other = df.groupby('시간')['사망자수'].mean()\n",
    "daegu = train_df.groupby('시간')['사망자수'].mean()\n",
    "\n",
    "oth_df = other.to_frame()\n",
    "dae_df = daegu.to_frame()\n",
    "\n",
    "data_fin = pd.merge(oth_df, dae_df, left_index=True, right_index=True)\n",
    "\n",
    "data_fin = data_fin.rename(columns={'사망자수_x':'전역'})\n",
    "data_fin = data_fin.rename(columns={'사망자수_y':'대구'})\n",
    "\n",
    "data_fin.plot(grid=True, kind='bar', figsize=(12, 8), rot=0)"
   ]
  },
  {
   "cell_type": "markdown",
   "metadata": {},
   "source": [
    "### 오전 5시대의 사고 유형"
   ]
  }
 ],
 "metadata": {
  "kernelspec": {
   "display_name": "Python 3",
   "language": "python",
   "name": "python3"
  },
  "language_info": {
   "codemirror_mode": {
    "name": "ipython",
    "version": 3
   },
   "file_extension": ".py",
   "mimetype": "text/x-python",
   "name": "python",
   "nbconvert_exporter": "python",
   "pygments_lexer": "ipython3",
   "version": "3.10.10"
  }
 },
 "nbformat": 4,
 "nbformat_minor": 2
}
