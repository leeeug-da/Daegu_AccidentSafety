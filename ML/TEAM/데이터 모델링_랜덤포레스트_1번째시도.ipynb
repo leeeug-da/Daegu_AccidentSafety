{
 "cells": [
  {
   "cell_type": "code",
   "execution_count": 1,
   "metadata": {
    "ExecuteTime": {
     "end_time": "2023-11-22T07:21:16.901593Z",
     "start_time": "2023-11-22T07:21:16.228460Z"
    },
    "deletable": false,
    "id": "H2RD_fcJJoRa",
    "pbl_cell_type": "hidden_setup_code",
    "step_id": 4887,
    "step_number": 0
   },
   "outputs": [],
   "source": [
    "import pandas as pd\n",
    "import numpy as np\n",
    "import seaborn as sns\n",
    "from datetime import datetime\n",
    "import matplotlib.pyplot as plt\n",
    "import matplotlib.font_manager as fm\n",
    "\n",
    "# 한글 문제\n",
    "import platform\n",
    "\n",
    "from matplotlib import font_manager, rc\n",
    "plt.rcParams['axes.unicode_minus'] = False\n",
    "\n",
    "if platform.system() == 'Darwin':  # 맥OS\n",
    "    rc('font', family='AppleGothic')\n",
    "elif platform.system() == 'Windows':  # 윈도우\n",
    "    path = \"c:/Windows/Fonts/malgun.ttf\"\n",
    "    font_name = font_manager.FontProperties(fname=path).get_name()\n",
    "    rc('font', family=font_name)\n",
    "else:\n",
    "    print('Unknown system...  sorry~~~')\n",
    "\n",
    "from matplotlib.pylab import rcParams\n",
    "rcParams['figure.figsize'] = 17,8\n",
    "\n",
    "import warnings\n",
    "warnings.filterwarnings(action='ignore')"
   ]
  },
  {
   "cell_type": "markdown",
   "metadata": {
    "deletable": false,
    "id": "INgMyEIPJoRc",
    "pbl_cell_type": "markdown",
    "step_id": 4887,
    "step_number": 0
   },
   "source": [
    "# **대구 교통 사고 피해 예측 AI 경진대회 Baseline Code**"
   ]
  },
  {
   "cell_type": "markdown",
   "metadata": {
    "id": "DXsj7n3HJoRe",
    "pbl_cell_type": "markdown",
    "step_id": 5096,
    "step_number": 1
   },
   "source": [
    "## **Fixed Random Seed**  \n",
    "\n",
    "seed 값에 의해 동일한 코드를 사용해도 결과가 다를 수 있기에, 동일한 결과를 위해 seed 값을 고정시킵니다"
   ]
  },
  {
   "cell_type": "code",
   "execution_count": 2,
   "metadata": {
    "ExecuteTime": {
     "end_time": "2023-11-22T07:21:16.904506Z",
     "start_time": "2023-11-22T07:21:16.902548Z"
    },
    "id": "JU6RISf6JoRe",
    "pbl_cell_type": "code",
    "step_id": 5096,
    "step_number": 1
   },
   "outputs": [],
   "source": [
    "import os\n",
    "import random\n",
    "import numpy as np\n",
    "\n",
    "def seed_everything(seed):\n",
    "    random.seed(seed)\n",
    "    os.environ['PYTHONHASHSEED'] = str(seed)\n",
    "    np.random.seed(seed)\n",
    "\n",
    "seed_everything(42)"
   ]
  },
  {
   "cell_type": "markdown",
   "metadata": {
    "id": "yCyLPSe_JoRf",
    "pbl_cell_type": "markdown",
    "step_id": 5096,
    "step_number": 1
   },
   "source": [
    "## **데이터 불러오기 및 상위행 확인**  \n",
    "\n",
    "train.csv, test.csv 파일을 로드하여 상위행을 출력해 봅시다"
   ]
  },
  {
   "cell_type": "code",
   "execution_count": 3,
   "metadata": {
    "ExecuteTime": {
     "end_time": "2023-11-22T07:21:17.012111Z",
     "start_time": "2023-11-22T07:21:16.905283Z"
    },
    "id": "s3-Z_wbNJoRf",
    "outputId": "349c6dd4-cb36-4dce-bfe3-25a9ccbfdc63",
    "pbl_cell_type": "code",
    "step_id": 5096,
    "step_number": 1
   },
   "outputs": [],
   "source": [
    "import pandas as pd\n",
    "from datetime import datetime\n",
    "\n",
    "train = pd.read_csv('./open/train.csv', encoding = \"utf-8\", low_memory=False)\n",
    "test = pd.read_csv('./open/test.csv', encoding = \"utf-8\", low_memory=False)\n"
   ]
  },
  {
   "cell_type": "markdown",
   "metadata": {
    "id": "xT9y8UNRJoRg",
    "pbl_cell_type": "markdown",
    "step_id": 5096,
    "step_number": 1
   },
   "source": [
    "## **train, test 데이터 기간 확인하기**  \n",
    "\n",
    "학습(train) 데이터의 기간과 예측 대상이 되는 test 데이터의 기간을 살펴 봅니다"
   ]
  },
  {
   "cell_type": "code",
   "execution_count": 4,
   "metadata": {
    "ExecuteTime": {
     "end_time": "2023-11-22T07:21:17.017048Z",
     "start_time": "2023-11-22T07:21:17.013305Z"
    },
    "id": "nhBxBs2WJoRg",
    "outputId": "293b589c-3055-4027-f8c3-b91fa3259f24",
    "pbl_cell_type": "code",
    "step_id": 5096,
    "step_number": 1
   },
   "outputs": [
    {
     "data": {
      "text/plain": [
       "'train : 2019-01-01 00 ~ 2021-12-31 23'"
      ]
     },
     "metadata": {},
     "output_type": "display_data"
    },
    {
     "data": {
      "text/plain": [
       "'test : 2022-01-01 01 ~ 2022-12-31 21'"
      ]
     },
     "metadata": {},
     "output_type": "display_data"
    }
   ],
   "source": [
    "display(f\"train : {train.iloc[0]['사고일시']} ~ {train.iloc[-1]['사고일시']}\")\n",
    "display(f\"test : {test.iloc[0]['사고일시']} ~ {test.iloc[-1]['사고일시']}\")"
   ]
  },
  {
   "cell_type": "markdown",
   "metadata": {
    "id": "3SHgKAj7JoRh"
   },
   "source": [
    "### Data Info"
   ]
  },
  {
   "cell_type": "code",
   "execution_count": 5,
   "metadata": {
    "ExecuteTime": {
     "end_time": "2023-11-22T07:21:17.032187Z",
     "start_time": "2023-11-22T07:21:17.017812Z"
    },
    "id": "hiabtZLyJoRh"
   },
   "outputs": [],
   "source": [
    "#'사고일시' 데이터 타입을 object -> datetime으로  바꾸기\n",
    "train['사고일시'] = pd.to_datetime(train['사고일시'])\n",
    "test['사고일시'] = pd.to_datetime(test['사고일시'])"
   ]
  },
  {
   "cell_type": "code",
   "execution_count": 6,
   "metadata": {
    "ExecuteTime": {
     "end_time": "2023-11-22T07:21:17.053304Z",
     "start_time": "2023-11-22T07:21:17.033012Z"
    },
    "id": "zTNtP9qdJoRh",
    "outputId": "65fee5f0-d618-4a0d-9744-d19929c5fd43"
   },
   "outputs": [
    {
     "name": "stdout",
     "output_type": "stream",
     "text": [
      "<class 'pandas.core.frame.DataFrame'>\n",
      "RangeIndex: 39609 entries, 0 to 39608\n",
      "Data columns (total 23 columns):\n",
      " #   Column       Non-Null Count  Dtype         \n",
      "---  ------       --------------  -----         \n",
      " 0   ID           39609 non-null  object        \n",
      " 1   사고일시         39609 non-null  datetime64[ns]\n",
      " 2   요일           39609 non-null  object        \n",
      " 3   기상상태         39609 non-null  object        \n",
      " 4   시군구          39609 non-null  object        \n",
      " 5   도로형태         39609 non-null  object        \n",
      " 6   노면상태         39609 non-null  object        \n",
      " 7   사고유형         39609 non-null  object        \n",
      " 8   사고유형 - 세부분류  39609 non-null  object        \n",
      " 9   법규위반         39609 non-null  object        \n",
      " 10  가해운전자 차종     39609 non-null  object        \n",
      " 11  가해운전자 성별     39609 non-null  object        \n",
      " 12  가해운전자 연령     39609 non-null  object        \n",
      " 13  가해운전자 상해정도   39609 non-null  object        \n",
      " 14  피해운전자 차종     38618 non-null  object        \n",
      " 15  피해운전자 성별     38618 non-null  object        \n",
      " 16  피해운전자 연령     38618 non-null  object        \n",
      " 17  피해운전자 상해정도   38618 non-null  object        \n",
      " 18  사망자수         39609 non-null  int64         \n",
      " 19  중상자수         39609 non-null  int64         \n",
      " 20  경상자수         39609 non-null  int64         \n",
      " 21  부상자수         39609 non-null  int64         \n",
      " 22  ECLO         39609 non-null  int64         \n",
      "dtypes: datetime64[ns](1), int64(5), object(17)\n",
      "memory usage: 7.0+ MB\n"
     ]
    }
   ],
   "source": [
    "train.info()"
   ]
  },
  {
   "cell_type": "code",
   "execution_count": 7,
   "metadata": {
    "ExecuteTime": {
     "end_time": "2023-11-22T07:21:17.061171Z",
     "start_time": "2023-11-22T07:21:17.054344Z"
    },
    "id": "DntCb3oaJoRi",
    "outputId": "3d54708a-f39c-41c9-e234-b06bb0ebccef"
   },
   "outputs": [
    {
     "name": "stdout",
     "output_type": "stream",
     "text": [
      "<class 'pandas.core.frame.DataFrame'>\n",
      "RangeIndex: 10963 entries, 0 to 10962\n",
      "Data columns (total 8 columns):\n",
      " #   Column  Non-Null Count  Dtype         \n",
      "---  ------  --------------  -----         \n",
      " 0   ID      10963 non-null  object        \n",
      " 1   사고일시    10963 non-null  datetime64[ns]\n",
      " 2   요일      10963 non-null  object        \n",
      " 3   기상상태    10963 non-null  object        \n",
      " 4   시군구     10963 non-null  object        \n",
      " 5   도로형태    10963 non-null  object        \n",
      " 6   노면상태    10963 non-null  object        \n",
      " 7   사고유형    10963 non-null  object        \n",
      "dtypes: datetime64[ns](1), object(7)\n",
      "memory usage: 685.3+ KB\n"
     ]
    }
   ],
   "source": [
    "test.info()"
   ]
  },
  {
   "cell_type": "markdown",
   "metadata": {
    "id": "x2y33YI8JoRi"
   },
   "source": [
    "### - train과 test 데이터셋의  컬럼 수가 서로 다름\n",
    "    - ID, 사고일시, 요일, 기상상태, 시군구, 도로형태, 노면상태, 사고유형"
   ]
  },
  {
   "cell_type": "code",
   "execution_count": 8,
   "metadata": {
    "ExecuteTime": {
     "end_time": "2023-11-22T07:21:17.066293Z",
     "start_time": "2023-11-22T07:21:17.061905Z"
    },
    "id": "lwZFgoueJoRi",
    "outputId": "5c39e4f4-edb3-4957-c75c-26a4b2e217a5"
   },
   "outputs": [
    {
     "data": {
      "text/plain": [
       "array(['화요일', '수요일', '목요일', '금요일', '토요일', '일요일', '월요일'], dtype=object)"
      ]
     },
     "metadata": {},
     "output_type": "display_data"
    },
    {
     "data": {
      "text/plain": [
       "array(['토요일', '일요일', '월요일', '화요일', '수요일', '목요일', '금요일'], dtype=object)"
      ]
     },
     "metadata": {},
     "output_type": "display_data"
    }
   ],
   "source": [
    "display(train['요일'].unique())\n",
    "display(test['요일'].unique())"
   ]
  },
  {
   "cell_type": "code",
   "execution_count": 9,
   "metadata": {
    "ExecuteTime": {
     "end_time": "2023-11-22T07:21:17.072946Z",
     "start_time": "2023-11-22T07:21:17.067059Z"
    },
    "id": "JOuki-BdJoRi",
    "outputId": "d5341a5c-f6a7-4dc8-b8f6-3072c1945915"
   },
   "outputs": [
    {
     "data": {
      "text/plain": [
       "array(['맑음', '흐림', '기타', '비', '안개', '눈'], dtype=object)"
      ]
     },
     "metadata": {},
     "output_type": "display_data"
    },
    {
     "data": {
      "text/plain": [
       "array(['맑음', '흐림', '기타', '비', '눈'], dtype=object)"
      ]
     },
     "metadata": {},
     "output_type": "display_data"
    }
   ],
   "source": [
    "display(train['기상상태'].unique())\n",
    "display(test['기상상태'].unique())"
   ]
  },
  {
   "cell_type": "markdown",
   "metadata": {
    "id": "YNl7Csh9JoRj"
   },
   "source": [
    "***- test에는 기상상태-'안개' 없음***"
   ]
  },
  {
   "cell_type": "code",
   "execution_count": 10,
   "metadata": {
    "ExecuteTime": {
     "end_time": "2023-11-22T07:21:17.076428Z",
     "start_time": "2023-11-22T07:21:17.074984Z"
    },
    "id": "oJCivB4GJoRj",
    "outputId": "9efa04bc-414b-4725-b560-b75f843d6f49"
   },
   "outputs": [],
   "source": [
    "# display(train['시군구'].unique())\n",
    "# display(test['시군구'].unique())"
   ]
  },
  {
   "cell_type": "code",
   "execution_count": 11,
   "metadata": {
    "ExecuteTime": {
     "end_time": "2023-11-22T07:21:17.078807Z",
     "start_time": "2023-11-22T07:21:17.077168Z"
    },
    "id": "i7PSS2BWJoRj",
    "outputId": "2368fcd2-1877-4e7b-91f4-931ff72e2a04"
   },
   "outputs": [],
   "source": [
    "# display(train['도로형태'].unique())\n",
    "# display(test['도로형태'].unique())"
   ]
  },
  {
   "cell_type": "code",
   "execution_count": 12,
   "metadata": {
    "ExecuteTime": {
     "end_time": "2023-11-22T07:21:17.081083Z",
     "start_time": "2023-11-22T07:21:17.079817Z"
    },
    "id": "M_yw4nfjJoRj",
    "outputId": "5ea2dabd-b969-45e2-c7f9-9c11a4cc09c3"
   },
   "outputs": [],
   "source": [
    "# display(train['노면상태'].unique())\n",
    "# display(test['노면상태'].unique())"
   ]
  },
  {
   "cell_type": "code",
   "execution_count": 13,
   "metadata": {
    "ExecuteTime": {
     "end_time": "2023-11-22T07:21:17.083521Z",
     "start_time": "2023-11-22T07:21:17.081882Z"
    },
    "id": "CCY600-mJoRj",
    "outputId": "c681ecf8-cf16-4249-fc3a-c3cb74d7f7e4"
   },
   "outputs": [],
   "source": [
    "# display(train['사고유형'].unique())\n",
    "# display(test['사고유형'].unique())"
   ]
  },
  {
   "cell_type": "markdown",
   "metadata": {
    "id": "TOeUh7fcJoRk",
    "pbl_cell_type": "markdown",
    "step_id": 5168,
    "step_number": 2
   },
   "source": [
    "## **데이터 전처리**  \n",
    "\n",
    "현재 '사고일시', '시군구', '도로형태' 컬럼은 반복되는 패턴으로 여러 정보를 포함하고 있습니다\n",
    "이런 반복되는 패턴을 일반화하면 pandas에서 제공하는 str.extract를 통해 한 번에 추출 가능합니다  \n",
    "\n",
    "## **파생 변수 생성 1 : 날짜, 시간정보 생성**\n",
    "\n",
    "'사고일시' 컬럼으로 부터 연도, 월, 일, 시간 정보 추출 및 변환 합니다"
   ]
  },
  {
   "cell_type": "code",
   "execution_count": 14,
   "metadata": {
    "ExecuteTime": {
     "end_time": "2023-11-22T07:21:17.187873Z",
     "start_time": "2023-11-22T07:21:17.084363Z"
    },
    "id": "PGeKhkdKJoRk",
    "outputId": "104350a0-7c5f-4c8c-9d1d-6ca8d92b3e12"
   },
   "outputs": [],
   "source": [
    "import pandas as pd\n",
    "from datetime import datetime\n",
    "# 최초에 불러온 데이터가 train, test이고 이 두개가 날짜데이터 파싱한것이기 때문에 이 데이터를 원본으로 데이터전처리.\n",
    "train_org = pd.read_csv('./open/train.csv',encoding = \"utf-8\", low_memory=False)\n",
    "test_org = pd.read_csv('./open/test.csv', encoding = \"utf-8\", low_memory=False)"
   ]
  },
  {
   "cell_type": "code",
   "execution_count": 15,
   "metadata": {
    "ExecuteTime": {
     "end_time": "2023-11-22T07:21:17.369278Z",
     "start_time": "2023-11-22T07:21:17.188939Z"
    },
    "id": "_woJ1MBbJoRk",
    "outputId": "d1396310-f894-466f-f629-3e6affbd53bf",
    "pbl_cell_type": "code",
    "step_id": 5168,
    "step_number": 2
   },
   "outputs": [
    {
     "data": {
      "text/plain": [
       "\"columns of train_df : Index(['ID', '요일', '기상상태', '시군구', '도로형태', '노면상태', '사고유형', '사고유형 - 세부분류',\\n       '법규위반', '가해운전자 차종', '가해운전자 성별', '가해운전자 연령', '가해운전자 상해정도', '피해운전자 차종',\\n       '피해운전자 성별', '피해운전자 연령', '피해운전자 상해정도', '사망자수', '중상자수', '경상자수', '부상자수',\\n       'ECLO', '연', '월', '일', '시간'],\\n      dtype='object')\""
      ]
     },
     "metadata": {},
     "output_type": "display_data"
    },
    {
     "data": {
      "text/plain": [
       "\"columns of test_df : Index(['ID', '요일', '기상상태', '시군구', '도로형태', '노면상태', '사고유형', '연', '월', '일', '시간'], dtype='object')\""
      ]
     },
     "metadata": {},
     "output_type": "display_data"
    }
   ],
   "source": [
    "train_df = train_org.copy()\n",
    "test_df = test_org.copy()\n",
    "\n",
    "time_pattern = r'(\\d{4})-(\\d{1,2})-(\\d{1,2}) (\\d{1,2})'\n",
    "\n",
    "train_df[['연', '월', '일', '시간']] = train_org['사고일시'].str.extract(time_pattern)\n",
    "train_df[['연', '월', '일', '시간']] = train_df[['연', '월', '일', '시간']].apply(pd.to_numeric) # 추출된 문자열을 수치화해줍니다\n",
    "train_df = train_df.drop(columns=['사고일시']) # 정보 추출이 완료된 '사고일시' 컬럼은 제거합니다\n",
    "\n",
    "# 해당 과정을 test_x에 대해서도 반복해줍니다\n",
    "test_df[['연', '월', '일', '시간']] = test_org['사고일시'].str.extract(time_pattern)\n",
    "test_df[['연', '월', '일', '시간']] = test_df[['연', '월', '일', '시간']].apply(pd.to_numeric)\n",
    "test_df = test_df.drop(columns=['사고일시'])\n",
    "\n",
    "display(f\"columns of train_df : {train_df.columns}\")\n",
    "display(f\"columns of test_df : {test_df.columns}\")"
   ]
  },
  {
   "cell_type": "markdown",
   "metadata": {
    "id": "DAUjtZeCJoRl",
    "pbl_cell_type": "markdown",
    "step_id": 5169,
    "step_number": 3
   },
   "source": [
    "## **파생 변수 생성 2 : 공간(위치) 정보 생성**\n",
    "\n",
    "'시군구' 컬럼으로부터 의미 있는 공산 정보를 추출 및 변환 합니다"
   ]
  },
  {
   "cell_type": "code",
   "execution_count": 16,
   "metadata": {
    "ExecuteTime": {
     "end_time": "2023-11-22T07:21:17.430504Z",
     "start_time": "2023-11-22T07:21:17.370012Z"
    },
    "id": "EW2G7DuZJoRl",
    "outputId": "d89c739a-03ae-4f40-f211-ec98c345003d",
    "pbl_cell_type": "code",
    "step_id": 5169,
    "step_number": 3
   },
   "outputs": [
    {
     "data": {
      "text/plain": [
       "\"columns of train_df : Index(['ID', '요일', '기상상태', '도로형태', '노면상태', '사고유형', '사고유형 - 세부분류', '법규위반',\\n       '가해운전자 차종', '가해운전자 성별', '가해운전자 연령', '가해운전자 상해정도', '피해운전자 차종',\\n       '피해운전자 성별', '피해운전자 연령', '피해운전자 상해정도', '사망자수', '중상자수', '경상자수', '부상자수',\\n       'ECLO', '연', '월', '일', '시간', '도시', '구', '동'],\\n      dtype='object')\""
      ]
     },
     "metadata": {},
     "output_type": "display_data"
    },
    {
     "data": {
      "text/plain": [
       "\"columns of test_df : Index(['ID', '요일', '기상상태', '도로형태', '노면상태', '사고유형', '연', '월', '일', '시간', '도시',\\n       '구', '동'],\\n      dtype='object')\""
      ]
     },
     "metadata": {},
     "output_type": "display_data"
    }
   ],
   "source": [
    "location_pattern = r'(\\S+) (\\S+) (\\S+)'\n",
    "\n",
    "train_df[['도시', '구', '동']] = train_org['시군구'].str.extract(location_pattern)\n",
    "train_df = train_df.drop(columns=['시군구'])\n",
    "\n",
    "test_df[['도시', '구', '동']] = test_org['시군구'].str.extract(location_pattern)\n",
    "test_df = test_df.drop(columns=['시군구'])\n",
    "\n",
    "display(f\"columns of train_df : {train_df.columns}\")\n",
    "display(f\"columns of test_df : {test_df.columns}\")"
   ]
  },
  {
   "cell_type": "markdown",
   "metadata": {
    "id": "w2eqjFtJJoRl",
    "pbl_cell_type": "markdown",
    "step_id": 5170,
    "step_number": 4
   },
   "source": [
    "## **파생 변수 추출 3 : 도로 형태 정보 추출**  \n",
    "\n",
    "'도로형태' 컬럼은 '단일로 - 기타'와 같은 패턴으로 구성되어 있습니다. 이를 두종류의 독립된 정보로 보고 두개의 컬럼으로 분리하여 생성합니다."
   ]
  },
  {
   "cell_type": "code",
   "execution_count": 17,
   "metadata": {
    "ExecuteTime": {
     "end_time": "2023-11-22T07:21:17.516067Z",
     "start_time": "2023-11-22T07:21:17.431348Z"
    },
    "id": "worronJqJoRl",
    "outputId": "6d006717-80ca-4828-bf14-aa4da1faf322",
    "pbl_cell_type": "code",
    "step_id": 5170,
    "step_number": 4
   },
   "outputs": [
    {
     "data": {
      "text/plain": [
       "\"columns of train_df : Index(['ID', '요일', '기상상태', '노면상태', '사고유형', '사고유형 - 세부분류', '법규위반', '가해운전자 차종',\\n       '가해운전자 성별', '가해운전자 연령', '가해운전자 상해정도', '피해운전자 차종', '피해운전자 성별',\\n       '피해운전자 연령', '피해운전자 상해정도', '사망자수', '중상자수', '경상자수', '부상자수', 'ECLO', '연',\\n       '월', '일', '시간', '도시', '구', '동', '도로형태1', '도로형태2'],\\n      dtype='object')\""
      ]
     },
     "metadata": {},
     "output_type": "display_data"
    },
    {
     "data": {
      "text/plain": [
       "\"columns of test_df : Index(['ID', '요일', '기상상태', '노면상태', '사고유형', '연', '월', '일', '시간', '도시', '구', '동',\\n       '도로형태1', '도로형태2'],\\n      dtype='object')\""
      ]
     },
     "metadata": {},
     "output_type": "display_data"
    }
   ],
   "source": [
    "road_pattern = r'(.+) - (.+)'\n",
    "\n",
    "train_df[['도로형태1', '도로형태2']] = train_org['도로형태'].str.extract(road_pattern)\n",
    "train_df = train_df.drop(columns=['도로형태'])\n",
    "\n",
    "test_df[['도로형태1', '도로형태2']] = test_org['도로형태'].str.extract(road_pattern)\n",
    "test_df = test_df.drop(columns=['도로형태'])\n",
    "\n",
    "display(f\"columns of train_df : {train_df.columns}\")\n",
    "display(f\"columns of test_df : {test_df.columns}\")"
   ]
  },
  {
   "cell_type": "markdown",
   "metadata": {
    "id": "Um8Y2i3uJoRl"
   },
   "source": [
    "## train, test 컬럼 수 맞추기\n",
    "\n",
    "test에 있는 컬럼들만 사용하여 train 데이터를 구성했습니다."
   ]
  },
  {
   "cell_type": "code",
   "execution_count": 18,
   "metadata": {
    "ExecuteTime": {
     "end_time": "2023-11-22T07:21:17.532128Z",
     "start_time": "2023-11-22T07:21:17.516784Z"
    },
    "id": "7C4sfAN4JoRl",
    "outputId": "17c80b0b-cc0f-4e56-a193-7d316fcbfe0a"
   },
   "outputs": [
    {
     "data": {
      "text/html": [
       "<div>\n",
       "<style scoped>\n",
       "    .dataframe tbody tr th:only-of-type {\n",
       "        vertical-align: middle;\n",
       "    }\n",
       "\n",
       "    .dataframe tbody tr th {\n",
       "        vertical-align: top;\n",
       "    }\n",
       "\n",
       "    .dataframe thead th {\n",
       "        text-align: right;\n",
       "    }\n",
       "</style>\n",
       "<table border=\"1\" class=\"dataframe\">\n",
       "  <thead>\n",
       "    <tr style=\"text-align: right;\">\n",
       "      <th></th>\n",
       "      <th>ID</th>\n",
       "      <th>요일</th>\n",
       "      <th>기상상태</th>\n",
       "      <th>노면상태</th>\n",
       "      <th>사고유형</th>\n",
       "      <th>연</th>\n",
       "      <th>월</th>\n",
       "      <th>일</th>\n",
       "      <th>시간</th>\n",
       "      <th>도시</th>\n",
       "      <th>구</th>\n",
       "      <th>동</th>\n",
       "      <th>도로형태1</th>\n",
       "      <th>도로형태2</th>\n",
       "    </tr>\n",
       "  </thead>\n",
       "  <tbody>\n",
       "    <tr>\n",
       "      <th>0</th>\n",
       "      <td>ACCIDENT_00000</td>\n",
       "      <td>화요일</td>\n",
       "      <td>맑음</td>\n",
       "      <td>건조</td>\n",
       "      <td>차대사람</td>\n",
       "      <td>2019</td>\n",
       "      <td>1</td>\n",
       "      <td>1</td>\n",
       "      <td>0</td>\n",
       "      <td>대구광역시</td>\n",
       "      <td>중구</td>\n",
       "      <td>대신동</td>\n",
       "      <td>단일로</td>\n",
       "      <td>기타</td>\n",
       "    </tr>\n",
       "    <tr>\n",
       "      <th>1</th>\n",
       "      <td>ACCIDENT_00001</td>\n",
       "      <td>화요일</td>\n",
       "      <td>흐림</td>\n",
       "      <td>건조</td>\n",
       "      <td>차대사람</td>\n",
       "      <td>2019</td>\n",
       "      <td>1</td>\n",
       "      <td>1</td>\n",
       "      <td>0</td>\n",
       "      <td>대구광역시</td>\n",
       "      <td>달서구</td>\n",
       "      <td>감삼동</td>\n",
       "      <td>단일로</td>\n",
       "      <td>기타</td>\n",
       "    </tr>\n",
       "    <tr>\n",
       "      <th>2</th>\n",
       "      <td>ACCIDENT_00002</td>\n",
       "      <td>화요일</td>\n",
       "      <td>맑음</td>\n",
       "      <td>건조</td>\n",
       "      <td>차대사람</td>\n",
       "      <td>2019</td>\n",
       "      <td>1</td>\n",
       "      <td>1</td>\n",
       "      <td>1</td>\n",
       "      <td>대구광역시</td>\n",
       "      <td>수성구</td>\n",
       "      <td>두산동</td>\n",
       "      <td>단일로</td>\n",
       "      <td>기타</td>\n",
       "    </tr>\n",
       "    <tr>\n",
       "      <th>3</th>\n",
       "      <td>ACCIDENT_00003</td>\n",
       "      <td>화요일</td>\n",
       "      <td>맑음</td>\n",
       "      <td>건조</td>\n",
       "      <td>차대차</td>\n",
       "      <td>2019</td>\n",
       "      <td>1</td>\n",
       "      <td>1</td>\n",
       "      <td>2</td>\n",
       "      <td>대구광역시</td>\n",
       "      <td>북구</td>\n",
       "      <td>복현동</td>\n",
       "      <td>단일로</td>\n",
       "      <td>기타</td>\n",
       "    </tr>\n",
       "    <tr>\n",
       "      <th>4</th>\n",
       "      <td>ACCIDENT_00004</td>\n",
       "      <td>화요일</td>\n",
       "      <td>맑음</td>\n",
       "      <td>건조</td>\n",
       "      <td>차대차</td>\n",
       "      <td>2019</td>\n",
       "      <td>1</td>\n",
       "      <td>1</td>\n",
       "      <td>4</td>\n",
       "      <td>대구광역시</td>\n",
       "      <td>동구</td>\n",
       "      <td>신암동</td>\n",
       "      <td>단일로</td>\n",
       "      <td>기타</td>\n",
       "    </tr>\n",
       "    <tr>\n",
       "      <th>...</th>\n",
       "      <td>...</td>\n",
       "      <td>...</td>\n",
       "      <td>...</td>\n",
       "      <td>...</td>\n",
       "      <td>...</td>\n",
       "      <td>...</td>\n",
       "      <td>...</td>\n",
       "      <td>...</td>\n",
       "      <td>...</td>\n",
       "      <td>...</td>\n",
       "      <td>...</td>\n",
       "      <td>...</td>\n",
       "      <td>...</td>\n",
       "      <td>...</td>\n",
       "    </tr>\n",
       "    <tr>\n",
       "      <th>39604</th>\n",
       "      <td>ACCIDENT_39604</td>\n",
       "      <td>금요일</td>\n",
       "      <td>맑음</td>\n",
       "      <td>건조</td>\n",
       "      <td>차대차</td>\n",
       "      <td>2021</td>\n",
       "      <td>12</td>\n",
       "      <td>31</td>\n",
       "      <td>19</td>\n",
       "      <td>대구광역시</td>\n",
       "      <td>수성구</td>\n",
       "      <td>수성동3가</td>\n",
       "      <td>교차로</td>\n",
       "      <td>교차로안</td>\n",
       "    </tr>\n",
       "    <tr>\n",
       "      <th>39605</th>\n",
       "      <td>ACCIDENT_39605</td>\n",
       "      <td>금요일</td>\n",
       "      <td>맑음</td>\n",
       "      <td>건조</td>\n",
       "      <td>차대차</td>\n",
       "      <td>2021</td>\n",
       "      <td>12</td>\n",
       "      <td>31</td>\n",
       "      <td>19</td>\n",
       "      <td>대구광역시</td>\n",
       "      <td>달서구</td>\n",
       "      <td>상인동</td>\n",
       "      <td>단일로</td>\n",
       "      <td>기타</td>\n",
       "    </tr>\n",
       "    <tr>\n",
       "      <th>39606</th>\n",
       "      <td>ACCIDENT_39606</td>\n",
       "      <td>금요일</td>\n",
       "      <td>맑음</td>\n",
       "      <td>건조</td>\n",
       "      <td>차대차</td>\n",
       "      <td>2021</td>\n",
       "      <td>12</td>\n",
       "      <td>31</td>\n",
       "      <td>21</td>\n",
       "      <td>대구광역시</td>\n",
       "      <td>달서구</td>\n",
       "      <td>월성동</td>\n",
       "      <td>교차로</td>\n",
       "      <td>교차로안</td>\n",
       "    </tr>\n",
       "    <tr>\n",
       "      <th>39607</th>\n",
       "      <td>ACCIDENT_39607</td>\n",
       "      <td>금요일</td>\n",
       "      <td>맑음</td>\n",
       "      <td>건조</td>\n",
       "      <td>차대차</td>\n",
       "      <td>2021</td>\n",
       "      <td>12</td>\n",
       "      <td>31</td>\n",
       "      <td>22</td>\n",
       "      <td>대구광역시</td>\n",
       "      <td>달서구</td>\n",
       "      <td>장동</td>\n",
       "      <td>기타</td>\n",
       "      <td>기타</td>\n",
       "    </tr>\n",
       "    <tr>\n",
       "      <th>39608</th>\n",
       "      <td>ACCIDENT_39608</td>\n",
       "      <td>금요일</td>\n",
       "      <td>맑음</td>\n",
       "      <td>건조</td>\n",
       "      <td>차대차</td>\n",
       "      <td>2021</td>\n",
       "      <td>12</td>\n",
       "      <td>31</td>\n",
       "      <td>23</td>\n",
       "      <td>대구광역시</td>\n",
       "      <td>서구</td>\n",
       "      <td>비산동</td>\n",
       "      <td>단일로</td>\n",
       "      <td>지하차도(도로)내</td>\n",
       "    </tr>\n",
       "  </tbody>\n",
       "</table>\n",
       "<p>39609 rows × 14 columns</p>\n",
       "</div>"
      ],
      "text/plain": [
       "                   ID   요일 기상상태 노면상태  사고유형     연   월   일  시간     도시    구  \\\n",
       "0      ACCIDENT_00000  화요일   맑음   건조  차대사람  2019   1   1   0  대구광역시   중구   \n",
       "1      ACCIDENT_00001  화요일   흐림   건조  차대사람  2019   1   1   0  대구광역시  달서구   \n",
       "2      ACCIDENT_00002  화요일   맑음   건조  차대사람  2019   1   1   1  대구광역시  수성구   \n",
       "3      ACCIDENT_00003  화요일   맑음   건조   차대차  2019   1   1   2  대구광역시   북구   \n",
       "4      ACCIDENT_00004  화요일   맑음   건조   차대차  2019   1   1   4  대구광역시   동구   \n",
       "...               ...  ...  ...  ...   ...   ...  ..  ..  ..    ...  ...   \n",
       "39604  ACCIDENT_39604  금요일   맑음   건조   차대차  2021  12  31  19  대구광역시  수성구   \n",
       "39605  ACCIDENT_39605  금요일   맑음   건조   차대차  2021  12  31  19  대구광역시  달서구   \n",
       "39606  ACCIDENT_39606  금요일   맑음   건조   차대차  2021  12  31  21  대구광역시  달서구   \n",
       "39607  ACCIDENT_39607  금요일   맑음   건조   차대차  2021  12  31  22  대구광역시  달서구   \n",
       "39608  ACCIDENT_39608  금요일   맑음   건조   차대차  2021  12  31  23  대구광역시   서구   \n",
       "\n",
       "           동 도로형태1      도로형태2  \n",
       "0        대신동   단일로         기타  \n",
       "1        감삼동   단일로         기타  \n",
       "2        두산동   단일로         기타  \n",
       "3        복현동   단일로         기타  \n",
       "4        신암동   단일로         기타  \n",
       "...      ...   ...        ...  \n",
       "39604  수성동3가   교차로       교차로안  \n",
       "39605    상인동   단일로         기타  \n",
       "39606    월성동   교차로       교차로안  \n",
       "39607     장동    기타         기타  \n",
       "39608    비산동   단일로  지하차도(도로)내  \n",
       "\n",
       "[39609 rows x 14 columns]"
      ]
     },
     "execution_count": 18,
     "metadata": {},
     "output_type": "execute_result"
    }
   ],
   "source": [
    "train_df= train_df[['ID','요일','기상상태','노면상태', '사고유형', '연', '월', '일', '시간', '도시', '구','동', '도로형태1', '도로형태2']]\n",
    "train_df"
   ]
  },
  {
   "cell_type": "markdown",
   "metadata": {
    "id": "t-m18OgNJoRm",
    "pbl_cell_type": "markdown",
    "step_id": 5171,
    "step_number": 5
   },
   "source": [
    "## **전처리 결과 확인**\n",
    "\n",
    "지금까지 전처리한 결과를 확인해 봅시다"
   ]
  },
  {
   "cell_type": "code",
   "execution_count": 19,
   "metadata": {
    "ExecuteTime": {
     "end_time": "2023-11-22T07:21:17.542313Z",
     "start_time": "2023-11-22T07:21:17.532939Z"
    },
    "id": "REMMuAFfJoRm",
    "outputId": "0f3f1f98-a6e2-4ef8-c784-9f3355d736e7",
    "pbl_cell_type": "code",
    "step_id": 5171,
    "step_number": 5
   },
   "outputs": [
    {
     "data": {
      "text/html": [
       "<div>\n",
       "<style scoped>\n",
       "    .dataframe tbody tr th:only-of-type {\n",
       "        vertical-align: middle;\n",
       "    }\n",
       "\n",
       "    .dataframe tbody tr th {\n",
       "        vertical-align: top;\n",
       "    }\n",
       "\n",
       "    .dataframe thead th {\n",
       "        text-align: right;\n",
       "    }\n",
       "</style>\n",
       "<table border=\"1\" class=\"dataframe\">\n",
       "  <thead>\n",
       "    <tr style=\"text-align: right;\">\n",
       "      <th></th>\n",
       "      <th>ID</th>\n",
       "      <th>요일</th>\n",
       "      <th>기상상태</th>\n",
       "      <th>노면상태</th>\n",
       "      <th>사고유형</th>\n",
       "      <th>연</th>\n",
       "      <th>월</th>\n",
       "      <th>일</th>\n",
       "      <th>시간</th>\n",
       "      <th>도시</th>\n",
       "      <th>구</th>\n",
       "      <th>동</th>\n",
       "      <th>도로형태1</th>\n",
       "      <th>도로형태2</th>\n",
       "    </tr>\n",
       "  </thead>\n",
       "  <tbody>\n",
       "    <tr>\n",
       "      <th>0</th>\n",
       "      <td>ACCIDENT_00000</td>\n",
       "      <td>화요일</td>\n",
       "      <td>맑음</td>\n",
       "      <td>건조</td>\n",
       "      <td>차대사람</td>\n",
       "      <td>2019</td>\n",
       "      <td>1</td>\n",
       "      <td>1</td>\n",
       "      <td>0</td>\n",
       "      <td>대구광역시</td>\n",
       "      <td>중구</td>\n",
       "      <td>대신동</td>\n",
       "      <td>단일로</td>\n",
       "      <td>기타</td>\n",
       "    </tr>\n",
       "    <tr>\n",
       "      <th>1</th>\n",
       "      <td>ACCIDENT_00001</td>\n",
       "      <td>화요일</td>\n",
       "      <td>흐림</td>\n",
       "      <td>건조</td>\n",
       "      <td>차대사람</td>\n",
       "      <td>2019</td>\n",
       "      <td>1</td>\n",
       "      <td>1</td>\n",
       "      <td>0</td>\n",
       "      <td>대구광역시</td>\n",
       "      <td>달서구</td>\n",
       "      <td>감삼동</td>\n",
       "      <td>단일로</td>\n",
       "      <td>기타</td>\n",
       "    </tr>\n",
       "    <tr>\n",
       "      <th>2</th>\n",
       "      <td>ACCIDENT_00002</td>\n",
       "      <td>화요일</td>\n",
       "      <td>맑음</td>\n",
       "      <td>건조</td>\n",
       "      <td>차대사람</td>\n",
       "      <td>2019</td>\n",
       "      <td>1</td>\n",
       "      <td>1</td>\n",
       "      <td>1</td>\n",
       "      <td>대구광역시</td>\n",
       "      <td>수성구</td>\n",
       "      <td>두산동</td>\n",
       "      <td>단일로</td>\n",
       "      <td>기타</td>\n",
       "    </tr>\n",
       "    <tr>\n",
       "      <th>3</th>\n",
       "      <td>ACCIDENT_00003</td>\n",
       "      <td>화요일</td>\n",
       "      <td>맑음</td>\n",
       "      <td>건조</td>\n",
       "      <td>차대차</td>\n",
       "      <td>2019</td>\n",
       "      <td>1</td>\n",
       "      <td>1</td>\n",
       "      <td>2</td>\n",
       "      <td>대구광역시</td>\n",
       "      <td>북구</td>\n",
       "      <td>복현동</td>\n",
       "      <td>단일로</td>\n",
       "      <td>기타</td>\n",
       "    </tr>\n",
       "    <tr>\n",
       "      <th>4</th>\n",
       "      <td>ACCIDENT_00004</td>\n",
       "      <td>화요일</td>\n",
       "      <td>맑음</td>\n",
       "      <td>건조</td>\n",
       "      <td>차대차</td>\n",
       "      <td>2019</td>\n",
       "      <td>1</td>\n",
       "      <td>1</td>\n",
       "      <td>4</td>\n",
       "      <td>대구광역시</td>\n",
       "      <td>동구</td>\n",
       "      <td>신암동</td>\n",
       "      <td>단일로</td>\n",
       "      <td>기타</td>\n",
       "    </tr>\n",
       "  </tbody>\n",
       "</table>\n",
       "</div>"
      ],
      "text/plain": [
       "               ID   요일 기상상태 노면상태  사고유형     연  월  일  시간     도시    구    동 도로형태1  \\\n",
       "0  ACCIDENT_00000  화요일   맑음   건조  차대사람  2019  1  1   0  대구광역시   중구  대신동   단일로   \n",
       "1  ACCIDENT_00001  화요일   흐림   건조  차대사람  2019  1  1   0  대구광역시  달서구  감삼동   단일로   \n",
       "2  ACCIDENT_00002  화요일   맑음   건조  차대사람  2019  1  1   1  대구광역시  수성구  두산동   단일로   \n",
       "3  ACCIDENT_00003  화요일   맑음   건조   차대차  2019  1  1   2  대구광역시   북구  복현동   단일로   \n",
       "4  ACCIDENT_00004  화요일   맑음   건조   차대차  2019  1  1   4  대구광역시   동구  신암동   단일로   \n",
       "\n",
       "  도로형태2  \n",
       "0    기타  \n",
       "1    기타  \n",
       "2    기타  \n",
       "3    기타  \n",
       "4    기타  "
      ]
     },
     "metadata": {},
     "output_type": "display_data"
    },
    {
     "data": {
      "text/html": [
       "<div>\n",
       "<style scoped>\n",
       "    .dataframe tbody tr th:only-of-type {\n",
       "        vertical-align: middle;\n",
       "    }\n",
       "\n",
       "    .dataframe tbody tr th {\n",
       "        vertical-align: top;\n",
       "    }\n",
       "\n",
       "    .dataframe thead th {\n",
       "        text-align: right;\n",
       "    }\n",
       "</style>\n",
       "<table border=\"1\" class=\"dataframe\">\n",
       "  <thead>\n",
       "    <tr style=\"text-align: right;\">\n",
       "      <th></th>\n",
       "      <th>ID</th>\n",
       "      <th>요일</th>\n",
       "      <th>기상상태</th>\n",
       "      <th>노면상태</th>\n",
       "      <th>사고유형</th>\n",
       "      <th>연</th>\n",
       "      <th>월</th>\n",
       "      <th>일</th>\n",
       "      <th>시간</th>\n",
       "      <th>도시</th>\n",
       "      <th>구</th>\n",
       "      <th>동</th>\n",
       "      <th>도로형태1</th>\n",
       "      <th>도로형태2</th>\n",
       "    </tr>\n",
       "  </thead>\n",
       "  <tbody>\n",
       "    <tr>\n",
       "      <th>0</th>\n",
       "      <td>ACCIDENT_39609</td>\n",
       "      <td>토요일</td>\n",
       "      <td>맑음</td>\n",
       "      <td>건조</td>\n",
       "      <td>차대사람</td>\n",
       "      <td>2022</td>\n",
       "      <td>1</td>\n",
       "      <td>1</td>\n",
       "      <td>1</td>\n",
       "      <td>대구광역시</td>\n",
       "      <td>수성구</td>\n",
       "      <td>상동</td>\n",
       "      <td>교차로</td>\n",
       "      <td>교차로안</td>\n",
       "    </tr>\n",
       "    <tr>\n",
       "      <th>1</th>\n",
       "      <td>ACCIDENT_39610</td>\n",
       "      <td>토요일</td>\n",
       "      <td>맑음</td>\n",
       "      <td>건조</td>\n",
       "      <td>차대사람</td>\n",
       "      <td>2022</td>\n",
       "      <td>1</td>\n",
       "      <td>1</td>\n",
       "      <td>1</td>\n",
       "      <td>대구광역시</td>\n",
       "      <td>수성구</td>\n",
       "      <td>지산동</td>\n",
       "      <td>단일로</td>\n",
       "      <td>기타</td>\n",
       "    </tr>\n",
       "    <tr>\n",
       "      <th>2</th>\n",
       "      <td>ACCIDENT_39611</td>\n",
       "      <td>토요일</td>\n",
       "      <td>맑음</td>\n",
       "      <td>건조</td>\n",
       "      <td>차대차</td>\n",
       "      <td>2022</td>\n",
       "      <td>1</td>\n",
       "      <td>1</td>\n",
       "      <td>4</td>\n",
       "      <td>대구광역시</td>\n",
       "      <td>수성구</td>\n",
       "      <td>수성동2가</td>\n",
       "      <td>교차로</td>\n",
       "      <td>교차로안</td>\n",
       "    </tr>\n",
       "    <tr>\n",
       "      <th>3</th>\n",
       "      <td>ACCIDENT_39612</td>\n",
       "      <td>토요일</td>\n",
       "      <td>맑음</td>\n",
       "      <td>건조</td>\n",
       "      <td>차대차</td>\n",
       "      <td>2022</td>\n",
       "      <td>1</td>\n",
       "      <td>1</td>\n",
       "      <td>4</td>\n",
       "      <td>대구광역시</td>\n",
       "      <td>수성구</td>\n",
       "      <td>신매동</td>\n",
       "      <td>단일로</td>\n",
       "      <td>기타</td>\n",
       "    </tr>\n",
       "    <tr>\n",
       "      <th>4</th>\n",
       "      <td>ACCIDENT_39613</td>\n",
       "      <td>토요일</td>\n",
       "      <td>맑음</td>\n",
       "      <td>건조</td>\n",
       "      <td>차대차</td>\n",
       "      <td>2022</td>\n",
       "      <td>1</td>\n",
       "      <td>1</td>\n",
       "      <td>6</td>\n",
       "      <td>대구광역시</td>\n",
       "      <td>달서구</td>\n",
       "      <td>감삼동</td>\n",
       "      <td>교차로</td>\n",
       "      <td>교차로안</td>\n",
       "    </tr>\n",
       "  </tbody>\n",
       "</table>\n",
       "</div>"
      ],
      "text/plain": [
       "               ID   요일 기상상태 노면상태  사고유형     연  월  일  시간     도시    구      동  \\\n",
       "0  ACCIDENT_39609  토요일   맑음   건조  차대사람  2022  1  1   1  대구광역시  수성구     상동   \n",
       "1  ACCIDENT_39610  토요일   맑음   건조  차대사람  2022  1  1   1  대구광역시  수성구    지산동   \n",
       "2  ACCIDENT_39611  토요일   맑음   건조   차대차  2022  1  1   4  대구광역시  수성구  수성동2가   \n",
       "3  ACCIDENT_39612  토요일   맑음   건조   차대차  2022  1  1   4  대구광역시  수성구    신매동   \n",
       "4  ACCIDENT_39613  토요일   맑음   건조   차대차  2022  1  1   6  대구광역시  달서구    감삼동   \n",
       "\n",
       "  도로형태1 도로형태2  \n",
       "0   교차로  교차로안  \n",
       "1   단일로    기타  \n",
       "2   교차로  교차로안  \n",
       "3   단일로    기타  \n",
       "4   교차로  교차로안  "
      ]
     },
     "metadata": {},
     "output_type": "display_data"
    }
   ],
   "source": [
    "display(train_df.head())\n",
    "display(test_df.head())"
   ]
  },
  {
   "cell_type": "markdown",
   "metadata": {},
   "source": [
    "## 데이터 초기화 (data_label_enco, data_onehot_enco)"
   ]
  },
  {
   "cell_type": "code",
   "execution_count": 20,
   "metadata": {
    "ExecuteTime": {
     "end_time": "2023-11-22T07:21:17.581713Z",
     "start_time": "2023-11-22T07:21:17.543105Z"
    }
   },
   "outputs": [],
   "source": [
    "data = pd.concat([train_df, test_df], sort=False)\n",
    "data_label_enco = data.copy()\n",
    "data_onehot_enco = data.copy()"
   ]
  },
  {
   "cell_type": "markdown",
   "metadata": {},
   "source": [
    "# **1. 노면상태, 사고유형 엔코딩**"
   ]
  },
  {
   "cell_type": "markdown",
   "metadata": {},
   "source": [
    "## Label encoding"
   ]
  },
  {
   "cell_type": "code",
   "execution_count": 21,
   "metadata": {
    "ExecuteTime": {
     "end_time": "2023-11-22T07:21:17.658049Z",
     "start_time": "2023-11-22T07:21:17.582383Z"
    }
   },
   "outputs": [
    {
     "name": "stdout",
     "output_type": "stream",
     "text": [
      "       사고유형  노면상태\n",
      "0         0     0\n",
      "1         0     0\n",
      "2         0     0\n",
      "3         1     0\n",
      "4         1     0\n",
      "...     ...   ...\n",
      "10958     1     0\n",
      "10959     1     0\n",
      "10960     1     0\n",
      "10961     1     0\n",
      "10962     1     0\n",
      "\n",
      "[50572 rows x 2 columns]\n",
      "<class 'pandas.core.frame.DataFrame'>\n",
      "Int64Index: 50572 entries, 0 to 10962\n",
      "Data columns (total 14 columns):\n",
      " #   Column  Non-Null Count  Dtype \n",
      "---  ------  --------------  ----- \n",
      " 0   ID      50572 non-null  object\n",
      " 1   요일      50572 non-null  object\n",
      " 2   기상상태    50572 non-null  object\n",
      " 3   노면상태    50572 non-null  int64 \n",
      " 4   사고유형    50572 non-null  int64 \n",
      " 5   연       50572 non-null  int64 \n",
      " 6   월       50572 non-null  int64 \n",
      " 7   일       50572 non-null  int64 \n",
      " 8   시간      50572 non-null  int64 \n",
      " 9   도시      50572 non-null  object\n",
      " 10  구       50572 non-null  object\n",
      " 11  동       50572 non-null  object\n",
      " 12  도로형태1   50572 non-null  object\n",
      " 13  도로형태2   50572 non-null  object\n",
      "dtypes: int64(6), object(8)\n",
      "memory usage: 5.8+ MB\n"
     ]
    }
   ],
   "source": [
    "from sklearn.preprocessing import LabelEncoder\n",
    "# LabelEncoder 객체 생성\n",
    "label_encoder = LabelEncoder()\n",
    "\n",
    "# \"사고유형\" 컬럼 Label Encoding\n",
    "data_label_enco['사고유형'] = label_encoder.fit_transform(data_label_enco['사고유형'])\n",
    "\n",
    "# \"노면상태\" 컬럼 Label Encoding\n",
    "data_label_enco['노면상태'] = label_encoder.fit_transform(data_label_enco['노면상태'])\n",
    "\n",
    "# 결과 확인\n",
    "print(data_label_enco[['사고유형', '노면상태']])\n",
    "data_label_enco.info()"
   ]
  },
  {
   "cell_type": "markdown",
   "metadata": {},
   "source": [
    "## One-Hot Encoding"
   ]
  },
  {
   "cell_type": "code",
   "execution_count": 22,
   "metadata": {
    "ExecuteTime": {
     "end_time": "2023-11-22T07:21:17.687880Z",
     "start_time": "2023-11-22T07:21:17.658916Z"
    }
   },
   "outputs": [],
   "source": [
    "# \"사고유형\" 및 \"노면상태\" 컬럼을 원-핫 인코딩\n",
    "data_onehot_enco = pd.get_dummies(data, columns=['사고유형', '노면상태'])"
   ]
  },
  {
   "cell_type": "markdown",
   "metadata": {},
   "source": [
    "## 전처리한 데이터로 선형회귀 및 rmsle확인"
   ]
  },
  {
   "cell_type": "markdown",
   "metadata": {},
   "source": [
    "# **------------------------------------------------------**"
   ]
  },
  {
   "cell_type": "markdown",
   "metadata": {},
   "source": [
    "# **2. 도로유형 인코딩**"
   ]
  },
  {
   "cell_type": "markdown",
   "metadata": {},
   "source": [
    "### 라벨인코딩 - 도로유형1"
   ]
  },
  {
   "cell_type": "code",
   "execution_count": 23,
   "metadata": {
    "ExecuteTime": {
     "end_time": "2023-11-22T07:21:17.694367Z",
     "start_time": "2023-11-22T07:21:17.689017Z"
    }
   },
   "outputs": [
    {
     "data": {
      "text/plain": [
       "LabelEncoder()"
      ]
     },
     "execution_count": 23,
     "metadata": {},
     "output_type": "execute_result"
    }
   ],
   "source": [
    "le = LabelEncoder()\n",
    "le.fit(data_label_enco['도로형태1'])"
   ]
  },
  {
   "cell_type": "code",
   "execution_count": 24,
   "metadata": {
    "ExecuteTime": {
     "end_time": "2023-11-22T07:21:17.702346Z",
     "start_time": "2023-11-22T07:21:17.695261Z"
    }
   },
   "outputs": [
    {
     "data": {
      "text/plain": [
       "array([2, 2, 2, ..., 2, 0, 0])"
      ]
     },
     "execution_count": 24,
     "metadata": {},
     "output_type": "execute_result"
    }
   ],
   "source": [
    "le.transform(data_label_enco['도로형태1'])"
   ]
  },
  {
   "cell_type": "code",
   "execution_count": 25,
   "metadata": {
    "ExecuteTime": {
     "end_time": "2023-11-22T07:21:17.707216Z",
     "start_time": "2023-11-22T07:21:17.703159Z"
    }
   },
   "outputs": [],
   "source": [
    "label_data = data.copy()"
   ]
  },
  {
   "cell_type": "code",
   "execution_count": 26,
   "metadata": {
    "ExecuteTime": {
     "end_time": "2023-11-22T07:21:17.719389Z",
     "start_time": "2023-11-22T07:21:17.707973Z"
    }
   },
   "outputs": [],
   "source": [
    "data_label_enco['도로형태1'] = le.transform(data_label_enco['도로형태1'])"
   ]
  },
  {
   "cell_type": "code",
   "execution_count": 27,
   "metadata": {
    "ExecuteTime": {
     "end_time": "2023-11-22T07:21:17.733141Z",
     "start_time": "2023-11-22T07:21:17.720312Z"
    }
   },
   "outputs": [
    {
     "name": "stdout",
     "output_type": "stream",
     "text": [
      "<class 'pandas.core.frame.DataFrame'>\n",
      "Int64Index: 50572 entries, 0 to 10962\n",
      "Data columns (total 14 columns):\n",
      " #   Column  Non-Null Count  Dtype \n",
      "---  ------  --------------  ----- \n",
      " 0   ID      50572 non-null  object\n",
      " 1   요일      50572 non-null  object\n",
      " 2   기상상태    50572 non-null  object\n",
      " 3   노면상태    50572 non-null  int64 \n",
      " 4   사고유형    50572 non-null  int64 \n",
      " 5   연       50572 non-null  int64 \n",
      " 6   월       50572 non-null  int64 \n",
      " 7   일       50572 non-null  int64 \n",
      " 8   시간      50572 non-null  int64 \n",
      " 9   도시      50572 non-null  object\n",
      " 10  구       50572 non-null  object\n",
      " 11  동       50572 non-null  object\n",
      " 12  도로형태1   50572 non-null  int64 \n",
      " 13  도로형태2   50572 non-null  object\n",
      "dtypes: int64(7), object(7)\n",
      "memory usage: 5.8+ MB\n"
     ]
    }
   ],
   "source": [
    "data_label_enco.info()"
   ]
  },
  {
   "cell_type": "markdown",
   "metadata": {},
   "source": [
    "### 라벨인코딩 - 도로유형2"
   ]
  },
  {
   "cell_type": "code",
   "execution_count": 28,
   "metadata": {
    "ExecuteTime": {
     "end_time": "2023-11-22T07:21:17.767740Z",
     "start_time": "2023-11-22T07:21:17.737613Z"
    }
   },
   "outputs": [
    {
     "name": "stdout",
     "output_type": "stream",
     "text": [
      "<class 'pandas.core.frame.DataFrame'>\n",
      "Int64Index: 50572 entries, 0 to 10962\n",
      "Data columns (total 14 columns):\n",
      " #   Column  Non-Null Count  Dtype \n",
      "---  ------  --------------  ----- \n",
      " 0   ID      50572 non-null  object\n",
      " 1   요일      50572 non-null  object\n",
      " 2   기상상태    50572 non-null  object\n",
      " 3   노면상태    50572 non-null  int64 \n",
      " 4   사고유형    50572 non-null  int64 \n",
      " 5   연       50572 non-null  int64 \n",
      " 6   월       50572 non-null  int64 \n",
      " 7   일       50572 non-null  int64 \n",
      " 8   시간      50572 non-null  int64 \n",
      " 9   도시      50572 non-null  object\n",
      " 10  구       50572 non-null  object\n",
      " 11  동       50572 non-null  object\n",
      " 12  도로형태1   50572 non-null  int64 \n",
      " 13  도로형태2   50572 non-null  int64 \n",
      "dtypes: int64(8), object(6)\n",
      "memory usage: 5.8+ MB\n"
     ]
    }
   ],
   "source": [
    "le = LabelEncoder()\n",
    "le.fit(data_label_enco['도로형태2'])\n",
    "le.transform(data_label_enco['도로형태2'])\n",
    "\n",
    "data_label_enco['도로형태2'] = le.transform(data_label_enco['도로형태2'])\n",
    "\n",
    "data_label_enco.info()"
   ]
  },
  {
   "cell_type": "markdown",
   "metadata": {},
   "source": [
    "### 원핫인코딩 - 도로형태1"
   ]
  },
  {
   "cell_type": "code",
   "execution_count": 29,
   "metadata": {
    "ExecuteTime": {
     "end_time": "2023-11-22T07:21:17.800909Z",
     "start_time": "2023-11-22T07:21:17.768497Z"
    }
   },
   "outputs": [],
   "source": [
    "from sklearn.preprocessing import OneHotEncoder\n",
    "\n",
    "data_onehot_enco = pd.get_dummies(data_onehot_enco, columns=['도로형태1', '도로형태2'])"
   ]
  },
  {
   "cell_type": "code",
   "execution_count": 30,
   "metadata": {
    "ExecuteTime": {
     "end_time": "2023-11-22T07:21:17.815497Z",
     "start_time": "2023-11-22T07:21:17.801631Z"
    }
   },
   "outputs": [
    {
     "name": "stdout",
     "output_type": "stream",
     "text": [
      "<class 'pandas.core.frame.DataFrame'>\n",
      "Int64Index: 50572 entries, 0 to 10962\n",
      "Data columns (total 34 columns):\n",
      " #   Column           Non-Null Count  Dtype \n",
      "---  ------           --------------  ----- \n",
      " 0   ID               50572 non-null  object\n",
      " 1   요일               50572 non-null  object\n",
      " 2   기상상태             50572 non-null  object\n",
      " 3   연                50572 non-null  int64 \n",
      " 4   월                50572 non-null  int64 \n",
      " 5   일                50572 non-null  int64 \n",
      " 6   시간               50572 non-null  int64 \n",
      " 7   도시               50572 non-null  object\n",
      " 8   구                50572 non-null  object\n",
      " 9   동                50572 non-null  object\n",
      " 10  사고유형_차대사람        50572 non-null  uint8 \n",
      " 11  사고유형_차대차         50572 non-null  uint8 \n",
      " 12  사고유형_차량단독        50572 non-null  uint8 \n",
      " 13  노면상태_건조          50572 non-null  uint8 \n",
      " 14  노면상태_기타          50572 non-null  uint8 \n",
      " 15  노면상태_서리/결빙       50572 non-null  uint8 \n",
      " 16  노면상태_적설          50572 non-null  uint8 \n",
      " 17  노면상태_젖음/습기       50572 non-null  uint8 \n",
      " 18  노면상태_침수          50572 non-null  uint8 \n",
      " 19  도로형태1_교차로        50572 non-null  uint8 \n",
      " 20  도로형태1_기타         50572 non-null  uint8 \n",
      " 21  도로형태1_단일로        50572 non-null  uint8 \n",
      " 22  도로형태1_미분류        50572 non-null  uint8 \n",
      " 23  도로형태1_주차장        50572 non-null  uint8 \n",
      " 24  도로형태2_고가도로위      50572 non-null  uint8 \n",
      " 25  도로형태2_교량         50572 non-null  uint8 \n",
      " 26  도로형태2_교차로부근      50572 non-null  uint8 \n",
      " 27  도로형태2_교차로안       50572 non-null  uint8 \n",
      " 28  도로형태2_교차로횡단보도내   50572 non-null  uint8 \n",
      " 29  도로형태2_기타         50572 non-null  uint8 \n",
      " 30  도로형태2_미분류        50572 non-null  uint8 \n",
      " 31  도로형태2_주차장        50572 non-null  uint8 \n",
      " 32  도로형태2_지하차도(도로)내  50572 non-null  uint8 \n",
      " 33  도로형태2_터널         50572 non-null  uint8 \n",
      "dtypes: int64(4), object(6), uint8(24)\n",
      "memory usage: 5.4+ MB\n"
     ]
    }
   ],
   "source": [
    "data_onehot_enco.info()\n",
    "# oe_road1 = pd.DataFrame(oe_road1)"
   ]
  },
  {
   "cell_type": "code",
   "execution_count": 31,
   "metadata": {
    "ExecuteTime": {
     "end_time": "2023-11-22T07:21:17.818148Z",
     "start_time": "2023-11-22T07:21:17.816221Z"
    }
   },
   "outputs": [],
   "source": [
    "\n",
    "# data_onehot_enco = pd.merge(data, oe_road1, left_index=True, right_index=True)\n",
    "\n",
    "# data_onehot_enco = data_onehot_enco.drop(columns='도로형태1')\n",
    "# data_onehot_enco = data_onehot_enco.rename(columns= {0 : '도로형태1'})\n",
    "\n",
    "# data_onehot_enco.info()"
   ]
  },
  {
   "cell_type": "markdown",
   "metadata": {},
   "source": [
    "### 원핫인코딩 - 도로형태2 -> (수정) : 위에서 한번에 data_onehot_enco에 값입력"
   ]
  },
  {
   "cell_type": "code",
   "execution_count": 32,
   "metadata": {
    "ExecuteTime": {
     "end_time": "2023-11-22T07:21:17.820447Z",
     "start_time": "2023-11-22T07:21:17.818956Z"
    }
   },
   "outputs": [],
   "source": [
    "\n",
    "# le = LabelEncoder()\n",
    "# oe = OneHotEncoder()\n",
    "\n",
    "# le.fit(data['도로형태2'])\n",
    "# road2 = le.transform(data['도로형태2'])\n",
    "# road2 = road2.reshape(-1, 1)\n",
    "\n",
    "# oe.fit(road2)\n",
    "# oe_road2 = oe.transform(road2)\n",
    "\n",
    "\n",
    "# oe_road2 = pd.DataFrame(oe_road2)\n",
    "\n",
    "\n",
    "# data_label_enco = pd.merge(data_label_enco, oe_road2, left_index=True, right_index=True)\n",
    "\n",
    "# data_label_enco = one_hot.drop(columns='도로형태2')\n",
    "# data_label_enco = one_hot.rename(columns= {0 : '도로형태2'})\n",
    "\n",
    "# data_label_enco.info()"
   ]
  },
  {
   "cell_type": "code",
   "execution_count": 33,
   "metadata": {
    "ExecuteTime": {
     "end_time": "2023-11-22T07:21:17.822951Z",
     "start_time": "2023-11-22T07:21:17.821283Z"
    }
   },
   "outputs": [],
   "source": [
    "# one_hot = pd.get_dummies(data, columns=['도로형태1', '도로형태2'])\n",
    "# one_hot"
   ]
  },
  {
   "cell_type": "markdown",
   "metadata": {},
   "source": [
    "# **------------------------------------------------------**"
   ]
  },
  {
   "cell_type": "markdown",
   "metadata": {},
   "source": [
    "# **3. 구,동 인코딩**"
   ]
  },
  {
   "cell_type": "code",
   "execution_count": 34,
   "metadata": {
    "ExecuteTime": {
     "end_time": "2023-11-22T07:21:17.824921Z",
     "start_time": "2023-11-22T07:21:17.823600Z"
    }
   },
   "outputs": [],
   "source": [
    "# data = pd.concat([train_df, test_df], sort=False)"
   ]
  },
  {
   "cell_type": "markdown",
   "metadata": {},
   "source": [
    "## **원-핫 인코딩 적용**"
   ]
  },
  {
   "cell_type": "markdown",
   "metadata": {},
   "source": [
    "### 구\n",
    "- `ohe_gu` : 원-핫 인코딩 적용된 배열\n",
    "- `ohe_gu_df` : `ohe_gu` 의 df"
   ]
  },
  {
   "cell_type": "markdown",
   "metadata": {},
   "source": [
    "**1. 구 정보 확인**"
   ]
  },
  {
   "cell_type": "code",
   "execution_count": 35,
   "metadata": {
    "ExecuteTime": {
     "end_time": "2023-11-22T07:21:17.846869Z",
     "start_time": "2023-11-22T07:21:17.825949Z"
    }
   },
   "outputs": [
    {
     "name": "stdout",
     "output_type": "stream",
     "text": [
      "['중구' '달서구' '수성구' '북구' '동구' '서구' '달성군' '남구']\n",
      "(50572,)\n",
      "<class 'pandas.core.frame.DataFrame'>\n",
      "Int64Index: 50572 entries, 0 to 10962\n",
      "Data columns (total 14 columns):\n",
      " #   Column  Non-Null Count  Dtype \n",
      "---  ------  --------------  ----- \n",
      " 0   ID      50572 non-null  object\n",
      " 1   요일      50572 non-null  object\n",
      " 2   기상상태    50572 non-null  object\n",
      " 3   노면상태    50572 non-null  object\n",
      " 4   사고유형    50572 non-null  object\n",
      " 5   연       50572 non-null  int64 \n",
      " 6   월       50572 non-null  int64 \n",
      " 7   일       50572 non-null  int64 \n",
      " 8   시간      50572 non-null  int64 \n",
      " 9   도시      50572 non-null  object\n",
      " 10  구       50572 non-null  object\n",
      " 11  동       50572 non-null  object\n",
      " 12  도로형태1   50572 non-null  object\n",
      " 13  도로형태2   50572 non-null  object\n",
      "dtypes: int64(4), object(10)\n",
      "memory usage: 5.8+ MB\n"
     ]
    }
   ],
   "source": [
    "label_gu = data['구']\n",
    "print(label_gu.unique())\n",
    "print(label_gu.shape)\n",
    "data.info()"
   ]
  },
  {
   "cell_type": "markdown",
   "metadata": {},
   "source": [
    "**2. 원-핫 인코딩 적용**"
   ]
  },
  {
   "cell_type": "code",
   "execution_count": 36,
   "metadata": {
    "ExecuteTime": {
     "end_time": "2023-11-22T07:21:17.858819Z",
     "start_time": "2023-11-22T07:21:17.847601Z"
    }
   },
   "outputs": [],
   "source": [
    "# 1. OneHotEncoder 임포트 및 정의\n",
    "ohe = OneHotEncoder(sparse=False) # array 반환을 위해 sparse=False\n",
    "\n",
    "# 2. 2차원 데이터로 반환\n",
    "label_gu_rs = label_gu.values.reshape(-1, 1)\n",
    "\n",
    "# 3. One-Hot Encoding 적용\n",
    "ohe.fit(label_gu_rs)\n",
    "\n",
    "# 4. One-Hot Encoding 적용된 배열 리턴\n",
    "ohe_gu = ohe.transform(label_gu_rs)"
   ]
  },
  {
   "cell_type": "code",
   "execution_count": 37,
   "metadata": {
    "ExecuteTime": {
     "end_time": "2023-11-22T07:21:17.861632Z",
     "start_time": "2023-11-22T07:21:17.859450Z"
    }
   },
   "outputs": [
    {
     "name": "stdout",
     "output_type": "stream",
     "text": [
      "One-Hot Encoding 적용된 배열:  [[0. 0. 0. ... 0. 0. 1.]\n",
      " [0. 1. 0. ... 0. 0. 0.]\n",
      " [0. 0. 0. ... 0. 1. 0.]\n",
      " ...\n",
      " [0. 0. 0. ... 0. 1. 0.]\n",
      " [0. 0. 0. ... 0. 1. 0.]\n",
      " [0. 0. 0. ... 0. 0. 0.]]\n",
      "One-Hot Encoding 카테고리 확인:  [array(['남구', '달서구', '달성군', '동구', '북구', '서구', '수성구', '중구'], dtype=object)]\n"
     ]
    }
   ],
   "source": [
    "print('One-Hot Encoding 적용된 배열: ', ohe_gu)\n",
    "print('One-Hot Encoding 카테고리 확인: ', ohe.categories_)"
   ]
  },
  {
   "cell_type": "code",
   "execution_count": 38,
   "metadata": {
    "ExecuteTime": {
     "end_time": "2023-11-22T07:21:17.868416Z",
     "start_time": "2023-11-22T07:21:17.862790Z"
    }
   },
   "outputs": [
    {
     "name": "stdout",
     "output_type": "stream",
     "text": [
      "<class 'pandas.core.frame.DataFrame'>\n",
      "RangeIndex: 50572 entries, 0 to 50571\n",
      "Data columns (total 8 columns):\n",
      " #   Column  Non-Null Count  Dtype  \n",
      "---  ------  --------------  -----  \n",
      " 0   남구      50572 non-null  float64\n",
      " 1   달서구     50572 non-null  float64\n",
      " 2   달성군     50572 non-null  float64\n",
      " 3   동구      50572 non-null  float64\n",
      " 4   북구      50572 non-null  float64\n",
      " 5   서구      50572 non-null  float64\n",
      " 6   수성구     50572 non-null  float64\n",
      " 7   중구      50572 non-null  float64\n",
      "dtypes: float64(8)\n",
      "memory usage: 3.1 MB\n"
     ]
    }
   ],
   "source": [
    "ohe_gu_df = pd.DataFrame(ohe_gu, columns=ohe.categories_[0])\n",
    "ohe_gu_df.info()"
   ]
  },
  {
   "cell_type": "markdown",
   "metadata": {},
   "source": [
    "## merge할때 새로 적은 코드-구 데이터 원핫인코딩-"
   ]
  },
  {
   "cell_type": "code",
   "execution_count": 39,
   "metadata": {
    "ExecuteTime": {
     "end_time": "2023-11-22T07:21:17.903803Z",
     "start_time": "2023-11-22T07:21:17.869127Z"
    }
   },
   "outputs": [
    {
     "name": "stdout",
     "output_type": "stream",
     "text": [
      "<class 'pandas.core.frame.DataFrame'>\n",
      "Int64Index: 50572 entries, 0 to 10962\n",
      "Data columns (total 41 columns):\n",
      " #   Column           Non-Null Count  Dtype \n",
      "---  ------           --------------  ----- \n",
      " 0   ID               50572 non-null  object\n",
      " 1   요일               50572 non-null  object\n",
      " 2   기상상태             50572 non-null  object\n",
      " 3   연                50572 non-null  int64 \n",
      " 4   월                50572 non-null  int64 \n",
      " 5   일                50572 non-null  int64 \n",
      " 6   시간               50572 non-null  int64 \n",
      " 7   도시               50572 non-null  object\n",
      " 8   동                50572 non-null  object\n",
      " 9   사고유형_차대사람        50572 non-null  uint8 \n",
      " 10  사고유형_차대차         50572 non-null  uint8 \n",
      " 11  사고유형_차량단독        50572 non-null  uint8 \n",
      " 12  노면상태_건조          50572 non-null  uint8 \n",
      " 13  노면상태_기타          50572 non-null  uint8 \n",
      " 14  노면상태_서리/결빙       50572 non-null  uint8 \n",
      " 15  노면상태_적설          50572 non-null  uint8 \n",
      " 16  노면상태_젖음/습기       50572 non-null  uint8 \n",
      " 17  노면상태_침수          50572 non-null  uint8 \n",
      " 18  도로형태1_교차로        50572 non-null  uint8 \n",
      " 19  도로형태1_기타         50572 non-null  uint8 \n",
      " 20  도로형태1_단일로        50572 non-null  uint8 \n",
      " 21  도로형태1_미분류        50572 non-null  uint8 \n",
      " 22  도로형태1_주차장        50572 non-null  uint8 \n",
      " 23  도로형태2_고가도로위      50572 non-null  uint8 \n",
      " 24  도로형태2_교량         50572 non-null  uint8 \n",
      " 25  도로형태2_교차로부근      50572 non-null  uint8 \n",
      " 26  도로형태2_교차로안       50572 non-null  uint8 \n",
      " 27  도로형태2_교차로횡단보도내   50572 non-null  uint8 \n",
      " 28  도로형태2_기타         50572 non-null  uint8 \n",
      " 29  도로형태2_미분류        50572 non-null  uint8 \n",
      " 30  도로형태2_주차장        50572 non-null  uint8 \n",
      " 31  도로형태2_지하차도(도로)내  50572 non-null  uint8 \n",
      " 32  도로형태2_터널         50572 non-null  uint8 \n",
      " 33  구_남구             50572 non-null  uint8 \n",
      " 34  구_달서구            50572 non-null  uint8 \n",
      " 35  구_달성군            50572 non-null  uint8 \n",
      " 36  구_동구             50572 non-null  uint8 \n",
      " 37  구_북구             50572 non-null  uint8 \n",
      " 38  구_서구             50572 non-null  uint8 \n",
      " 39  구_수성구            50572 non-null  uint8 \n",
      " 40  구_중구             50572 non-null  uint8 \n",
      "dtypes: int64(4), object(5), uint8(32)\n",
      "memory usage: 5.4+ MB\n"
     ]
    }
   ],
   "source": [
    "data_onehot_enco = pd.get_dummies(data_onehot_enco, columns=['구'])\n",
    "data_onehot_enco.info()"
   ]
  },
  {
   "cell_type": "markdown",
   "metadata": {},
   "source": [
    "### 동\n",
    "- `ohe_dong` : 원-핫 인코딩 적용된 배열\n",
    "- `ohe_dong_df` : ohe_dong 의 df"
   ]
  },
  {
   "cell_type": "markdown",
   "metadata": {},
   "source": [
    "**1. 동 정보 확인**"
   ]
  },
  {
   "cell_type": "code",
   "execution_count": 40,
   "metadata": {
    "ExecuteTime": {
     "end_time": "2023-11-22T07:21:17.910690Z",
     "start_time": "2023-11-22T07:21:17.904673Z"
    }
   },
   "outputs": [
    {
     "name": "stdout",
     "output_type": "stream",
     "text": [
      "['대신동' '감삼동' '두산동' '복현동' '신암동' '지산동' '상인동' '태전동' '지묘동' '평리동' '신기동' '상리동'\n",
      " '월성동' '황금동' '구암동' '신천동' '만촌동' '남산동' '비산동' '침산동' '두류동' '신매동' '대곡동' '유가읍'\n",
      " '논공읍' '율하동' '시지동' '봉무동' '다사읍' '동산동' '이현동' '이천동' '수성동4가' '노원동3가' '서변동'\n",
      " '관음동' '학정동' '파동' '상동' '이곡동' '효목동' '읍내동' '남성로' '죽전동' '대명동' '동천동' '지저동'\n",
      " '사수동' '덕산동' '본리동' '용계동' '범어동' '신당동' '성당동' '용산동' '태평로3가' '도학동' '욱수동' '불로동'\n",
      " '칠성동1가' '장기동' '매호동' '대천동' '삼덕동1가' '수성동2가' '팔달동' '삼덕동' '진천동' '수성동3가' '가창면'\n",
      " '방촌동' '산격동' '월암동' '현풍읍' '구지면' '매천동' '송현동' '고성동3가' '봉덕동' '칠성동2가' '공평동'\n",
      " '봉산동' '괴전동' '국우동' '대현동' '노원동1가' '대봉동' '본동' '신서동' '검단동' '화원읍' '동호동'\n",
      " '삼덕동2가' '입석동' '중동' '삼덕동3가' '파호동' '동내동' '하빈면' '율암동' '동인동1가' '내당동' '유천동'\n",
      " '호산동' '교동' '옥포읍' '원대동3가' '검사동' '동인동4가' '수성동1가' '고성동2가' '각산동' '중리동'\n",
      " '고성동1가' '갈산동' '대림동' '호림동' '연호동' '동변동' '범물동' '계산동2가' '동문동' '고모동' '금호동'\n",
      " '장동' '도원동' '수창동' '동인동2가' '가천동' '노변동' '달성동' '동인동3가' '서문로2가' '동성로2가' '중대동'\n",
      " '사월동' '장관동' '신평동' '숙천동' '성동' '동일동' '시장북로' '서호동' '용수동' '대흥동' '동성로3가' '연경동'\n",
      " '원대동1가' '남일동' '부동' '송정동' '백안동' '도동' '인교동' '미대동' '노원동2가' '북성로1가' '조야동'\n",
      " '태평로2가' '포정동' '노곡동' '진인동' '서문로1가' '덕곡동' '문화동' '상매동' '사복동' '종로1가' '계산동1가'\n",
      " '상서동' '서성로1가' '원대동2가' '태평로1가' '미곡동' '사일동' '내동' '전동' '둔산동' '매여동' '완전동'\n",
      " '북성로2가' '하서동' '화전동' '능성동' '서성로2가' '금강동' '향촌동' '수동' '신무동' '대안동' '종로2가'\n",
      " '서야동' '신용동' '동성로1가' '평광동' '도남동']\n",
      "(50572,)\n"
     ]
    }
   ],
   "source": [
    "label_dong = data['동']\n",
    "print(label_dong.unique())\n",
    "print(label_dong.shape)"
   ]
  },
  {
   "cell_type": "markdown",
   "metadata": {},
   "source": [
    "**2. 원-핫 인코딩 적용**"
   ]
  },
  {
   "cell_type": "code",
   "execution_count": 41,
   "metadata": {
    "ExecuteTime": {
     "end_time": "2023-11-22T07:21:17.912797Z",
     "start_time": "2023-11-22T07:21:17.911399Z"
    }
   },
   "outputs": [],
   "source": [
    "# # 1. OneHotEncoder 임포트 및 정의\n",
    "# ohe = OneHotEncoder(sparse=False) # array 반환을 위해 sparse=False\n",
    "\n",
    "# # 2. 2차원 데이터로 반환\n",
    "# label_dong_rs = label_dong.values.reshape(-1, 1)\n",
    "\n",
    "# # 3. One-Hot Encoding 적용\n",
    "# ohe.fit(label_dong_rs)\n",
    "\n",
    "# # 4. One-Hot Encoding 적용된 배열 리턴\n",
    "# ohe_dong = ohe.transform(label_dong_rs)"
   ]
  },
  {
   "cell_type": "code",
   "execution_count": 42,
   "metadata": {
    "ExecuteTime": {
     "end_time": "2023-11-22T07:21:17.915473Z",
     "start_time": "2023-11-22T07:21:17.913554Z"
    }
   },
   "outputs": [],
   "source": [
    "# print('One-Hot Encoding 적용된 배열: ', ohe_dong)\n",
    "# print('One-Hot Encoding 카테고리 확인: ', ohe.categories_)"
   ]
  },
  {
   "cell_type": "code",
   "execution_count": 43,
   "metadata": {
    "ExecuteTime": {
     "end_time": "2023-11-22T07:21:17.917817Z",
     "start_time": "2023-11-22T07:21:17.916285Z"
    }
   },
   "outputs": [],
   "source": [
    "# ohe_dong_df = pd.DataFrame(ohe_dong, columns=ohe.categories_[0])\n",
    "# ohe_dong_df"
   ]
  },
  {
   "cell_type": "markdown",
   "metadata": {},
   "source": [
    "## merge할때 새로 적은 코드 - 동 데이터 원핫인코딩-"
   ]
  },
  {
   "cell_type": "code",
   "execution_count": 44,
   "metadata": {
    "ExecuteTime": {
     "end_time": "2023-11-22T07:21:17.919832Z",
     "start_time": "2023-11-22T07:21:17.918628Z"
    }
   },
   "outputs": [],
   "source": [
    "# data_onehot_enco = pd.get_dummies(data_onehot_enco, columns=['동'])\n",
    "# data_onehot_enco.info()"
   ]
  },
  {
   "cell_type": "markdown",
   "metadata": {},
   "source": [
    "## 구,동 레이블 인코딩 적용"
   ]
  },
  {
   "cell_type": "markdown",
   "metadata": {},
   "source": [
    "### 구\n",
    "- `le_gu` : 레이블 인코딩 적용된 배열\n",
    "- `le_gu_df` : `le_gu` 의 df"
   ]
  },
  {
   "cell_type": "code",
   "execution_count": 45,
   "metadata": {
    "ExecuteTime": {
     "end_time": "2023-11-22T07:21:17.923149Z",
     "start_time": "2023-11-22T07:21:17.920661Z"
    }
   },
   "outputs": [],
   "source": [
    "from sklearn.preprocessing import LabelEncoder"
   ]
  },
  {
   "cell_type": "markdown",
   "metadata": {},
   "source": [
    "**1. 구 정보 확인**"
   ]
  },
  {
   "cell_type": "code",
   "execution_count": 46,
   "metadata": {
    "ExecuteTime": {
     "end_time": "2023-11-22T07:21:17.928342Z",
     "start_time": "2023-11-22T07:21:17.923789Z"
    }
   },
   "outputs": [
    {
     "name": "stdout",
     "output_type": "stream",
     "text": [
      "['중구' '달서구' '수성구' '북구' '동구' '서구' '달성군' '남구']\n",
      "(50572,)\n"
     ]
    }
   ],
   "source": [
    "label_gu = data['구']\n",
    "print(label_gu.unique())\n",
    "print(label_gu.shape)"
   ]
  },
  {
   "cell_type": "markdown",
   "metadata": {},
   "source": [
    "**2. 레이블 인코딩 적용**"
   ]
  },
  {
   "cell_type": "code",
   "execution_count": 47,
   "metadata": {
    "ExecuteTime": {
     "end_time": "2023-11-22T07:21:17.937664Z",
     "start_time": "2023-11-22T07:21:17.929389Z"
    }
   },
   "outputs": [],
   "source": [
    "# 1. \bLabelEncoder 임포트 및 정의\n",
    "le = LabelEncoder()\n",
    "\n",
    "# 2. 2차원 데이터로 반환\n",
    "label_gu_rs = label_gu.values.reshape(-1, 1)\n",
    "\n",
    "# 2. LabelEncoder 적용\n",
    "le_gu = le.fit_transform(label_gu_rs)"
   ]
  },
  {
   "cell_type": "markdown",
   "metadata": {},
   "source": [
    "### 라벨인코딩 기존 코드에서 작업하기위해 추가한 코드"
   ]
  },
  {
   "cell_type": "code",
   "execution_count": 48,
   "metadata": {
    "ExecuteTime": {
     "end_time": "2023-11-22T07:21:17.966653Z",
     "start_time": "2023-11-22T07:21:17.938408Z"
    }
   },
   "outputs": [
    {
     "name": "stdout",
     "output_type": "stream",
     "text": [
      "<class 'pandas.core.frame.DataFrame'>\n",
      "Int64Index: 50572 entries, 0 to 10962\n",
      "Data columns (total 14 columns):\n",
      " #   Column  Non-Null Count  Dtype \n",
      "---  ------  --------------  ----- \n",
      " 0   ID      50572 non-null  object\n",
      " 1   요일      50572 non-null  object\n",
      " 2   기상상태    50572 non-null  object\n",
      " 3   노면상태    50572 non-null  int64 \n",
      " 4   사고유형    50572 non-null  int64 \n",
      " 5   연       50572 non-null  int64 \n",
      " 6   월       50572 non-null  int64 \n",
      " 7   일       50572 non-null  int64 \n",
      " 8   시간      50572 non-null  int64 \n",
      " 9   도시      50572 non-null  object\n",
      " 10  구       50572 non-null  int64 \n",
      " 11  동       50572 non-null  object\n",
      " 12  도로형태1   50572 non-null  int64 \n",
      " 13  도로형태2   50572 non-null  int64 \n",
      "dtypes: int64(9), object(5)\n",
      "memory usage: 5.8+ MB\n"
     ]
    }
   ],
   "source": [
    "label_encoder_gu = LabelEncoder()\n",
    "\n",
    "# \"사고유형\" 컬럼 Label Encoding\n",
    "data_label_enco['구'] = label_encoder_gu.fit_transform(data['구'])\n",
    "\n",
    "# \"노면상태\" 컬럼 Label Encoding\n",
    "data_label_enco['구'] = label_encoder_gu.fit_transform(data['구'])\n",
    "\n",
    "# 결과 확인\n",
    "data_label_enco.info()\n"
   ]
  },
  {
   "cell_type": "code",
   "execution_count": 49,
   "metadata": {
    "ExecuteTime": {
     "end_time": "2023-11-22T07:21:17.972673Z",
     "start_time": "2023-11-22T07:21:17.967464Z"
    }
   },
   "outputs": [
    {
     "name": "stdout",
     "output_type": "stream",
     "text": [
      "{0, 1, 2, 3, 4, 5, 6, 7}\n",
      "['남구' '달서구' '달성군' '동구' '북구' '서구' '수성구' '중구']\n",
      "['남구' '달서구' '달성군' '동구' '북구' '서구' '수성구' '중구']\n"
     ]
    }
   ],
   "source": [
    "print(set(le_gu))\n",
    "print(le.classes_)\n",
    "print(le.inverse_transform([0, 1, 2, 3, 4, 5, 6, 7]))"
   ]
  },
  {
   "cell_type": "code",
   "execution_count": 50,
   "metadata": {
    "ExecuteTime": {
     "end_time": "2023-11-22T07:21:17.977195Z",
     "start_time": "2023-11-22T07:21:17.973517Z"
    }
   },
   "outputs": [
    {
     "data": {
      "text/html": [
       "<div>\n",
       "<style scoped>\n",
       "    .dataframe tbody tr th:only-of-type {\n",
       "        vertical-align: middle;\n",
       "    }\n",
       "\n",
       "    .dataframe tbody tr th {\n",
       "        vertical-align: top;\n",
       "    }\n",
       "\n",
       "    .dataframe thead th {\n",
       "        text-align: right;\n",
       "    }\n",
       "</style>\n",
       "<table border=\"1\" class=\"dataframe\">\n",
       "  <thead>\n",
       "    <tr style=\"text-align: right;\">\n",
       "      <th></th>\n",
       "      <th>구</th>\n",
       "    </tr>\n",
       "  </thead>\n",
       "  <tbody>\n",
       "    <tr>\n",
       "      <th>0</th>\n",
       "      <td>7</td>\n",
       "    </tr>\n",
       "    <tr>\n",
       "      <th>1</th>\n",
       "      <td>1</td>\n",
       "    </tr>\n",
       "    <tr>\n",
       "      <th>2</th>\n",
       "      <td>6</td>\n",
       "    </tr>\n",
       "    <tr>\n",
       "      <th>3</th>\n",
       "      <td>4</td>\n",
       "    </tr>\n",
       "    <tr>\n",
       "      <th>4</th>\n",
       "      <td>3</td>\n",
       "    </tr>\n",
       "    <tr>\n",
       "      <th>...</th>\n",
       "      <td>...</td>\n",
       "    </tr>\n",
       "    <tr>\n",
       "      <th>50567</th>\n",
       "      <td>0</td>\n",
       "    </tr>\n",
       "    <tr>\n",
       "      <th>50568</th>\n",
       "      <td>6</td>\n",
       "    </tr>\n",
       "    <tr>\n",
       "      <th>50569</th>\n",
       "      <td>6</td>\n",
       "    </tr>\n",
       "    <tr>\n",
       "      <th>50570</th>\n",
       "      <td>6</td>\n",
       "    </tr>\n",
       "    <tr>\n",
       "      <th>50571</th>\n",
       "      <td>3</td>\n",
       "    </tr>\n",
       "  </tbody>\n",
       "</table>\n",
       "<p>50572 rows × 1 columns</p>\n",
       "</div>"
      ],
      "text/plain": [
       "       구\n",
       "0      7\n",
       "1      1\n",
       "2      6\n",
       "3      4\n",
       "4      3\n",
       "...   ..\n",
       "50567  0\n",
       "50568  6\n",
       "50569  6\n",
       "50570  6\n",
       "50571  3\n",
       "\n",
       "[50572 rows x 1 columns]"
      ]
     },
     "execution_count": 50,
     "metadata": {},
     "output_type": "execute_result"
    }
   ],
   "source": [
    "le_gu_df = pd.DataFrame(le_gu, columns=['구'])\n",
    "le_gu_df"
   ]
  },
  {
   "cell_type": "markdown",
   "metadata": {},
   "source": [
    "### 동\n",
    "- `le_dong` : 레이블 인코딩 적용된 배열\n",
    "- `le_dong_df` : le_dong 의 df"
   ]
  },
  {
   "cell_type": "markdown",
   "metadata": {},
   "source": [
    "**1. 동 정보 확인**"
   ]
  },
  {
   "cell_type": "code",
   "execution_count": 51,
   "metadata": {
    "ExecuteTime": {
     "end_time": "2023-11-22T07:21:17.983949Z",
     "start_time": "2023-11-22T07:21:17.977954Z"
    }
   },
   "outputs": [
    {
     "name": "stdout",
     "output_type": "stream",
     "text": [
      "['대신동' '감삼동' '두산동' '복현동' '신암동' '지산동' '상인동' '태전동' '지묘동' '평리동' '신기동' '상리동'\n",
      " '월성동' '황금동' '구암동' '신천동' '만촌동' '남산동' '비산동' '침산동' '두류동' '신매동' '대곡동' '유가읍'\n",
      " '논공읍' '율하동' '시지동' '봉무동' '다사읍' '동산동' '이현동' '이천동' '수성동4가' '노원동3가' '서변동'\n",
      " '관음동' '학정동' '파동' '상동' '이곡동' '효목동' '읍내동' '남성로' '죽전동' '대명동' '동천동' '지저동'\n",
      " '사수동' '덕산동' '본리동' '용계동' '범어동' '신당동' '성당동' '용산동' '태평로3가' '도학동' '욱수동' '불로동'\n",
      " '칠성동1가' '장기동' '매호동' '대천동' '삼덕동1가' '수성동2가' '팔달동' '삼덕동' '진천동' '수성동3가' '가창면'\n",
      " '방촌동' '산격동' '월암동' '현풍읍' '구지면' '매천동' '송현동' '고성동3가' '봉덕동' '칠성동2가' '공평동'\n",
      " '봉산동' '괴전동' '국우동' '대현동' '노원동1가' '대봉동' '본동' '신서동' '검단동' '화원읍' '동호동'\n",
      " '삼덕동2가' '입석동' '중동' '삼덕동3가' '파호동' '동내동' '하빈면' '율암동' '동인동1가' '내당동' '유천동'\n",
      " '호산동' '교동' '옥포읍' '원대동3가' '검사동' '동인동4가' '수성동1가' '고성동2가' '각산동' '중리동'\n",
      " '고성동1가' '갈산동' '대림동' '호림동' '연호동' '동변동' '범물동' '계산동2가' '동문동' '고모동' '금호동'\n",
      " '장동' '도원동' '수창동' '동인동2가' '가천동' '노변동' '달성동' '동인동3가' '서문로2가' '동성로2가' '중대동'\n",
      " '사월동' '장관동' '신평동' '숙천동' '성동' '동일동' '시장북로' '서호동' '용수동' '대흥동' '동성로3가' '연경동'\n",
      " '원대동1가' '남일동' '부동' '송정동' '백안동' '도동' '인교동' '미대동' '노원동2가' '북성로1가' '조야동'\n",
      " '태평로2가' '포정동' '노곡동' '진인동' '서문로1가' '덕곡동' '문화동' '상매동' '사복동' '종로1가' '계산동1가'\n",
      " '상서동' '서성로1가' '원대동2가' '태평로1가' '미곡동' '사일동' '내동' '전동' '둔산동' '매여동' '완전동'\n",
      " '북성로2가' '하서동' '화전동' '능성동' '서성로2가' '금강동' '향촌동' '수동' '신무동' '대안동' '종로2가'\n",
      " '서야동' '신용동' '동성로1가' '평광동' '도남동']\n",
      "(50572,)\n"
     ]
    }
   ],
   "source": [
    "label_dong = data['동']\n",
    "print(label_dong.unique())\n",
    "print(label_dong.shape)"
   ]
  },
  {
   "cell_type": "markdown",
   "metadata": {},
   "source": [
    "**2. 레이블 인코딩 적용**"
   ]
  },
  {
   "cell_type": "markdown",
   "metadata": {},
   "source": [
    "### 라벨인코딩 기존 코드에서 작업하기위해 추가한 코드"
   ]
  },
  {
   "cell_type": "code",
   "execution_count": 52,
   "metadata": {
    "ExecuteTime": {
     "end_time": "2023-11-22T07:21:18.009960Z",
     "start_time": "2023-11-22T07:21:17.984655Z"
    }
   },
   "outputs": [
    {
     "name": "stdout",
     "output_type": "stream",
     "text": [
      "<class 'pandas.core.frame.DataFrame'>\n",
      "Int64Index: 50572 entries, 0 to 10962\n",
      "Data columns (total 14 columns):\n",
      " #   Column  Non-Null Count  Dtype \n",
      "---  ------  --------------  ----- \n",
      " 0   ID      50572 non-null  object\n",
      " 1   요일      50572 non-null  object\n",
      " 2   기상상태    50572 non-null  object\n",
      " 3   노면상태    50572 non-null  int64 \n",
      " 4   사고유형    50572 non-null  int64 \n",
      " 5   연       50572 non-null  int64 \n",
      " 6   월       50572 non-null  int64 \n",
      " 7   일       50572 non-null  int64 \n",
      " 8   시간      50572 non-null  int64 \n",
      " 9   도시      50572 non-null  object\n",
      " 10  구       50572 non-null  int64 \n",
      " 11  동       50572 non-null  int64 \n",
      " 12  도로형태1   50572 non-null  int64 \n",
      " 13  도로형태2   50572 non-null  int64 \n",
      "dtypes: int64(10), object(4)\n",
      "memory usage: 5.8+ MB\n"
     ]
    }
   ],
   "source": [
    "label_encoder_gu = LabelEncoder()\n",
    "\n",
    "# \"사고유형\" 컬럼 Label Encoding\n",
    "data_label_enco['동'] = label_encoder_gu.fit_transform(data['동'])\n",
    "\n",
    "# \"노면상태\" 컬럼 Label Encoding\n",
    "data_label_enco['동'] = label_encoder_gu.fit_transform(data['동'])\n",
    "\n",
    "# 결과 확인\n",
    "data_label_enco.info()\n"
   ]
  },
  {
   "cell_type": "code",
   "execution_count": 53,
   "metadata": {
    "ExecuteTime": {
     "end_time": "2023-11-22T07:21:18.022459Z",
     "start_time": "2023-11-22T07:21:18.010644Z"
    }
   },
   "outputs": [
    {
     "name": "stdout",
     "output_type": "stream",
     "text": [
      "{0, 1, 2, 3, 4, 5, 6, 7, 8, 9, 10, 11, 12, 13, 14, 15, 16, 17, 18, 19, 20, 21, 22, 23, 24, 25, 26, 27, 28, 29, 30, 31, 32, 33, 34, 35, 36, 37, 38, 39, 40, 41, 42, 43, 44, 45, 46, 47, 48, 49, 50, 51, 52, 53, 54, 55, 56, 57, 58, 59, 60, 61, 62, 63, 64, 65, 66, 67, 68, 69, 70, 71, 72, 73, 74, 75, 76, 77, 78, 79, 80, 81, 82, 83, 84, 85, 86, 87, 88, 89, 90, 91, 92, 93, 94, 95, 96, 97, 98, 99, 100, 101, 102, 103, 104, 105, 106, 107, 108, 109, 110, 111, 112, 113, 114, 115, 116, 117, 118, 119, 120, 121, 122, 123, 124, 125, 126, 127, 128, 129, 130, 131, 132, 133, 134, 135, 136, 137, 138, 139, 140, 141, 142, 143, 144, 145, 146, 147, 148, 149, 150, 151, 152, 153, 154, 155, 156, 157, 158, 159, 160, 161, 162, 163, 164, 165, 166, 167, 168, 169, 170, 171, 172, 173, 174, 175, 176, 177, 178, 179, 180, 181, 182, 183, 184, 185, 186, 187, 188, 189, 190, 191, 192, 193, 194, 195}\n",
      "['가창면' '가천동' '각산동' '갈산동' '감삼동' '검단동' '검사동' '계산동1가' '계산동2가' '고모동' '고성동1가'\n",
      " '고성동2가' '고성동3가' '공평동' '관음동' '괴전동' '교동' '구암동' '구지면' '국우동' '금강동' '금호동'\n",
      " '남산동' '남성로' '남일동' '내당동' '내동' '노곡동' '노변동' '노원동1가' '노원동2가' '노원동3가' '논공읍'\n",
      " '능성동' '다사읍' '달성동' '대곡동' '대림동' '대명동' '대봉동' '대신동' '대안동' '대천동' '대현동' '대흥동'\n",
      " '덕곡동' '덕산동' '도남동' '도동' '도원동' '도학동' '동내동' '동문동' '동변동' '동산동' '동성로1가'\n",
      " '동성로2가' '동성로3가' '동인동1가' '동인동2가' '동인동3가' '동인동4가' '동일동' '동천동' '동호동' '두류동'\n",
      " '두산동' '둔산동' '만촌동' '매여동' '매천동' '매호동' '문화동' '미곡동' '미대동' '방촌동' '백안동' '범물동'\n",
      " '범어동' '복현동' '본동' '본리동' '봉덕동' '봉무동' '봉산동' '부동' '북성로1가' '북성로2가' '불로동' '비산동'\n",
      " '사복동' '사수동' '사월동' '사일동' '산격동' '삼덕동' '삼덕동1가' '삼덕동2가' '삼덕동3가' '상동' '상리동'\n",
      " '상매동' '상서동' '상인동' '서문로1가' '서문로2가' '서변동' '서성로1가' '서성로2가' '서야동' '서호동' '성당동'\n",
      " '성동' '송정동' '송현동' '수동' '수성동1가' '수성동2가' '수성동3가' '수성동4가' '수창동' '숙천동' '시장북로'\n",
      " '시지동' '신기동' '신당동' '신매동' '신무동' '신서동' '신암동' '신용동' '신천동' '신평동' '연경동' '연호동'\n",
      " '옥포읍' '완전동' '용계동' '용산동' '용수동' '욱수동' '원대동1가' '원대동2가' '원대동3가' '월성동' '월암동'\n",
      " '유가읍' '유천동' '율암동' '율하동' '읍내동' '이곡동' '이천동' '이현동' '인교동' '입석동' '장관동' '장기동'\n",
      " '장동' '전동' '조야동' '종로1가' '종로2가' '죽전동' '중대동' '중동' '중리동' '지묘동' '지산동' '지저동'\n",
      " '진인동' '진천동' '칠성동1가' '칠성동2가' '침산동' '태전동' '태평로1가' '태평로2가' '태평로3가' '파동'\n",
      " '파호동' '팔달동' '평광동' '평리동' '포정동' '하빈면' '하서동' '학정동' '향촌동' '현풍읍' '호림동' '호산동'\n",
      " '화원읍' '화전동' '황금동' '효목동']\n"
     ]
    }
   ],
   "source": [
    "# 1. \bLabelEncoder 임포트 및 정의\n",
    "le = LabelEncoder()\n",
    "\n",
    "# 2. 2차원 데이터로 반환\n",
    "label_dong_rs = label_dong.values.reshape(-1, 1)\n",
    "\n",
    "# 2. LabelEncoder 적용\n",
    "le_dong = le.fit_transform(label_dong_rs)\n",
    "print(set(le_dong))\n",
    "print(le.classes_)"
   ]
  },
  {
   "cell_type": "code",
   "execution_count": 54,
   "metadata": {
    "ExecuteTime": {
     "end_time": "2023-11-22T07:21:18.026969Z",
     "start_time": "2023-11-22T07:21:18.023058Z"
    }
   },
   "outputs": [
    {
     "name": "stdout",
     "output_type": "stream",
     "text": [
      "<class 'pandas.core.frame.DataFrame'>\n",
      "RangeIndex: 50572 entries, 0 to 50571\n",
      "Data columns (total 1 columns):\n",
      " #   Column  Non-Null Count  Dtype\n",
      "---  ------  --------------  -----\n",
      " 0   동       50572 non-null  int64\n",
      "dtypes: int64(1)\n",
      "memory usage: 395.2 KB\n"
     ]
    }
   ],
   "source": [
    "le_dong_df = pd.DataFrame(le_dong, columns=['동'])\n",
    "le_dong_df.info()"
   ]
  },
  {
   "cell_type": "markdown",
   "metadata": {},
   "source": [
    "# **------------------------------------------------------**"
   ]
  },
  {
   "cell_type": "markdown",
   "metadata": {},
   "source": [
    "# **4. 연,월,시 원핫인코딩**\n"
   ]
  },
  {
   "cell_type": "markdown",
   "metadata": {},
   "source": [
    "#### 연,월,(일), 시간 최빈값 알아보기"
   ]
  },
  {
   "cell_type": "code",
   "execution_count": 55,
   "metadata": {
    "ExecuteTime": {
     "end_time": "2023-11-22T07:21:18.030941Z",
     "start_time": "2023-11-22T07:21:18.027732Z"
    }
   },
   "outputs": [
    {
     "data": {
      "text/plain": [
       "2019    14536\n",
       "2020    12940\n",
       "2021    12133\n",
       "2022    10963\n",
       "Name: 연, dtype: int64"
      ]
     },
     "execution_count": 55,
     "metadata": {},
     "output_type": "execute_result"
    }
   ],
   "source": [
    "#최빈값 알아보기\n",
    "data['연'].value_counts().sort_index()"
   ]
  },
  {
   "cell_type": "code",
   "execution_count": 56,
   "metadata": {
    "ExecuteTime": {
     "end_time": "2023-11-22T07:21:18.034928Z",
     "start_time": "2023-11-22T07:21:18.031618Z"
    }
   },
   "outputs": [
    {
     "data": {
      "text/plain": [
       "10    3666\n",
       "11    3577\n",
       "5     3474\n",
       "9     3413\n",
       "6     3407\n",
       "7     3381\n",
       "8     3300\n",
       "12    3262\n",
       "4     3251\n",
       "3     3052\n",
       "1     3030\n",
       "2     2796\n",
       "Name: 월, dtype: int64"
      ]
     },
     "execution_count": 56,
     "metadata": {},
     "output_type": "execute_result"
    }
   ],
   "source": [
    "train_df['월'].value_counts()"
   ]
  },
  {
   "cell_type": "code",
   "execution_count": 57,
   "metadata": {
    "ExecuteTime": {
     "end_time": "2023-11-22T07:21:18.047413Z",
     "start_time": "2023-11-22T07:21:18.035592Z"
    }
   },
   "outputs": [
    {
     "data": {
      "text/plain": [
       "10    4638\n",
       "11    4599\n",
       "5     4514\n",
       "9     4366\n",
       "7     4364\n",
       "6     4339\n",
       "4     4186\n",
       "8     4168\n",
       "12    4142\n",
       "1     3904\n",
       "3     3848\n",
       "2     3504\n",
       "Name: 월, dtype: int64"
      ]
     },
     "execution_count": 57,
     "metadata": {},
     "output_type": "execute_result"
    }
   ],
   "source": [
    "data['월'].value_counts()"
   ]
  },
  {
   "cell_type": "code",
   "execution_count": 58,
   "metadata": {
    "ExecuteTime": {
     "end_time": "2023-11-22T07:21:18.051980Z",
     "start_time": "2023-11-22T07:21:18.048184Z"
    }
   },
   "outputs": [
    {
     "data": {
      "text/plain": [
       "11    1736\n",
       "21    1728\n",
       "8     1724\n",
       "14    1717\n",
       "27    1705\n",
       "9     1700\n",
       "4     1688\n",
       "7     1685\n",
       "18    1677\n",
       "28    1676\n",
       "10    1671\n",
       "22    1671\n",
       "15    1666\n",
       "23    1665\n",
       "20    1662\n",
       "26    1657\n",
       "24    1649\n",
       "29    1647\n",
       "17    1644\n",
       "6     1639\n",
       "25    1637\n",
       "13    1635\n",
       "16    1632\n",
       "3     1631\n",
       "12    1629\n",
       "5     1618\n",
       "2     1617\n",
       "19    1569\n",
       "30    1544\n",
       "1     1544\n",
       "31     909\n",
       "Name: 일, dtype: int64"
      ]
     },
     "execution_count": 58,
     "metadata": {},
     "output_type": "execute_result"
    }
   ],
   "source": [
    "data['일'].value_counts()"
   ]
  },
  {
   "cell_type": "markdown",
   "metadata": {},
   "source": [
    "### Chatpgt의 대답\n",
    "\n",
    "Label Encoding: 순서나 순위가 있는 경우에 사용됩니다. 하지만, 년도는 연도 간의 순서를 나타내는 정량적인 정보보다는 범주형 정보로 인식하는 것이 더 적절합니다. Label Encoding은 연도 간의 관계를 숫자로 나타내기 때문에 모델이 연도 사이의 순서를 잘못 이해할 수 있습니다.\n",
    "\n",
    "One-Hot Encoding: 각 연도를 별도의 피처로 인식하여 2019, 2020, 2021, 2022와 같이 각 연도를 0 또는 1로 표현하는 것입니다. 연도 간의 순서를 고려하지 않고 각각 독립된 피처로 다루기 때문에 모델이 연도 사이의 관계를 잘 파악할 수 있습니다. 또한, 연도 간의 교통사고 발생량의 변화를 모델이 명확히 이해할 수 있습니다.\n",
    "\n",
    "주어진 상황에서는 교통사고 발생량의 추세와 관련이 있으므로, One-Hot Encoding을 사용하여 각 연도를 독립된 피처로 다루는 것이 더 적절할 것 같아요. 이렇게 하면 모델이 각 연도의 교통사고 발생량에 대한 패턴을 잘 파악할 수 있어요."
   ]
  },
  {
   "cell_type": "code",
   "execution_count": 59,
   "metadata": {
    "ExecuteTime": {
     "end_time": "2023-11-22T07:21:18.072089Z",
     "start_time": "2023-11-22T07:21:18.053311Z"
    }
   },
   "outputs": [],
   "source": [
    "# 연도의 one-hot encoding 및 확인\n",
    "data_onehot_enco = pd.get_dummies(data_onehot_enco, columns=['연'])"
   ]
  },
  {
   "cell_type": "code",
   "execution_count": 60,
   "metadata": {
    "ExecuteTime": {
     "end_time": "2023-11-22T07:21:18.087796Z",
     "start_time": "2023-11-22T07:21:18.072822Z"
    }
   },
   "outputs": [
    {
     "name": "stdout",
     "output_type": "stream",
     "text": [
      "<class 'pandas.core.frame.DataFrame'>\n",
      "Int64Index: 50572 entries, 0 to 10962\n",
      "Data columns (total 44 columns):\n",
      " #   Column           Non-Null Count  Dtype \n",
      "---  ------           --------------  ----- \n",
      " 0   ID               50572 non-null  object\n",
      " 1   요일               50572 non-null  object\n",
      " 2   기상상태             50572 non-null  object\n",
      " 3   월                50572 non-null  int64 \n",
      " 4   일                50572 non-null  int64 \n",
      " 5   시간               50572 non-null  int64 \n",
      " 6   도시               50572 non-null  object\n",
      " 7   동                50572 non-null  object\n",
      " 8   사고유형_차대사람        50572 non-null  uint8 \n",
      " 9   사고유형_차대차         50572 non-null  uint8 \n",
      " 10  사고유형_차량단독        50572 non-null  uint8 \n",
      " 11  노면상태_건조          50572 non-null  uint8 \n",
      " 12  노면상태_기타          50572 non-null  uint8 \n",
      " 13  노면상태_서리/결빙       50572 non-null  uint8 \n",
      " 14  노면상태_적설          50572 non-null  uint8 \n",
      " 15  노면상태_젖음/습기       50572 non-null  uint8 \n",
      " 16  노면상태_침수          50572 non-null  uint8 \n",
      " 17  도로형태1_교차로        50572 non-null  uint8 \n",
      " 18  도로형태1_기타         50572 non-null  uint8 \n",
      " 19  도로형태1_단일로        50572 non-null  uint8 \n",
      " 20  도로형태1_미분류        50572 non-null  uint8 \n",
      " 21  도로형태1_주차장        50572 non-null  uint8 \n",
      " 22  도로형태2_고가도로위      50572 non-null  uint8 \n",
      " 23  도로형태2_교량         50572 non-null  uint8 \n",
      " 24  도로형태2_교차로부근      50572 non-null  uint8 \n",
      " 25  도로형태2_교차로안       50572 non-null  uint8 \n",
      " 26  도로형태2_교차로횡단보도내   50572 non-null  uint8 \n",
      " 27  도로형태2_기타         50572 non-null  uint8 \n",
      " 28  도로형태2_미분류        50572 non-null  uint8 \n",
      " 29  도로형태2_주차장        50572 non-null  uint8 \n",
      " 30  도로형태2_지하차도(도로)내  50572 non-null  uint8 \n",
      " 31  도로형태2_터널         50572 non-null  uint8 \n",
      " 32  구_남구             50572 non-null  uint8 \n",
      " 33  구_달서구            50572 non-null  uint8 \n",
      " 34  구_달성군            50572 non-null  uint8 \n",
      " 35  구_동구             50572 non-null  uint8 \n",
      " 36  구_북구             50572 non-null  uint8 \n",
      " 37  구_서구             50572 non-null  uint8 \n",
      " 38  구_수성구            50572 non-null  uint8 \n",
      " 39  구_중구             50572 non-null  uint8 \n",
      " 40  연_2019           50572 non-null  uint8 \n",
      " 41  연_2020           50572 non-null  uint8 \n",
      " 42  연_2021           50572 non-null  uint8 \n",
      " 43  연_2022           50572 non-null  uint8 \n",
      "dtypes: int64(3), object(5), uint8(36)\n",
      "memory usage: 5.2+ MB\n"
     ]
    }
   ],
   "source": [
    "data_onehot_enco.info()"
   ]
  },
  {
   "cell_type": "code",
   "execution_count": 61,
   "metadata": {
    "ExecuteTime": {
     "end_time": "2023-11-22T07:21:18.119013Z",
     "start_time": "2023-11-22T07:21:18.088666Z"
    }
   },
   "outputs": [
    {
     "name": "stdout",
     "output_type": "stream",
     "text": [
      "<class 'pandas.core.frame.DataFrame'>\n",
      "Int64Index: 50572 entries, 0 to 10962\n",
      "Data columns (total 55 columns):\n",
      " #   Column           Non-Null Count  Dtype \n",
      "---  ------           --------------  ----- \n",
      " 0   ID               50572 non-null  object\n",
      " 1   요일               50572 non-null  object\n",
      " 2   기상상태             50572 non-null  object\n",
      " 3   일                50572 non-null  int64 \n",
      " 4   시간               50572 non-null  int64 \n",
      " 5   도시               50572 non-null  object\n",
      " 6   동                50572 non-null  object\n",
      " 7   사고유형_차대사람        50572 non-null  uint8 \n",
      " 8   사고유형_차대차         50572 non-null  uint8 \n",
      " 9   사고유형_차량단독        50572 non-null  uint8 \n",
      " 10  노면상태_건조          50572 non-null  uint8 \n",
      " 11  노면상태_기타          50572 non-null  uint8 \n",
      " 12  노면상태_서리/결빙       50572 non-null  uint8 \n",
      " 13  노면상태_적설          50572 non-null  uint8 \n",
      " 14  노면상태_젖음/습기       50572 non-null  uint8 \n",
      " 15  노면상태_침수          50572 non-null  uint8 \n",
      " 16  도로형태1_교차로        50572 non-null  uint8 \n",
      " 17  도로형태1_기타         50572 non-null  uint8 \n",
      " 18  도로형태1_단일로        50572 non-null  uint8 \n",
      " 19  도로형태1_미분류        50572 non-null  uint8 \n",
      " 20  도로형태1_주차장        50572 non-null  uint8 \n",
      " 21  도로형태2_고가도로위      50572 non-null  uint8 \n",
      " 22  도로형태2_교량         50572 non-null  uint8 \n",
      " 23  도로형태2_교차로부근      50572 non-null  uint8 \n",
      " 24  도로형태2_교차로안       50572 non-null  uint8 \n",
      " 25  도로형태2_교차로횡단보도내   50572 non-null  uint8 \n",
      " 26  도로형태2_기타         50572 non-null  uint8 \n",
      " 27  도로형태2_미분류        50572 non-null  uint8 \n",
      " 28  도로형태2_주차장        50572 non-null  uint8 \n",
      " 29  도로형태2_지하차도(도로)내  50572 non-null  uint8 \n",
      " 30  도로형태2_터널         50572 non-null  uint8 \n",
      " 31  구_남구             50572 non-null  uint8 \n",
      " 32  구_달서구            50572 non-null  uint8 \n",
      " 33  구_달성군            50572 non-null  uint8 \n",
      " 34  구_동구             50572 non-null  uint8 \n",
      " 35  구_북구             50572 non-null  uint8 \n",
      " 36  구_서구             50572 non-null  uint8 \n",
      " 37  구_수성구            50572 non-null  uint8 \n",
      " 38  구_중구             50572 non-null  uint8 \n",
      " 39  연_2019           50572 non-null  uint8 \n",
      " 40  연_2020           50572 non-null  uint8 \n",
      " 41  연_2021           50572 non-null  uint8 \n",
      " 42  연_2022           50572 non-null  uint8 \n",
      " 43  월_1              50572 non-null  uint8 \n",
      " 44  월_2              50572 non-null  uint8 \n",
      " 45  월_3              50572 non-null  uint8 \n",
      " 46  월_4              50572 non-null  uint8 \n",
      " 47  월_5              50572 non-null  uint8 \n",
      " 48  월_6              50572 non-null  uint8 \n",
      " 49  월_7              50572 non-null  uint8 \n",
      " 50  월_8              50572 non-null  uint8 \n",
      " 51  월_9              50572 non-null  uint8 \n",
      " 52  월_10             50572 non-null  uint8 \n",
      " 53  월_11             50572 non-null  uint8 \n",
      " 54  월_12             50572 non-null  uint8 \n",
      "dtypes: int64(2), object(5), uint8(48)\n",
      "memory usage: 5.4+ MB\n"
     ]
    }
   ],
   "source": [
    "# 월의 one-hot encoding 및 확인\n",
    "data_onehot_enco = pd.get_dummies(data_onehot_enco, columns=['월'])\n",
    "data_onehot_enco.info()"
   ]
  },
  {
   "cell_type": "code",
   "execution_count": 62,
   "metadata": {
    "ExecuteTime": {
     "end_time": "2023-11-22T07:21:18.154480Z",
     "start_time": "2023-11-22T07:21:18.119808Z"
    }
   },
   "outputs": [
    {
     "name": "stdout",
     "output_type": "stream",
     "text": [
      "<class 'pandas.core.frame.DataFrame'>\n",
      "Int64Index: 50572 entries, 0 to 10962\n",
      "Data columns (total 78 columns):\n",
      " #   Column           Non-Null Count  Dtype \n",
      "---  ------           --------------  ----- \n",
      " 0   ID               50572 non-null  object\n",
      " 1   요일               50572 non-null  object\n",
      " 2   기상상태             50572 non-null  object\n",
      " 3   일                50572 non-null  int64 \n",
      " 4   도시               50572 non-null  object\n",
      " 5   동                50572 non-null  object\n",
      " 6   사고유형_차대사람        50572 non-null  uint8 \n",
      " 7   사고유형_차대차         50572 non-null  uint8 \n",
      " 8   사고유형_차량단독        50572 non-null  uint8 \n",
      " 9   노면상태_건조          50572 non-null  uint8 \n",
      " 10  노면상태_기타          50572 non-null  uint8 \n",
      " 11  노면상태_서리/결빙       50572 non-null  uint8 \n",
      " 12  노면상태_적설          50572 non-null  uint8 \n",
      " 13  노면상태_젖음/습기       50572 non-null  uint8 \n",
      " 14  노면상태_침수          50572 non-null  uint8 \n",
      " 15  도로형태1_교차로        50572 non-null  uint8 \n",
      " 16  도로형태1_기타         50572 non-null  uint8 \n",
      " 17  도로형태1_단일로        50572 non-null  uint8 \n",
      " 18  도로형태1_미분류        50572 non-null  uint8 \n",
      " 19  도로형태1_주차장        50572 non-null  uint8 \n",
      " 20  도로형태2_고가도로위      50572 non-null  uint8 \n",
      " 21  도로형태2_교량         50572 non-null  uint8 \n",
      " 22  도로형태2_교차로부근      50572 non-null  uint8 \n",
      " 23  도로형태2_교차로안       50572 non-null  uint8 \n",
      " 24  도로형태2_교차로횡단보도내   50572 non-null  uint8 \n",
      " 25  도로형태2_기타         50572 non-null  uint8 \n",
      " 26  도로형태2_미분류        50572 non-null  uint8 \n",
      " 27  도로형태2_주차장        50572 non-null  uint8 \n",
      " 28  도로형태2_지하차도(도로)내  50572 non-null  uint8 \n",
      " 29  도로형태2_터널         50572 non-null  uint8 \n",
      " 30  구_남구             50572 non-null  uint8 \n",
      " 31  구_달서구            50572 non-null  uint8 \n",
      " 32  구_달성군            50572 non-null  uint8 \n",
      " 33  구_동구             50572 non-null  uint8 \n",
      " 34  구_북구             50572 non-null  uint8 \n",
      " 35  구_서구             50572 non-null  uint8 \n",
      " 36  구_수성구            50572 non-null  uint8 \n",
      " 37  구_중구             50572 non-null  uint8 \n",
      " 38  연_2019           50572 non-null  uint8 \n",
      " 39  연_2020           50572 non-null  uint8 \n",
      " 40  연_2021           50572 non-null  uint8 \n",
      " 41  연_2022           50572 non-null  uint8 \n",
      " 42  월_1              50572 non-null  uint8 \n",
      " 43  월_2              50572 non-null  uint8 \n",
      " 44  월_3              50572 non-null  uint8 \n",
      " 45  월_4              50572 non-null  uint8 \n",
      " 46  월_5              50572 non-null  uint8 \n",
      " 47  월_6              50572 non-null  uint8 \n",
      " 48  월_7              50572 non-null  uint8 \n",
      " 49  월_8              50572 non-null  uint8 \n",
      " 50  월_9              50572 non-null  uint8 \n",
      " 51  월_10             50572 non-null  uint8 \n",
      " 52  월_11             50572 non-null  uint8 \n",
      " 53  월_12             50572 non-null  uint8 \n",
      " 54  시간_0             50572 non-null  uint8 \n",
      " 55  시간_1             50572 non-null  uint8 \n",
      " 56  시간_2             50572 non-null  uint8 \n",
      " 57  시간_3             50572 non-null  uint8 \n",
      " 58  시간_4             50572 non-null  uint8 \n",
      " 59  시간_5             50572 non-null  uint8 \n",
      " 60  시간_6             50572 non-null  uint8 \n",
      " 61  시간_7             50572 non-null  uint8 \n",
      " 62  시간_8             50572 non-null  uint8 \n",
      " 63  시간_9             50572 non-null  uint8 \n",
      " 64  시간_10            50572 non-null  uint8 \n",
      " 65  시간_11            50572 non-null  uint8 \n",
      " 66  시간_12            50572 non-null  uint8 \n",
      " 67  시간_13            50572 non-null  uint8 \n",
      " 68  시간_14            50572 non-null  uint8 \n",
      " 69  시간_15            50572 non-null  uint8 \n",
      " 70  시간_16            50572 non-null  uint8 \n",
      " 71  시간_17            50572 non-null  uint8 \n",
      " 72  시간_18            50572 non-null  uint8 \n",
      " 73  시간_19            50572 non-null  uint8 \n",
      " 74  시간_20            50572 non-null  uint8 \n",
      " 75  시간_21            50572 non-null  uint8 \n",
      " 76  시간_22            50572 non-null  uint8 \n",
      " 77  시간_23            50572 non-null  uint8 \n",
      "dtypes: int64(1), object(5), uint8(72)\n",
      "memory usage: 6.2+ MB\n"
     ]
    }
   ],
   "source": [
    "# 시간의 one-hot encoding 및 확인\n",
    "data_onehot_enco = pd.get_dummies(data_onehot_enco, columns=['시간'])\n",
    "data_onehot_enco.info()"
   ]
  },
  {
   "cell_type": "markdown",
   "metadata": {},
   "source": [
    "이미 연도, 월, 시간은 숫자형 데이터로 되어 있기 때문에 Label Encoding을 하는 것은 좋지 않은 선택일 수 있습니다. Label Encoding은 주로 문자열 형태의 범주형 데이터를 숫자로 변환할 때 사용됩니다. 숫자형 데이터에 Label Encoding을 적용하면 모델이 해당 데이터를 범주형이라고 오해할 수 있고, 연속된 숫자 값의 크기를 고려할 수 있어 잘못된 학습을 유발할 수 있습니다.\n",
    "\n",
    "따라서 이미 숫자로 표현된 연도, 월, 시간 데이터에 대해서는 Label Encoding을 적용할 필요가 없습니다. 이러한 경우에는 따로 전처리를 하지 않고 그대로 사용하는 것이 모델에 더 적합할 수 있습니다. 만약 이러한 데이터를 카테고리형 변수로 사용하고자 한다면, 해당 컬럼들을 One-Hot Encoding 등 다른 방법으로 처리하는 것이 좋을 수 있어요."
   ]
  },
  {
   "cell_type": "markdown",
   "metadata": {},
   "source": [
    "# **------------------------------------------------------**"
   ]
  },
  {
   "cell_type": "markdown",
   "metadata": {},
   "source": [
    "# **5. 요일, 기상 엔코딩**"
   ]
  },
  {
   "cell_type": "markdown",
   "metadata": {},
   "source": [
    "## Case 1: '요일' 컬럼 LabelEncoding\n",
    "**0 = 금요일 / 1 = 목요일 / 2 = 수요일 / 3 = 월요일 / 4 = 일요일 / 5 = 토요일 / 6 = 화요일**로 변환됨"
   ]
  },
  {
   "cell_type": "markdown",
   "metadata": {},
   "source": [
    "인코딩된 값 삽입위해 기존 '요일'컬럼 삭제"
   ]
  },
  {
   "cell_type": "code",
   "execution_count": 63,
   "metadata": {
    "ExecuteTime": {
     "end_time": "2023-11-22T07:21:18.162025Z",
     "start_time": "2023-11-22T07:21:18.155238Z"
    }
   },
   "outputs": [],
   "source": [
    "data_label_enco = data_label_enco.drop(data_label_enco.columns[1], axis=1).copy()"
   ]
  },
  {
   "cell_type": "markdown",
   "metadata": {},
   "source": [
    "**요일 컬럼 LabelEncoding 후 컬럼 순서 다시 정렬**"
   ]
  },
  {
   "cell_type": "code",
   "execution_count": 64,
   "metadata": {
    "ExecuteTime": {
     "end_time": "2023-11-22T07:21:18.177765Z",
     "start_time": "2023-11-22T07:21:18.162739Z"
    },
    "id": "1WL7IC-NJoRm"
   },
   "outputs": [
    {
     "name": "stdout",
     "output_type": "stream",
     "text": [
      "<class 'pandas.core.frame.DataFrame'>\n",
      "Int64Index: 50572 entries, 0 to 10962\n",
      "Data columns (total 14 columns):\n",
      " #   Column  Non-Null Count  Dtype \n",
      "---  ------  --------------  ----- \n",
      " 0   ID      50572 non-null  object\n",
      " 1   기상상태    50572 non-null  object\n",
      " 2   노면상태    50572 non-null  int64 \n",
      " 3   사고유형    50572 non-null  int64 \n",
      " 4   연       50572 non-null  int64 \n",
      " 5   월       50572 non-null  int64 \n",
      " 6   일       50572 non-null  int64 \n",
      " 7   시간      50572 non-null  int64 \n",
      " 8   도시      50572 non-null  object\n",
      " 9   구       50572 non-null  int64 \n",
      " 10  동       50572 non-null  int64 \n",
      " 11  도로형태1   50572 non-null  int64 \n",
      " 12  도로형태2   50572 non-null  int64 \n",
      " 13  요일      50572 non-null  int64 \n",
      "dtypes: int64(11), object(3)\n",
      "memory usage: 5.8+ MB\n"
     ]
    }
   ],
   "source": [
    "from sklearn.preprocessing import LabelEncoder\n",
    "encoder = LabelEncoder()\n",
    "encoder.fit(data['요일'])\n",
    "data_label_enco['요일'] = encoder.transform(data['요일'])\n",
    "data_label_enco.info()"
   ]
  },
  {
   "cell_type": "markdown",
   "metadata": {},
   "source": [
    "**가독성 위해 컬럼 순서 원래 순서와 맞춰 정렬**"
   ]
  },
  {
   "cell_type": "code",
   "execution_count": 65,
   "metadata": {
    "ExecuteTime": {
     "end_time": "2023-11-22T07:21:18.189379Z",
     "start_time": "2023-11-22T07:21:18.178597Z"
    }
   },
   "outputs": [
    {
     "data": {
      "text/html": [
       "<div>\n",
       "<style scoped>\n",
       "    .dataframe tbody tr th:only-of-type {\n",
       "        vertical-align: middle;\n",
       "    }\n",
       "\n",
       "    .dataframe tbody tr th {\n",
       "        vertical-align: top;\n",
       "    }\n",
       "\n",
       "    .dataframe thead th {\n",
       "        text-align: right;\n",
       "    }\n",
       "</style>\n",
       "<table border=\"1\" class=\"dataframe\">\n",
       "  <thead>\n",
       "    <tr style=\"text-align: right;\">\n",
       "      <th></th>\n",
       "      <th>ID</th>\n",
       "      <th>요일</th>\n",
       "      <th>기상상태</th>\n",
       "      <th>노면상태</th>\n",
       "      <th>사고유형</th>\n",
       "      <th>연</th>\n",
       "      <th>월</th>\n",
       "      <th>일</th>\n",
       "      <th>시간</th>\n",
       "      <th>도시</th>\n",
       "      <th>구</th>\n",
       "      <th>동</th>\n",
       "      <th>도로형태1</th>\n",
       "      <th>도로형태2</th>\n",
       "    </tr>\n",
       "  </thead>\n",
       "  <tbody>\n",
       "    <tr>\n",
       "      <th>0</th>\n",
       "      <td>ACCIDENT_00000</td>\n",
       "      <td>6</td>\n",
       "      <td>맑음</td>\n",
       "      <td>0</td>\n",
       "      <td>0</td>\n",
       "      <td>2019</td>\n",
       "      <td>1</td>\n",
       "      <td>1</td>\n",
       "      <td>0</td>\n",
       "      <td>대구광역시</td>\n",
       "      <td>7</td>\n",
       "      <td>40</td>\n",
       "      <td>2</td>\n",
       "      <td>5</td>\n",
       "    </tr>\n",
       "    <tr>\n",
       "      <th>1</th>\n",
       "      <td>ACCIDENT_00001</td>\n",
       "      <td>6</td>\n",
       "      <td>흐림</td>\n",
       "      <td>0</td>\n",
       "      <td>0</td>\n",
       "      <td>2019</td>\n",
       "      <td>1</td>\n",
       "      <td>1</td>\n",
       "      <td>0</td>\n",
       "      <td>대구광역시</td>\n",
       "      <td>1</td>\n",
       "      <td>4</td>\n",
       "      <td>2</td>\n",
       "      <td>5</td>\n",
       "    </tr>\n",
       "    <tr>\n",
       "      <th>2</th>\n",
       "      <td>ACCIDENT_00002</td>\n",
       "      <td>6</td>\n",
       "      <td>맑음</td>\n",
       "      <td>0</td>\n",
       "      <td>0</td>\n",
       "      <td>2019</td>\n",
       "      <td>1</td>\n",
       "      <td>1</td>\n",
       "      <td>1</td>\n",
       "      <td>대구광역시</td>\n",
       "      <td>6</td>\n",
       "      <td>66</td>\n",
       "      <td>2</td>\n",
       "      <td>5</td>\n",
       "    </tr>\n",
       "    <tr>\n",
       "      <th>3</th>\n",
       "      <td>ACCIDENT_00003</td>\n",
       "      <td>6</td>\n",
       "      <td>맑음</td>\n",
       "      <td>0</td>\n",
       "      <td>1</td>\n",
       "      <td>2019</td>\n",
       "      <td>1</td>\n",
       "      <td>1</td>\n",
       "      <td>2</td>\n",
       "      <td>대구광역시</td>\n",
       "      <td>4</td>\n",
       "      <td>79</td>\n",
       "      <td>2</td>\n",
       "      <td>5</td>\n",
       "    </tr>\n",
       "    <tr>\n",
       "      <th>4</th>\n",
       "      <td>ACCIDENT_00004</td>\n",
       "      <td>6</td>\n",
       "      <td>맑음</td>\n",
       "      <td>0</td>\n",
       "      <td>1</td>\n",
       "      <td>2019</td>\n",
       "      <td>1</td>\n",
       "      <td>1</td>\n",
       "      <td>4</td>\n",
       "      <td>대구광역시</td>\n",
       "      <td>3</td>\n",
       "      <td>129</td>\n",
       "      <td>2</td>\n",
       "      <td>5</td>\n",
       "    </tr>\n",
       "  </tbody>\n",
       "</table>\n",
       "</div>"
      ],
      "text/plain": [
       "               ID  요일 기상상태  노면상태  사고유형     연  월  일  시간     도시  구    동  도로형태1  \\\n",
       "0  ACCIDENT_00000   6   맑음     0     0  2019  1  1   0  대구광역시  7   40      2   \n",
       "1  ACCIDENT_00001   6   흐림     0     0  2019  1  1   0  대구광역시  1    4      2   \n",
       "2  ACCIDENT_00002   6   맑음     0     0  2019  1  1   1  대구광역시  6   66      2   \n",
       "3  ACCIDENT_00003   6   맑음     0     1  2019  1  1   2  대구광역시  4   79      2   \n",
       "4  ACCIDENT_00004   6   맑음     0     1  2019  1  1   4  대구광역시  3  129      2   \n",
       "\n",
       "   도로형태2  \n",
       "0      5  \n",
       "1      5  \n",
       "2      5  \n",
       "3      5  \n",
       "4      5  "
      ]
     },
     "metadata": {},
     "output_type": "display_data"
    },
    {
     "name": "stdout",
     "output_type": "stream",
     "text": [
      "인코딩 변환값 : {0, 1, 2, 3, 4, 5, 6}\n"
     ]
    }
   ],
   "source": [
    "data_label_enco = data_label_enco[['ID', '요일', '기상상태', '노면상태', '사고유형', '연', '월', '일', '시간', '도시', '구', '동', '도로형태1', '도로형태2']]\n",
    "display(data_label_enco.head())\n",
    "print('인코딩 변환값 :', set(data_label_enco['요일']))"
   ]
  },
  {
   "cell_type": "markdown",
   "metadata": {},
   "source": [
    "## Case 2 : 요일 컬럼 One-hot 인코딩 진행하기\n",
    "- LabelEncoding 진행 시, 숫자값의 크고 작음이 있기에 몇몇 ML에서의 예측 성능이 떨어질 수 있음\n",
    "- 그 이유로는 범주형 데이터를 수치형 데이터로만 변환을 하게 되면 **서로 간의 관계성**이 생기기 때문\n",
    "- 예를 들어, 월요일을 1, 화요일을 2, 수요이을 3이라고 단순하게 수치형 데이터로 변환하게 되면 **해당 데이터들 간 1+2 = 3 이라는 관계성**이 존재하게 되는 문제가 있다\n",
    "- **단, Tree 계열의 ML은 숫자의 이러한 특성을 반영하지 않으므로 괜찮다고 함**\n",
    "- 위의 문제점을 방지하고자 요일 컬럼을 **one-hot 인코딩 방식인 get_dummies 방식**을 진행함"
   ]
  },
  {
   "cell_type": "markdown",
   "metadata": {},
   "source": [
    "### **One-Hot 인코딩 결과**\n",
    "해당 요일에 맞게 0과 1로 구성된 더미값들을 만듬"
   ]
  },
  {
   "cell_type": "code",
   "execution_count": 66,
   "metadata": {
    "ExecuteTime": {
     "end_time": "2023-11-22T07:21:18.192439Z",
     "start_time": "2023-11-22T07:21:18.190258Z"
    }
   },
   "outputs": [],
   "source": [
    "# data_onehot_enco.info()"
   ]
  },
  {
   "cell_type": "code",
   "execution_count": 67,
   "metadata": {
    "ExecuteTime": {
     "end_time": "2023-11-22T07:21:18.226680Z",
     "start_time": "2023-11-22T07:21:18.193113Z"
    }
   },
   "outputs": [
    {
     "name": "stdout",
     "output_type": "stream",
     "text": [
      "<class 'pandas.core.frame.DataFrame'>\n",
      "Int64Index: 50572 entries, 0 to 10962\n",
      "Data columns (total 84 columns):\n",
      " #   Column           Non-Null Count  Dtype \n",
      "---  ------           --------------  ----- \n",
      " 0   ID               50572 non-null  object\n",
      " 1   기상상태             50572 non-null  object\n",
      " 2   일                50572 non-null  int64 \n",
      " 3   도시               50572 non-null  object\n",
      " 4   동                50572 non-null  object\n",
      " 5   사고유형_차대사람        50572 non-null  uint8 \n",
      " 6   사고유형_차대차         50572 non-null  uint8 \n",
      " 7   사고유형_차량단독        50572 non-null  uint8 \n",
      " 8   노면상태_건조          50572 non-null  uint8 \n",
      " 9   노면상태_기타          50572 non-null  uint8 \n",
      " 10  노면상태_서리/결빙       50572 non-null  uint8 \n",
      " 11  노면상태_적설          50572 non-null  uint8 \n",
      " 12  노면상태_젖음/습기       50572 non-null  uint8 \n",
      " 13  노면상태_침수          50572 non-null  uint8 \n",
      " 14  도로형태1_교차로        50572 non-null  uint8 \n",
      " 15  도로형태1_기타         50572 non-null  uint8 \n",
      " 16  도로형태1_단일로        50572 non-null  uint8 \n",
      " 17  도로형태1_미분류        50572 non-null  uint8 \n",
      " 18  도로형태1_주차장        50572 non-null  uint8 \n",
      " 19  도로형태2_고가도로위      50572 non-null  uint8 \n",
      " 20  도로형태2_교량         50572 non-null  uint8 \n",
      " 21  도로형태2_교차로부근      50572 non-null  uint8 \n",
      " 22  도로형태2_교차로안       50572 non-null  uint8 \n",
      " 23  도로형태2_교차로횡단보도내   50572 non-null  uint8 \n",
      " 24  도로형태2_기타         50572 non-null  uint8 \n",
      " 25  도로형태2_미분류        50572 non-null  uint8 \n",
      " 26  도로형태2_주차장        50572 non-null  uint8 \n",
      " 27  도로형태2_지하차도(도로)내  50572 non-null  uint8 \n",
      " 28  도로형태2_터널         50572 non-null  uint8 \n",
      " 29  구_남구             50572 non-null  uint8 \n",
      " 30  구_달서구            50572 non-null  uint8 \n",
      " 31  구_달성군            50572 non-null  uint8 \n",
      " 32  구_동구             50572 non-null  uint8 \n",
      " 33  구_북구             50572 non-null  uint8 \n",
      " 34  구_서구             50572 non-null  uint8 \n",
      " 35  구_수성구            50572 non-null  uint8 \n",
      " 36  구_중구             50572 non-null  uint8 \n",
      " 37  연_2019           50572 non-null  uint8 \n",
      " 38  연_2020           50572 non-null  uint8 \n",
      " 39  연_2021           50572 non-null  uint8 \n",
      " 40  연_2022           50572 non-null  uint8 \n",
      " 41  월_1              50572 non-null  uint8 \n",
      " 42  월_2              50572 non-null  uint8 \n",
      " 43  월_3              50572 non-null  uint8 \n",
      " 44  월_4              50572 non-null  uint8 \n",
      " 45  월_5              50572 non-null  uint8 \n",
      " 46  월_6              50572 non-null  uint8 \n",
      " 47  월_7              50572 non-null  uint8 \n",
      " 48  월_8              50572 non-null  uint8 \n",
      " 49  월_9              50572 non-null  uint8 \n",
      " 50  월_10             50572 non-null  uint8 \n",
      " 51  월_11             50572 non-null  uint8 \n",
      " 52  월_12             50572 non-null  uint8 \n",
      " 53  시간_0             50572 non-null  uint8 \n",
      " 54  시간_1             50572 non-null  uint8 \n",
      " 55  시간_2             50572 non-null  uint8 \n",
      " 56  시간_3             50572 non-null  uint8 \n",
      " 57  시간_4             50572 non-null  uint8 \n",
      " 58  시간_5             50572 non-null  uint8 \n",
      " 59  시간_6             50572 non-null  uint8 \n",
      " 60  시간_7             50572 non-null  uint8 \n",
      " 61  시간_8             50572 non-null  uint8 \n",
      " 62  시간_9             50572 non-null  uint8 \n",
      " 63  시간_10            50572 non-null  uint8 \n",
      " 64  시간_11            50572 non-null  uint8 \n",
      " 65  시간_12            50572 non-null  uint8 \n",
      " 66  시간_13            50572 non-null  uint8 \n",
      " 67  시간_14            50572 non-null  uint8 \n",
      " 68  시간_15            50572 non-null  uint8 \n",
      " 69  시간_16            50572 non-null  uint8 \n",
      " 70  시간_17            50572 non-null  uint8 \n",
      " 71  시간_18            50572 non-null  uint8 \n",
      " 72  시간_19            50572 non-null  uint8 \n",
      " 73  시간_20            50572 non-null  uint8 \n",
      " 74  시간_21            50572 non-null  uint8 \n",
      " 75  시간_22            50572 non-null  uint8 \n",
      " 76  시간_23            50572 non-null  uint8 \n",
      " 77  요일_금요일           50572 non-null  uint8 \n",
      " 78  요일_목요일           50572 non-null  uint8 \n",
      " 79  요일_수요일           50572 non-null  uint8 \n",
      " 80  요일_월요일           50572 non-null  uint8 \n",
      " 81  요일_일요일           50572 non-null  uint8 \n",
      " 82  요일_토요일           50572 non-null  uint8 \n",
      " 83  요일_화요일           50572 non-null  uint8 \n",
      "dtypes: int64(1), object(4), uint8(79)\n",
      "memory usage: 6.1+ MB\n"
     ]
    }
   ],
   "source": [
    "data_onehot_enco = pd.get_dummies(data_onehot_enco, columns=['요일'])\n",
    "data_onehot_enco.info()"
   ]
  },
  {
   "cell_type": "markdown",
   "metadata": {},
   "source": [
    "**인코딩한 label 값들을 기존 dataset과 병합**"
   ]
  },
  {
   "cell_type": "code",
   "execution_count": 68,
   "metadata": {
    "ExecuteTime": {
     "end_time": "2023-11-22T07:21:18.229025Z",
     "start_time": "2023-11-22T07:21:18.227527Z"
    }
   },
   "outputs": [],
   "source": [
    "# data_onehot_enco = data.drop(data.columns[1], axis=1).copy()"
   ]
  },
  {
   "cell_type": "code",
   "execution_count": 69,
   "metadata": {
    "ExecuteTime": {
     "end_time": "2023-11-22T07:21:18.231028Z",
     "start_time": "2023-11-22T07:21:18.229614Z"
    },
    "scrolled": true
   },
   "outputs": [],
   "source": [
    "# data_onehot_enco = pd.concat([data_onehot_enco, data_onehot], axis=1)\n",
    "# data_onehot_enco.info()"
   ]
  },
  {
   "cell_type": "markdown",
   "metadata": {},
   "source": [
    "**가독성 위해 컬럼 순서 원래 순서와 맞춰 정렬** "
   ]
  },
  {
   "cell_type": "code",
   "execution_count": 70,
   "metadata": {
    "ExecuteTime": {
     "end_time": "2023-11-22T07:21:18.233071Z",
     "start_time": "2023-11-22T07:21:18.231727Z"
    }
   },
   "outputs": [],
   "source": [
    "# data_onehot_enco = data_onehot_enco[['ID', '월요일', '화요일', '수요일', '목요일', '금요일', '토요일', '일요일', '기상상태', '노면상태',\n",
    "#                                           '사고유형', '연', '월', '일', '시간', '도시', '구', '동', '도로형태1', '도로형태2']]\n",
    "# data_onehot_enco.info()"
   ]
  },
  {
   "cell_type": "code",
   "execution_count": 71,
   "metadata": {
    "ExecuteTime": {
     "end_time": "2023-11-22T07:21:18.243212Z",
     "start_time": "2023-11-22T07:21:18.233578Z"
    }
   },
   "outputs": [],
   "source": [
    "# 요일 컬럼 순서 변경 (75번부터 80번 컬럼)\n",
    "desired_order = ['요일_월요일', '요일_화요일', '요일_수요일', '요일_목요일', '요일_금요일', '요일_토요일', '요일_일요일']\n",
    "data_onehot_enco = data_onehot_enco[ [col for col in data_onehot_enco.columns if col not in desired_order] + desired_order]\n"
   ]
  },
  {
   "cell_type": "code",
   "execution_count": 72,
   "metadata": {
    "ExecuteTime": {
     "end_time": "2023-11-22T07:21:18.260666Z",
     "start_time": "2023-11-22T07:21:18.243938Z"
    }
   },
   "outputs": [
    {
     "name": "stdout",
     "output_type": "stream",
     "text": [
      "<class 'pandas.core.frame.DataFrame'>\n",
      "Int64Index: 50572 entries, 0 to 10962\n",
      "Data columns (total 84 columns):\n",
      " #   Column           Non-Null Count  Dtype \n",
      "---  ------           --------------  ----- \n",
      " 0   ID               50572 non-null  object\n",
      " 1   기상상태             50572 non-null  object\n",
      " 2   일                50572 non-null  int64 \n",
      " 3   도시               50572 non-null  object\n",
      " 4   동                50572 non-null  object\n",
      " 5   사고유형_차대사람        50572 non-null  uint8 \n",
      " 6   사고유형_차대차         50572 non-null  uint8 \n",
      " 7   사고유형_차량단독        50572 non-null  uint8 \n",
      " 8   노면상태_건조          50572 non-null  uint8 \n",
      " 9   노면상태_기타          50572 non-null  uint8 \n",
      " 10  노면상태_서리/결빙       50572 non-null  uint8 \n",
      " 11  노면상태_적설          50572 non-null  uint8 \n",
      " 12  노면상태_젖음/습기       50572 non-null  uint8 \n",
      " 13  노면상태_침수          50572 non-null  uint8 \n",
      " 14  도로형태1_교차로        50572 non-null  uint8 \n",
      " 15  도로형태1_기타         50572 non-null  uint8 \n",
      " 16  도로형태1_단일로        50572 non-null  uint8 \n",
      " 17  도로형태1_미분류        50572 non-null  uint8 \n",
      " 18  도로형태1_주차장        50572 non-null  uint8 \n",
      " 19  도로형태2_고가도로위      50572 non-null  uint8 \n",
      " 20  도로형태2_교량         50572 non-null  uint8 \n",
      " 21  도로형태2_교차로부근      50572 non-null  uint8 \n",
      " 22  도로형태2_교차로안       50572 non-null  uint8 \n",
      " 23  도로형태2_교차로횡단보도내   50572 non-null  uint8 \n",
      " 24  도로형태2_기타         50572 non-null  uint8 \n",
      " 25  도로형태2_미분류        50572 non-null  uint8 \n",
      " 26  도로형태2_주차장        50572 non-null  uint8 \n",
      " 27  도로형태2_지하차도(도로)내  50572 non-null  uint8 \n",
      " 28  도로형태2_터널         50572 non-null  uint8 \n",
      " 29  구_남구             50572 non-null  uint8 \n",
      " 30  구_달서구            50572 non-null  uint8 \n",
      " 31  구_달성군            50572 non-null  uint8 \n",
      " 32  구_동구             50572 non-null  uint8 \n",
      " 33  구_북구             50572 non-null  uint8 \n",
      " 34  구_서구             50572 non-null  uint8 \n",
      " 35  구_수성구            50572 non-null  uint8 \n",
      " 36  구_중구             50572 non-null  uint8 \n",
      " 37  연_2019           50572 non-null  uint8 \n",
      " 38  연_2020           50572 non-null  uint8 \n",
      " 39  연_2021           50572 non-null  uint8 \n",
      " 40  연_2022           50572 non-null  uint8 \n",
      " 41  월_1              50572 non-null  uint8 \n",
      " 42  월_2              50572 non-null  uint8 \n",
      " 43  월_3              50572 non-null  uint8 \n",
      " 44  월_4              50572 non-null  uint8 \n",
      " 45  월_5              50572 non-null  uint8 \n",
      " 46  월_6              50572 non-null  uint8 \n",
      " 47  월_7              50572 non-null  uint8 \n",
      " 48  월_8              50572 non-null  uint8 \n",
      " 49  월_9              50572 non-null  uint8 \n",
      " 50  월_10             50572 non-null  uint8 \n",
      " 51  월_11             50572 non-null  uint8 \n",
      " 52  월_12             50572 non-null  uint8 \n",
      " 53  시간_0             50572 non-null  uint8 \n",
      " 54  시간_1             50572 non-null  uint8 \n",
      " 55  시간_2             50572 non-null  uint8 \n",
      " 56  시간_3             50572 non-null  uint8 \n",
      " 57  시간_4             50572 non-null  uint8 \n",
      " 58  시간_5             50572 non-null  uint8 \n",
      " 59  시간_6             50572 non-null  uint8 \n",
      " 60  시간_7             50572 non-null  uint8 \n",
      " 61  시간_8             50572 non-null  uint8 \n",
      " 62  시간_9             50572 non-null  uint8 \n",
      " 63  시간_10            50572 non-null  uint8 \n",
      " 64  시간_11            50572 non-null  uint8 \n",
      " 65  시간_12            50572 non-null  uint8 \n",
      " 66  시간_13            50572 non-null  uint8 \n",
      " 67  시간_14            50572 non-null  uint8 \n",
      " 68  시간_15            50572 non-null  uint8 \n",
      " 69  시간_16            50572 non-null  uint8 \n",
      " 70  시간_17            50572 non-null  uint8 \n",
      " 71  시간_18            50572 non-null  uint8 \n",
      " 72  시간_19            50572 non-null  uint8 \n",
      " 73  시간_20            50572 non-null  uint8 \n",
      " 74  시간_21            50572 non-null  uint8 \n",
      " 75  시간_22            50572 non-null  uint8 \n",
      " 76  시간_23            50572 non-null  uint8 \n",
      " 77  요일_월요일           50572 non-null  uint8 \n",
      " 78  요일_화요일           50572 non-null  uint8 \n",
      " 79  요일_수요일           50572 non-null  uint8 \n",
      " 80  요일_목요일           50572 non-null  uint8 \n",
      " 81  요일_금요일           50572 non-null  uint8 \n",
      " 82  요일_토요일           50572 non-null  uint8 \n",
      " 83  요일_일요일           50572 non-null  uint8 \n",
      "dtypes: int64(1), object(4), uint8(79)\n",
      "memory usage: 6.1+ MB\n"
     ]
    }
   ],
   "source": [
    "data_onehot_enco.info()"
   ]
  },
  {
   "cell_type": "markdown",
   "metadata": {},
   "source": [
    "## Case 3 : '기상상태' 컬럼 LabelEncoding 진행\n",
    "**기상상태 컬럼에 대해 LabelEncoding 및 One-Hot 인코딩 실시**"
   ]
  },
  {
   "cell_type": "code",
   "execution_count": 73,
   "metadata": {
    "ExecuteTime": {
     "end_time": "2023-11-22T07:21:18.276490Z",
     "start_time": "2023-11-22T07:21:18.261348Z"
    }
   },
   "outputs": [
    {
     "data": {
      "text/html": [
       "<div>\n",
       "<style scoped>\n",
       "    .dataframe tbody tr th:only-of-type {\n",
       "        vertical-align: middle;\n",
       "    }\n",
       "\n",
       "    .dataframe tbody tr th {\n",
       "        vertical-align: top;\n",
       "    }\n",
       "\n",
       "    .dataframe thead th {\n",
       "        text-align: right;\n",
       "    }\n",
       "</style>\n",
       "<table border=\"1\" class=\"dataframe\">\n",
       "  <thead>\n",
       "    <tr style=\"text-align: right;\">\n",
       "      <th></th>\n",
       "      <th>ID</th>\n",
       "      <th>요일</th>\n",
       "      <th>기상상태</th>\n",
       "      <th>노면상태</th>\n",
       "      <th>사고유형</th>\n",
       "      <th>연</th>\n",
       "      <th>월</th>\n",
       "      <th>일</th>\n",
       "      <th>시간</th>\n",
       "      <th>도시</th>\n",
       "      <th>구</th>\n",
       "      <th>동</th>\n",
       "      <th>도로형태1</th>\n",
       "      <th>도로형태2</th>\n",
       "    </tr>\n",
       "  </thead>\n",
       "  <tbody>\n",
       "    <tr>\n",
       "      <th>0</th>\n",
       "      <td>ACCIDENT_00000</td>\n",
       "      <td>6</td>\n",
       "      <td>2</td>\n",
       "      <td>0</td>\n",
       "      <td>0</td>\n",
       "      <td>2019</td>\n",
       "      <td>1</td>\n",
       "      <td>1</td>\n",
       "      <td>0</td>\n",
       "      <td>대구광역시</td>\n",
       "      <td>7</td>\n",
       "      <td>40</td>\n",
       "      <td>2</td>\n",
       "      <td>5</td>\n",
       "    </tr>\n",
       "    <tr>\n",
       "      <th>1</th>\n",
       "      <td>ACCIDENT_00001</td>\n",
       "      <td>6</td>\n",
       "      <td>5</td>\n",
       "      <td>0</td>\n",
       "      <td>0</td>\n",
       "      <td>2019</td>\n",
       "      <td>1</td>\n",
       "      <td>1</td>\n",
       "      <td>0</td>\n",
       "      <td>대구광역시</td>\n",
       "      <td>1</td>\n",
       "      <td>4</td>\n",
       "      <td>2</td>\n",
       "      <td>5</td>\n",
       "    </tr>\n",
       "    <tr>\n",
       "      <th>2</th>\n",
       "      <td>ACCIDENT_00002</td>\n",
       "      <td>6</td>\n",
       "      <td>2</td>\n",
       "      <td>0</td>\n",
       "      <td>0</td>\n",
       "      <td>2019</td>\n",
       "      <td>1</td>\n",
       "      <td>1</td>\n",
       "      <td>1</td>\n",
       "      <td>대구광역시</td>\n",
       "      <td>6</td>\n",
       "      <td>66</td>\n",
       "      <td>2</td>\n",
       "      <td>5</td>\n",
       "    </tr>\n",
       "    <tr>\n",
       "      <th>3</th>\n",
       "      <td>ACCIDENT_00003</td>\n",
       "      <td>6</td>\n",
       "      <td>2</td>\n",
       "      <td>0</td>\n",
       "      <td>1</td>\n",
       "      <td>2019</td>\n",
       "      <td>1</td>\n",
       "      <td>1</td>\n",
       "      <td>2</td>\n",
       "      <td>대구광역시</td>\n",
       "      <td>4</td>\n",
       "      <td>79</td>\n",
       "      <td>2</td>\n",
       "      <td>5</td>\n",
       "    </tr>\n",
       "    <tr>\n",
       "      <th>4</th>\n",
       "      <td>ACCIDENT_00004</td>\n",
       "      <td>6</td>\n",
       "      <td>2</td>\n",
       "      <td>0</td>\n",
       "      <td>1</td>\n",
       "      <td>2019</td>\n",
       "      <td>1</td>\n",
       "      <td>1</td>\n",
       "      <td>4</td>\n",
       "      <td>대구광역시</td>\n",
       "      <td>3</td>\n",
       "      <td>129</td>\n",
       "      <td>2</td>\n",
       "      <td>5</td>\n",
       "    </tr>\n",
       "    <tr>\n",
       "      <th>...</th>\n",
       "      <td>...</td>\n",
       "      <td>...</td>\n",
       "      <td>...</td>\n",
       "      <td>...</td>\n",
       "      <td>...</td>\n",
       "      <td>...</td>\n",
       "      <td>...</td>\n",
       "      <td>...</td>\n",
       "      <td>...</td>\n",
       "      <td>...</td>\n",
       "      <td>...</td>\n",
       "      <td>...</td>\n",
       "      <td>...</td>\n",
       "      <td>...</td>\n",
       "    </tr>\n",
       "    <tr>\n",
       "      <th>10958</th>\n",
       "      <td>ACCIDENT_50567</td>\n",
       "      <td>5</td>\n",
       "      <td>2</td>\n",
       "      <td>0</td>\n",
       "      <td>1</td>\n",
       "      <td>2022</td>\n",
       "      <td>12</td>\n",
       "      <td>31</td>\n",
       "      <td>18</td>\n",
       "      <td>대구광역시</td>\n",
       "      <td>0</td>\n",
       "      <td>38</td>\n",
       "      <td>2</td>\n",
       "      <td>9</td>\n",
       "    </tr>\n",
       "    <tr>\n",
       "      <th>10959</th>\n",
       "      <td>ACCIDENT_50568</td>\n",
       "      <td>5</td>\n",
       "      <td>2</td>\n",
       "      <td>0</td>\n",
       "      <td>1</td>\n",
       "      <td>2022</td>\n",
       "      <td>12</td>\n",
       "      <td>31</td>\n",
       "      <td>18</td>\n",
       "      <td>대구광역시</td>\n",
       "      <td>6</td>\n",
       "      <td>123</td>\n",
       "      <td>2</td>\n",
       "      <td>5</td>\n",
       "    </tr>\n",
       "    <tr>\n",
       "      <th>10960</th>\n",
       "      <td>ACCIDENT_50569</td>\n",
       "      <td>5</td>\n",
       "      <td>2</td>\n",
       "      <td>0</td>\n",
       "      <td>1</td>\n",
       "      <td>2022</td>\n",
       "      <td>12</td>\n",
       "      <td>31</td>\n",
       "      <td>20</td>\n",
       "      <td>대구광역시</td>\n",
       "      <td>6</td>\n",
       "      <td>134</td>\n",
       "      <td>2</td>\n",
       "      <td>5</td>\n",
       "    </tr>\n",
       "    <tr>\n",
       "      <th>10961</th>\n",
       "      <td>ACCIDENT_50570</td>\n",
       "      <td>5</td>\n",
       "      <td>2</td>\n",
       "      <td>0</td>\n",
       "      <td>1</td>\n",
       "      <td>2022</td>\n",
       "      <td>12</td>\n",
       "      <td>31</td>\n",
       "      <td>20</td>\n",
       "      <td>대구광역시</td>\n",
       "      <td>6</td>\n",
       "      <td>77</td>\n",
       "      <td>0</td>\n",
       "      <td>2</td>\n",
       "    </tr>\n",
       "    <tr>\n",
       "      <th>10962</th>\n",
       "      <td>ACCIDENT_50571</td>\n",
       "      <td>5</td>\n",
       "      <td>2</td>\n",
       "      <td>0</td>\n",
       "      <td>1</td>\n",
       "      <td>2022</td>\n",
       "      <td>12</td>\n",
       "      <td>31</td>\n",
       "      <td>21</td>\n",
       "      <td>대구광역시</td>\n",
       "      <td>3</td>\n",
       "      <td>195</td>\n",
       "      <td>0</td>\n",
       "      <td>2</td>\n",
       "    </tr>\n",
       "  </tbody>\n",
       "</table>\n",
       "<p>50572 rows × 14 columns</p>\n",
       "</div>"
      ],
      "text/plain": [
       "                   ID  요일  기상상태  노면상태  사고유형     연   월   일  시간     도시  구    동  \\\n",
       "0      ACCIDENT_00000   6     2     0     0  2019   1   1   0  대구광역시  7   40   \n",
       "1      ACCIDENT_00001   6     5     0     0  2019   1   1   0  대구광역시  1    4   \n",
       "2      ACCIDENT_00002   6     2     0     0  2019   1   1   1  대구광역시  6   66   \n",
       "3      ACCIDENT_00003   6     2     0     1  2019   1   1   2  대구광역시  4   79   \n",
       "4      ACCIDENT_00004   6     2     0     1  2019   1   1   4  대구광역시  3  129   \n",
       "...               ...  ..   ...   ...   ...   ...  ..  ..  ..    ... ..  ...   \n",
       "10958  ACCIDENT_50567   5     2     0     1  2022  12  31  18  대구광역시  0   38   \n",
       "10959  ACCIDENT_50568   5     2     0     1  2022  12  31  18  대구광역시  6  123   \n",
       "10960  ACCIDENT_50569   5     2     0     1  2022  12  31  20  대구광역시  6  134   \n",
       "10961  ACCIDENT_50570   5     2     0     1  2022  12  31  20  대구광역시  6   77   \n",
       "10962  ACCIDENT_50571   5     2     0     1  2022  12  31  21  대구광역시  3  195   \n",
       "\n",
       "       도로형태1  도로형태2  \n",
       "0          2      5  \n",
       "1          2      5  \n",
       "2          2      5  \n",
       "3          2      5  \n",
       "4          2      5  \n",
       "...      ...    ...  \n",
       "10958      2      9  \n",
       "10959      2      5  \n",
       "10960      2      5  \n",
       "10961      0      2  \n",
       "10962      0      2  \n",
       "\n",
       "[50572 rows x 14 columns]"
      ]
     },
     "metadata": {},
     "output_type": "display_data"
    },
    {
     "name": "stdout",
     "output_type": "stream",
     "text": [
      "인코딩 변환값 :  {0, 1, 2, 3, 4, 5}\n"
     ]
    }
   ],
   "source": [
    "encoder_weather = LabelEncoder()\n",
    "encoder_weather.fit(data['기상상태'])\n",
    "data_label_enco['기상상태'] = encoder_weather.transform(data['기상상태'])\n",
    "\n",
    "display(data_label_enco)\n",
    "print('인코딩 변환값 : ', set(data_label_enco['기상상태']))"
   ]
  },
  {
   "cell_type": "code",
   "execution_count": 74,
   "metadata": {
    "ExecuteTime": {
     "end_time": "2023-11-22T07:21:18.285100Z",
     "start_time": "2023-11-22T07:21:18.277360Z"
    }
   },
   "outputs": [
    {
     "name": "stdout",
     "output_type": "stream",
     "text": [
      "<class 'pandas.core.frame.DataFrame'>\n",
      "Int64Index: 50572 entries, 0 to 10962\n",
      "Data columns (total 14 columns):\n",
      " #   Column  Non-Null Count  Dtype \n",
      "---  ------  --------------  ----- \n",
      " 0   ID      50572 non-null  object\n",
      " 1   요일      50572 non-null  int64 \n",
      " 2   기상상태    50572 non-null  int64 \n",
      " 3   노면상태    50572 non-null  int64 \n",
      " 4   사고유형    50572 non-null  int64 \n",
      " 5   연       50572 non-null  int64 \n",
      " 6   월       50572 non-null  int64 \n",
      " 7   일       50572 non-null  int64 \n",
      " 8   시간      50572 non-null  int64 \n",
      " 9   도시      50572 non-null  object\n",
      " 10  구       50572 non-null  int64 \n",
      " 11  동       50572 non-null  int64 \n",
      " 12  도로형태1   50572 non-null  int64 \n",
      " 13  도로형태2   50572 non-null  int64 \n",
      "dtypes: int64(12), object(2)\n",
      "memory usage: 5.8+ MB\n"
     ]
    }
   ],
   "source": [
    "data_label_enco.info()"
   ]
  },
  {
   "cell_type": "markdown",
   "metadata": {},
   "source": [
    "인코딩 결과 : 0 - 기타 / 1 - 눈 / 2 - 맑음 / 3 - 비 / 4 - 안개 / 5 - 흐림"
   ]
  },
  {
   "cell_type": "markdown",
   "metadata": {},
   "source": [
    "## Case 4 : '기상상태' 컬럼 OneHot 인코딩 진행"
   ]
  },
  {
   "cell_type": "markdown",
   "metadata": {},
   "source": [
    "**get_dummies 함수 이용해 원핫 인코딩 진행**"
   ]
  },
  {
   "cell_type": "code",
   "execution_count": 75,
   "metadata": {
    "ExecuteTime": {
     "end_time": "2023-11-22T07:21:18.298758Z",
     "start_time": "2023-11-22T07:21:18.285893Z"
    }
   },
   "outputs": [],
   "source": [
    "data_onehot_enco = pd.get_dummies(data_onehot_enco, columns=['기상상태'])"
   ]
  },
  {
   "cell_type": "code",
   "execution_count": 76,
   "metadata": {
    "ExecuteTime": {
     "end_time": "2023-11-22T07:21:18.315881Z",
     "start_time": "2023-11-22T07:21:18.299583Z"
    }
   },
   "outputs": [
    {
     "name": "stdout",
     "output_type": "stream",
     "text": [
      "<class 'pandas.core.frame.DataFrame'>\n",
      "Int64Index: 50572 entries, 0 to 10962\n",
      "Data columns (total 89 columns):\n",
      " #   Column           Non-Null Count  Dtype \n",
      "---  ------           --------------  ----- \n",
      " 0   ID               50572 non-null  object\n",
      " 1   일                50572 non-null  int64 \n",
      " 2   도시               50572 non-null  object\n",
      " 3   동                50572 non-null  object\n",
      " 4   사고유형_차대사람        50572 non-null  uint8 \n",
      " 5   사고유형_차대차         50572 non-null  uint8 \n",
      " 6   사고유형_차량단독        50572 non-null  uint8 \n",
      " 7   노면상태_건조          50572 non-null  uint8 \n",
      " 8   노면상태_기타          50572 non-null  uint8 \n",
      " 9   노면상태_서리/결빙       50572 non-null  uint8 \n",
      " 10  노면상태_적설          50572 non-null  uint8 \n",
      " 11  노면상태_젖음/습기       50572 non-null  uint8 \n",
      " 12  노면상태_침수          50572 non-null  uint8 \n",
      " 13  도로형태1_교차로        50572 non-null  uint8 \n",
      " 14  도로형태1_기타         50572 non-null  uint8 \n",
      " 15  도로형태1_단일로        50572 non-null  uint8 \n",
      " 16  도로형태1_미분류        50572 non-null  uint8 \n",
      " 17  도로형태1_주차장        50572 non-null  uint8 \n",
      " 18  도로형태2_고가도로위      50572 non-null  uint8 \n",
      " 19  도로형태2_교량         50572 non-null  uint8 \n",
      " 20  도로형태2_교차로부근      50572 non-null  uint8 \n",
      " 21  도로형태2_교차로안       50572 non-null  uint8 \n",
      " 22  도로형태2_교차로횡단보도내   50572 non-null  uint8 \n",
      " 23  도로형태2_기타         50572 non-null  uint8 \n",
      " 24  도로형태2_미분류        50572 non-null  uint8 \n",
      " 25  도로형태2_주차장        50572 non-null  uint8 \n",
      " 26  도로형태2_지하차도(도로)내  50572 non-null  uint8 \n",
      " 27  도로형태2_터널         50572 non-null  uint8 \n",
      " 28  구_남구             50572 non-null  uint8 \n",
      " 29  구_달서구            50572 non-null  uint8 \n",
      " 30  구_달성군            50572 non-null  uint8 \n",
      " 31  구_동구             50572 non-null  uint8 \n",
      " 32  구_북구             50572 non-null  uint8 \n",
      " 33  구_서구             50572 non-null  uint8 \n",
      " 34  구_수성구            50572 non-null  uint8 \n",
      " 35  구_중구             50572 non-null  uint8 \n",
      " 36  연_2019           50572 non-null  uint8 \n",
      " 37  연_2020           50572 non-null  uint8 \n",
      " 38  연_2021           50572 non-null  uint8 \n",
      " 39  연_2022           50572 non-null  uint8 \n",
      " 40  월_1              50572 non-null  uint8 \n",
      " 41  월_2              50572 non-null  uint8 \n",
      " 42  월_3              50572 non-null  uint8 \n",
      " 43  월_4              50572 non-null  uint8 \n",
      " 44  월_5              50572 non-null  uint8 \n",
      " 45  월_6              50572 non-null  uint8 \n",
      " 46  월_7              50572 non-null  uint8 \n",
      " 47  월_8              50572 non-null  uint8 \n",
      " 48  월_9              50572 non-null  uint8 \n",
      " 49  월_10             50572 non-null  uint8 \n",
      " 50  월_11             50572 non-null  uint8 \n",
      " 51  월_12             50572 non-null  uint8 \n",
      " 52  시간_0             50572 non-null  uint8 \n",
      " 53  시간_1             50572 non-null  uint8 \n",
      " 54  시간_2             50572 non-null  uint8 \n",
      " 55  시간_3             50572 non-null  uint8 \n",
      " 56  시간_4             50572 non-null  uint8 \n",
      " 57  시간_5             50572 non-null  uint8 \n",
      " 58  시간_6             50572 non-null  uint8 \n",
      " 59  시간_7             50572 non-null  uint8 \n",
      " 60  시간_8             50572 non-null  uint8 \n",
      " 61  시간_9             50572 non-null  uint8 \n",
      " 62  시간_10            50572 non-null  uint8 \n",
      " 63  시간_11            50572 non-null  uint8 \n",
      " 64  시간_12            50572 non-null  uint8 \n",
      " 65  시간_13            50572 non-null  uint8 \n",
      " 66  시간_14            50572 non-null  uint8 \n",
      " 67  시간_15            50572 non-null  uint8 \n",
      " 68  시간_16            50572 non-null  uint8 \n",
      " 69  시간_17            50572 non-null  uint8 \n",
      " 70  시간_18            50572 non-null  uint8 \n",
      " 71  시간_19            50572 non-null  uint8 \n",
      " 72  시간_20            50572 non-null  uint8 \n",
      " 73  시간_21            50572 non-null  uint8 \n",
      " 74  시간_22            50572 non-null  uint8 \n",
      " 75  시간_23            50572 non-null  uint8 \n",
      " 76  요일_월요일           50572 non-null  uint8 \n",
      " 77  요일_화요일           50572 non-null  uint8 \n",
      " 78  요일_수요일           50572 non-null  uint8 \n",
      " 79  요일_목요일           50572 non-null  uint8 \n",
      " 80  요일_금요일           50572 non-null  uint8 \n",
      " 81  요일_토요일           50572 non-null  uint8 \n",
      " 82  요일_일요일           50572 non-null  uint8 \n",
      " 83  기상상태_기타          50572 non-null  uint8 \n",
      " 84  기상상태_눈           50572 non-null  uint8 \n",
      " 85  기상상태_맑음          50572 non-null  uint8 \n",
      " 86  기상상태_비           50572 non-null  uint8 \n",
      " 87  기상상태_안개          50572 non-null  uint8 \n",
      " 88  기상상태_흐림          50572 non-null  uint8 \n",
      "dtypes: int64(1), object(3), uint8(85)\n",
      "memory usage: 6.0+ MB\n"
     ]
    }
   ],
   "source": [
    "data_onehot_enco.info()"
   ]
  },
  {
   "cell_type": "code",
   "execution_count": 77,
   "metadata": {
    "ExecuteTime": {
     "end_time": "2023-11-22T07:21:18.317948Z",
     "start_time": "2023-11-22T07:21:18.316601Z"
    }
   },
   "outputs": [],
   "source": [
    "# data_onehot_weather = pd.get_dummies(data['기상상태'], dtype=float)\n",
    "# data_onehot_weather"
   ]
  },
  {
   "cell_type": "code",
   "execution_count": 78,
   "metadata": {
    "ExecuteTime": {
     "end_time": "2023-11-22T07:21:18.320694Z",
     "start_time": "2023-11-22T07:21:18.318637Z"
    }
   },
   "outputs": [],
   "source": [
    "# data_onehot_enco = data_onehot_enco.drop(data_onehot_enco.columns[8], axis=1)"
   ]
  },
  {
   "cell_type": "code",
   "execution_count": 79,
   "metadata": {
    "ExecuteTime": {
     "end_time": "2023-11-22T07:21:18.322998Z",
     "start_time": "2023-11-22T07:21:18.321672Z"
    }
   },
   "outputs": [],
   "source": [
    "# data_onehot_enco = pd.concat([data_onehot_enco, data_onehot_weather], axis=1)\n",
    "# data_onehot_enco"
   ]
  },
  {
   "cell_type": "code",
   "execution_count": 80,
   "metadata": {
    "ExecuteTime": {
     "end_time": "2023-11-22T07:21:18.325006Z",
     "start_time": "2023-11-22T07:21:18.323752Z"
    },
    "scrolled": true
   },
   "outputs": [],
   "source": [
    "# data_onehot_enco = data_onehot_enco[['ID', '월요일', '화요일', '수요일', '목요일', '금요일', '토요일', '일요일', '기타', '눈', '맑음', '비', '안개', '흐림', '노면상태',\n",
    "#                                           '사고유형', '연', '월', '일', '시간', '도시', '구', '동', '도로형태1', '도로형태2']]\n",
    "# data_onehot_enco"
   ]
  },
  {
   "cell_type": "markdown",
   "metadata": {},
   "source": [
    "**인코딩된 컬럼들이 제대로 들어갔는지 확인**"
   ]
  },
  {
   "cell_type": "code",
   "execution_count": 81,
   "metadata": {
    "ExecuteTime": {
     "end_time": "2023-11-22T07:21:18.328831Z",
     "start_time": "2023-11-22T07:21:18.325889Z"
    }
   },
   "outputs": [
    {
     "data": {
      "text/plain": [
       "Index(['ID', '일', '도시', '동', '사고유형_차대사람', '사고유형_차대차', '사고유형_차량단독', '노면상태_건조',\n",
       "       '노면상태_기타', '노면상태_서리/결빙', '노면상태_적설', '노면상태_젖음/습기', '노면상태_침수',\n",
       "       '도로형태1_교차로', '도로형태1_기타', '도로형태1_단일로', '도로형태1_미분류', '도로형태1_주차장',\n",
       "       '도로형태2_고가도로위', '도로형태2_교량', '도로형태2_교차로부근', '도로형태2_교차로안',\n",
       "       '도로형태2_교차로횡단보도내', '도로형태2_기타', '도로형태2_미분류', '도로형태2_주차장',\n",
       "       '도로형태2_지하차도(도로)내', '도로형태2_터널', '구_남구', '구_달서구', '구_달성군', '구_동구', '구_북구',\n",
       "       '구_서구', '구_수성구', '구_중구', '연_2019', '연_2020', '연_2021', '연_2022', '월_1',\n",
       "       '월_2', '월_3', '월_4', '월_5', '월_6', '월_7', '월_8', '월_9', '월_10', '월_11',\n",
       "       '월_12', '시간_0', '시간_1', '시간_2', '시간_3', '시간_4', '시간_5', '시간_6', '시간_7',\n",
       "       '시간_8', '시간_9', '시간_10', '시간_11', '시간_12', '시간_13', '시간_14', '시간_15',\n",
       "       '시간_16', '시간_17', '시간_18', '시간_19', '시간_20', '시간_21', '시간_22', '시간_23',\n",
       "       '요일_월요일', '요일_화요일', '요일_수요일', '요일_목요일', '요일_금요일', '요일_토요일', '요일_일요일',\n",
       "       '기상상태_기타', '기상상태_눈', '기상상태_맑음', '기상상태_비', '기상상태_안개', '기상상태_흐림'],\n",
       "      dtype='object')"
      ]
     },
     "execution_count": 81,
     "metadata": {},
     "output_type": "execute_result"
    }
   ],
   "source": [
    "data_onehot_enco.columns"
   ]
  },
  {
   "cell_type": "markdown",
   "metadata": {},
   "source": [
    "## 원핫 인코딩 label에 대한 다중공선성 확인"
   ]
  },
  {
   "cell_type": "code",
   "execution_count": 82,
   "metadata": {
    "ExecuteTime": {
     "end_time": "2023-11-22T07:21:18.344425Z",
     "start_time": "2023-11-22T07:21:18.336789Z"
    }
   },
   "outputs": [],
   "source": [
    "data_onehot = data_onehot_enco.drop(data_onehot_enco.columns[0], axis=1)"
   ]
  },
  {
   "cell_type": "code",
   "execution_count": 83,
   "metadata": {
    "ExecuteTime": {
     "end_time": "2023-11-22T07:21:18.353603Z",
     "start_time": "2023-11-22T07:21:18.345248Z"
    },
    "scrolled": true
   },
   "outputs": [
    {
     "data": {
      "text/html": [
       "<div>\n",
       "<style scoped>\n",
       "    .dataframe tbody tr th:only-of-type {\n",
       "        vertical-align: middle;\n",
       "    }\n",
       "\n",
       "    .dataframe tbody tr th {\n",
       "        vertical-align: top;\n",
       "    }\n",
       "\n",
       "    .dataframe thead th {\n",
       "        text-align: right;\n",
       "    }\n",
       "</style>\n",
       "<table border=\"1\" class=\"dataframe\">\n",
       "  <thead>\n",
       "    <tr style=\"text-align: right;\">\n",
       "      <th></th>\n",
       "      <th>일</th>\n",
       "      <th>도시</th>\n",
       "      <th>동</th>\n",
       "      <th>사고유형_차대사람</th>\n",
       "      <th>사고유형_차대차</th>\n",
       "      <th>사고유형_차량단독</th>\n",
       "      <th>노면상태_건조</th>\n",
       "      <th>노면상태_기타</th>\n",
       "      <th>노면상태_서리/결빙</th>\n",
       "      <th>노면상태_적설</th>\n",
       "      <th>노면상태_젖음/습기</th>\n",
       "      <th>노면상태_침수</th>\n",
       "      <th>도로형태1_교차로</th>\n",
       "    </tr>\n",
       "  </thead>\n",
       "  <tbody>\n",
       "    <tr>\n",
       "      <th>0</th>\n",
       "      <td>1</td>\n",
       "      <td>대구광역시</td>\n",
       "      <td>대신동</td>\n",
       "      <td>1</td>\n",
       "      <td>0</td>\n",
       "      <td>0</td>\n",
       "      <td>1</td>\n",
       "      <td>0</td>\n",
       "      <td>0</td>\n",
       "      <td>0</td>\n",
       "      <td>0</td>\n",
       "      <td>0</td>\n",
       "      <td>0</td>\n",
       "    </tr>\n",
       "    <tr>\n",
       "      <th>1</th>\n",
       "      <td>1</td>\n",
       "      <td>대구광역시</td>\n",
       "      <td>감삼동</td>\n",
       "      <td>1</td>\n",
       "      <td>0</td>\n",
       "      <td>0</td>\n",
       "      <td>1</td>\n",
       "      <td>0</td>\n",
       "      <td>0</td>\n",
       "      <td>0</td>\n",
       "      <td>0</td>\n",
       "      <td>0</td>\n",
       "      <td>0</td>\n",
       "    </tr>\n",
       "    <tr>\n",
       "      <th>2</th>\n",
       "      <td>1</td>\n",
       "      <td>대구광역시</td>\n",
       "      <td>두산동</td>\n",
       "      <td>1</td>\n",
       "      <td>0</td>\n",
       "      <td>0</td>\n",
       "      <td>1</td>\n",
       "      <td>0</td>\n",
       "      <td>0</td>\n",
       "      <td>0</td>\n",
       "      <td>0</td>\n",
       "      <td>0</td>\n",
       "      <td>0</td>\n",
       "    </tr>\n",
       "    <tr>\n",
       "      <th>3</th>\n",
       "      <td>1</td>\n",
       "      <td>대구광역시</td>\n",
       "      <td>복현동</td>\n",
       "      <td>0</td>\n",
       "      <td>1</td>\n",
       "      <td>0</td>\n",
       "      <td>1</td>\n",
       "      <td>0</td>\n",
       "      <td>0</td>\n",
       "      <td>0</td>\n",
       "      <td>0</td>\n",
       "      <td>0</td>\n",
       "      <td>0</td>\n",
       "    </tr>\n",
       "    <tr>\n",
       "      <th>4</th>\n",
       "      <td>1</td>\n",
       "      <td>대구광역시</td>\n",
       "      <td>신암동</td>\n",
       "      <td>0</td>\n",
       "      <td>1</td>\n",
       "      <td>0</td>\n",
       "      <td>1</td>\n",
       "      <td>0</td>\n",
       "      <td>0</td>\n",
       "      <td>0</td>\n",
       "      <td>0</td>\n",
       "      <td>0</td>\n",
       "      <td>0</td>\n",
       "    </tr>\n",
       "    <tr>\n",
       "      <th>...</th>\n",
       "      <td>...</td>\n",
       "      <td>...</td>\n",
       "      <td>...</td>\n",
       "      <td>...</td>\n",
       "      <td>...</td>\n",
       "      <td>...</td>\n",
       "      <td>...</td>\n",
       "      <td>...</td>\n",
       "      <td>...</td>\n",
       "      <td>...</td>\n",
       "      <td>...</td>\n",
       "      <td>...</td>\n",
       "      <td>...</td>\n",
       "    </tr>\n",
       "    <tr>\n",
       "      <th>10958</th>\n",
       "      <td>31</td>\n",
       "      <td>대구광역시</td>\n",
       "      <td>대명동</td>\n",
       "      <td>0</td>\n",
       "      <td>1</td>\n",
       "      <td>0</td>\n",
       "      <td>1</td>\n",
       "      <td>0</td>\n",
       "      <td>0</td>\n",
       "      <td>0</td>\n",
       "      <td>0</td>\n",
       "      <td>0</td>\n",
       "      <td>0</td>\n",
       "    </tr>\n",
       "    <tr>\n",
       "      <th>10959</th>\n",
       "      <td>31</td>\n",
       "      <td>대구광역시</td>\n",
       "      <td>시지동</td>\n",
       "      <td>0</td>\n",
       "      <td>1</td>\n",
       "      <td>0</td>\n",
       "      <td>1</td>\n",
       "      <td>0</td>\n",
       "      <td>0</td>\n",
       "      <td>0</td>\n",
       "      <td>0</td>\n",
       "      <td>0</td>\n",
       "      <td>0</td>\n",
       "    </tr>\n",
       "    <tr>\n",
       "      <th>10960</th>\n",
       "      <td>31</td>\n",
       "      <td>대구광역시</td>\n",
       "      <td>연호동</td>\n",
       "      <td>0</td>\n",
       "      <td>1</td>\n",
       "      <td>0</td>\n",
       "      <td>1</td>\n",
       "      <td>0</td>\n",
       "      <td>0</td>\n",
       "      <td>0</td>\n",
       "      <td>0</td>\n",
       "      <td>0</td>\n",
       "      <td>0</td>\n",
       "    </tr>\n",
       "    <tr>\n",
       "      <th>10961</th>\n",
       "      <td>31</td>\n",
       "      <td>대구광역시</td>\n",
       "      <td>범물동</td>\n",
       "      <td>0</td>\n",
       "      <td>1</td>\n",
       "      <td>0</td>\n",
       "      <td>1</td>\n",
       "      <td>0</td>\n",
       "      <td>0</td>\n",
       "      <td>0</td>\n",
       "      <td>0</td>\n",
       "      <td>0</td>\n",
       "      <td>1</td>\n",
       "    </tr>\n",
       "    <tr>\n",
       "      <th>10962</th>\n",
       "      <td>31</td>\n",
       "      <td>대구광역시</td>\n",
       "      <td>효목동</td>\n",
       "      <td>0</td>\n",
       "      <td>1</td>\n",
       "      <td>0</td>\n",
       "      <td>1</td>\n",
       "      <td>0</td>\n",
       "      <td>0</td>\n",
       "      <td>0</td>\n",
       "      <td>0</td>\n",
       "      <td>0</td>\n",
       "      <td>1</td>\n",
       "    </tr>\n",
       "  </tbody>\n",
       "</table>\n",
       "<p>50572 rows × 13 columns</p>\n",
       "</div>"
      ],
      "text/plain": [
       "        일     도시    동  사고유형_차대사람  사고유형_차대차  사고유형_차량단독  노면상태_건조  노면상태_기타  \\\n",
       "0       1  대구광역시  대신동          1         0          0        1        0   \n",
       "1       1  대구광역시  감삼동          1         0          0        1        0   \n",
       "2       1  대구광역시  두산동          1         0          0        1        0   \n",
       "3       1  대구광역시  복현동          0         1          0        1        0   \n",
       "4       1  대구광역시  신암동          0         1          0        1        0   \n",
       "...    ..    ...  ...        ...       ...        ...      ...      ...   \n",
       "10958  31  대구광역시  대명동          0         1          0        1        0   \n",
       "10959  31  대구광역시  시지동          0         1          0        1        0   \n",
       "10960  31  대구광역시  연호동          0         1          0        1        0   \n",
       "10961  31  대구광역시  범물동          0         1          0        1        0   \n",
       "10962  31  대구광역시  효목동          0         1          0        1        0   \n",
       "\n",
       "       노면상태_서리/결빙  노면상태_적설  노면상태_젖음/습기  노면상태_침수  도로형태1_교차로  \n",
       "0               0        0           0        0          0  \n",
       "1               0        0           0        0          0  \n",
       "2               0        0           0        0          0  \n",
       "3               0        0           0        0          0  \n",
       "4               0        0           0        0          0  \n",
       "...           ...      ...         ...      ...        ...  \n",
       "10958           0        0           0        0          0  \n",
       "10959           0        0           0        0          0  \n",
       "10960           0        0           0        0          0  \n",
       "10961           0        0           0        0          1  \n",
       "10962           0        0           0        0          1  \n",
       "\n",
       "[50572 rows x 13 columns]"
      ]
     },
     "execution_count": 83,
     "metadata": {},
     "output_type": "execute_result"
    }
   ],
   "source": [
    "column_range = list(range(13))\n",
    "data_corr = data_onehot.iloc[:, column_range]\n",
    "data_corr"
   ]
  },
  {
   "cell_type": "markdown",
   "metadata": {},
   "source": [
    "**인코딩된 feature들 간의 상관계수 확인**"
   ]
  },
  {
   "cell_type": "code",
   "execution_count": 84,
   "metadata": {
    "ExecuteTime": {
     "end_time": "2023-11-22T07:21:18.355753Z",
     "start_time": "2023-11-22T07:21:18.354379Z"
    }
   },
   "outputs": [],
   "source": [
    "# data_corr.corr()"
   ]
  },
  {
   "cell_type": "code",
   "execution_count": 85,
   "metadata": {
    "ExecuteTime": {
     "end_time": "2023-11-22T07:21:18.357489Z",
     "start_time": "2023-11-22T07:21:18.356377Z"
    }
   },
   "outputs": [],
   "source": [
    "# import seaborn as sns\n",
    "# sns.heatmap(data_corr.corr(), annot = True)"
   ]
  },
  {
   "cell_type": "markdown",
   "metadata": {},
   "source": [
    "- feature간 상관계수를 통해 다중공선성 확인 결과, 뚜렷하게 나타나는 변수 간 강한 양의 상관관계는 없는 것으로 보아\n",
    "- 다중공선성에 대한 문제는 없는 것으로 보임\n",
    "- VIF(Variance Inflation Factors)를 통해 확인해보는 방법도 존재\n",
    "- https://aliencoder.tistory.com/17 - VIF 설명"
   ]
  },
  {
   "cell_type": "markdown",
   "metadata": {},
   "source": [
    "## **DataFrame 정리**\n",
    "1. **data_label_enco** : LabelEncoding 데이터프레임\n",
    "2. **data_onehot_enco** : One-Hot Encoding 데이터프레임\n"
   ]
  },
  {
   "cell_type": "markdown",
   "metadata": {},
   "source": [
    "# 최종 데이터"
   ]
  },
  {
   "cell_type": "code",
   "execution_count": 86,
   "metadata": {
    "ExecuteTime": {
     "end_time": "2023-11-22T07:21:18.365509Z",
     "start_time": "2023-11-22T07:21:18.358187Z"
    }
   },
   "outputs": [
    {
     "name": "stdout",
     "output_type": "stream",
     "text": [
      "<class 'pandas.core.frame.DataFrame'>\n",
      "Int64Index: 50572 entries, 0 to 10962\n",
      "Data columns (total 14 columns):\n",
      " #   Column  Non-Null Count  Dtype \n",
      "---  ------  --------------  ----- \n",
      " 0   ID      50572 non-null  object\n",
      " 1   요일      50572 non-null  int64 \n",
      " 2   기상상태    50572 non-null  int64 \n",
      " 3   노면상태    50572 non-null  int64 \n",
      " 4   사고유형    50572 non-null  int64 \n",
      " 5   연       50572 non-null  int64 \n",
      " 6   월       50572 non-null  int64 \n",
      " 7   일       50572 non-null  int64 \n",
      " 8   시간      50572 non-null  int64 \n",
      " 9   도시      50572 non-null  object\n",
      " 10  구       50572 non-null  int64 \n",
      " 11  동       50572 non-null  int64 \n",
      " 12  도로형태1   50572 non-null  int64 \n",
      " 13  도로형태2   50572 non-null  int64 \n",
      "dtypes: int64(12), object(2)\n",
      "memory usage: 5.8+ MB\n"
     ]
    }
   ],
   "source": [
    "data_label_enco.info()"
   ]
  },
  {
   "cell_type": "code",
   "execution_count": 87,
   "metadata": {
    "ExecuteTime": {
     "end_time": "2023-11-22T07:21:18.382966Z",
     "start_time": "2023-11-22T07:21:18.366494Z"
    }
   },
   "outputs": [
    {
     "name": "stdout",
     "output_type": "stream",
     "text": [
      "<class 'pandas.core.frame.DataFrame'>\n",
      "Int64Index: 50572 entries, 0 to 10962\n",
      "Data columns (total 89 columns):\n",
      " #   Column           Non-Null Count  Dtype \n",
      "---  ------           --------------  ----- \n",
      " 0   ID               50572 non-null  object\n",
      " 1   일                50572 non-null  int64 \n",
      " 2   도시               50572 non-null  object\n",
      " 3   동                50572 non-null  object\n",
      " 4   사고유형_차대사람        50572 non-null  uint8 \n",
      " 5   사고유형_차대차         50572 non-null  uint8 \n",
      " 6   사고유형_차량단독        50572 non-null  uint8 \n",
      " 7   노면상태_건조          50572 non-null  uint8 \n",
      " 8   노면상태_기타          50572 non-null  uint8 \n",
      " 9   노면상태_서리/결빙       50572 non-null  uint8 \n",
      " 10  노면상태_적설          50572 non-null  uint8 \n",
      " 11  노면상태_젖음/습기       50572 non-null  uint8 \n",
      " 12  노면상태_침수          50572 non-null  uint8 \n",
      " 13  도로형태1_교차로        50572 non-null  uint8 \n",
      " 14  도로형태1_기타         50572 non-null  uint8 \n",
      " 15  도로형태1_단일로        50572 non-null  uint8 \n",
      " 16  도로형태1_미분류        50572 non-null  uint8 \n",
      " 17  도로형태1_주차장        50572 non-null  uint8 \n",
      " 18  도로형태2_고가도로위      50572 non-null  uint8 \n",
      " 19  도로형태2_교량         50572 non-null  uint8 \n",
      " 20  도로형태2_교차로부근      50572 non-null  uint8 \n",
      " 21  도로형태2_교차로안       50572 non-null  uint8 \n",
      " 22  도로형태2_교차로횡단보도내   50572 non-null  uint8 \n",
      " 23  도로형태2_기타         50572 non-null  uint8 \n",
      " 24  도로형태2_미분류        50572 non-null  uint8 \n",
      " 25  도로형태2_주차장        50572 non-null  uint8 \n",
      " 26  도로형태2_지하차도(도로)내  50572 non-null  uint8 \n",
      " 27  도로형태2_터널         50572 non-null  uint8 \n",
      " 28  구_남구             50572 non-null  uint8 \n",
      " 29  구_달서구            50572 non-null  uint8 \n",
      " 30  구_달성군            50572 non-null  uint8 \n",
      " 31  구_동구             50572 non-null  uint8 \n",
      " 32  구_북구             50572 non-null  uint8 \n",
      " 33  구_서구             50572 non-null  uint8 \n",
      " 34  구_수성구            50572 non-null  uint8 \n",
      " 35  구_중구             50572 non-null  uint8 \n",
      " 36  연_2019           50572 non-null  uint8 \n",
      " 37  연_2020           50572 non-null  uint8 \n",
      " 38  연_2021           50572 non-null  uint8 \n",
      " 39  연_2022           50572 non-null  uint8 \n",
      " 40  월_1              50572 non-null  uint8 \n",
      " 41  월_2              50572 non-null  uint8 \n",
      " 42  월_3              50572 non-null  uint8 \n",
      " 43  월_4              50572 non-null  uint8 \n",
      " 44  월_5              50572 non-null  uint8 \n",
      " 45  월_6              50572 non-null  uint8 \n",
      " 46  월_7              50572 non-null  uint8 \n",
      " 47  월_8              50572 non-null  uint8 \n",
      " 48  월_9              50572 non-null  uint8 \n",
      " 49  월_10             50572 non-null  uint8 \n",
      " 50  월_11             50572 non-null  uint8 \n",
      " 51  월_12             50572 non-null  uint8 \n",
      " 52  시간_0             50572 non-null  uint8 \n",
      " 53  시간_1             50572 non-null  uint8 \n",
      " 54  시간_2             50572 non-null  uint8 \n",
      " 55  시간_3             50572 non-null  uint8 \n",
      " 56  시간_4             50572 non-null  uint8 \n",
      " 57  시간_5             50572 non-null  uint8 \n",
      " 58  시간_6             50572 non-null  uint8 \n",
      " 59  시간_7             50572 non-null  uint8 \n",
      " 60  시간_8             50572 non-null  uint8 \n",
      " 61  시간_9             50572 non-null  uint8 \n",
      " 62  시간_10            50572 non-null  uint8 \n",
      " 63  시간_11            50572 non-null  uint8 \n",
      " 64  시간_12            50572 non-null  uint8 \n",
      " 65  시간_13            50572 non-null  uint8 \n",
      " 66  시간_14            50572 non-null  uint8 \n",
      " 67  시간_15            50572 non-null  uint8 \n",
      " 68  시간_16            50572 non-null  uint8 \n",
      " 69  시간_17            50572 non-null  uint8 \n",
      " 70  시간_18            50572 non-null  uint8 \n",
      " 71  시간_19            50572 non-null  uint8 \n",
      " 72  시간_20            50572 non-null  uint8 \n",
      " 73  시간_21            50572 non-null  uint8 \n",
      " 74  시간_22            50572 non-null  uint8 \n",
      " 75  시간_23            50572 non-null  uint8 \n",
      " 76  요일_월요일           50572 non-null  uint8 \n",
      " 77  요일_화요일           50572 non-null  uint8 \n",
      " 78  요일_수요일           50572 non-null  uint8 \n",
      " 79  요일_목요일           50572 non-null  uint8 \n",
      " 80  요일_금요일           50572 non-null  uint8 \n",
      " 81  요일_토요일           50572 non-null  uint8 \n",
      " 82  요일_일요일           50572 non-null  uint8 \n",
      " 83  기상상태_기타          50572 non-null  uint8 \n",
      " 84  기상상태_눈           50572 non-null  uint8 \n",
      " 85  기상상태_맑음          50572 non-null  uint8 \n",
      " 86  기상상태_비           50572 non-null  uint8 \n",
      " 87  기상상태_안개          50572 non-null  uint8 \n",
      " 88  기상상태_흐림          50572 non-null  uint8 \n",
      "dtypes: int64(1), object(3), uint8(85)\n",
      "memory usage: 6.0+ MB\n"
     ]
    }
   ],
   "source": [
    "data_onehot_enco.info()"
   ]
  },
  {
   "cell_type": "markdown",
   "metadata": {},
   "source": [
    "### 통합된 데이터 세트(data)를 다시 train과 test 세트로 분리\n",
    "- 합쳐둔 data 날짜에 맞춰서 다시 train_new, test_new로 분리하기"
   ]
  },
  {
   "cell_type": "code",
   "execution_count": 88,
   "metadata": {
    "ExecuteTime": {
     "end_time": "2023-11-22T08:06:37.284224Z",
     "start_time": "2023-11-22T08:06:37.248637Z"
    }
   },
   "outputs": [],
   "source": [
    "train_new  = data_onehot_enco[:len(train)]\n",
    "test_new = data_onehot_enco[len(train):]"
   ]
  },
  {
   "cell_type": "markdown",
   "metadata": {},
   "source": [
    "### 학습시킬 feature 선택하기"
   ]
  },
  {
   "cell_type": "code",
   "execution_count": 99,
   "metadata": {
    "ExecuteTime": {
     "end_time": "2023-11-22T08:11:09.527086Z",
     "start_time": "2023-11-22T08:11:09.479109Z"
    }
   },
   "outputs": [],
   "source": [
    "# 예측에 모든 컬럼 사용하는 법.\n",
    "X_test = test_new.drop(columns=['ID','도시','동']).copy()\n",
    "X_train = train_new[X_test.columns].copy()"
   ]
  },
  {
   "cell_type": "code",
   "execution_count": 100,
   "metadata": {
    "ExecuteTime": {
     "end_time": "2023-11-22T08:11:10.299688Z",
     "start_time": "2023-11-22T08:11:10.287530Z"
    }
   },
   "outputs": [],
   "source": [
    "y_train = train['ECLO'].copy()"
   ]
  },
  {
   "cell_type": "markdown",
   "metadata": {},
   "source": [
    "### RandomForestRegressor ⭐️"
   ]
  },
  {
   "cell_type": "code",
   "execution_count": 101,
   "metadata": {
    "ExecuteTime": {
     "end_time": "2023-11-22T08:11:11.386754Z",
     "start_time": "2023-11-22T08:11:11.381589Z"
    }
   },
   "outputs": [],
   "source": [
    "from sklearn.ensemble import RandomForestRegressor\n",
    "rfr = RandomForestRegressor(n_estimators = 1000, \n",
    "                             max_depth = 9, \n",
    "                             random_state=37, \n",
    "                             max_features =0.8, \n",
    "                             n_jobs=-1)"
   ]
  },
  {
   "cell_type": "code",
   "execution_count": 102,
   "metadata": {
    "ExecuteTime": {
     "end_time": "2023-11-22T08:11:26.487049Z",
     "start_time": "2023-11-22T08:11:12.311173Z"
    }
   },
   "outputs": [
    {
     "data": {
      "text/plain": [
       "array([4.09851911, 3.70377855, 5.09318329, ..., 4.77314204, 4.816549  ,\n",
       "       4.77632854])"
      ]
     },
     "execution_count": 102,
     "metadata": {},
     "output_type": "execute_result"
    }
   ],
   "source": [
    "rfr.fit(X_train, y_train)\n",
    "\n",
    "prediction_rfr= rfr.predict(X_test)\n",
    "prediction_rfr"
   ]
  },
  {
   "cell_type": "code",
   "execution_count": 103,
   "metadata": {
    "ExecuteTime": {
     "end_time": "2023-11-22T08:11:30.244299Z",
     "start_time": "2023-11-22T08:11:30.235736Z"
    }
   },
   "outputs": [],
   "source": [
    "import numpy as np\n",
    "from sklearn.metrics import make_scorer\n",
    "\n",
    "def rmsle(predict, actual):\n",
    "    log_predict= np.log(predict +1)\n",
    "    log_actual = np.log(actual+1)\n",
    "    \n",
    "    difference = log_predict - log_actual\n",
    "    difference = np.square(difference)\n",
    "    \n",
    "    mean_difference = difference.mean()\n",
    "    \n",
    "    score = np.sqrt(mean_difference)\n",
    "    \n",
    "    return score\n",
    "\n",
    "rmsle_score = make_scorer(rmsle)"
   ]
  },
  {
   "cell_type": "code",
   "execution_count": 105,
   "metadata": {
    "ExecuteTime": {
     "end_time": "2023-11-22T08:12:48.860284Z",
     "start_time": "2023-11-22T08:11:47.760541Z"
    }
   },
   "outputs": [
    {
     "name": "stdout",
     "output_type": "stream",
     "text": [
      "현재 점수는 0.45997\n"
     ]
    }
   ],
   "source": [
    "from sklearn.model_selection import cross_val_score\n",
    "\n",
    "score = cross_val_score(rfr , X_train, y_train, cv =5, \n",
    "                        scoring=rmsle_score).mean()\n",
    "\n",
    "print('현재 점수는 {0:.5f}'.format(score))"
   ]
  },
  {
   "cell_type": "code",
   "execution_count": 111,
   "metadata": {
    "ExecuteTime": {
     "end_time": "2023-11-22T08:15:22.710163Z",
     "start_time": "2023-11-22T08:15:22.664541Z"
    }
   },
   "outputs": [
    {
     "data": {
      "text/html": [
       "<div>\n",
       "<style scoped>\n",
       "    .dataframe tbody tr th:only-of-type {\n",
       "        vertical-align: middle;\n",
       "    }\n",
       "\n",
       "    .dataframe tbody tr th {\n",
       "        vertical-align: top;\n",
       "    }\n",
       "\n",
       "    .dataframe thead th {\n",
       "        text-align: right;\n",
       "    }\n",
       "</style>\n",
       "<table border=\"1\" class=\"dataframe\">\n",
       "  <thead>\n",
       "    <tr style=\"text-align: right;\">\n",
       "      <th></th>\n",
       "      <th>ECLO</th>\n",
       "    </tr>\n",
       "    <tr>\n",
       "      <th>ID</th>\n",
       "      <th></th>\n",
       "    </tr>\n",
       "  </thead>\n",
       "  <tbody>\n",
       "    <tr>\n",
       "      <th>ACCIDENT_39609</th>\n",
       "      <td>0</td>\n",
       "    </tr>\n",
       "    <tr>\n",
       "      <th>ACCIDENT_39610</th>\n",
       "      <td>0</td>\n",
       "    </tr>\n",
       "    <tr>\n",
       "      <th>ACCIDENT_39611</th>\n",
       "      <td>0</td>\n",
       "    </tr>\n",
       "    <tr>\n",
       "      <th>ACCIDENT_39612</th>\n",
       "      <td>0</td>\n",
       "    </tr>\n",
       "    <tr>\n",
       "      <th>ACCIDENT_39613</th>\n",
       "      <td>0</td>\n",
       "    </tr>\n",
       "    <tr>\n",
       "      <th>...</th>\n",
       "      <td>...</td>\n",
       "    </tr>\n",
       "    <tr>\n",
       "      <th>ACCIDENT_50567</th>\n",
       "      <td>0</td>\n",
       "    </tr>\n",
       "    <tr>\n",
       "      <th>ACCIDENT_50568</th>\n",
       "      <td>0</td>\n",
       "    </tr>\n",
       "    <tr>\n",
       "      <th>ACCIDENT_50569</th>\n",
       "      <td>0</td>\n",
       "    </tr>\n",
       "    <tr>\n",
       "      <th>ACCIDENT_50570</th>\n",
       "      <td>0</td>\n",
       "    </tr>\n",
       "    <tr>\n",
       "      <th>ACCIDENT_50571</th>\n",
       "      <td>0</td>\n",
       "    </tr>\n",
       "  </tbody>\n",
       "</table>\n",
       "<p>10963 rows × 1 columns</p>\n",
       "</div>"
      ],
      "text/plain": [
       "                ECLO\n",
       "ID                  \n",
       "ACCIDENT_39609     0\n",
       "ACCIDENT_39610     0\n",
       "ACCIDENT_39611     0\n",
       "ACCIDENT_39612     0\n",
       "ACCIDENT_39613     0\n",
       "...              ...\n",
       "ACCIDENT_50567     0\n",
       "ACCIDENT_50568     0\n",
       "ACCIDENT_50569     0\n",
       "ACCIDENT_50570     0\n",
       "ACCIDENT_50571     0\n",
       "\n",
       "[10963 rows x 1 columns]"
      ]
     },
     "execution_count": 111,
     "metadata": {},
     "output_type": "execute_result"
    }
   ],
   "source": [
    "sample_submission = pd.read_csv('open/sample_submission.csv', index_col=0)\n",
    "sample_submission"
   ]
  },
  {
   "cell_type": "code",
   "execution_count": 112,
   "metadata": {
    "ExecuteTime": {
     "end_time": "2023-11-22T08:15:24.464470Z",
     "start_time": "2023-11-22T08:15:24.458672Z"
    }
   },
   "outputs": [
    {
     "data": {
      "text/plain": [
       "array([4.09851911, 3.70377855, 5.09318329, ..., 4.77314204, 4.816549  ,\n",
       "       4.77632854])"
      ]
     },
     "execution_count": 112,
     "metadata": {},
     "output_type": "execute_result"
    }
   ],
   "source": [
    "prediction_rfr"
   ]
  },
  {
   "cell_type": "code",
   "execution_count": 113,
   "metadata": {
    "ExecuteTime": {
     "end_time": "2023-11-22T08:15:26.045572Z",
     "start_time": "2023-11-22T08:15:26.035317Z"
    }
   },
   "outputs": [
    {
     "data": {
      "text/html": [
       "<div>\n",
       "<style scoped>\n",
       "    .dataframe tbody tr th:only-of-type {\n",
       "        vertical-align: middle;\n",
       "    }\n",
       "\n",
       "    .dataframe tbody tr th {\n",
       "        vertical-align: top;\n",
       "    }\n",
       "\n",
       "    .dataframe thead th {\n",
       "        text-align: right;\n",
       "    }\n",
       "</style>\n",
       "<table border=\"1\" class=\"dataframe\">\n",
       "  <thead>\n",
       "    <tr style=\"text-align: right;\">\n",
       "      <th></th>\n",
       "      <th>ECLO</th>\n",
       "    </tr>\n",
       "    <tr>\n",
       "      <th>ID</th>\n",
       "      <th></th>\n",
       "    </tr>\n",
       "  </thead>\n",
       "  <tbody>\n",
       "    <tr>\n",
       "      <th>ACCIDENT_39609</th>\n",
       "      <td>4.098519</td>\n",
       "    </tr>\n",
       "    <tr>\n",
       "      <th>ACCIDENT_39610</th>\n",
       "      <td>3.703779</td>\n",
       "    </tr>\n",
       "    <tr>\n",
       "      <th>ACCIDENT_39611</th>\n",
       "      <td>5.093183</td>\n",
       "    </tr>\n",
       "    <tr>\n",
       "      <th>ACCIDENT_39612</th>\n",
       "      <td>5.074800</td>\n",
       "    </tr>\n",
       "    <tr>\n",
       "      <th>ACCIDENT_39613</th>\n",
       "      <td>4.992524</td>\n",
       "    </tr>\n",
       "    <tr>\n",
       "      <th>...</th>\n",
       "      <td>...</td>\n",
       "    </tr>\n",
       "    <tr>\n",
       "      <th>ACCIDENT_50567</th>\n",
       "      <td>5.108053</td>\n",
       "    </tr>\n",
       "    <tr>\n",
       "      <th>ACCIDENT_50568</th>\n",
       "      <td>4.744571</td>\n",
       "    </tr>\n",
       "    <tr>\n",
       "      <th>ACCIDENT_50569</th>\n",
       "      <td>4.773142</td>\n",
       "    </tr>\n",
       "    <tr>\n",
       "      <th>ACCIDENT_50570</th>\n",
       "      <td>4.816549</td>\n",
       "    </tr>\n",
       "    <tr>\n",
       "      <th>ACCIDENT_50571</th>\n",
       "      <td>4.776329</td>\n",
       "    </tr>\n",
       "  </tbody>\n",
       "</table>\n",
       "<p>10963 rows × 1 columns</p>\n",
       "</div>"
      ],
      "text/plain": [
       "                    ECLO\n",
       "ID                      \n",
       "ACCIDENT_39609  4.098519\n",
       "ACCIDENT_39610  3.703779\n",
       "ACCIDENT_39611  5.093183\n",
       "ACCIDENT_39612  5.074800\n",
       "ACCIDENT_39613  4.992524\n",
       "...                  ...\n",
       "ACCIDENT_50567  5.108053\n",
       "ACCIDENT_50568  4.744571\n",
       "ACCIDENT_50569  4.773142\n",
       "ACCIDENT_50570  4.816549\n",
       "ACCIDENT_50571  4.776329\n",
       "\n",
       "[10963 rows x 1 columns]"
      ]
     },
     "execution_count": 113,
     "metadata": {},
     "output_type": "execute_result"
    }
   ],
   "source": [
    "random_forest_submission = sample_submission.copy()\n",
    "random_forest_submission['ECLO'] = prediction_rfr\n",
    "random_forest_submission"
   ]
  },
  {
   "cell_type": "code",
   "execution_count": 114,
   "metadata": {
    "ExecuteTime": {
     "end_time": "2023-11-22T08:15:28.057365Z",
     "start_time": "2023-11-22T08:15:28.019058Z"
    }
   },
   "outputs": [],
   "source": [
    "random_forest_submission.to_csv('random_forest_submission.csv')"
   ]
  },
  {
   "cell_type": "code",
   "execution_count": null,
   "metadata": {},
   "outputs": [],
   "source": []
  }
 ],
 "metadata": {
  "colab": {
   "provenance": []
  },
  "kernelspec": {
   "display_name": "Python 3 (ipykernel)",
   "language": "python",
   "name": "python3"
  },
  "language_info": {
   "codemirror_mode": {
    "name": "ipython",
    "version": 3
   },
   "file_extension": ".py",
   "mimetype": "text/x-python",
   "name": "python",
   "nbconvert_exporter": "python",
   "pygments_lexer": "ipython3",
   "version": "3.10.10"
  }
 },
 "nbformat": 4,
 "nbformat_minor": 4
}
