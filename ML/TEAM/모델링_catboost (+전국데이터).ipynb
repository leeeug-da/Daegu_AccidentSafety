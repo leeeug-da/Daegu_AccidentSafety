{
 "cells": [
  {
   "cell_type": "code",
   "execution_count": 30,
   "id": "b1d97288",
   "metadata": {},
   "outputs": [],
   "source": [
    "import os\n",
    "import time\n",
    "import random\n",
    "import platform\n",
    "import numpy as np\n",
    "import pandas as pd\n",
    "import seaborn as sns\n",
    "from datetime import datetime\n",
    "import matplotlib.pyplot as plt\n",
    "import matplotlib.font_manager as fm\n",
    "from catboost import CatBoostRegressor\n",
    "from sklearn.model_selection import train_test_split\n",
    "\n",
    "# 한글 문제\n",
    "from matplotlib import font_manager, rc\n",
    "plt.rcParams['axes.unicode_minus'] = False\n",
    "\n",
    "if platform.system() == 'Darwin':  # 맥OS\n",
    "    rc('font', family='AppleGothic')\n",
    "elif platform.system() == 'Windows':  # 윈도우\n",
    "    path = \"c:/Windows/Fonts/malgun.ttf\"\n",
    "    font_name = font_manager.FontProperties(fname=path).get_name()\n",
    "    rc('font', family=font_name)\n",
    "else:\n",
    "    print('Unknown system...  sorry~~~')\n",
    "\n",
    "from matplotlib.pylab import rcParams\n",
    "rcParams['figure.figsize'] = 17,8\n",
    "\n",
    "import warnings\n",
    "warnings.filterwarnings(action='ignore')"
   ]
  },
  {
   "cell_type": "markdown",
   "id": "63099010",
   "metadata": {},
   "source": [
    "# 데이터 전처리"
   ]
  },
  {
   "cell_type": "markdown",
   "id": "5fc72894",
   "metadata": {},
   "source": [
    "#### ECLO만 뽑아내기위한 작업"
   ]
  },
  {
   "cell_type": "code",
   "execution_count": 31,
   "id": "9652d3d7",
   "metadata": {},
   "outputs": [],
   "source": [
    "# ECLO만 뽑아내기 위한 train 호출. (전처리 안된 원본데이터)\n",
    "train = pd.read_csv('./open/train.csv')\n",
    "# 전국데이터 호출. (전처리 안된 원본데이터)\n",
    "countrywide = pd.read_csv('./open/external_open/countrywide_accident.csv')\n",
    "#전국 데이터와 대구 데이터들의 eclo만 뽑아낸것. 총 row 642,384개\n",
    "eclo = pd.concat([train['ECLO'], countrywide['ECLO']], sort=False)"
   ]
  },
  {
   "cell_type": "markdown",
   "id": "65d6ee51",
   "metadata": {},
   "source": [
    "#### 요일, 기상, 노면, 유형, 연, 월, 시, 도시, 도로형태로 전처리된 데이터"
   ]
  },
  {
   "cell_type": "code",
   "execution_count": 32,
   "id": "9b503c6e",
   "metadata": {},
   "outputs": [],
   "source": [
    "countrywide_df = pd.read_csv('./open/countrywide_processed.csv')\n",
    "train_df = pd.read_csv('./open/train_processed.csv')\n",
    "test_df = pd.read_csv('./open/test_processed.csv')"
   ]
  },
  {
   "cell_type": "markdown",
   "id": "189b1c1e",
   "metadata": {},
   "source": [
    "#### 모든 컬럼 일괄적으로 원핫인 하기위해 데이터타입 통일"
   ]
  },
  {
   "cell_type": "code",
   "execution_count": 33,
   "id": "9239a6c6",
   "metadata": {},
   "outputs": [],
   "source": [
    "# 문자열로 변환하는 함수 정의\n",
    "def convert_to_str(df, columns):\n",
    "    for col in columns:\n",
    "        df[col] = df[col].astype(str)\n",
    "    return df\n",
    "# train_df, test_df, countrywide에 대한 문자열 변환\n",
    "columns_to_convert = ['연', '월', '시간']\n",
    "train_df = convert_to_str(train_df, columns_to_convert)\n",
    "test_df = convert_to_str(test_df, columns_to_convert)\n",
    "countrywide_df = convert_to_str(countrywide_df, columns_to_convert)"
   ]
  },
  {
   "cell_type": "markdown",
   "id": "36514004",
   "metadata": {},
   "source": [
    "#### data라는 변수에 모두 넣어서 한번에 원핫인코딩"
   ]
  },
  {
   "cell_type": "code",
   "execution_count": 34,
   "id": "b707a782",
   "metadata": {},
   "outputs": [],
   "source": [
    "#데이터 3개 합쳐\n",
    "data = pd.concat([train_df, countrywide_df, test_df], sort=False)\n",
    "data = pd.get_dummies(data)"
   ]
  },
  {
   "cell_type": "markdown",
   "id": "433eb12d",
   "metadata": {},
   "source": [
    "#### 트레인과 전국데이터 만큼 덜어내기"
   ]
  },
  {
   "cell_type": "code",
   "execution_count": 35,
   "id": "eb1cdaf5",
   "metadata": {},
   "outputs": [],
   "source": [
    "sum_train_ctw_len = len(train) + len(countrywide)\n",
    "train_enco = data[:sum_train_ctw_len]\n",
    "test_enco = data[sum_train_ctw_len:]"
   ]
  },
  {
   "cell_type": "markdown",
   "id": "52066e50",
   "metadata": {},
   "source": [
    "- 참고자료 : Catboost의 파라미터 설명\n",
    "    - iterations:트리의 수 또는 라운드 수\n",
    "    - depth:각 트리의 최대 깊이\n",
    "    - learning_rate: 각 트리의 기여도\n",
    "    - eval_set: 검증 세트를 지정\n",
    "    - early_stopping_rounds: 검증 세트에서 성능이 향상되지 않으면 얼마나 많은 라운드를 기다릴지를 지정\n",
    "    - verbose: 학습 과정을 출력할 때의 상세도를 조절(안중요)"
   ]
  },
  {
   "cell_type": "markdown",
   "id": "b5cad6a1",
   "metadata": {},
   "source": [
    "# Case1-catboost - 로그변환X, 전국데이터X"
   ]
  },
  {
   "cell_type": "markdown",
   "id": "022fa1cc",
   "metadata": {},
   "source": [
    "- 코드생략\n",
    "RMSLE: 0.46122"
   ]
  },
  {
   "cell_type": "markdown",
   "id": "67b006e6",
   "metadata": {},
   "source": [
    "# Case2-catboost - 로그변환O, 전국데이터X"
   ]
  },
  {
   "cell_type": "markdown",
   "id": "36e70215",
   "metadata": {},
   "source": [
    "- 코드생략\n",
    "RMSLE: 0.44702"
   ]
  },
  {
   "cell_type": "markdown",
   "id": "f8cf5b0a",
   "metadata": {},
   "source": [
    "# Case3-catboost - 로그변환X, 전국데이터O"
   ]
  },
  {
   "cell_type": "markdown",
   "id": "79bbfe1a",
   "metadata": {},
   "source": [
    "RMSLE: 0.45516"
   ]
  },
  {
   "cell_type": "code",
   "execution_count": 36,
   "id": "4ee12cdf",
   "metadata": {},
   "outputs": [
    {
     "name": "stdout",
     "output_type": "stream",
     "text": [
      "0:\tlearn: 3.5999467\ttest: 3.5385127\tbest: 3.5385127 (0)\ttotal: 43.5ms\tremaining: 43.5s\n",
      "100:\tlearn: 3.5301334\ttest: 3.4797110\tbest: 3.4797110 (100)\ttotal: 4.26s\tremaining: 37.9s\n",
      "200:\tlearn: 3.5148898\ttest: 3.4758877\tbest: 3.4758877 (200)\ttotal: 8.53s\tremaining: 33.9s\n",
      "300:\tlearn: 3.5013647\ttest: 3.4744999\tbest: 3.4744733 (292)\ttotal: 12.8s\tremaining: 29.7s\n",
      "400:\tlearn: 3.4900902\ttest: 3.4740658\tbest: 3.4740646 (397)\ttotal: 16.9s\tremaining: 25.3s\n",
      "Stopped by overfitting detector  (50 iterations wait)\n",
      "\n",
      "bestTest = 3.474022122\n",
      "bestIteration = 412\n",
      "\n",
      "Shrink model to first 413 iterations.\n",
      "RMSLE: 0.4551609149868639\n"
     ]
    }
   ],
   "source": [
    "# X_train은 대구+전국 데이터 원핫인코딩 된 데이터(642,384개), y_train은 eclo만(642,384개) 뽑아낸것. \n",
    "X_train = train_enco\n",
    "y_train = eclo\n",
    "\n",
    "# train 데이터 분할\n",
    "X_train, X_valid, y_train, y_valid = train_test_split(X_train, y_train, test_size=0.2, random_state=42)\n",
    "\n",
    "# CatBoost 모델 생성, 학습, 예측\n",
    "model_cbr = CatBoostRegressor(iterations=1000, depth=10, learning_rate=0.05)\n",
    "model_cbr.fit(X_train, y_train, eval_set=(X_valid, y_valid), early_stopping_rounds=50, verbose=100)\n",
    "predictions_cbr = model_cbr.predict(X_valid)\n",
    "\n",
    "def rmsle(y_true, y_pred):\n",
    "    return np.sqrt(np.mean(np.square(np.log1p(y_true) - np.log1p(y_pred))))\n",
    "\n",
    "# 테스트 데이터의 실제 값\n",
    "y_true = y_valid\n",
    "# 테스트 데이터의 예측 값\n",
    "y_pred = predictions_cbr\n",
    "\n",
    "# RMSLE\n",
    "rmsle_value = rmsle(y_true, y_pred)\n",
    "print(\"RMSLE:\", rmsle_value)"
   ]
  },
  {
   "cell_type": "markdown",
   "id": "df5e2fc4",
   "metadata": {},
   "source": [
    "# Case4-catboost - 로그변환O, 전국데이터O (Best)"
   ]
  },
  {
   "cell_type": "markdown",
   "id": "30fd5e2a",
   "metadata": {},
   "source": [
    "RMSLE: 0.44126"
   ]
  },
  {
   "cell_type": "code",
   "execution_count": 37,
   "id": "81577c3f",
   "metadata": {},
   "outputs": [
    {
     "name": "stdout",
     "output_type": "stream",
     "text": [
      "0:\tlearn: 0.8138172\ttest: 0.8128166\tbest: 0.8128166 (0)\ttotal: 45.5ms\tremaining: 45.4s\n",
      "100:\tlearn: 0.7979535\ttest: 0.7986129\tbest: 0.7986129 (100)\ttotal: 4.31s\tremaining: 38.3s\n",
      "200:\tlearn: 0.7953523\ttest: 0.7978957\tbest: 0.7978957 (200)\ttotal: 8.71s\tremaining: 34.6s\n",
      "300:\tlearn: 0.7930075\ttest: 0.7977333\tbest: 0.7977333 (300)\ttotal: 13.1s\tremaining: 30.3s\n",
      "400:\tlearn: 0.7906201\ttest: 0.7977173\tbest: 0.7977026 (360)\ttotal: 17.4s\tremaining: 26.1s\n",
      "Stopped by overfitting detector  (50 iterations wait)\n",
      "\n",
      "bestTest = 0.797702572\n",
      "bestIteration = 360\n",
      "\n",
      "Shrink model to first 361 iterations.\n",
      "모델 학습 시간: 36.18071913719177 초\n",
      "로그 역변환 전 RMSLE: 0.30745931689717604\n",
      "로그역변환 후 최종 RMSLE: 0.44126652227007473\n"
     ]
    }
   ],
   "source": [
    "# X_train, y_train 다시 초기화\n",
    "X_train = train_enco\n",
    "y_train = np.log2(eclo)\n",
    "\n",
    "# 데이터 분할\n",
    "X_train, X_valid, y_train, y_valid = train_test_split(X_train, y_train, test_size=0.2, random_state=42)\n",
    "\n",
    "# CatBoost 시간 측정 시작\n",
    "start_time = time.time()\n",
    "\n",
    "# model_cbr을 로그로 학습시킨 모델로 변경하기\n",
    "model_cbr.fit(X_train, y_train, eval_set=(X_valid, y_valid), early_stopping_rounds=50, verbose=100)\n",
    "\n",
    "# 학습 시간 측정 종료\n",
    "end_time = time.time()\n",
    "elapsed_time = end_time - start_time\n",
    "print(f\"모델 학습 시간: {elapsed_time} 초\")\n",
    "\n",
    "# 테스트 데이터 예측\n",
    "predictions_cbr = model_cbr.predict(X_valid)\n",
    "# 테스트 데이터의 실제 값\n",
    "y_true = y_valid\n",
    "# 테스트 데이터의 예측 값\n",
    "y_pred = predictions_cbr\n",
    "\n",
    "# 로그상태에서 RMSLE 계산. 하지만 제출할때는 eclo가 로그가 아닌 상태에서 예측해야하니 이결과는 참고용으로..\n",
    "rmsle_value = rmsle(y_true, y_pred)\n",
    "print(\"로그 역변환 전 RMSLE:\", rmsle_value)\n",
    "# 로그 역변환 후 RMSLE 계산\n",
    "predicted_eclo_back = np.exp2(predictions_cbr)\n",
    "y_true_back = np.exp2(y_true)\n",
    "rmsle_value_back = rmsle(y_true_back, predicted_eclo_back)\n",
    "print(\"로그역변환 후 최종 RMSLE:\", rmsle_value_back)\n"
   ]
  },
  {
   "cell_type": "code",
   "execution_count": 39,
   "id": "73bb4b5c",
   "metadata": {},
   "outputs": [],
   "source": [
    "predictions_sub = model_cbr.predict(test_enco)\n",
    "predictions_sub = np.exp2(predictions_sub)"
   ]
  },
  {
   "cell_type": "code",
   "execution_count": 40,
   "id": "8c24eddf",
   "metadata": {},
   "outputs": [
    {
     "data": {
      "text/plain": [
       "array([3.86890256, 3.37748962, 4.65321717, ..., 4.18228374, 4.18458789,\n",
       "       4.24743655])"
      ]
     },
     "execution_count": 40,
     "metadata": {},
     "output_type": "execute_result"
    }
   ],
   "source": [
    "predictions_sub"
   ]
  },
  {
   "cell_type": "code",
   "execution_count": 41,
   "id": "634b48de",
   "metadata": {},
   "outputs": [],
   "source": [
    "#기존 제출파일 불러오기 \n",
    "sub = pd.read_csv('./open/sample_submission.csv') \n",
    "# 제출용 파일 만들기\n",
    "sub['ECLO'] = predictions_sub\n",
    "submission_df = sub[['ID', 'ECLO']]\n",
    "# CSV 파일로 저장\n",
    "submission_df.to_csv('Cat_boost_submission.csv', index=False)"
   ]
  }
 ],
 "metadata": {
  "kernelspec": {
   "display_name": "Python 3 (ipykernel)",
   "language": "python",
   "name": "python3"
  },
  "language_info": {
   "codemirror_mode": {
    "name": "ipython",
    "version": 3
   },
   "file_extension": ".py",
   "mimetype": "text/x-python",
   "name": "python",
   "nbconvert_exporter": "python",
   "pygments_lexer": "ipython3",
   "version": "3.10.10"
  }
 },
 "nbformat": 4,
 "nbformat_minor": 5
}
