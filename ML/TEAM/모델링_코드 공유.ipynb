{
 "cells": [
  {
   "cell_type": "code",
   "execution_count": 1,
   "metadata": {
    "ExecuteTime": {
     "end_time": "2023-11-22T06:27:04.204982Z",
     "start_time": "2023-11-22T06:27:03.217743Z"
    },
    "deletable": false,
    "id": "H2RD_fcJJoRa",
    "pbl_cell_type": "hidden_setup_code",
    "step_id": 4887,
    "step_number": 0
   },
   "outputs": [],
   "source": [
    "import pandas as pd\n",
    "import numpy as np\n",
    "import seaborn as sns\n",
    "from datetime import datetime\n",
    "import matplotlib.pyplot as plt\n",
    "import matplotlib.font_manager as fm\n",
    "\n",
    "# 한글 문제\n",
    "import platform\n",
    "\n",
    "from matplotlib import font_manager, rc\n",
    "plt.rcParams['axes.unicode_minus'] = False\n",
    "\n",
    "if platform.system() == 'Darwin':  # 맥OS\n",
    "    rc('font', family='AppleGothic')\n",
    "elif platform.system() == 'Windows':  # 윈도우\n",
    "    path = \"c:/Windows/Fonts/malgun.ttf\"\n",
    "    font_name = font_manager.FontProperties(fname=path).get_name()\n",
    "    rc('font', family=font_name)\n",
    "else:\n",
    "    print('Unknown system...  sorry~~~')\n",
    "\n",
    "from matplotlib.pylab import rcParams\n",
    "rcParams['figure.figsize'] = 17,8\n",
    "\n",
    "import warnings\n",
    "warnings.filterwarnings(action='ignore')"
   ]
  },
  {
   "cell_type": "markdown",
   "metadata": {
    "deletable": false,
    "id": "INgMyEIPJoRc",
    "pbl_cell_type": "markdown",
    "step_id": 4887,
    "step_number": 0
   },
   "source": [
    "# **대구 교통 사고 피해 예측 AI 경진대회 Baseline Code**"
   ]
  },
  {
   "cell_type": "markdown",
   "metadata": {
    "id": "DXsj7n3HJoRe",
    "pbl_cell_type": "markdown",
    "step_id": 5096,
    "step_number": 1
   },
   "source": [
    "## **Fixed Random Seed**  \n",
    "\n",
    "seed 값에 의해 동일한 코드를 사용해도 결과가 다를 수 있기에, 동일한 결과를 위해 seed 값을 고정시킵니다"
   ]
  },
  {
   "cell_type": "code",
   "execution_count": 2,
   "metadata": {
    "ExecuteTime": {
     "end_time": "2023-11-22T06:27:04.207724Z",
     "start_time": "2023-11-22T06:27:04.206006Z"
    },
    "id": "JU6RISf6JoRe",
    "pbl_cell_type": "code",
    "step_id": 5096,
    "step_number": 1
   },
   "outputs": [],
   "source": [
    "import os\n",
    "import random\n",
    "import numpy as np\n",
    "\n",
    "def seed_everything(seed):\n",
    "    random.seed(seed)\n",
    "    os.environ['PYTHONHASHSEED'] = str(seed)\n",
    "    np.random.seed(seed)\n",
    "\n",
    "seed_everything(42)"
   ]
  },
  {
   "cell_type": "markdown",
   "metadata": {
    "id": "yCyLPSe_JoRf",
    "pbl_cell_type": "markdown",
    "step_id": 5096,
    "step_number": 1
   },
   "source": [
    "## **데이터 불러오기 및 상위행 확인**  \n",
    "\n",
    "train.csv, test.csv 파일을 로드하여 상위행을 출력해 봅시다"
   ]
  },
  {
   "cell_type": "code",
   "execution_count": 3,
   "metadata": {
    "ExecuteTime": {
     "end_time": "2023-11-22T06:27:04.333724Z",
     "start_time": "2023-11-22T06:27:04.208279Z"
    },
    "id": "s3-Z_wbNJoRf",
    "outputId": "349c6dd4-cb36-4dce-bfe3-25a9ccbfdc63",
    "pbl_cell_type": "code",
    "step_id": 5096,
    "step_number": 1
   },
   "outputs": [
    {
     "data": {
      "text/html": [
       "<div>\n",
       "<style scoped>\n",
       "    .dataframe tbody tr th:only-of-type {\n",
       "        vertical-align: middle;\n",
       "    }\n",
       "\n",
       "    .dataframe tbody tr th {\n",
       "        vertical-align: top;\n",
       "    }\n",
       "\n",
       "    .dataframe thead th {\n",
       "        text-align: right;\n",
       "    }\n",
       "</style>\n",
       "<table border=\"1\" class=\"dataframe\">\n",
       "  <thead>\n",
       "    <tr style=\"text-align: right;\">\n",
       "      <th></th>\n",
       "      <th>ID</th>\n",
       "      <th>사고일시</th>\n",
       "      <th>요일</th>\n",
       "      <th>기상상태</th>\n",
       "      <th>시군구</th>\n",
       "      <th>도로형태</th>\n",
       "      <th>노면상태</th>\n",
       "      <th>사고유형</th>\n",
       "      <th>사고유형 - 세부분류</th>\n",
       "      <th>법규위반</th>\n",
       "      <th>...</th>\n",
       "      <th>가해운전자 상해정도</th>\n",
       "      <th>피해운전자 차종</th>\n",
       "      <th>피해운전자 성별</th>\n",
       "      <th>피해운전자 연령</th>\n",
       "      <th>피해운전자 상해정도</th>\n",
       "      <th>사망자수</th>\n",
       "      <th>중상자수</th>\n",
       "      <th>경상자수</th>\n",
       "      <th>부상자수</th>\n",
       "      <th>ECLO</th>\n",
       "    </tr>\n",
       "  </thead>\n",
       "  <tbody>\n",
       "    <tr>\n",
       "      <th>0</th>\n",
       "      <td>ACCIDENT_00000</td>\n",
       "      <td>2019-01-01 00</td>\n",
       "      <td>화요일</td>\n",
       "      <td>맑음</td>\n",
       "      <td>대구광역시 중구 대신동</td>\n",
       "      <td>단일로 - 기타</td>\n",
       "      <td>건조</td>\n",
       "      <td>차대사람</td>\n",
       "      <td>길가장자리구역통행중</td>\n",
       "      <td>안전운전불이행</td>\n",
       "      <td>...</td>\n",
       "      <td>상해없음</td>\n",
       "      <td>보행자</td>\n",
       "      <td>여</td>\n",
       "      <td>70세</td>\n",
       "      <td>중상</td>\n",
       "      <td>0</td>\n",
       "      <td>1</td>\n",
       "      <td>0</td>\n",
       "      <td>0</td>\n",
       "      <td>5</td>\n",
       "    </tr>\n",
       "    <tr>\n",
       "      <th>1</th>\n",
       "      <td>ACCIDENT_00001</td>\n",
       "      <td>2019-01-01 00</td>\n",
       "      <td>화요일</td>\n",
       "      <td>흐림</td>\n",
       "      <td>대구광역시 달서구 감삼동</td>\n",
       "      <td>단일로 - 기타</td>\n",
       "      <td>건조</td>\n",
       "      <td>차대사람</td>\n",
       "      <td>보도통행중</td>\n",
       "      <td>기타</td>\n",
       "      <td>...</td>\n",
       "      <td>상해없음</td>\n",
       "      <td>보행자</td>\n",
       "      <td>남</td>\n",
       "      <td>61세</td>\n",
       "      <td>경상</td>\n",
       "      <td>0</td>\n",
       "      <td>0</td>\n",
       "      <td>1</td>\n",
       "      <td>0</td>\n",
       "      <td>3</td>\n",
       "    </tr>\n",
       "    <tr>\n",
       "      <th>2</th>\n",
       "      <td>ACCIDENT_00002</td>\n",
       "      <td>2019-01-01 01</td>\n",
       "      <td>화요일</td>\n",
       "      <td>맑음</td>\n",
       "      <td>대구광역시 수성구 두산동</td>\n",
       "      <td>단일로 - 기타</td>\n",
       "      <td>건조</td>\n",
       "      <td>차대사람</td>\n",
       "      <td>차도통행중</td>\n",
       "      <td>안전운전불이행</td>\n",
       "      <td>...</td>\n",
       "      <td>상해없음</td>\n",
       "      <td>보행자</td>\n",
       "      <td>남</td>\n",
       "      <td>38세</td>\n",
       "      <td>경상</td>\n",
       "      <td>0</td>\n",
       "      <td>0</td>\n",
       "      <td>1</td>\n",
       "      <td>0</td>\n",
       "      <td>3</td>\n",
       "    </tr>\n",
       "    <tr>\n",
       "      <th>3</th>\n",
       "      <td>ACCIDENT_00003</td>\n",
       "      <td>2019-01-01 02</td>\n",
       "      <td>화요일</td>\n",
       "      <td>맑음</td>\n",
       "      <td>대구광역시 북구 복현동</td>\n",
       "      <td>단일로 - 기타</td>\n",
       "      <td>건조</td>\n",
       "      <td>차대차</td>\n",
       "      <td>추돌</td>\n",
       "      <td>안전운전불이행</td>\n",
       "      <td>...</td>\n",
       "      <td>상해없음</td>\n",
       "      <td>승용</td>\n",
       "      <td>남</td>\n",
       "      <td>36세</td>\n",
       "      <td>중상</td>\n",
       "      <td>0</td>\n",
       "      <td>1</td>\n",
       "      <td>0</td>\n",
       "      <td>0</td>\n",
       "      <td>5</td>\n",
       "    </tr>\n",
       "    <tr>\n",
       "      <th>4</th>\n",
       "      <td>ACCIDENT_00004</td>\n",
       "      <td>2019-01-01 04</td>\n",
       "      <td>화요일</td>\n",
       "      <td>맑음</td>\n",
       "      <td>대구광역시 동구 신암동</td>\n",
       "      <td>단일로 - 기타</td>\n",
       "      <td>건조</td>\n",
       "      <td>차대차</td>\n",
       "      <td>추돌</td>\n",
       "      <td>안전운전불이행</td>\n",
       "      <td>...</td>\n",
       "      <td>상해없음</td>\n",
       "      <td>승용</td>\n",
       "      <td>남</td>\n",
       "      <td>52세</td>\n",
       "      <td>경상</td>\n",
       "      <td>0</td>\n",
       "      <td>0</td>\n",
       "      <td>1</td>\n",
       "      <td>0</td>\n",
       "      <td>3</td>\n",
       "    </tr>\n",
       "  </tbody>\n",
       "</table>\n",
       "<p>5 rows × 23 columns</p>\n",
       "</div>"
      ],
      "text/plain": [
       "               ID           사고일시   요일 기상상태            시군구      도로형태 노면상태  \\\n",
       "0  ACCIDENT_00000  2019-01-01 00  화요일   맑음   대구광역시 중구 대신동  단일로 - 기타   건조   \n",
       "1  ACCIDENT_00001  2019-01-01 00  화요일   흐림  대구광역시 달서구 감삼동  단일로 - 기타   건조   \n",
       "2  ACCIDENT_00002  2019-01-01 01  화요일   맑음  대구광역시 수성구 두산동  단일로 - 기타   건조   \n",
       "3  ACCIDENT_00003  2019-01-01 02  화요일   맑음   대구광역시 북구 복현동  단일로 - 기타   건조   \n",
       "4  ACCIDENT_00004  2019-01-01 04  화요일   맑음   대구광역시 동구 신암동  단일로 - 기타   건조   \n",
       "\n",
       "   사고유형 사고유형 - 세부분류     법규위반  ... 가해운전자 상해정도 피해운전자 차종 피해운전자 성별 피해운전자 연령  \\\n",
       "0  차대사람  길가장자리구역통행중  안전운전불이행  ...       상해없음      보행자        여      70세   \n",
       "1  차대사람       보도통행중       기타  ...       상해없음      보행자        남      61세   \n",
       "2  차대사람       차도통행중  안전운전불이행  ...       상해없음      보행자        남      38세   \n",
       "3   차대차          추돌  안전운전불이행  ...       상해없음       승용        남      36세   \n",
       "4   차대차          추돌  안전운전불이행  ...       상해없음       승용        남      52세   \n",
       "\n",
       "  피해운전자 상해정도 사망자수 중상자수 경상자수  부상자수  ECLO  \n",
       "0         중상    0    1    0     0     5  \n",
       "1         경상    0    0    1     0     3  \n",
       "2         경상    0    0    1     0     3  \n",
       "3         중상    0    1    0     0     5  \n",
       "4         경상    0    0    1     0     3  \n",
       "\n",
       "[5 rows x 23 columns]"
      ]
     },
     "metadata": {},
     "output_type": "display_data"
    },
    {
     "data": {
      "text/html": [
       "<div>\n",
       "<style scoped>\n",
       "    .dataframe tbody tr th:only-of-type {\n",
       "        vertical-align: middle;\n",
       "    }\n",
       "\n",
       "    .dataframe tbody tr th {\n",
       "        vertical-align: top;\n",
       "    }\n",
       "\n",
       "    .dataframe thead th {\n",
       "        text-align: right;\n",
       "    }\n",
       "</style>\n",
       "<table border=\"1\" class=\"dataframe\">\n",
       "  <thead>\n",
       "    <tr style=\"text-align: right;\">\n",
       "      <th></th>\n",
       "      <th>ID</th>\n",
       "      <th>사고일시</th>\n",
       "      <th>요일</th>\n",
       "      <th>기상상태</th>\n",
       "      <th>시군구</th>\n",
       "      <th>도로형태</th>\n",
       "      <th>노면상태</th>\n",
       "      <th>사고유형</th>\n",
       "    </tr>\n",
       "  </thead>\n",
       "  <tbody>\n",
       "    <tr>\n",
       "      <th>10958</th>\n",
       "      <td>ACCIDENT_50567</td>\n",
       "      <td>2022-12-31 18</td>\n",
       "      <td>토요일</td>\n",
       "      <td>맑음</td>\n",
       "      <td>대구광역시 남구 대명동</td>\n",
       "      <td>단일로 - 터널</td>\n",
       "      <td>건조</td>\n",
       "      <td>차대차</td>\n",
       "    </tr>\n",
       "    <tr>\n",
       "      <th>10959</th>\n",
       "      <td>ACCIDENT_50568</td>\n",
       "      <td>2022-12-31 18</td>\n",
       "      <td>토요일</td>\n",
       "      <td>맑음</td>\n",
       "      <td>대구광역시 수성구 시지동</td>\n",
       "      <td>단일로 - 기타</td>\n",
       "      <td>건조</td>\n",
       "      <td>차대차</td>\n",
       "    </tr>\n",
       "    <tr>\n",
       "      <th>10960</th>\n",
       "      <td>ACCIDENT_50569</td>\n",
       "      <td>2022-12-31 20</td>\n",
       "      <td>토요일</td>\n",
       "      <td>맑음</td>\n",
       "      <td>대구광역시 수성구 연호동</td>\n",
       "      <td>단일로 - 기타</td>\n",
       "      <td>건조</td>\n",
       "      <td>차대차</td>\n",
       "    </tr>\n",
       "    <tr>\n",
       "      <th>10961</th>\n",
       "      <td>ACCIDENT_50570</td>\n",
       "      <td>2022-12-31 20</td>\n",
       "      <td>토요일</td>\n",
       "      <td>맑음</td>\n",
       "      <td>대구광역시 수성구 범물동</td>\n",
       "      <td>교차로 - 교차로부근</td>\n",
       "      <td>건조</td>\n",
       "      <td>차대차</td>\n",
       "    </tr>\n",
       "    <tr>\n",
       "      <th>10962</th>\n",
       "      <td>ACCIDENT_50571</td>\n",
       "      <td>2022-12-31 21</td>\n",
       "      <td>토요일</td>\n",
       "      <td>맑음</td>\n",
       "      <td>대구광역시 동구 효목동</td>\n",
       "      <td>교차로 - 교차로부근</td>\n",
       "      <td>건조</td>\n",
       "      <td>차대차</td>\n",
       "    </tr>\n",
       "  </tbody>\n",
       "</table>\n",
       "</div>"
      ],
      "text/plain": [
       "                   ID           사고일시   요일 기상상태            시군구         도로형태  \\\n",
       "10958  ACCIDENT_50567  2022-12-31 18  토요일   맑음   대구광역시 남구 대명동     단일로 - 터널   \n",
       "10959  ACCIDENT_50568  2022-12-31 18  토요일   맑음  대구광역시 수성구 시지동     단일로 - 기타   \n",
       "10960  ACCIDENT_50569  2022-12-31 20  토요일   맑음  대구광역시 수성구 연호동     단일로 - 기타   \n",
       "10961  ACCIDENT_50570  2022-12-31 20  토요일   맑음  대구광역시 수성구 범물동  교차로 - 교차로부근   \n",
       "10962  ACCIDENT_50571  2022-12-31 21  토요일   맑음   대구광역시 동구 효목동  교차로 - 교차로부근   \n",
       "\n",
       "      노면상태 사고유형  \n",
       "10958   건조  차대차  \n",
       "10959   건조  차대차  \n",
       "10960   건조  차대차  \n",
       "10961   건조  차대차  \n",
       "10962   건조  차대차  "
      ]
     },
     "metadata": {},
     "output_type": "display_data"
    }
   ],
   "source": [
    "import pandas as pd\n",
    "from datetime import datetime\n",
    "\n",
    "train = pd.read_csv('./open/train.csv', encoding = \"utf-8\", low_memory=False)\n",
    "test = pd.read_csv('./open/test.csv', encoding = \"utf-8\", low_memory=False)\n",
    "\n",
    "display(train.head())\n",
    "display(test.tail())"
   ]
  },
  {
   "cell_type": "markdown",
   "metadata": {
    "id": "xT9y8UNRJoRg",
    "pbl_cell_type": "markdown",
    "step_id": 5096,
    "step_number": 1
   },
   "source": [
    "## **train, test 데이터 기간 확인하기**  \n",
    "\n",
    "학습(train) 데이터의 기간과 예측 대상이 되는 test 데이터의 기간을 살펴 봅니다"
   ]
  },
  {
   "cell_type": "code",
   "execution_count": 4,
   "metadata": {
    "ExecuteTime": {
     "end_time": "2023-11-22T06:27:04.338240Z",
     "start_time": "2023-11-22T06:27:04.334793Z"
    },
    "id": "nhBxBs2WJoRg",
    "outputId": "293b589c-3055-4027-f8c3-b91fa3259f24",
    "pbl_cell_type": "code",
    "step_id": 5096,
    "step_number": 1
   },
   "outputs": [
    {
     "data": {
      "text/plain": [
       "'train : 2019-01-01 00 ~ 2021-12-31 23'"
      ]
     },
     "metadata": {},
     "output_type": "display_data"
    },
    {
     "data": {
      "text/plain": [
       "'test : 2022-01-01 01 ~ 2022-12-31 21'"
      ]
     },
     "metadata": {},
     "output_type": "display_data"
    }
   ],
   "source": [
    "display(f\"train : {train.iloc[0]['사고일시']} ~ {train.iloc[-1]['사고일시']}\")\n",
    "display(f\"test : {test.iloc[0]['사고일시']} ~ {test.iloc[-1]['사고일시']}\")"
   ]
  },
  {
   "cell_type": "markdown",
   "metadata": {
    "id": "3SHgKAj7JoRh"
   },
   "source": [
    "### Data Info"
   ]
  },
  {
   "cell_type": "code",
   "execution_count": 5,
   "metadata": {
    "ExecuteTime": {
     "end_time": "2023-11-22T06:27:04.359597Z",
     "start_time": "2023-11-22T06:27:04.339601Z"
    },
    "id": "hiabtZLyJoRh"
   },
   "outputs": [],
   "source": [
    "#'사고일시' 데이터 타입을 object -> datetime으로  바꾸기\n",
    "train['사고일시'] = pd.to_datetime(train['사고일시'])\n",
    "test['사고일시'] = pd.to_datetime(test['사고일시'])"
   ]
  },
  {
   "cell_type": "markdown",
   "metadata": {
    "id": "PROt3QizJoRk"
   },
   "source": [
    "### 날짜 데이터 파싱하기"
   ]
  },
  {
   "cell_type": "code",
   "execution_count": 6,
   "metadata": {
    "ExecuteTime": {
     "end_time": "2023-11-22T06:27:04.370823Z",
     "start_time": "2023-11-22T06:27:04.363249Z"
    },
    "id": "mzrPzRNAJoRk"
   },
   "outputs": [],
   "source": [
    "train['year'] = train.사고일시.dt.year\n",
    "train['month'] = train.사고일시.dt.month\n",
    "train['day'] = train.사고일시.dt.day\n",
    "train['hour'] = train.사고일시.dt.hour"
   ]
  },
  {
   "cell_type": "code",
   "execution_count": 7,
   "metadata": {
    "ExecuteTime": {
     "end_time": "2023-11-22T06:27:04.375093Z",
     "start_time": "2023-11-22T06:27:04.371610Z"
    },
    "id": "B99WyCuZJoRk"
   },
   "outputs": [],
   "source": [
    "test['year'] = test.사고일시.dt.year\n",
    "test['month'] = test.사고일시.dt.month\n",
    "test['day'] = test.사고일시.dt.day\n",
    "test['hour'] = test.사고일시.dt.hour"
   ]
  },
  {
   "cell_type": "markdown",
   "metadata": {
    "id": "TOeUh7fcJoRk",
    "pbl_cell_type": "markdown",
    "step_id": 5168,
    "step_number": 2
   },
   "source": [
    "## **데이터 전처리**  \n",
    "\n",
    "현재 '사고일시', '시군구', '도로형태' 컬럼은 반복되는 패턴으로 여러 정보를 포함하고 있습니다\n",
    "이런 반복되는 패턴을 일반화하면 pandas에서 제공하는 str.extract를 통해 한 번에 추출 가능합니다  \n",
    "\n",
    "## **파생 변수 생성 1 : 날짜, 시간정보 생성**\n",
    "\n",
    "'사고일시' 컬럼으로 부터 연도, 월, 일, 시간 정보 추출 및 변환 합니다"
   ]
  },
  {
   "cell_type": "code",
   "execution_count": 8,
   "metadata": {
    "ExecuteTime": {
     "end_time": "2023-11-22T06:27:04.487631Z",
     "start_time": "2023-11-22T06:27:04.375641Z"
    },
    "id": "PGeKhkdKJoRk",
    "outputId": "104350a0-7c5f-4c8c-9d1d-6ca8d92b3e12"
   },
   "outputs": [
    {
     "data": {
      "text/html": [
       "<div>\n",
       "<style scoped>\n",
       "    .dataframe tbody tr th:only-of-type {\n",
       "        vertical-align: middle;\n",
       "    }\n",
       "\n",
       "    .dataframe tbody tr th {\n",
       "        vertical-align: top;\n",
       "    }\n",
       "\n",
       "    .dataframe thead th {\n",
       "        text-align: right;\n",
       "    }\n",
       "</style>\n",
       "<table border=\"1\" class=\"dataframe\">\n",
       "  <thead>\n",
       "    <tr style=\"text-align: right;\">\n",
       "      <th></th>\n",
       "      <th>ID</th>\n",
       "      <th>사고일시</th>\n",
       "      <th>요일</th>\n",
       "      <th>기상상태</th>\n",
       "      <th>시군구</th>\n",
       "      <th>도로형태</th>\n",
       "      <th>노면상태</th>\n",
       "      <th>사고유형</th>\n",
       "      <th>사고유형 - 세부분류</th>\n",
       "      <th>법규위반</th>\n",
       "      <th>...</th>\n",
       "      <th>가해운전자 상해정도</th>\n",
       "      <th>피해운전자 차종</th>\n",
       "      <th>피해운전자 성별</th>\n",
       "      <th>피해운전자 연령</th>\n",
       "      <th>피해운전자 상해정도</th>\n",
       "      <th>사망자수</th>\n",
       "      <th>중상자수</th>\n",
       "      <th>경상자수</th>\n",
       "      <th>부상자수</th>\n",
       "      <th>ECLO</th>\n",
       "    </tr>\n",
       "  </thead>\n",
       "  <tbody>\n",
       "    <tr>\n",
       "      <th>0</th>\n",
       "      <td>ACCIDENT_00000</td>\n",
       "      <td>2019-01-01 00</td>\n",
       "      <td>화요일</td>\n",
       "      <td>맑음</td>\n",
       "      <td>대구광역시 중구 대신동</td>\n",
       "      <td>단일로 - 기타</td>\n",
       "      <td>건조</td>\n",
       "      <td>차대사람</td>\n",
       "      <td>길가장자리구역통행중</td>\n",
       "      <td>안전운전불이행</td>\n",
       "      <td>...</td>\n",
       "      <td>상해없음</td>\n",
       "      <td>보행자</td>\n",
       "      <td>여</td>\n",
       "      <td>70세</td>\n",
       "      <td>중상</td>\n",
       "      <td>0</td>\n",
       "      <td>1</td>\n",
       "      <td>0</td>\n",
       "      <td>0</td>\n",
       "      <td>5</td>\n",
       "    </tr>\n",
       "    <tr>\n",
       "      <th>1</th>\n",
       "      <td>ACCIDENT_00001</td>\n",
       "      <td>2019-01-01 00</td>\n",
       "      <td>화요일</td>\n",
       "      <td>흐림</td>\n",
       "      <td>대구광역시 달서구 감삼동</td>\n",
       "      <td>단일로 - 기타</td>\n",
       "      <td>건조</td>\n",
       "      <td>차대사람</td>\n",
       "      <td>보도통행중</td>\n",
       "      <td>기타</td>\n",
       "      <td>...</td>\n",
       "      <td>상해없음</td>\n",
       "      <td>보행자</td>\n",
       "      <td>남</td>\n",
       "      <td>61세</td>\n",
       "      <td>경상</td>\n",
       "      <td>0</td>\n",
       "      <td>0</td>\n",
       "      <td>1</td>\n",
       "      <td>0</td>\n",
       "      <td>3</td>\n",
       "    </tr>\n",
       "    <tr>\n",
       "      <th>2</th>\n",
       "      <td>ACCIDENT_00002</td>\n",
       "      <td>2019-01-01 01</td>\n",
       "      <td>화요일</td>\n",
       "      <td>맑음</td>\n",
       "      <td>대구광역시 수성구 두산동</td>\n",
       "      <td>단일로 - 기타</td>\n",
       "      <td>건조</td>\n",
       "      <td>차대사람</td>\n",
       "      <td>차도통행중</td>\n",
       "      <td>안전운전불이행</td>\n",
       "      <td>...</td>\n",
       "      <td>상해없음</td>\n",
       "      <td>보행자</td>\n",
       "      <td>남</td>\n",
       "      <td>38세</td>\n",
       "      <td>경상</td>\n",
       "      <td>0</td>\n",
       "      <td>0</td>\n",
       "      <td>1</td>\n",
       "      <td>0</td>\n",
       "      <td>3</td>\n",
       "    </tr>\n",
       "    <tr>\n",
       "      <th>3</th>\n",
       "      <td>ACCIDENT_00003</td>\n",
       "      <td>2019-01-01 02</td>\n",
       "      <td>화요일</td>\n",
       "      <td>맑음</td>\n",
       "      <td>대구광역시 북구 복현동</td>\n",
       "      <td>단일로 - 기타</td>\n",
       "      <td>건조</td>\n",
       "      <td>차대차</td>\n",
       "      <td>추돌</td>\n",
       "      <td>안전운전불이행</td>\n",
       "      <td>...</td>\n",
       "      <td>상해없음</td>\n",
       "      <td>승용</td>\n",
       "      <td>남</td>\n",
       "      <td>36세</td>\n",
       "      <td>중상</td>\n",
       "      <td>0</td>\n",
       "      <td>1</td>\n",
       "      <td>0</td>\n",
       "      <td>0</td>\n",
       "      <td>5</td>\n",
       "    </tr>\n",
       "    <tr>\n",
       "      <th>4</th>\n",
       "      <td>ACCIDENT_00004</td>\n",
       "      <td>2019-01-01 04</td>\n",
       "      <td>화요일</td>\n",
       "      <td>맑음</td>\n",
       "      <td>대구광역시 동구 신암동</td>\n",
       "      <td>단일로 - 기타</td>\n",
       "      <td>건조</td>\n",
       "      <td>차대차</td>\n",
       "      <td>추돌</td>\n",
       "      <td>안전운전불이행</td>\n",
       "      <td>...</td>\n",
       "      <td>상해없음</td>\n",
       "      <td>승용</td>\n",
       "      <td>남</td>\n",
       "      <td>52세</td>\n",
       "      <td>경상</td>\n",
       "      <td>0</td>\n",
       "      <td>0</td>\n",
       "      <td>1</td>\n",
       "      <td>0</td>\n",
       "      <td>3</td>\n",
       "    </tr>\n",
       "  </tbody>\n",
       "</table>\n",
       "<p>5 rows × 23 columns</p>\n",
       "</div>"
      ],
      "text/plain": [
       "               ID           사고일시   요일 기상상태            시군구      도로형태 노면상태  \\\n",
       "0  ACCIDENT_00000  2019-01-01 00  화요일   맑음   대구광역시 중구 대신동  단일로 - 기타   건조   \n",
       "1  ACCIDENT_00001  2019-01-01 00  화요일   흐림  대구광역시 달서구 감삼동  단일로 - 기타   건조   \n",
       "2  ACCIDENT_00002  2019-01-01 01  화요일   맑음  대구광역시 수성구 두산동  단일로 - 기타   건조   \n",
       "3  ACCIDENT_00003  2019-01-01 02  화요일   맑음   대구광역시 북구 복현동  단일로 - 기타   건조   \n",
       "4  ACCIDENT_00004  2019-01-01 04  화요일   맑음   대구광역시 동구 신암동  단일로 - 기타   건조   \n",
       "\n",
       "   사고유형 사고유형 - 세부분류     법규위반  ... 가해운전자 상해정도 피해운전자 차종 피해운전자 성별 피해운전자 연령  \\\n",
       "0  차대사람  길가장자리구역통행중  안전운전불이행  ...       상해없음      보행자        여      70세   \n",
       "1  차대사람       보도통행중       기타  ...       상해없음      보행자        남      61세   \n",
       "2  차대사람       차도통행중  안전운전불이행  ...       상해없음      보행자        남      38세   \n",
       "3   차대차          추돌  안전운전불이행  ...       상해없음       승용        남      36세   \n",
       "4   차대차          추돌  안전운전불이행  ...       상해없음       승용        남      52세   \n",
       "\n",
       "  피해운전자 상해정도 사망자수 중상자수 경상자수  부상자수  ECLO  \n",
       "0         중상    0    1    0     0     5  \n",
       "1         경상    0    0    1     0     3  \n",
       "2         경상    0    0    1     0     3  \n",
       "3         중상    0    1    0     0     5  \n",
       "4         경상    0    0    1     0     3  \n",
       "\n",
       "[5 rows x 23 columns]"
      ]
     },
     "metadata": {},
     "output_type": "display_data"
    },
    {
     "data": {
      "text/html": [
       "<div>\n",
       "<style scoped>\n",
       "    .dataframe tbody tr th:only-of-type {\n",
       "        vertical-align: middle;\n",
       "    }\n",
       "\n",
       "    .dataframe tbody tr th {\n",
       "        vertical-align: top;\n",
       "    }\n",
       "\n",
       "    .dataframe thead th {\n",
       "        text-align: right;\n",
       "    }\n",
       "</style>\n",
       "<table border=\"1\" class=\"dataframe\">\n",
       "  <thead>\n",
       "    <tr style=\"text-align: right;\">\n",
       "      <th></th>\n",
       "      <th>ID</th>\n",
       "      <th>사고일시</th>\n",
       "      <th>요일</th>\n",
       "      <th>기상상태</th>\n",
       "      <th>시군구</th>\n",
       "      <th>도로형태</th>\n",
       "      <th>노면상태</th>\n",
       "      <th>사고유형</th>\n",
       "    </tr>\n",
       "  </thead>\n",
       "  <tbody>\n",
       "    <tr>\n",
       "      <th>10958</th>\n",
       "      <td>ACCIDENT_50567</td>\n",
       "      <td>2022-12-31 18</td>\n",
       "      <td>토요일</td>\n",
       "      <td>맑음</td>\n",
       "      <td>대구광역시 남구 대명동</td>\n",
       "      <td>단일로 - 터널</td>\n",
       "      <td>건조</td>\n",
       "      <td>차대차</td>\n",
       "    </tr>\n",
       "    <tr>\n",
       "      <th>10959</th>\n",
       "      <td>ACCIDENT_50568</td>\n",
       "      <td>2022-12-31 18</td>\n",
       "      <td>토요일</td>\n",
       "      <td>맑음</td>\n",
       "      <td>대구광역시 수성구 시지동</td>\n",
       "      <td>단일로 - 기타</td>\n",
       "      <td>건조</td>\n",
       "      <td>차대차</td>\n",
       "    </tr>\n",
       "    <tr>\n",
       "      <th>10960</th>\n",
       "      <td>ACCIDENT_50569</td>\n",
       "      <td>2022-12-31 20</td>\n",
       "      <td>토요일</td>\n",
       "      <td>맑음</td>\n",
       "      <td>대구광역시 수성구 연호동</td>\n",
       "      <td>단일로 - 기타</td>\n",
       "      <td>건조</td>\n",
       "      <td>차대차</td>\n",
       "    </tr>\n",
       "    <tr>\n",
       "      <th>10961</th>\n",
       "      <td>ACCIDENT_50570</td>\n",
       "      <td>2022-12-31 20</td>\n",
       "      <td>토요일</td>\n",
       "      <td>맑음</td>\n",
       "      <td>대구광역시 수성구 범물동</td>\n",
       "      <td>교차로 - 교차로부근</td>\n",
       "      <td>건조</td>\n",
       "      <td>차대차</td>\n",
       "    </tr>\n",
       "    <tr>\n",
       "      <th>10962</th>\n",
       "      <td>ACCIDENT_50571</td>\n",
       "      <td>2022-12-31 21</td>\n",
       "      <td>토요일</td>\n",
       "      <td>맑음</td>\n",
       "      <td>대구광역시 동구 효목동</td>\n",
       "      <td>교차로 - 교차로부근</td>\n",
       "      <td>건조</td>\n",
       "      <td>차대차</td>\n",
       "    </tr>\n",
       "  </tbody>\n",
       "</table>\n",
       "</div>"
      ],
      "text/plain": [
       "                   ID           사고일시   요일 기상상태            시군구         도로형태  \\\n",
       "10958  ACCIDENT_50567  2022-12-31 18  토요일   맑음   대구광역시 남구 대명동     단일로 - 터널   \n",
       "10959  ACCIDENT_50568  2022-12-31 18  토요일   맑음  대구광역시 수성구 시지동     단일로 - 기타   \n",
       "10960  ACCIDENT_50569  2022-12-31 20  토요일   맑음  대구광역시 수성구 연호동     단일로 - 기타   \n",
       "10961  ACCIDENT_50570  2022-12-31 20  토요일   맑음  대구광역시 수성구 범물동  교차로 - 교차로부근   \n",
       "10962  ACCIDENT_50571  2022-12-31 21  토요일   맑음   대구광역시 동구 효목동  교차로 - 교차로부근   \n",
       "\n",
       "      노면상태 사고유형  \n",
       "10958   건조  차대차  \n",
       "10959   건조  차대차  \n",
       "10960   건조  차대차  \n",
       "10961   건조  차대차  \n",
       "10962   건조  차대차  "
      ]
     },
     "metadata": {},
     "output_type": "display_data"
    }
   ],
   "source": [
    "import pandas as pd\n",
    "from datetime import datetime\n",
    "\n",
    "train_org = pd.read_csv('./open/train.csv',encoding = \"utf-8\", low_memory=False)\n",
    "test_org = pd.read_csv('./open/test.csv', encoding = \"utf-8\", low_memory=False)\n",
    "\n",
    "display(train_org.head())\n",
    "display(test_org.tail())"
   ]
  },
  {
   "cell_type": "code",
   "execution_count": 9,
   "metadata": {
    "ExecuteTime": {
     "end_time": "2023-11-22T06:27:04.676497Z",
     "start_time": "2023-11-22T06:27:04.488920Z"
    },
    "id": "_woJ1MBbJoRk",
    "outputId": "d1396310-f894-466f-f629-3e6affbd53bf",
    "pbl_cell_type": "code",
    "step_id": 5168,
    "step_number": 2
   },
   "outputs": [
    {
     "data": {
      "text/plain": [
       "\"columns of train_df : Index(['ID', '요일', '기상상태', '시군구', '도로형태', '노면상태', '사고유형', '사고유형 - 세부분류',\\n       '법규위반', '가해운전자 차종', '가해운전자 성별', '가해운전자 연령', '가해운전자 상해정도', '피해운전자 차종',\\n       '피해운전자 성별', '피해운전자 연령', '피해운전자 상해정도', '사망자수', '중상자수', '경상자수', '부상자수',\\n       'ECLO', '연', '월', '일', '시간'],\\n      dtype='object')\""
      ]
     },
     "metadata": {},
     "output_type": "display_data"
    },
    {
     "data": {
      "text/plain": [
       "\"columns of test_df : Index(['ID', '요일', '기상상태', '시군구', '도로형태', '노면상태', '사고유형', '연', '월', '일', '시간'], dtype='object')\""
      ]
     },
     "metadata": {},
     "output_type": "display_data"
    }
   ],
   "source": [
    "train_df = train_org.copy()\n",
    "test_df = test_org.copy()\n",
    "\n",
    "time_pattern = r'(\\d{4})-(\\d{1,2})-(\\d{1,2}) (\\d{1,2})'\n",
    "\n",
    "train_df[['연', '월', '일', '시간']] = train_org['사고일시'].str.extract(time_pattern)\n",
    "train_df[['연', '월', '일', '시간']] = train_df[['연', '월', '일', '시간']].apply(pd.to_numeric) # 추출된 문자열을 수치화해줍니다\n",
    "train_df = train_df.drop(columns=['사고일시']) # 정보 추출이 완료된 '사고일시' 컬럼은 제거합니다\n",
    "\n",
    "# 해당 과정을 test_x에 대해서도 반복해줍니다\n",
    "test_df[['연', '월', '일', '시간']] = test_org['사고일시'].str.extract(time_pattern)\n",
    "test_df[['연', '월', '일', '시간']] = test_df[['연', '월', '일', '시간']].apply(pd.to_numeric)\n",
    "test_df = test_df.drop(columns=['사고일시'])\n",
    "\n",
    "display(f\"columns of train_df : {train_df.columns}\")\n",
    "display(f\"columns of test_df : {test_df.columns}\")"
   ]
  },
  {
   "cell_type": "markdown",
   "metadata": {
    "id": "DAUjtZeCJoRl",
    "pbl_cell_type": "markdown",
    "step_id": 5169,
    "step_number": 3
   },
   "source": [
    "## **파생 변수 생성 2 : 공간(위치) 정보 생성**\n",
    "\n",
    "'시군구' 컬럼으로부터 의미 있는 공산 정보를 추출 및 변환 합니다"
   ]
  },
  {
   "cell_type": "code",
   "execution_count": 10,
   "metadata": {
    "ExecuteTime": {
     "end_time": "2023-11-22T06:27:04.741239Z",
     "start_time": "2023-11-22T06:27:04.677344Z"
    },
    "id": "EW2G7DuZJoRl",
    "outputId": "d89c739a-03ae-4f40-f211-ec98c345003d",
    "pbl_cell_type": "code",
    "step_id": 5169,
    "step_number": 3
   },
   "outputs": [
    {
     "data": {
      "text/plain": [
       "\"columns of train_df : Index(['ID', '요일', '기상상태', '도로형태', '노면상태', '사고유형', '사고유형 - 세부분류', '법규위반',\\n       '가해운전자 차종', '가해운전자 성별', '가해운전자 연령', '가해운전자 상해정도', '피해운전자 차종',\\n       '피해운전자 성별', '피해운전자 연령', '피해운전자 상해정도', '사망자수', '중상자수', '경상자수', '부상자수',\\n       'ECLO', '연', '월', '일', '시간', '도시', '구', '동'],\\n      dtype='object')\""
      ]
     },
     "metadata": {},
     "output_type": "display_data"
    },
    {
     "data": {
      "text/plain": [
       "\"columns of test_df : Index(['ID', '요일', '기상상태', '도로형태', '노면상태', '사고유형', '연', '월', '일', '시간', '도시',\\n       '구', '동'],\\n      dtype='object')\""
      ]
     },
     "metadata": {},
     "output_type": "display_data"
    }
   ],
   "source": [
    "location_pattern = r'(\\S+) (\\S+) (\\S+)'\n",
    "\n",
    "train_df[['도시', '구', '동']] = train_org['시군구'].str.extract(location_pattern)\n",
    "train_df = train_df.drop(columns=['시군구'])\n",
    "\n",
    "test_df[['도시', '구', '동']] = test_org['시군구'].str.extract(location_pattern)\n",
    "test_df = test_df.drop(columns=['시군구'])\n",
    "\n",
    "display(f\"columns of train_df : {train_df.columns}\")\n",
    "display(f\"columns of test_df : {test_df.columns}\")"
   ]
  },
  {
   "cell_type": "markdown",
   "metadata": {
    "id": "w2eqjFtJJoRl",
    "pbl_cell_type": "markdown",
    "step_id": 5170,
    "step_number": 4
   },
   "source": [
    "## **파생 변수 추출 3 : 도로 형태 정보 추출**  \n",
    "\n",
    "'도로형태' 컬럼은 '단일로 - 기타'와 같은 패턴으로 구성되어 있습니다. 이를 두종류의 독립된 정보로 보고 두개의 컬럼으로 분리하여 생성합니다."
   ]
  },
  {
   "cell_type": "code",
   "execution_count": 11,
   "metadata": {
    "ExecuteTime": {
     "end_time": "2023-11-22T06:27:04.832178Z",
     "start_time": "2023-11-22T06:27:04.742178Z"
    },
    "id": "worronJqJoRl",
    "outputId": "6d006717-80ca-4828-bf14-aa4da1faf322",
    "pbl_cell_type": "code",
    "step_id": 5170,
    "step_number": 4
   },
   "outputs": [
    {
     "data": {
      "text/plain": [
       "\"columns of train_df : Index(['ID', '요일', '기상상태', '노면상태', '사고유형', '사고유형 - 세부분류', '법규위반', '가해운전자 차종',\\n       '가해운전자 성별', '가해운전자 연령', '가해운전자 상해정도', '피해운전자 차종', '피해운전자 성별',\\n       '피해운전자 연령', '피해운전자 상해정도', '사망자수', '중상자수', '경상자수', '부상자수', 'ECLO', '연',\\n       '월', '일', '시간', '도시', '구', '동', '도로형태1', '도로형태2'],\\n      dtype='object')\""
      ]
     },
     "metadata": {},
     "output_type": "display_data"
    },
    {
     "data": {
      "text/plain": [
       "\"columns of test_df : Index(['ID', '요일', '기상상태', '노면상태', '사고유형', '연', '월', '일', '시간', '도시', '구', '동',\\n       '도로형태1', '도로형태2'],\\n      dtype='object')\""
      ]
     },
     "metadata": {},
     "output_type": "display_data"
    }
   ],
   "source": [
    "road_pattern = r'(.+) - (.+)'\n",
    "\n",
    "train_df[['도로형태1', '도로형태2']] = train_org['도로형태'].str.extract(road_pattern)\n",
    "train_df = train_df.drop(columns=['도로형태'])\n",
    "\n",
    "test_df[['도로형태1', '도로형태2']] = test_org['도로형태'].str.extract(road_pattern)\n",
    "test_df = test_df.drop(columns=['도로형태'])\n",
    "\n",
    "display(f\"columns of train_df : {train_df.columns}\")\n",
    "display(f\"columns of test_df : {test_df.columns}\")"
   ]
  },
  {
   "cell_type": "markdown",
   "metadata": {
    "id": "Um8Y2i3uJoRl"
   },
   "source": [
    "## train, test 컬럼 수 맞추기\n",
    "\n",
    "test에 있는 컬럼들만 사용하여 train 데이터를 구성했습니다."
   ]
  },
  {
   "cell_type": "code",
   "execution_count": 12,
   "metadata": {
    "ExecuteTime": {
     "end_time": "2023-11-22T06:27:04.846304Z",
     "start_time": "2023-11-22T06:27:04.833038Z"
    },
    "id": "7C4sfAN4JoRl",
    "outputId": "17c80b0b-cc0f-4e56-a193-7d316fcbfe0a"
   },
   "outputs": [
    {
     "data": {
      "text/html": [
       "<div>\n",
       "<style scoped>\n",
       "    .dataframe tbody tr th:only-of-type {\n",
       "        vertical-align: middle;\n",
       "    }\n",
       "\n",
       "    .dataframe tbody tr th {\n",
       "        vertical-align: top;\n",
       "    }\n",
       "\n",
       "    .dataframe thead th {\n",
       "        text-align: right;\n",
       "    }\n",
       "</style>\n",
       "<table border=\"1\" class=\"dataframe\">\n",
       "  <thead>\n",
       "    <tr style=\"text-align: right;\">\n",
       "      <th></th>\n",
       "      <th>ID</th>\n",
       "      <th>요일</th>\n",
       "      <th>기상상태</th>\n",
       "      <th>노면상태</th>\n",
       "      <th>사고유형</th>\n",
       "      <th>연</th>\n",
       "      <th>월</th>\n",
       "      <th>일</th>\n",
       "      <th>시간</th>\n",
       "      <th>도시</th>\n",
       "      <th>구</th>\n",
       "      <th>동</th>\n",
       "      <th>도로형태1</th>\n",
       "      <th>도로형태2</th>\n",
       "    </tr>\n",
       "  </thead>\n",
       "  <tbody>\n",
       "    <tr>\n",
       "      <th>0</th>\n",
       "      <td>ACCIDENT_00000</td>\n",
       "      <td>화요일</td>\n",
       "      <td>맑음</td>\n",
       "      <td>건조</td>\n",
       "      <td>차대사람</td>\n",
       "      <td>2019</td>\n",
       "      <td>1</td>\n",
       "      <td>1</td>\n",
       "      <td>0</td>\n",
       "      <td>대구광역시</td>\n",
       "      <td>중구</td>\n",
       "      <td>대신동</td>\n",
       "      <td>단일로</td>\n",
       "      <td>기타</td>\n",
       "    </tr>\n",
       "    <tr>\n",
       "      <th>1</th>\n",
       "      <td>ACCIDENT_00001</td>\n",
       "      <td>화요일</td>\n",
       "      <td>흐림</td>\n",
       "      <td>건조</td>\n",
       "      <td>차대사람</td>\n",
       "      <td>2019</td>\n",
       "      <td>1</td>\n",
       "      <td>1</td>\n",
       "      <td>0</td>\n",
       "      <td>대구광역시</td>\n",
       "      <td>달서구</td>\n",
       "      <td>감삼동</td>\n",
       "      <td>단일로</td>\n",
       "      <td>기타</td>\n",
       "    </tr>\n",
       "    <tr>\n",
       "      <th>2</th>\n",
       "      <td>ACCIDENT_00002</td>\n",
       "      <td>화요일</td>\n",
       "      <td>맑음</td>\n",
       "      <td>건조</td>\n",
       "      <td>차대사람</td>\n",
       "      <td>2019</td>\n",
       "      <td>1</td>\n",
       "      <td>1</td>\n",
       "      <td>1</td>\n",
       "      <td>대구광역시</td>\n",
       "      <td>수성구</td>\n",
       "      <td>두산동</td>\n",
       "      <td>단일로</td>\n",
       "      <td>기타</td>\n",
       "    </tr>\n",
       "    <tr>\n",
       "      <th>3</th>\n",
       "      <td>ACCIDENT_00003</td>\n",
       "      <td>화요일</td>\n",
       "      <td>맑음</td>\n",
       "      <td>건조</td>\n",
       "      <td>차대차</td>\n",
       "      <td>2019</td>\n",
       "      <td>1</td>\n",
       "      <td>1</td>\n",
       "      <td>2</td>\n",
       "      <td>대구광역시</td>\n",
       "      <td>북구</td>\n",
       "      <td>복현동</td>\n",
       "      <td>단일로</td>\n",
       "      <td>기타</td>\n",
       "    </tr>\n",
       "    <tr>\n",
       "      <th>4</th>\n",
       "      <td>ACCIDENT_00004</td>\n",
       "      <td>화요일</td>\n",
       "      <td>맑음</td>\n",
       "      <td>건조</td>\n",
       "      <td>차대차</td>\n",
       "      <td>2019</td>\n",
       "      <td>1</td>\n",
       "      <td>1</td>\n",
       "      <td>4</td>\n",
       "      <td>대구광역시</td>\n",
       "      <td>동구</td>\n",
       "      <td>신암동</td>\n",
       "      <td>단일로</td>\n",
       "      <td>기타</td>\n",
       "    </tr>\n",
       "    <tr>\n",
       "      <th>...</th>\n",
       "      <td>...</td>\n",
       "      <td>...</td>\n",
       "      <td>...</td>\n",
       "      <td>...</td>\n",
       "      <td>...</td>\n",
       "      <td>...</td>\n",
       "      <td>...</td>\n",
       "      <td>...</td>\n",
       "      <td>...</td>\n",
       "      <td>...</td>\n",
       "      <td>...</td>\n",
       "      <td>...</td>\n",
       "      <td>...</td>\n",
       "      <td>...</td>\n",
       "    </tr>\n",
       "    <tr>\n",
       "      <th>39604</th>\n",
       "      <td>ACCIDENT_39604</td>\n",
       "      <td>금요일</td>\n",
       "      <td>맑음</td>\n",
       "      <td>건조</td>\n",
       "      <td>차대차</td>\n",
       "      <td>2021</td>\n",
       "      <td>12</td>\n",
       "      <td>31</td>\n",
       "      <td>19</td>\n",
       "      <td>대구광역시</td>\n",
       "      <td>수성구</td>\n",
       "      <td>수성동3가</td>\n",
       "      <td>교차로</td>\n",
       "      <td>교차로안</td>\n",
       "    </tr>\n",
       "    <tr>\n",
       "      <th>39605</th>\n",
       "      <td>ACCIDENT_39605</td>\n",
       "      <td>금요일</td>\n",
       "      <td>맑음</td>\n",
       "      <td>건조</td>\n",
       "      <td>차대차</td>\n",
       "      <td>2021</td>\n",
       "      <td>12</td>\n",
       "      <td>31</td>\n",
       "      <td>19</td>\n",
       "      <td>대구광역시</td>\n",
       "      <td>달서구</td>\n",
       "      <td>상인동</td>\n",
       "      <td>단일로</td>\n",
       "      <td>기타</td>\n",
       "    </tr>\n",
       "    <tr>\n",
       "      <th>39606</th>\n",
       "      <td>ACCIDENT_39606</td>\n",
       "      <td>금요일</td>\n",
       "      <td>맑음</td>\n",
       "      <td>건조</td>\n",
       "      <td>차대차</td>\n",
       "      <td>2021</td>\n",
       "      <td>12</td>\n",
       "      <td>31</td>\n",
       "      <td>21</td>\n",
       "      <td>대구광역시</td>\n",
       "      <td>달서구</td>\n",
       "      <td>월성동</td>\n",
       "      <td>교차로</td>\n",
       "      <td>교차로안</td>\n",
       "    </tr>\n",
       "    <tr>\n",
       "      <th>39607</th>\n",
       "      <td>ACCIDENT_39607</td>\n",
       "      <td>금요일</td>\n",
       "      <td>맑음</td>\n",
       "      <td>건조</td>\n",
       "      <td>차대차</td>\n",
       "      <td>2021</td>\n",
       "      <td>12</td>\n",
       "      <td>31</td>\n",
       "      <td>22</td>\n",
       "      <td>대구광역시</td>\n",
       "      <td>달서구</td>\n",
       "      <td>장동</td>\n",
       "      <td>기타</td>\n",
       "      <td>기타</td>\n",
       "    </tr>\n",
       "    <tr>\n",
       "      <th>39608</th>\n",
       "      <td>ACCIDENT_39608</td>\n",
       "      <td>금요일</td>\n",
       "      <td>맑음</td>\n",
       "      <td>건조</td>\n",
       "      <td>차대차</td>\n",
       "      <td>2021</td>\n",
       "      <td>12</td>\n",
       "      <td>31</td>\n",
       "      <td>23</td>\n",
       "      <td>대구광역시</td>\n",
       "      <td>서구</td>\n",
       "      <td>비산동</td>\n",
       "      <td>단일로</td>\n",
       "      <td>지하차도(도로)내</td>\n",
       "    </tr>\n",
       "  </tbody>\n",
       "</table>\n",
       "<p>39609 rows × 14 columns</p>\n",
       "</div>"
      ],
      "text/plain": [
       "                   ID   요일 기상상태 노면상태  사고유형     연   월   일  시간     도시    구  \\\n",
       "0      ACCIDENT_00000  화요일   맑음   건조  차대사람  2019   1   1   0  대구광역시   중구   \n",
       "1      ACCIDENT_00001  화요일   흐림   건조  차대사람  2019   1   1   0  대구광역시  달서구   \n",
       "2      ACCIDENT_00002  화요일   맑음   건조  차대사람  2019   1   1   1  대구광역시  수성구   \n",
       "3      ACCIDENT_00003  화요일   맑음   건조   차대차  2019   1   1   2  대구광역시   북구   \n",
       "4      ACCIDENT_00004  화요일   맑음   건조   차대차  2019   1   1   4  대구광역시   동구   \n",
       "...               ...  ...  ...  ...   ...   ...  ..  ..  ..    ...  ...   \n",
       "39604  ACCIDENT_39604  금요일   맑음   건조   차대차  2021  12  31  19  대구광역시  수성구   \n",
       "39605  ACCIDENT_39605  금요일   맑음   건조   차대차  2021  12  31  19  대구광역시  달서구   \n",
       "39606  ACCIDENT_39606  금요일   맑음   건조   차대차  2021  12  31  21  대구광역시  달서구   \n",
       "39607  ACCIDENT_39607  금요일   맑음   건조   차대차  2021  12  31  22  대구광역시  달서구   \n",
       "39608  ACCIDENT_39608  금요일   맑음   건조   차대차  2021  12  31  23  대구광역시   서구   \n",
       "\n",
       "           동 도로형태1      도로형태2  \n",
       "0        대신동   단일로         기타  \n",
       "1        감삼동   단일로         기타  \n",
       "2        두산동   단일로         기타  \n",
       "3        복현동   단일로         기타  \n",
       "4        신암동   단일로         기타  \n",
       "...      ...   ...        ...  \n",
       "39604  수성동3가   교차로       교차로안  \n",
       "39605    상인동   단일로         기타  \n",
       "39606    월성동   교차로       교차로안  \n",
       "39607     장동    기타         기타  \n",
       "39608    비산동   단일로  지하차도(도로)내  \n",
       "\n",
       "[39609 rows x 14 columns]"
      ]
     },
     "execution_count": 12,
     "metadata": {},
     "output_type": "execute_result"
    }
   ],
   "source": [
    "train_df= train_df[['ID','요일','기상상태','노면상태', '사고유형', '연', '월', '일', '시간', '도시', '구','동', '도로형태1', '도로형태2']]\n",
    "train_df"
   ]
  },
  {
   "cell_type": "markdown",
   "metadata": {
    "id": "t-m18OgNJoRm",
    "pbl_cell_type": "markdown",
    "step_id": 5171,
    "step_number": 5
   },
   "source": [
    "## **전처리 결과 확인**\n",
    "\n",
    "지금까지 전처리한 결과를 확인해 봅시다"
   ]
  },
  {
   "cell_type": "code",
   "execution_count": 13,
   "metadata": {
    "ExecuteTime": {
     "end_time": "2023-11-22T06:27:04.856882Z",
     "start_time": "2023-11-22T06:27:04.846972Z"
    },
    "id": "REMMuAFfJoRm",
    "outputId": "0f3f1f98-a6e2-4ef8-c784-9f3355d736e7",
    "pbl_cell_type": "code",
    "scrolled": true,
    "step_id": 5171,
    "step_number": 5
   },
   "outputs": [
    {
     "data": {
      "text/html": [
       "<div>\n",
       "<style scoped>\n",
       "    .dataframe tbody tr th:only-of-type {\n",
       "        vertical-align: middle;\n",
       "    }\n",
       "\n",
       "    .dataframe tbody tr th {\n",
       "        vertical-align: top;\n",
       "    }\n",
       "\n",
       "    .dataframe thead th {\n",
       "        text-align: right;\n",
       "    }\n",
       "</style>\n",
       "<table border=\"1\" class=\"dataframe\">\n",
       "  <thead>\n",
       "    <tr style=\"text-align: right;\">\n",
       "      <th></th>\n",
       "      <th>ID</th>\n",
       "      <th>요일</th>\n",
       "      <th>기상상태</th>\n",
       "      <th>노면상태</th>\n",
       "      <th>사고유형</th>\n",
       "      <th>연</th>\n",
       "      <th>월</th>\n",
       "      <th>일</th>\n",
       "      <th>시간</th>\n",
       "      <th>도시</th>\n",
       "      <th>구</th>\n",
       "      <th>동</th>\n",
       "      <th>도로형태1</th>\n",
       "      <th>도로형태2</th>\n",
       "    </tr>\n",
       "  </thead>\n",
       "  <tbody>\n",
       "    <tr>\n",
       "      <th>0</th>\n",
       "      <td>ACCIDENT_00000</td>\n",
       "      <td>화요일</td>\n",
       "      <td>맑음</td>\n",
       "      <td>건조</td>\n",
       "      <td>차대사람</td>\n",
       "      <td>2019</td>\n",
       "      <td>1</td>\n",
       "      <td>1</td>\n",
       "      <td>0</td>\n",
       "      <td>대구광역시</td>\n",
       "      <td>중구</td>\n",
       "      <td>대신동</td>\n",
       "      <td>단일로</td>\n",
       "      <td>기타</td>\n",
       "    </tr>\n",
       "    <tr>\n",
       "      <th>1</th>\n",
       "      <td>ACCIDENT_00001</td>\n",
       "      <td>화요일</td>\n",
       "      <td>흐림</td>\n",
       "      <td>건조</td>\n",
       "      <td>차대사람</td>\n",
       "      <td>2019</td>\n",
       "      <td>1</td>\n",
       "      <td>1</td>\n",
       "      <td>0</td>\n",
       "      <td>대구광역시</td>\n",
       "      <td>달서구</td>\n",
       "      <td>감삼동</td>\n",
       "      <td>단일로</td>\n",
       "      <td>기타</td>\n",
       "    </tr>\n",
       "    <tr>\n",
       "      <th>2</th>\n",
       "      <td>ACCIDENT_00002</td>\n",
       "      <td>화요일</td>\n",
       "      <td>맑음</td>\n",
       "      <td>건조</td>\n",
       "      <td>차대사람</td>\n",
       "      <td>2019</td>\n",
       "      <td>1</td>\n",
       "      <td>1</td>\n",
       "      <td>1</td>\n",
       "      <td>대구광역시</td>\n",
       "      <td>수성구</td>\n",
       "      <td>두산동</td>\n",
       "      <td>단일로</td>\n",
       "      <td>기타</td>\n",
       "    </tr>\n",
       "    <tr>\n",
       "      <th>3</th>\n",
       "      <td>ACCIDENT_00003</td>\n",
       "      <td>화요일</td>\n",
       "      <td>맑음</td>\n",
       "      <td>건조</td>\n",
       "      <td>차대차</td>\n",
       "      <td>2019</td>\n",
       "      <td>1</td>\n",
       "      <td>1</td>\n",
       "      <td>2</td>\n",
       "      <td>대구광역시</td>\n",
       "      <td>북구</td>\n",
       "      <td>복현동</td>\n",
       "      <td>단일로</td>\n",
       "      <td>기타</td>\n",
       "    </tr>\n",
       "    <tr>\n",
       "      <th>4</th>\n",
       "      <td>ACCIDENT_00004</td>\n",
       "      <td>화요일</td>\n",
       "      <td>맑음</td>\n",
       "      <td>건조</td>\n",
       "      <td>차대차</td>\n",
       "      <td>2019</td>\n",
       "      <td>1</td>\n",
       "      <td>1</td>\n",
       "      <td>4</td>\n",
       "      <td>대구광역시</td>\n",
       "      <td>동구</td>\n",
       "      <td>신암동</td>\n",
       "      <td>단일로</td>\n",
       "      <td>기타</td>\n",
       "    </tr>\n",
       "  </tbody>\n",
       "</table>\n",
       "</div>"
      ],
      "text/plain": [
       "               ID   요일 기상상태 노면상태  사고유형     연  월  일  시간     도시    구    동 도로형태1  \\\n",
       "0  ACCIDENT_00000  화요일   맑음   건조  차대사람  2019  1  1   0  대구광역시   중구  대신동   단일로   \n",
       "1  ACCIDENT_00001  화요일   흐림   건조  차대사람  2019  1  1   0  대구광역시  달서구  감삼동   단일로   \n",
       "2  ACCIDENT_00002  화요일   맑음   건조  차대사람  2019  1  1   1  대구광역시  수성구  두산동   단일로   \n",
       "3  ACCIDENT_00003  화요일   맑음   건조   차대차  2019  1  1   2  대구광역시   북구  복현동   단일로   \n",
       "4  ACCIDENT_00004  화요일   맑음   건조   차대차  2019  1  1   4  대구광역시   동구  신암동   단일로   \n",
       "\n",
       "  도로형태2  \n",
       "0    기타  \n",
       "1    기타  \n",
       "2    기타  \n",
       "3    기타  \n",
       "4    기타  "
      ]
     },
     "metadata": {},
     "output_type": "display_data"
    },
    {
     "data": {
      "text/html": [
       "<div>\n",
       "<style scoped>\n",
       "    .dataframe tbody tr th:only-of-type {\n",
       "        vertical-align: middle;\n",
       "    }\n",
       "\n",
       "    .dataframe tbody tr th {\n",
       "        vertical-align: top;\n",
       "    }\n",
       "\n",
       "    .dataframe thead th {\n",
       "        text-align: right;\n",
       "    }\n",
       "</style>\n",
       "<table border=\"1\" class=\"dataframe\">\n",
       "  <thead>\n",
       "    <tr style=\"text-align: right;\">\n",
       "      <th></th>\n",
       "      <th>ID</th>\n",
       "      <th>요일</th>\n",
       "      <th>기상상태</th>\n",
       "      <th>노면상태</th>\n",
       "      <th>사고유형</th>\n",
       "      <th>연</th>\n",
       "      <th>월</th>\n",
       "      <th>일</th>\n",
       "      <th>시간</th>\n",
       "      <th>도시</th>\n",
       "      <th>구</th>\n",
       "      <th>동</th>\n",
       "      <th>도로형태1</th>\n",
       "      <th>도로형태2</th>\n",
       "    </tr>\n",
       "  </thead>\n",
       "  <tbody>\n",
       "    <tr>\n",
       "      <th>0</th>\n",
       "      <td>ACCIDENT_39609</td>\n",
       "      <td>토요일</td>\n",
       "      <td>맑음</td>\n",
       "      <td>건조</td>\n",
       "      <td>차대사람</td>\n",
       "      <td>2022</td>\n",
       "      <td>1</td>\n",
       "      <td>1</td>\n",
       "      <td>1</td>\n",
       "      <td>대구광역시</td>\n",
       "      <td>수성구</td>\n",
       "      <td>상동</td>\n",
       "      <td>교차로</td>\n",
       "      <td>교차로안</td>\n",
       "    </tr>\n",
       "    <tr>\n",
       "      <th>1</th>\n",
       "      <td>ACCIDENT_39610</td>\n",
       "      <td>토요일</td>\n",
       "      <td>맑음</td>\n",
       "      <td>건조</td>\n",
       "      <td>차대사람</td>\n",
       "      <td>2022</td>\n",
       "      <td>1</td>\n",
       "      <td>1</td>\n",
       "      <td>1</td>\n",
       "      <td>대구광역시</td>\n",
       "      <td>수성구</td>\n",
       "      <td>지산동</td>\n",
       "      <td>단일로</td>\n",
       "      <td>기타</td>\n",
       "    </tr>\n",
       "    <tr>\n",
       "      <th>2</th>\n",
       "      <td>ACCIDENT_39611</td>\n",
       "      <td>토요일</td>\n",
       "      <td>맑음</td>\n",
       "      <td>건조</td>\n",
       "      <td>차대차</td>\n",
       "      <td>2022</td>\n",
       "      <td>1</td>\n",
       "      <td>1</td>\n",
       "      <td>4</td>\n",
       "      <td>대구광역시</td>\n",
       "      <td>수성구</td>\n",
       "      <td>수성동2가</td>\n",
       "      <td>교차로</td>\n",
       "      <td>교차로안</td>\n",
       "    </tr>\n",
       "    <tr>\n",
       "      <th>3</th>\n",
       "      <td>ACCIDENT_39612</td>\n",
       "      <td>토요일</td>\n",
       "      <td>맑음</td>\n",
       "      <td>건조</td>\n",
       "      <td>차대차</td>\n",
       "      <td>2022</td>\n",
       "      <td>1</td>\n",
       "      <td>1</td>\n",
       "      <td>4</td>\n",
       "      <td>대구광역시</td>\n",
       "      <td>수성구</td>\n",
       "      <td>신매동</td>\n",
       "      <td>단일로</td>\n",
       "      <td>기타</td>\n",
       "    </tr>\n",
       "    <tr>\n",
       "      <th>4</th>\n",
       "      <td>ACCIDENT_39613</td>\n",
       "      <td>토요일</td>\n",
       "      <td>맑음</td>\n",
       "      <td>건조</td>\n",
       "      <td>차대차</td>\n",
       "      <td>2022</td>\n",
       "      <td>1</td>\n",
       "      <td>1</td>\n",
       "      <td>6</td>\n",
       "      <td>대구광역시</td>\n",
       "      <td>달서구</td>\n",
       "      <td>감삼동</td>\n",
       "      <td>교차로</td>\n",
       "      <td>교차로안</td>\n",
       "    </tr>\n",
       "  </tbody>\n",
       "</table>\n",
       "</div>"
      ],
      "text/plain": [
       "               ID   요일 기상상태 노면상태  사고유형     연  월  일  시간     도시    구      동  \\\n",
       "0  ACCIDENT_39609  토요일   맑음   건조  차대사람  2022  1  1   1  대구광역시  수성구     상동   \n",
       "1  ACCIDENT_39610  토요일   맑음   건조  차대사람  2022  1  1   1  대구광역시  수성구    지산동   \n",
       "2  ACCIDENT_39611  토요일   맑음   건조   차대차  2022  1  1   4  대구광역시  수성구  수성동2가   \n",
       "3  ACCIDENT_39612  토요일   맑음   건조   차대차  2022  1  1   4  대구광역시  수성구    신매동   \n",
       "4  ACCIDENT_39613  토요일   맑음   건조   차대차  2022  1  1   6  대구광역시  달서구    감삼동   \n",
       "\n",
       "  도로형태1 도로형태2  \n",
       "0   교차로  교차로안  \n",
       "1   단일로    기타  \n",
       "2   교차로  교차로안  \n",
       "3   단일로    기타  \n",
       "4   교차로  교차로안  "
      ]
     },
     "metadata": {},
     "output_type": "display_data"
    }
   ],
   "source": [
    "display(train_df.head())\n",
    "display(test_df.head())"
   ]
  },
  {
   "cell_type": "code",
   "execution_count": 16,
   "metadata": {
    "ExecuteTime": {
     "end_time": "2023-11-22T06:28:50.824437Z",
     "start_time": "2023-11-22T06:28:50.738601Z"
    }
   },
   "outputs": [
    {
     "name": "stdout",
     "output_type": "stream",
     "text": [
      "<class 'pandas.core.frame.DataFrame'>\n",
      "RangeIndex: 39609 entries, 0 to 39608\n",
      "Data columns (total 14 columns):\n",
      " #   Column  Non-Null Count  Dtype \n",
      "---  ------  --------------  ----- \n",
      " 0   ID      39609 non-null  object\n",
      " 1   요일      39609 non-null  object\n",
      " 2   기상상태    39609 non-null  object\n",
      " 3   노면상태    39609 non-null  object\n",
      " 4   사고유형    39609 non-null  object\n",
      " 5   연       39609 non-null  int64 \n",
      " 6   월       39609 non-null  int64 \n",
      " 7   일       39609 non-null  int64 \n",
      " 8   시간      39609 non-null  int64 \n",
      " 9   도시      39609 non-null  object\n",
      " 10  구       39609 non-null  object\n",
      " 11  동       39609 non-null  object\n",
      " 12  도로형태1   39609 non-null  object\n",
      " 13  도로형태2   39609 non-null  object\n",
      "dtypes: int64(4), object(10)\n",
      "memory usage: 4.2+ MB\n"
     ]
    },
    {
     "data": {
      "text/plain": [
       "None"
      ]
     },
     "metadata": {},
     "output_type": "display_data"
    },
    {
     "name": "stdout",
     "output_type": "stream",
     "text": [
      "<class 'pandas.core.frame.DataFrame'>\n",
      "RangeIndex: 10963 entries, 0 to 10962\n",
      "Data columns (total 14 columns):\n",
      " #   Column  Non-Null Count  Dtype \n",
      "---  ------  --------------  ----- \n",
      " 0   ID      10963 non-null  object\n",
      " 1   요일      10963 non-null  object\n",
      " 2   기상상태    10963 non-null  object\n",
      " 3   노면상태    10963 non-null  object\n",
      " 4   사고유형    10963 non-null  object\n",
      " 5   연       10963 non-null  int64 \n",
      " 6   월       10963 non-null  int64 \n",
      " 7   일       10963 non-null  int64 \n",
      " 8   시간      10963 non-null  int64 \n",
      " 9   도시      10963 non-null  object\n",
      " 10  구       10963 non-null  object\n",
      " 11  동       10963 non-null  object\n",
      " 12  도로형태1   10963 non-null  object\n",
      " 13  도로형태2   10963 non-null  object\n",
      "dtypes: int64(4), object(10)\n",
      "memory usage: 1.2+ MB\n"
     ]
    },
    {
     "data": {
      "text/plain": [
       "None"
      ]
     },
     "metadata": {},
     "output_type": "display_data"
    }
   ],
   "source": [
    "display(train_df.info())\n",
    "display(test_df.info())"
   ]
  },
  {
   "cell_type": "markdown",
   "metadata": {},
   "source": [
    "## 전처리를 위해 train과 test 데이터 합치기"
   ]
  },
  {
   "cell_type": "code",
   "execution_count": 17,
   "metadata": {
    "ExecuteTime": {
     "end_time": "2023-11-22T06:29:00.393723Z",
     "start_time": "2023-11-22T06:29:00.333410Z"
    }
   },
   "outputs": [],
   "source": [
    "# 전처리를 위해 train과 test 데이터 합치기\n",
    "data = pd.concat([train_df, test_df], sort=False)"
   ]
  },
  {
   "cell_type": "markdown",
   "metadata": {},
   "source": [
    "# **------------------------------------------------------**"
   ]
  },
  {
   "cell_type": "markdown",
   "metadata": {},
   "source": [
    "## ✔️Encoding - 파일 추가 필요!"
   ]
  },
  {
   "cell_type": "markdown",
   "metadata": {},
   "source": [
    "# **------------------------------------------------------**"
   ]
  },
  {
   "cell_type": "markdown",
   "metadata": {},
   "source": [
    "### 통합된 데이터 세트(data)를 다시 train과 test 세트로 분리\n",
    "- 합쳐둔 data 날짜에 맞춰서 다시 train_new, test_new로 분리하기"
   ]
  },
  {
   "cell_type": "code",
   "execution_count": 18,
   "metadata": {
    "ExecuteTime": {
     "end_time": "2023-11-22T06:29:03.500039Z",
     "start_time": "2023-11-22T06:29:03.446318Z"
    }
   },
   "outputs": [
    {
     "name": "stdout",
     "output_type": "stream",
     "text": [
      "<class 'pandas.core.frame.DataFrame'>\n",
      "Int64Index: 50572 entries, 0 to 10962\n",
      "Data columns (total 14 columns):\n",
      " #   Column  Non-Null Count  Dtype \n",
      "---  ------  --------------  ----- \n",
      " 0   ID      50572 non-null  object\n",
      " 1   요일      50572 non-null  object\n",
      " 2   기상상태    50572 non-null  object\n",
      " 3   노면상태    50572 non-null  object\n",
      " 4   사고유형    50572 non-null  object\n",
      " 5   연       50572 non-null  int64 \n",
      " 6   월       50572 non-null  int64 \n",
      " 7   일       50572 non-null  int64 \n",
      " 8   시간      50572 non-null  int64 \n",
      " 9   도시      50572 non-null  object\n",
      " 10  구       50572 non-null  object\n",
      " 11  동       50572 non-null  object\n",
      " 12  도로형태1   50572 non-null  object\n",
      " 13  도로형태2   50572 non-null  object\n",
      "dtypes: int64(4), object(10)\n",
      "memory usage: 5.8+ MB\n"
     ]
    }
   ],
   "source": [
    "data.info()"
   ]
  },
  {
   "cell_type": "code",
   "execution_count": 19,
   "metadata": {
    "ExecuteTime": {
     "end_time": "2023-11-22T06:29:09.580295Z",
     "start_time": "2023-11-22T06:29:09.538905Z"
    }
   },
   "outputs": [],
   "source": [
    "train_new = data[data['연'].isin([2019, 2020, 2021])]\n",
    "test_new = data[data['연'] == 2022]\n",
    "\n",
    "# train_new  = data[:len(train)]\n",
    "# test_new = data[len(train):]\n",
    "# 이렇게 하는 방법도 있음"
   ]
  },
  {
   "cell_type": "code",
   "execution_count": 22,
   "metadata": {
    "ExecuteTime": {
     "end_time": "2023-11-22T06:29:26.670538Z",
     "start_time": "2023-11-22T06:29:26.631810Z"
    }
   },
   "outputs": [
    {
     "name": "stdout",
     "output_type": "stream",
     "text": [
      "<class 'pandas.core.frame.DataFrame'>\n",
      "Int64Index: 39609 entries, 0 to 39608\n",
      "Data columns (total 14 columns):\n",
      " #   Column  Non-Null Count  Dtype \n",
      "---  ------  --------------  ----- \n",
      " 0   ID      39609 non-null  object\n",
      " 1   요일      39609 non-null  object\n",
      " 2   기상상태    39609 non-null  object\n",
      " 3   노면상태    39609 non-null  object\n",
      " 4   사고유형    39609 non-null  object\n",
      " 5   연       39609 non-null  int64 \n",
      " 6   월       39609 non-null  int64 \n",
      " 7   일       39609 non-null  int64 \n",
      " 8   시간      39609 non-null  int64 \n",
      " 9   도시      39609 non-null  object\n",
      " 10  구       39609 non-null  object\n",
      " 11  동       39609 non-null  object\n",
      " 12  도로형태1   39609 non-null  object\n",
      " 13  도로형태2   39609 non-null  object\n",
      "dtypes: int64(4), object(10)\n",
      "memory usage: 4.5+ MB\n"
     ]
    }
   ],
   "source": [
    "train_new.info()"
   ]
  },
  {
   "cell_type": "code",
   "execution_count": 23,
   "metadata": {
    "ExecuteTime": {
     "end_time": "2023-11-22T06:29:43.173775Z",
     "start_time": "2023-11-22T06:29:43.120221Z"
    }
   },
   "outputs": [
    {
     "name": "stdout",
     "output_type": "stream",
     "text": [
      "<class 'pandas.core.frame.DataFrame'>\n",
      "Int64Index: 10963 entries, 0 to 10962\n",
      "Data columns (total 14 columns):\n",
      " #   Column  Non-Null Count  Dtype \n",
      "---  ------  --------------  ----- \n",
      " 0   ID      10963 non-null  object\n",
      " 1   요일      10963 non-null  object\n",
      " 2   기상상태    10963 non-null  object\n",
      " 3   노면상태    10963 non-null  object\n",
      " 4   사고유형    10963 non-null  object\n",
      " 5   연       10963 non-null  int64 \n",
      " 6   월       10963 non-null  int64 \n",
      " 7   일       10963 non-null  int64 \n",
      " 8   시간      10963 non-null  int64 \n",
      " 9   도시      10963 non-null  object\n",
      " 10  구       10963 non-null  object\n",
      " 11  동       10963 non-null  object\n",
      " 12  도로형태1   10963 non-null  object\n",
      " 13  도로형태2   10963 non-null  object\n",
      "dtypes: int64(4), object(10)\n",
      "memory usage: 1.3+ MB\n"
     ]
    }
   ],
   "source": [
    "test_new.info()"
   ]
  },
  {
   "cell_type": "markdown",
   "metadata": {},
   "source": [
    "### 학습시킬 feature 선택하기 "
   ]
  },
  {
   "cell_type": "code",
   "execution_count": 20,
   "metadata": {
    "ExecuteTime": {
     "end_time": "2023-11-22T06:29:11.215557Z",
     "start_time": "2023-11-22T06:29:11.210004Z"
    }
   },
   "outputs": [
    {
     "data": {
      "text/plain": [
       "Index(['ID', '요일', '기상상태', '노면상태', '사고유형', '연', '월', '일', '시간', '도시', '구', '동',\n",
       "       '도로형태1', '도로형태2'],\n",
       "      dtype='object')"
      ]
     },
     "execution_count": 20,
     "metadata": {},
     "output_type": "execute_result"
    }
   ],
   "source": [
    "train_new.columns"
   ]
  },
  {
   "cell_type": "code",
   "execution_count": 21,
   "metadata": {
    "ExecuteTime": {
     "end_time": "2023-11-22T06:29:12.033435Z",
     "start_time": "2023-11-22T06:29:12.028248Z"
    }
   },
   "outputs": [
    {
     "data": {
      "text/plain": [
       "Index(['ID', '요일', '기상상태', '노면상태', '사고유형', '연', '월', '일', '시간', '도시', '구', '동',\n",
       "       '도로형태1', '도로형태2'],\n",
       "      dtype='object')"
      ]
     },
     "execution_count": 21,
     "metadata": {},
     "output_type": "execute_result"
    }
   ],
   "source": [
    "test_new.columns"
   ]
  },
  {
   "cell_type": "code",
   "execution_count": null,
   "metadata": {
    "ExecuteTime": {
     "end_time": "2023-11-22T06:27:05.039883Z",
     "start_time": "2023-11-22T06:27:05.039877Z"
    }
   },
   "outputs": [],
   "source": [
    "feature =['요일','기상상태','노면상태','사고유형','연','월','시간',,,,,,] \n",
    "#예측에 넣을 feature추가하기"
   ]
  },
  {
   "cell_type": "code",
   "execution_count": null,
   "metadata": {},
   "outputs": [],
   "source": []
  },
  {
   "cell_type": "markdown",
   "metadata": {},
   "source": [
    "### (참고) train, test 데이터의 독립변수, 종속 변수 분리\n",
    "- [예측에 모든 컬럼 사용하는 법, 내가 고른 컬럼만 사용하는 법] 중에 원하는 방법으로 사용하기!!"
   ]
  },
  {
   "cell_type": "code",
   "execution_count": null,
   "metadata": {
    "ExecuteTime": {
     "end_time": "2023-11-22T06:27:05.040553Z",
     "start_time": "2023-11-22T06:27:05.040548Z"
    }
   },
   "outputs": [],
   "source": [
    "# 예측에 모든 컬럼 사용하는 법.\n",
    "X_test = test_new.drop(columns=['ID']).copy()\n",
    "X_train = train_new[X_test.columns].copy()"
   ]
  },
  {
   "cell_type": "code",
   "execution_count": null,
   "metadata": {
    "ExecuteTime": {
     "end_time": "2023-11-22T06:27:05.040991Z",
     "start_time": "2023-11-22T06:27:05.040986Z"
    }
   },
   "outputs": [],
   "source": [
    "# 예측에 내가 고른 컬럼만 사용하는 법.\n",
    "X_train = train_new[feature]\n",
    "X_test = test_new[feature]"
   ]
  },
  {
   "cell_type": "code",
   "execution_count": null,
   "metadata": {
    "ExecuteTime": {
     "end_time": "2023-11-22T06:27:05.041474Z",
     "start_time": "2023-11-22T06:27:05.041470Z"
    }
   },
   "outputs": [],
   "source": [
    "y_train = train['ECLO'].copy()"
   ]
  },
  {
   "cell_type": "code",
   "execution_count": null,
   "metadata": {},
   "outputs": [],
   "source": []
  },
  {
   "cell_type": "markdown",
   "metadata": {},
   "source": [
    "### (참고) 데이터 분할\n",
    "\n",
    "- 주어진 데이터셋이 이미 훈련용(train)과 테스트용(test)으로 나뉘어져 있으므로 train_test_split 함수를 사용하여 데이터를 분할할 필요 없음!\n",
    "- 그렇지만, 훈련데이터를 더 작은 훈련 세트(train set)와 검증 세트(validation set)로 나누는 것은 필요함.\n",
    "> - train data set의 피쳐를 X, 타겟을 y로 분리\n",
    "> - train data set를 훈련(train)과 검증(valid)로 나눈다.\n",
    "> - train:valid= 7:3 로 나누어 본다\n",
    ">> - 훈련 세트(train set): 모델을 훈련하는 데 사용됩니다.\n",
    ">> - 검증 세트(validation set): 모델을 튜닝하고 성능을 평가하는 데 사용됩니다. 이를 통해 모델이 훈련 데이터에 과적합되지 않고 다른 데이터에 대해서도 일반화될 수 있는지 확인할 수 있습니다.\n",
    "> - 대회에서는 주어진 테스트 데이터가 숨겨져 있으므로 모델을 평가하려면 모델의 예측을 검증 세트에 대해 평가하고, 최종적으로는 테스트 데이터에 대한 예측을 제출해야 합니다."
   ]
  },
  {
   "cell_type": "code",
   "execution_count": null,
   "metadata": {
    "ExecuteTime": {
     "end_time": "2023-11-22T06:27:05.041769Z",
     "start_time": "2023-11-22T06:27:05.041765Z"
    }
   },
   "outputs": [],
   "source": [
    "from sklearn.model_selection import train_test_split \n",
    "X_test1= train_new.drop('ID', axis=1)\n",
    "y_test1= train['ECLO']"
   ]
  },
  {
   "cell_type": "code",
   "execution_count": null,
   "metadata": {
    "ExecuteTime": {
     "end_time": "2023-11-22T06:27:05.042221Z",
     "start_time": "2023-11-22T06:27:05.042212Z"
    }
   },
   "outputs": [],
   "source": [
    "#train data set를 train과 validation data set로 나누기\n",
    "X_train, X_valid, y_train, y_valid = train_test_split(X_test1, y_test1, test_size=0.3, random_state=0)"
   ]
  },
  {
   "cell_type": "code",
   "execution_count": null,
   "metadata": {
    "ExecuteTime": {
     "end_time": "2023-11-22T06:27:05.042697Z",
     "start_time": "2023-11-22T06:27:05.042692Z"
    }
   },
   "outputs": [],
   "source": [
    "# 데이터 사이즈 확인\n",
    "print(\"Size of X_train is:{}\\nSize of y_train is:{}\\nSize of X_valid is:{}\\nSize of Y_valid is:{}\\n\".format(\n",
    "    X_train.shape,y_train.shape,X_valid.shape,y_valid.shape))"
   ]
  },
  {
   "cell_type": "markdown",
   "metadata": {},
   "source": [
    "## Model 구현"
   ]
  },
  {
   "cell_type": "markdown",
   "metadata": {},
   "source": [
    "- Logistic Regression, Decision Tree, Random Forest Classifier, KNN, ......"
   ]
  },
  {
   "cell_type": "markdown",
   "metadata": {},
   "source": [
    "## Model Train & Prediction"
   ]
  },
  {
   "cell_type": "markdown",
   "metadata": {},
   "source": [
    "**모델 적용**\n",
    "- 선택한 모델로 test 결과 저장하기\n",
    "- 검증 데이터세트의 정확도가 높은 모델을 채택!"
   ]
  },
  {
   "cell_type": "code",
   "execution_count": 24,
   "metadata": {
    "ExecuteTime": {
     "end_time": "2023-11-22T06:33:20.417566Z",
     "start_time": "2023-11-22T06:33:20.394967Z"
    }
   },
   "outputs": [],
   "source": [
    "# #변수 이름 선택한 모델명으로 설정하기!!!\n",
    "\n",
    "# from sklearn.tree import DecisionTreeRegressor\n",
    "# dtr = DecisionTreeRegressor()\n",
    "# dtr.fit(X_train, y_train)\n",
    "\n",
    "# prediction_dtr= dtr.predict(X_test)\n",
    "# prediction_dtr"
   ]
  },
  {
   "cell_type": "markdown",
   "metadata": {},
   "source": [
    "### - RandomForestRegressor"
   ]
  },
  {
   "cell_type": "code",
   "execution_count": null,
   "metadata": {
    "ExecuteTime": {
     "end_time": "2023-11-22T06:27:05.043086Z",
     "start_time": "2023-11-22T06:27:05.043081Z"
    }
   },
   "outputs": [],
   "source": [
    "from sklearn.ensemble import RandomForestRegressor\n",
    "rfr = RandomForestRegressor(n_estimators = 1000, \n",
    "                             max_depth = 9, \n",
    "                             random_state=37, \n",
    "                             max_features =0.8, \n",
    "                             n_jobs=-1)"
   ]
  },
  {
   "cell_type": "code",
   "execution_count": null,
   "metadata": {},
   "outputs": [],
   "source": [
    "rfr.fit(X_train, y_train)\n",
    "\n",
    "prediction_rfr= rfr.predict(X_test)\n",
    "prediction_rfr"
   ]
  },
  {
   "cell_type": "code",
   "execution_count": null,
   "metadata": {
    "ExecuteTime": {
     "end_time": "2023-11-22T06:27:05.043639Z",
     "start_time": "2023-11-22T06:27:05.043633Z"
    }
   },
   "outputs": [],
   "source": [
    "#random forest는 feature importance 정보 제공 \n",
    "sorted_idx = rfr.feature_importances_.argsort()\n",
    "plt.barh(X.columns[sorted_idx], rfr.feature_importances_[sorted_idx])\n",
    "plt.xlabel(\"Random Forest Feature Importance\")"
   ]
  },
  {
   "cell_type": "markdown",
   "metadata": {},
   "source": [
    "### (참고) 평가함수 -RMSLE\n",
    "\n",
    "리더보드 제출 전 RMSLE 점수 계산해볼 수 있는 코드입니다. 실제 점수와는 조금 다를수 있어요!"
   ]
  },
  {
   "cell_type": "code",
   "execution_count": null,
   "metadata": {
    "ExecuteTime": {
     "end_time": "2023-11-22T06:27:05.044354Z",
     "start_time": "2023-11-22T06:27:05.044349Z"
    }
   },
   "outputs": [],
   "source": [
    "# from sklearn.metrics import mean_squared_log_error\n",
    "# # RMSLE 계산\n",
    "# rmsle = mean_squared_log_error(y_test, y_pred, squared=False)\n",
    "\n",
    "# # 결과 출력\n",
    "# print(f'RMSLE: {rmsle}')"
   ]
  },
  {
   "cell_type": "code",
   "execution_count": null,
   "metadata": {
    "ExecuteTime": {
     "end_time": "2023-11-22T06:27:05.044842Z",
     "start_time": "2023-11-22T06:27:05.044837Z"
    }
   },
   "outputs": [],
   "source": [
    "import numpy as np\n",
    "from sklearn.metrics import make_scorer\n",
    "\n",
    "def rmsle(predict, actual):\n",
    "    log_predict= np.log(predict +1)\n",
    "    log_actual = np.log(actual+1)\n",
    "    \n",
    "    difference = log_predict - log_actual\n",
    "    difference = np.square(difference)\n",
    "    \n",
    "    mean_difference = difference.mean()\n",
    "    \n",
    "    score = np.sqrt(mean_difference)\n",
    "    \n",
    "    return score\n",
    "\n",
    "rmsle_score = make_scorer(rmsle)"
   ]
  },
  {
   "cell_type": "code",
   "execution_count": null,
   "metadata": {
    "ExecuteTime": {
     "end_time": "2023-11-22T06:27:05.045518Z",
     "start_time": "2023-11-22T06:27:05.045509Z"
    }
   },
   "outputs": [],
   "source": [
    "from sklearn.model_selection import cross_val_score\n",
    "\n",
    "score = cross_val_score(model , X_train, y_train, cv =5, \n",
    "                        scoring=rmsle_score).mean()\n",
    "\n",
    "print('현재 점수는 {0:.5f}'.format(score))"
   ]
  },
  {
   "cell_type": "markdown",
   "metadata": {},
   "source": [
    "### Submission"
   ]
  },
  {
   "cell_type": "code",
   "execution_count": null,
   "metadata": {
    "ExecuteTime": {
     "end_time": "2023-11-22T06:27:05.046005Z",
     "start_time": "2023-11-22T06:27:05.046000Z"
    }
   },
   "outputs": [],
   "source": [
    "##형식 복붙해서 사용하시는 모델에 맞춰서 저장해주세요!\n",
    "# sample_submission = pd.read_csv('open/sample_submission.csv')\n",
    "# 모델이름_submission = sample_submission.copy()\n",
    "# 모델이름_submission['ECLO'] = prediction_모델이름\n",
    "# 모델이름_submission\n",
    "\n",
    "\n",
    "# 모델이름_submission.to_csv('모델이름_submission.csv')"
   ]
  },
  {
   "cell_type": "code",
   "execution_count": null,
   "metadata": {
    "ExecuteTime": {
     "end_time": "2023-11-22T06:27:05.046330Z",
     "start_time": "2023-11-22T06:27:05.046326Z"
    }
   },
   "outputs": [],
   "source": [
    "sample_submission = pd.read_csv('open/sample_submission.csv')\n",
    "sample_submission"
   ]
  },
  {
   "cell_type": "code",
   "execution_count": null,
   "metadata": {
    "ExecuteTime": {
     "end_time": "2023-11-22T06:27:05.046767Z",
     "start_time": "2023-11-22T06:27:05.046762Z"
    }
   },
   "outputs": [],
   "source": [
    "# 위코드 해서 안되면 아래꺼 써보기...\n",
    "# sample_submission = pd.read_csv('open/sample_submission.csv', index_col=0)\n",
    "# sample_submission"
   ]
  },
  {
   "cell_type": "code",
   "execution_count": null,
   "metadata": {
    "ExecuteTime": {
     "end_time": "2023-11-22T06:27:05.047248Z",
     "start_time": "2023-11-22T06:27:05.047244Z"
    }
   },
   "outputs": [],
   "source": [
    "random_forest_submission = sample_submission.copy()\n",
    "random_forest_submission['ECLO'] = prediction_rfr\n",
    "random_forest_submission"
   ]
  },
  {
   "cell_type": "code",
   "execution_count": null,
   "metadata": {
    "ExecuteTime": {
     "end_time": "2023-11-22T06:27:05.047603Z",
     "start_time": "2023-11-22T06:27:05.047597Z"
    }
   },
   "outputs": [],
   "source": [
    "random_forest_submission.to_csv('random_forest_submission.csv')"
   ]
  }
 ],
 "metadata": {
  "colab": {
   "provenance": []
  },
  "kernelspec": {
   "display_name": "Python 3 (ipykernel)",
   "language": "python",
   "name": "python3"
  },
  "language_info": {
   "codemirror_mode": {
    "name": "ipython",
    "version": 3
   },
   "file_extension": ".py",
   "mimetype": "text/x-python",
   "name": "python",
   "nbconvert_exporter": "python",
   "pygments_lexer": "ipython3",
   "version": "3.10.10"
  }
 },
 "nbformat": 4,
 "nbformat_minor": 4
}
