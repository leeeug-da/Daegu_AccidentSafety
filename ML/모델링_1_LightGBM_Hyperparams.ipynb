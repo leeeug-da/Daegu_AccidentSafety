{
 "cells": [
  {
   "cell_type": "markdown",
   "metadata": {},
   "source": [
    "# **📌 Packages**"
   ]
  },
  {
   "cell_type": "code",
   "execution_count": 1,
   "metadata": {
    "ExecuteTime": {
     "end_time": "2023-11-22T06:27:04.204982Z",
     "start_time": "2023-11-22T06:27:03.217743Z"
    },
    "deletable": false,
    "id": "H2RD_fcJJoRa",
    "pbl_cell_type": "hidden_setup_code",
    "step_id": 4887,
    "step_number": 0
   },
   "outputs": [],
   "source": [
    "# 기본\n",
    "import pandas as pd\n",
    "import numpy as np"
   ]
  },
  {
   "cell_type": "code",
   "execution_count": 2,
   "metadata": {},
   "outputs": [],
   "source": [
    "# 시각화\n",
    "import seaborn as sns\n",
    "from datetime import datetime\n",
    "import matplotlib.pyplot as plt\n",
    "import matplotlib.font_manager as fm\n",
    "\n",
    "## 한글 처리\n",
    "import platform\n",
    "\n",
    "from matplotlib import font_manager, rc\n",
    "plt.rcParams['axes.unicode_minus'] = False\n",
    "\n",
    "if platform.system() == 'Darwin':  # 맥OS\n",
    "    rc('font', family='AppleGothic')\n",
    "elif platform.system() == 'Windows':  # 윈도우\n",
    "    path = \"c:/Windows/Fonts/malgun.ttf\"\n",
    "    font_name = font_manager.FontProperties(fname=path).get_name()\n",
    "    rc('font', family=font_name)\n",
    "else:\n",
    "    print('Unknown system...  sorry~~~')\n",
    "\n",
    "from matplotlib.pylab import rcParams\n",
    "rcParams['figure.figsize'] = 17,8\n",
    "\n",
    "import warnings\n",
    "warnings.filterwarnings(action='ignore')"
   ]
  },
  {
   "cell_type": "code",
   "execution_count": 3,
   "metadata": {},
   "outputs": [],
   "source": [
    "# Encoding\n",
    "from sklearn.preprocessing import LabelEncoder\n",
    "from sklearn.preprocessing import OneHotEncoder"
   ]
  },
  {
   "cell_type": "markdown",
   "metadata": {
    "deletable": false,
    "id": "INgMyEIPJoRc",
    "pbl_cell_type": "markdown",
    "step_id": 4887,
    "step_number": 0
   },
   "source": [
    "# **📌 대구 교통 사고 피해 예측 AI 경진대회 Baseline Code**"
   ]
  },
  {
   "cell_type": "markdown",
   "metadata": {
    "id": "DXsj7n3HJoRe",
    "pbl_cell_type": "markdown",
    "step_id": 5096,
    "step_number": 1
   },
   "source": [
    "## **Fixed Random Seed**  \n",
    "\n",
    "seed 값에 의해 동일한 코드를 사용해도 결과가 다를 수 있기에, 동일한 결과를 위해 seed 값을 고정시킵니다"
   ]
  },
  {
   "cell_type": "code",
   "execution_count": 4,
   "metadata": {
    "ExecuteTime": {
     "end_time": "2023-11-22T06:27:04.207724Z",
     "start_time": "2023-11-22T06:27:04.206006Z"
    },
    "id": "JU6RISf6JoRe",
    "pbl_cell_type": "code",
    "step_id": 5096,
    "step_number": 1
   },
   "outputs": [],
   "source": [
    "import os\n",
    "import random\n",
    "import numpy as np\n",
    "\n",
    "def seed_everything(seed):\n",
    "    random.seed(seed)\n",
    "    os.environ['PYTHONHASHSEED'] = str(seed)\n",
    "    np.random.seed(seed)\n",
    "\n",
    "seed_everything(42)"
   ]
  },
  {
   "cell_type": "markdown",
   "metadata": {
    "id": "yCyLPSe_JoRf",
    "pbl_cell_type": "markdown",
    "step_id": 5096,
    "step_number": 1
   },
   "source": [
    "## **데이터 불러오기 및 상위행 확인**  \n",
    "\n",
    "train.csv, test.csv 파일을 로드하여 상위행을 출력해 봅시다"
   ]
  },
  {
   "cell_type": "code",
   "execution_count": 5,
   "metadata": {
    "ExecuteTime": {
     "end_time": "2023-11-22T06:27:04.333724Z",
     "start_time": "2023-11-22T06:27:04.208279Z"
    },
    "id": "s3-Z_wbNJoRf",
    "outputId": "349c6dd4-cb36-4dce-bfe3-25a9ccbfdc63",
    "pbl_cell_type": "code",
    "scrolled": true,
    "step_id": 5096,
    "step_number": 1
   },
   "outputs": [
    {
     "data": {
      "text/html": [
       "<div>\n",
       "<style scoped>\n",
       "    .dataframe tbody tr th:only-of-type {\n",
       "        vertical-align: middle;\n",
       "    }\n",
       "\n",
       "    .dataframe tbody tr th {\n",
       "        vertical-align: top;\n",
       "    }\n",
       "\n",
       "    .dataframe thead th {\n",
       "        text-align: right;\n",
       "    }\n",
       "</style>\n",
       "<table border=\"1\" class=\"dataframe\">\n",
       "  <thead>\n",
       "    <tr style=\"text-align: right;\">\n",
       "      <th></th>\n",
       "      <th>ID</th>\n",
       "      <th>사고일시</th>\n",
       "      <th>요일</th>\n",
       "      <th>기상상태</th>\n",
       "      <th>시군구</th>\n",
       "      <th>도로형태</th>\n",
       "      <th>노면상태</th>\n",
       "      <th>사고유형</th>\n",
       "      <th>사고유형 - 세부분류</th>\n",
       "      <th>법규위반</th>\n",
       "      <th>...</th>\n",
       "      <th>가해운전자 상해정도</th>\n",
       "      <th>피해운전자 차종</th>\n",
       "      <th>피해운전자 성별</th>\n",
       "      <th>피해운전자 연령</th>\n",
       "      <th>피해운전자 상해정도</th>\n",
       "      <th>사망자수</th>\n",
       "      <th>중상자수</th>\n",
       "      <th>경상자수</th>\n",
       "      <th>부상자수</th>\n",
       "      <th>ECLO</th>\n",
       "    </tr>\n",
       "  </thead>\n",
       "  <tbody>\n",
       "    <tr>\n",
       "      <th>0</th>\n",
       "      <td>ACCIDENT_00000</td>\n",
       "      <td>2019-01-01 00</td>\n",
       "      <td>화요일</td>\n",
       "      <td>맑음</td>\n",
       "      <td>대구광역시 중구 대신동</td>\n",
       "      <td>단일로 - 기타</td>\n",
       "      <td>건조</td>\n",
       "      <td>차대사람</td>\n",
       "      <td>길가장자리구역통행중</td>\n",
       "      <td>안전운전불이행</td>\n",
       "      <td>...</td>\n",
       "      <td>상해없음</td>\n",
       "      <td>보행자</td>\n",
       "      <td>여</td>\n",
       "      <td>70세</td>\n",
       "      <td>중상</td>\n",
       "      <td>0</td>\n",
       "      <td>1</td>\n",
       "      <td>0</td>\n",
       "      <td>0</td>\n",
       "      <td>5</td>\n",
       "    </tr>\n",
       "    <tr>\n",
       "      <th>1</th>\n",
       "      <td>ACCIDENT_00001</td>\n",
       "      <td>2019-01-01 00</td>\n",
       "      <td>화요일</td>\n",
       "      <td>흐림</td>\n",
       "      <td>대구광역시 달서구 감삼동</td>\n",
       "      <td>단일로 - 기타</td>\n",
       "      <td>건조</td>\n",
       "      <td>차대사람</td>\n",
       "      <td>보도통행중</td>\n",
       "      <td>기타</td>\n",
       "      <td>...</td>\n",
       "      <td>상해없음</td>\n",
       "      <td>보행자</td>\n",
       "      <td>남</td>\n",
       "      <td>61세</td>\n",
       "      <td>경상</td>\n",
       "      <td>0</td>\n",
       "      <td>0</td>\n",
       "      <td>1</td>\n",
       "      <td>0</td>\n",
       "      <td>3</td>\n",
       "    </tr>\n",
       "    <tr>\n",
       "      <th>2</th>\n",
       "      <td>ACCIDENT_00002</td>\n",
       "      <td>2019-01-01 01</td>\n",
       "      <td>화요일</td>\n",
       "      <td>맑음</td>\n",
       "      <td>대구광역시 수성구 두산동</td>\n",
       "      <td>단일로 - 기타</td>\n",
       "      <td>건조</td>\n",
       "      <td>차대사람</td>\n",
       "      <td>차도통행중</td>\n",
       "      <td>안전운전불이행</td>\n",
       "      <td>...</td>\n",
       "      <td>상해없음</td>\n",
       "      <td>보행자</td>\n",
       "      <td>남</td>\n",
       "      <td>38세</td>\n",
       "      <td>경상</td>\n",
       "      <td>0</td>\n",
       "      <td>0</td>\n",
       "      <td>1</td>\n",
       "      <td>0</td>\n",
       "      <td>3</td>\n",
       "    </tr>\n",
       "    <tr>\n",
       "      <th>3</th>\n",
       "      <td>ACCIDENT_00003</td>\n",
       "      <td>2019-01-01 02</td>\n",
       "      <td>화요일</td>\n",
       "      <td>맑음</td>\n",
       "      <td>대구광역시 북구 복현동</td>\n",
       "      <td>단일로 - 기타</td>\n",
       "      <td>건조</td>\n",
       "      <td>차대차</td>\n",
       "      <td>추돌</td>\n",
       "      <td>안전운전불이행</td>\n",
       "      <td>...</td>\n",
       "      <td>상해없음</td>\n",
       "      <td>승용</td>\n",
       "      <td>남</td>\n",
       "      <td>36세</td>\n",
       "      <td>중상</td>\n",
       "      <td>0</td>\n",
       "      <td>1</td>\n",
       "      <td>0</td>\n",
       "      <td>0</td>\n",
       "      <td>5</td>\n",
       "    </tr>\n",
       "    <tr>\n",
       "      <th>4</th>\n",
       "      <td>ACCIDENT_00004</td>\n",
       "      <td>2019-01-01 04</td>\n",
       "      <td>화요일</td>\n",
       "      <td>맑음</td>\n",
       "      <td>대구광역시 동구 신암동</td>\n",
       "      <td>단일로 - 기타</td>\n",
       "      <td>건조</td>\n",
       "      <td>차대차</td>\n",
       "      <td>추돌</td>\n",
       "      <td>안전운전불이행</td>\n",
       "      <td>...</td>\n",
       "      <td>상해없음</td>\n",
       "      <td>승용</td>\n",
       "      <td>남</td>\n",
       "      <td>52세</td>\n",
       "      <td>경상</td>\n",
       "      <td>0</td>\n",
       "      <td>0</td>\n",
       "      <td>1</td>\n",
       "      <td>0</td>\n",
       "      <td>3</td>\n",
       "    </tr>\n",
       "  </tbody>\n",
       "</table>\n",
       "<p>5 rows × 23 columns</p>\n",
       "</div>"
      ],
      "text/plain": [
       "               ID           사고일시   요일 기상상태            시군구      도로형태 노면상태  \\\n",
       "0  ACCIDENT_00000  2019-01-01 00  화요일   맑음   대구광역시 중구 대신동  단일로 - 기타   건조   \n",
       "1  ACCIDENT_00001  2019-01-01 00  화요일   흐림  대구광역시 달서구 감삼동  단일로 - 기타   건조   \n",
       "2  ACCIDENT_00002  2019-01-01 01  화요일   맑음  대구광역시 수성구 두산동  단일로 - 기타   건조   \n",
       "3  ACCIDENT_00003  2019-01-01 02  화요일   맑음   대구광역시 북구 복현동  단일로 - 기타   건조   \n",
       "4  ACCIDENT_00004  2019-01-01 04  화요일   맑음   대구광역시 동구 신암동  단일로 - 기타   건조   \n",
       "\n",
       "   사고유형 사고유형 - 세부분류     법규위반  ... 가해운전자 상해정도 피해운전자 차종 피해운전자 성별 피해운전자 연령  \\\n",
       "0  차대사람  길가장자리구역통행중  안전운전불이행  ...       상해없음      보행자        여      70세   \n",
       "1  차대사람       보도통행중       기타  ...       상해없음      보행자        남      61세   \n",
       "2  차대사람       차도통행중  안전운전불이행  ...       상해없음      보행자        남      38세   \n",
       "3   차대차          추돌  안전운전불이행  ...       상해없음       승용        남      36세   \n",
       "4   차대차          추돌  안전운전불이행  ...       상해없음       승용        남      52세   \n",
       "\n",
       "  피해운전자 상해정도 사망자수 중상자수 경상자수  부상자수  ECLO  \n",
       "0         중상    0    1    0     0     5  \n",
       "1         경상    0    0    1     0     3  \n",
       "2         경상    0    0    1     0     3  \n",
       "3         중상    0    1    0     0     5  \n",
       "4         경상    0    0    1     0     3  \n",
       "\n",
       "[5 rows x 23 columns]"
      ]
     },
     "metadata": {},
     "output_type": "display_data"
    },
    {
     "data": {
      "text/html": [
       "<div>\n",
       "<style scoped>\n",
       "    .dataframe tbody tr th:only-of-type {\n",
       "        vertical-align: middle;\n",
       "    }\n",
       "\n",
       "    .dataframe tbody tr th {\n",
       "        vertical-align: top;\n",
       "    }\n",
       "\n",
       "    .dataframe thead th {\n",
       "        text-align: right;\n",
       "    }\n",
       "</style>\n",
       "<table border=\"1\" class=\"dataframe\">\n",
       "  <thead>\n",
       "    <tr style=\"text-align: right;\">\n",
       "      <th></th>\n",
       "      <th>ID</th>\n",
       "      <th>사고일시</th>\n",
       "      <th>요일</th>\n",
       "      <th>기상상태</th>\n",
       "      <th>시군구</th>\n",
       "      <th>도로형태</th>\n",
       "      <th>노면상태</th>\n",
       "      <th>사고유형</th>\n",
       "    </tr>\n",
       "  </thead>\n",
       "  <tbody>\n",
       "    <tr>\n",
       "      <th>10958</th>\n",
       "      <td>ACCIDENT_50567</td>\n",
       "      <td>2022-12-31 18</td>\n",
       "      <td>토요일</td>\n",
       "      <td>맑음</td>\n",
       "      <td>대구광역시 남구 대명동</td>\n",
       "      <td>단일로 - 터널</td>\n",
       "      <td>건조</td>\n",
       "      <td>차대차</td>\n",
       "    </tr>\n",
       "    <tr>\n",
       "      <th>10959</th>\n",
       "      <td>ACCIDENT_50568</td>\n",
       "      <td>2022-12-31 18</td>\n",
       "      <td>토요일</td>\n",
       "      <td>맑음</td>\n",
       "      <td>대구광역시 수성구 시지동</td>\n",
       "      <td>단일로 - 기타</td>\n",
       "      <td>건조</td>\n",
       "      <td>차대차</td>\n",
       "    </tr>\n",
       "    <tr>\n",
       "      <th>10960</th>\n",
       "      <td>ACCIDENT_50569</td>\n",
       "      <td>2022-12-31 20</td>\n",
       "      <td>토요일</td>\n",
       "      <td>맑음</td>\n",
       "      <td>대구광역시 수성구 연호동</td>\n",
       "      <td>단일로 - 기타</td>\n",
       "      <td>건조</td>\n",
       "      <td>차대차</td>\n",
       "    </tr>\n",
       "    <tr>\n",
       "      <th>10961</th>\n",
       "      <td>ACCIDENT_50570</td>\n",
       "      <td>2022-12-31 20</td>\n",
       "      <td>토요일</td>\n",
       "      <td>맑음</td>\n",
       "      <td>대구광역시 수성구 범물동</td>\n",
       "      <td>교차로 - 교차로부근</td>\n",
       "      <td>건조</td>\n",
       "      <td>차대차</td>\n",
       "    </tr>\n",
       "    <tr>\n",
       "      <th>10962</th>\n",
       "      <td>ACCIDENT_50571</td>\n",
       "      <td>2022-12-31 21</td>\n",
       "      <td>토요일</td>\n",
       "      <td>맑음</td>\n",
       "      <td>대구광역시 동구 효목동</td>\n",
       "      <td>교차로 - 교차로부근</td>\n",
       "      <td>건조</td>\n",
       "      <td>차대차</td>\n",
       "    </tr>\n",
       "  </tbody>\n",
       "</table>\n",
       "</div>"
      ],
      "text/plain": [
       "                   ID           사고일시   요일 기상상태            시군구         도로형태  \\\n",
       "10958  ACCIDENT_50567  2022-12-31 18  토요일   맑음   대구광역시 남구 대명동     단일로 - 터널   \n",
       "10959  ACCIDENT_50568  2022-12-31 18  토요일   맑음  대구광역시 수성구 시지동     단일로 - 기타   \n",
       "10960  ACCIDENT_50569  2022-12-31 20  토요일   맑음  대구광역시 수성구 연호동     단일로 - 기타   \n",
       "10961  ACCIDENT_50570  2022-12-31 20  토요일   맑음  대구광역시 수성구 범물동  교차로 - 교차로부근   \n",
       "10962  ACCIDENT_50571  2022-12-31 21  토요일   맑음   대구광역시 동구 효목동  교차로 - 교차로부근   \n",
       "\n",
       "      노면상태 사고유형  \n",
       "10958   건조  차대차  \n",
       "10959   건조  차대차  \n",
       "10960   건조  차대차  \n",
       "10961   건조  차대차  \n",
       "10962   건조  차대차  "
      ]
     },
     "metadata": {},
     "output_type": "display_data"
    }
   ],
   "source": [
    "import pandas as pd\n",
    "from datetime import datetime\n",
    "\n",
    "train = pd.read_csv('/Users/euijinlee/KDT_DATA/Project_1/data/train.csv', encoding = \"utf-8\", low_memory=False)\n",
    "test = pd.read_csv('/Users/euijinlee/KDT_DATA/Project_1/data/test.csv', encoding = \"utf-8\", low_memory=False)\n",
    "\n",
    "display(train.head())\n",
    "display(test.tail())"
   ]
  },
  {
   "cell_type": "markdown",
   "metadata": {
    "id": "xT9y8UNRJoRg",
    "pbl_cell_type": "markdown",
    "step_id": 5096,
    "step_number": 1
   },
   "source": [
    "## **train, test 데이터 기간 확인하기**  \n",
    "\n",
    "학습(train) 데이터의 기간과 예측 대상이 되는 test 데이터의 기간을 살펴 봅니다"
   ]
  },
  {
   "cell_type": "code",
   "execution_count": 6,
   "metadata": {
    "ExecuteTime": {
     "end_time": "2023-11-22T06:27:04.338240Z",
     "start_time": "2023-11-22T06:27:04.334793Z"
    },
    "id": "nhBxBs2WJoRg",
    "outputId": "293b589c-3055-4027-f8c3-b91fa3259f24",
    "pbl_cell_type": "code",
    "step_id": 5096,
    "step_number": 1
   },
   "outputs": [
    {
     "data": {
      "text/plain": [
       "'train : 2019-01-01 00 ~ 2021-12-31 23'"
      ]
     },
     "metadata": {},
     "output_type": "display_data"
    },
    {
     "data": {
      "text/plain": [
       "'test : 2022-01-01 01 ~ 2022-12-31 21'"
      ]
     },
     "metadata": {},
     "output_type": "display_data"
    }
   ],
   "source": [
    "display(f\"train : {train.iloc[0]['사고일시']} ~ {train.iloc[-1]['사고일시']}\")\n",
    "display(f\"test : {test.iloc[0]['사고일시']} ~ {test.iloc[-1]['사고일시']}\")"
   ]
  },
  {
   "cell_type": "markdown",
   "metadata": {
    "id": "3SHgKAj7JoRh",
    "jp-MarkdownHeadingCollapsed": true
   },
   "source": [
    "### Data Info"
   ]
  },
  {
   "cell_type": "code",
   "execution_count": 7,
   "metadata": {
    "ExecuteTime": {
     "end_time": "2023-11-22T06:27:04.359597Z",
     "start_time": "2023-11-22T06:27:04.339601Z"
    },
    "id": "hiabtZLyJoRh"
   },
   "outputs": [],
   "source": [
    "#'사고일시' 데이터 타입을 object -> datetime으로  바꾸기\n",
    "train['사고일시'] = pd.to_datetime(train['사고일시'])\n",
    "test['사고일시'] = pd.to_datetime(test['사고일시'])"
   ]
  },
  {
   "cell_type": "markdown",
   "metadata": {
    "id": "TOeUh7fcJoRk",
    "pbl_cell_type": "markdown",
    "step_id": 5168,
    "step_number": 2
   },
   "source": [
    "## **데이터 전처리**  \n",
    "\n",
    "현재 '사고일시', '시군구', '도로형태' 컬럼은 반복되는 패턴으로 여러 정보를 포함하고 있습니다\n",
    "이런 반복되는 패턴을 일반화하면 pandas에서 제공하는 str.extract를 통해 한 번에 추출 가능합니다  "
   ]
  },
  {
   "cell_type": "markdown",
   "metadata": {
    "id": "TOeUh7fcJoRk",
    "pbl_cell_type": "markdown",
    "step_id": 5168,
    "step_number": 2
   },
   "source": [
    "### **파생 변수 생성 1 : 날짜, 시간정보 생성**\n",
    "\n",
    "'사고일시' 컬럼으로 부터 연도, 월, 일, 시간 정보 추출 및 변환 합니다"
   ]
  },
  {
   "cell_type": "code",
   "execution_count": 8,
   "metadata": {
    "ExecuteTime": {
     "end_time": "2023-11-22T06:27:04.487631Z",
     "start_time": "2023-11-22T06:27:04.375641Z"
    },
    "id": "PGeKhkdKJoRk",
    "outputId": "104350a0-7c5f-4c8c-9d1d-6ca8d92b3e12"
   },
   "outputs": [
    {
     "data": {
      "text/html": [
       "<div>\n",
       "<style scoped>\n",
       "    .dataframe tbody tr th:only-of-type {\n",
       "        vertical-align: middle;\n",
       "    }\n",
       "\n",
       "    .dataframe tbody tr th {\n",
       "        vertical-align: top;\n",
       "    }\n",
       "\n",
       "    .dataframe thead th {\n",
       "        text-align: right;\n",
       "    }\n",
       "</style>\n",
       "<table border=\"1\" class=\"dataframe\">\n",
       "  <thead>\n",
       "    <tr style=\"text-align: right;\">\n",
       "      <th></th>\n",
       "      <th>ID</th>\n",
       "      <th>사고일시</th>\n",
       "      <th>요일</th>\n",
       "      <th>기상상태</th>\n",
       "      <th>시군구</th>\n",
       "      <th>도로형태</th>\n",
       "      <th>노면상태</th>\n",
       "      <th>사고유형</th>\n",
       "      <th>사고유형 - 세부분류</th>\n",
       "      <th>법규위반</th>\n",
       "      <th>...</th>\n",
       "      <th>가해운전자 상해정도</th>\n",
       "      <th>피해운전자 차종</th>\n",
       "      <th>피해운전자 성별</th>\n",
       "      <th>피해운전자 연령</th>\n",
       "      <th>피해운전자 상해정도</th>\n",
       "      <th>사망자수</th>\n",
       "      <th>중상자수</th>\n",
       "      <th>경상자수</th>\n",
       "      <th>부상자수</th>\n",
       "      <th>ECLO</th>\n",
       "    </tr>\n",
       "  </thead>\n",
       "  <tbody>\n",
       "    <tr>\n",
       "      <th>0</th>\n",
       "      <td>ACCIDENT_00000</td>\n",
       "      <td>2019-01-01 00</td>\n",
       "      <td>화요일</td>\n",
       "      <td>맑음</td>\n",
       "      <td>대구광역시 중구 대신동</td>\n",
       "      <td>단일로 - 기타</td>\n",
       "      <td>건조</td>\n",
       "      <td>차대사람</td>\n",
       "      <td>길가장자리구역통행중</td>\n",
       "      <td>안전운전불이행</td>\n",
       "      <td>...</td>\n",
       "      <td>상해없음</td>\n",
       "      <td>보행자</td>\n",
       "      <td>여</td>\n",
       "      <td>70세</td>\n",
       "      <td>중상</td>\n",
       "      <td>0</td>\n",
       "      <td>1</td>\n",
       "      <td>0</td>\n",
       "      <td>0</td>\n",
       "      <td>5</td>\n",
       "    </tr>\n",
       "    <tr>\n",
       "      <th>1</th>\n",
       "      <td>ACCIDENT_00001</td>\n",
       "      <td>2019-01-01 00</td>\n",
       "      <td>화요일</td>\n",
       "      <td>흐림</td>\n",
       "      <td>대구광역시 달서구 감삼동</td>\n",
       "      <td>단일로 - 기타</td>\n",
       "      <td>건조</td>\n",
       "      <td>차대사람</td>\n",
       "      <td>보도통행중</td>\n",
       "      <td>기타</td>\n",
       "      <td>...</td>\n",
       "      <td>상해없음</td>\n",
       "      <td>보행자</td>\n",
       "      <td>남</td>\n",
       "      <td>61세</td>\n",
       "      <td>경상</td>\n",
       "      <td>0</td>\n",
       "      <td>0</td>\n",
       "      <td>1</td>\n",
       "      <td>0</td>\n",
       "      <td>3</td>\n",
       "    </tr>\n",
       "    <tr>\n",
       "      <th>2</th>\n",
       "      <td>ACCIDENT_00002</td>\n",
       "      <td>2019-01-01 01</td>\n",
       "      <td>화요일</td>\n",
       "      <td>맑음</td>\n",
       "      <td>대구광역시 수성구 두산동</td>\n",
       "      <td>단일로 - 기타</td>\n",
       "      <td>건조</td>\n",
       "      <td>차대사람</td>\n",
       "      <td>차도통행중</td>\n",
       "      <td>안전운전불이행</td>\n",
       "      <td>...</td>\n",
       "      <td>상해없음</td>\n",
       "      <td>보행자</td>\n",
       "      <td>남</td>\n",
       "      <td>38세</td>\n",
       "      <td>경상</td>\n",
       "      <td>0</td>\n",
       "      <td>0</td>\n",
       "      <td>1</td>\n",
       "      <td>0</td>\n",
       "      <td>3</td>\n",
       "    </tr>\n",
       "    <tr>\n",
       "      <th>3</th>\n",
       "      <td>ACCIDENT_00003</td>\n",
       "      <td>2019-01-01 02</td>\n",
       "      <td>화요일</td>\n",
       "      <td>맑음</td>\n",
       "      <td>대구광역시 북구 복현동</td>\n",
       "      <td>단일로 - 기타</td>\n",
       "      <td>건조</td>\n",
       "      <td>차대차</td>\n",
       "      <td>추돌</td>\n",
       "      <td>안전운전불이행</td>\n",
       "      <td>...</td>\n",
       "      <td>상해없음</td>\n",
       "      <td>승용</td>\n",
       "      <td>남</td>\n",
       "      <td>36세</td>\n",
       "      <td>중상</td>\n",
       "      <td>0</td>\n",
       "      <td>1</td>\n",
       "      <td>0</td>\n",
       "      <td>0</td>\n",
       "      <td>5</td>\n",
       "    </tr>\n",
       "    <tr>\n",
       "      <th>4</th>\n",
       "      <td>ACCIDENT_00004</td>\n",
       "      <td>2019-01-01 04</td>\n",
       "      <td>화요일</td>\n",
       "      <td>맑음</td>\n",
       "      <td>대구광역시 동구 신암동</td>\n",
       "      <td>단일로 - 기타</td>\n",
       "      <td>건조</td>\n",
       "      <td>차대차</td>\n",
       "      <td>추돌</td>\n",
       "      <td>안전운전불이행</td>\n",
       "      <td>...</td>\n",
       "      <td>상해없음</td>\n",
       "      <td>승용</td>\n",
       "      <td>남</td>\n",
       "      <td>52세</td>\n",
       "      <td>경상</td>\n",
       "      <td>0</td>\n",
       "      <td>0</td>\n",
       "      <td>1</td>\n",
       "      <td>0</td>\n",
       "      <td>3</td>\n",
       "    </tr>\n",
       "  </tbody>\n",
       "</table>\n",
       "<p>5 rows × 23 columns</p>\n",
       "</div>"
      ],
      "text/plain": [
       "               ID           사고일시   요일 기상상태            시군구      도로형태 노면상태  \\\n",
       "0  ACCIDENT_00000  2019-01-01 00  화요일   맑음   대구광역시 중구 대신동  단일로 - 기타   건조   \n",
       "1  ACCIDENT_00001  2019-01-01 00  화요일   흐림  대구광역시 달서구 감삼동  단일로 - 기타   건조   \n",
       "2  ACCIDENT_00002  2019-01-01 01  화요일   맑음  대구광역시 수성구 두산동  단일로 - 기타   건조   \n",
       "3  ACCIDENT_00003  2019-01-01 02  화요일   맑음   대구광역시 북구 복현동  단일로 - 기타   건조   \n",
       "4  ACCIDENT_00004  2019-01-01 04  화요일   맑음   대구광역시 동구 신암동  단일로 - 기타   건조   \n",
       "\n",
       "   사고유형 사고유형 - 세부분류     법규위반  ... 가해운전자 상해정도 피해운전자 차종 피해운전자 성별 피해운전자 연령  \\\n",
       "0  차대사람  길가장자리구역통행중  안전운전불이행  ...       상해없음      보행자        여      70세   \n",
       "1  차대사람       보도통행중       기타  ...       상해없음      보행자        남      61세   \n",
       "2  차대사람       차도통행중  안전운전불이행  ...       상해없음      보행자        남      38세   \n",
       "3   차대차          추돌  안전운전불이행  ...       상해없음       승용        남      36세   \n",
       "4   차대차          추돌  안전운전불이행  ...       상해없음       승용        남      52세   \n",
       "\n",
       "  피해운전자 상해정도 사망자수 중상자수 경상자수  부상자수  ECLO  \n",
       "0         중상    0    1    0     0     5  \n",
       "1         경상    0    0    1     0     3  \n",
       "2         경상    0    0    1     0     3  \n",
       "3         중상    0    1    0     0     5  \n",
       "4         경상    0    0    1     0     3  \n",
       "\n",
       "[5 rows x 23 columns]"
      ]
     },
     "metadata": {},
     "output_type": "display_data"
    },
    {
     "data": {
      "text/html": [
       "<div>\n",
       "<style scoped>\n",
       "    .dataframe tbody tr th:only-of-type {\n",
       "        vertical-align: middle;\n",
       "    }\n",
       "\n",
       "    .dataframe tbody tr th {\n",
       "        vertical-align: top;\n",
       "    }\n",
       "\n",
       "    .dataframe thead th {\n",
       "        text-align: right;\n",
       "    }\n",
       "</style>\n",
       "<table border=\"1\" class=\"dataframe\">\n",
       "  <thead>\n",
       "    <tr style=\"text-align: right;\">\n",
       "      <th></th>\n",
       "      <th>ID</th>\n",
       "      <th>사고일시</th>\n",
       "      <th>요일</th>\n",
       "      <th>기상상태</th>\n",
       "      <th>시군구</th>\n",
       "      <th>도로형태</th>\n",
       "      <th>노면상태</th>\n",
       "      <th>사고유형</th>\n",
       "    </tr>\n",
       "  </thead>\n",
       "  <tbody>\n",
       "    <tr>\n",
       "      <th>10958</th>\n",
       "      <td>ACCIDENT_50567</td>\n",
       "      <td>2022-12-31 18</td>\n",
       "      <td>토요일</td>\n",
       "      <td>맑음</td>\n",
       "      <td>대구광역시 남구 대명동</td>\n",
       "      <td>단일로 - 터널</td>\n",
       "      <td>건조</td>\n",
       "      <td>차대차</td>\n",
       "    </tr>\n",
       "    <tr>\n",
       "      <th>10959</th>\n",
       "      <td>ACCIDENT_50568</td>\n",
       "      <td>2022-12-31 18</td>\n",
       "      <td>토요일</td>\n",
       "      <td>맑음</td>\n",
       "      <td>대구광역시 수성구 시지동</td>\n",
       "      <td>단일로 - 기타</td>\n",
       "      <td>건조</td>\n",
       "      <td>차대차</td>\n",
       "    </tr>\n",
       "    <tr>\n",
       "      <th>10960</th>\n",
       "      <td>ACCIDENT_50569</td>\n",
       "      <td>2022-12-31 20</td>\n",
       "      <td>토요일</td>\n",
       "      <td>맑음</td>\n",
       "      <td>대구광역시 수성구 연호동</td>\n",
       "      <td>단일로 - 기타</td>\n",
       "      <td>건조</td>\n",
       "      <td>차대차</td>\n",
       "    </tr>\n",
       "    <tr>\n",
       "      <th>10961</th>\n",
       "      <td>ACCIDENT_50570</td>\n",
       "      <td>2022-12-31 20</td>\n",
       "      <td>토요일</td>\n",
       "      <td>맑음</td>\n",
       "      <td>대구광역시 수성구 범물동</td>\n",
       "      <td>교차로 - 교차로부근</td>\n",
       "      <td>건조</td>\n",
       "      <td>차대차</td>\n",
       "    </tr>\n",
       "    <tr>\n",
       "      <th>10962</th>\n",
       "      <td>ACCIDENT_50571</td>\n",
       "      <td>2022-12-31 21</td>\n",
       "      <td>토요일</td>\n",
       "      <td>맑음</td>\n",
       "      <td>대구광역시 동구 효목동</td>\n",
       "      <td>교차로 - 교차로부근</td>\n",
       "      <td>건조</td>\n",
       "      <td>차대차</td>\n",
       "    </tr>\n",
       "  </tbody>\n",
       "</table>\n",
       "</div>"
      ],
      "text/plain": [
       "                   ID           사고일시   요일 기상상태            시군구         도로형태  \\\n",
       "10958  ACCIDENT_50567  2022-12-31 18  토요일   맑음   대구광역시 남구 대명동     단일로 - 터널   \n",
       "10959  ACCIDENT_50568  2022-12-31 18  토요일   맑음  대구광역시 수성구 시지동     단일로 - 기타   \n",
       "10960  ACCIDENT_50569  2022-12-31 20  토요일   맑음  대구광역시 수성구 연호동     단일로 - 기타   \n",
       "10961  ACCIDENT_50570  2022-12-31 20  토요일   맑음  대구광역시 수성구 범물동  교차로 - 교차로부근   \n",
       "10962  ACCIDENT_50571  2022-12-31 21  토요일   맑음   대구광역시 동구 효목동  교차로 - 교차로부근   \n",
       "\n",
       "      노면상태 사고유형  \n",
       "10958   건조  차대차  \n",
       "10959   건조  차대차  \n",
       "10960   건조  차대차  \n",
       "10961   건조  차대차  \n",
       "10962   건조  차대차  "
      ]
     },
     "metadata": {},
     "output_type": "display_data"
    }
   ],
   "source": [
    "import pandas as pd\n",
    "from datetime import datetime\n",
    "\n",
    "train_org = pd.read_csv('/Users/euijinlee/KDT_DATA/Project_1/data/train.csv',encoding = \"utf-8\", low_memory=False)\n",
    "test_org = pd.read_csv('/Users/euijinlee/KDT_DATA/Project_1/data/test.csv', encoding = \"utf-8\", low_memory=False)\n",
    "\n",
    "display(train_org.head())\n",
    "display(test_org.tail())"
   ]
  },
  {
   "cell_type": "code",
   "execution_count": 9,
   "metadata": {
    "ExecuteTime": {
     "end_time": "2023-11-22T06:27:04.676497Z",
     "start_time": "2023-11-22T06:27:04.488920Z"
    },
    "id": "_woJ1MBbJoRk",
    "outputId": "d1396310-f894-466f-f629-3e6affbd53bf",
    "pbl_cell_type": "code",
    "step_id": 5168,
    "step_number": 2
   },
   "outputs": [
    {
     "data": {
      "text/plain": [
       "\"columns of train_df : Index(['ID', '요일', '기상상태', '시군구', '도로형태', '노면상태', '사고유형', '사고유형 - 세부분류',\\n       '법규위반', '가해운전자 차종', '가해운전자 성별', '가해운전자 연령', '가해운전자 상해정도', '피해운전자 차종',\\n       '피해운전자 성별', '피해운전자 연령', '피해운전자 상해정도', '사망자수', '중상자수', '경상자수', '부상자수',\\n       'ECLO', '연', '월', '일', '시간'],\\n      dtype='object')\""
      ]
     },
     "metadata": {},
     "output_type": "display_data"
    },
    {
     "data": {
      "text/plain": [
       "\"columns of test_df : Index(['ID', '요일', '기상상태', '시군구', '도로형태', '노면상태', '사고유형', '연', '월', '일', '시간'], dtype='object')\""
      ]
     },
     "metadata": {},
     "output_type": "display_data"
    }
   ],
   "source": [
    "train_df = train_org.copy()\n",
    "test_df = test_org.copy()\n",
    "\n",
    "time_pattern = r'(\\d{4})-(\\d{1,2})-(\\d{1,2}) (\\d{1,2})'\n",
    "\n",
    "train_df[['연', '월', '일', '시간']] = train_org['사고일시'].str.extract(time_pattern)\n",
    "train_df[['연', '월', '일', '시간']] = train_df[['연', '월', '일', '시간']].apply(pd.to_numeric) # 추출된 문자열을 수치화해줍니다\n",
    "train_df = train_df.drop(columns=['사고일시']) # 정보 추출이 완료된 '사고일시' 컬럼은 제거합니다\n",
    "\n",
    "# 해당 과정을 test_x에 대해서도 반복해줍니다\n",
    "test_df[['연', '월', '일', '시간']] = test_org['사고일시'].str.extract(time_pattern)\n",
    "test_df[['연', '월', '일', '시간']] = test_df[['연', '월', '일', '시간']].apply(pd.to_numeric)\n",
    "test_df = test_df.drop(columns=['사고일시'])\n",
    "\n",
    "display(f\"columns of train_df : {train_df.columns}\")\n",
    "display(f\"columns of test_df : {test_df.columns}\")"
   ]
  },
  {
   "cell_type": "markdown",
   "metadata": {
    "id": "DAUjtZeCJoRl",
    "pbl_cell_type": "markdown",
    "step_id": 5169,
    "step_number": 3
   },
   "source": [
    "### **파생 변수 생성 2 : 공간(위치) 정보 생성**\n",
    "\n",
    "'시군구' 컬럼으로부터 의미 있는 공산 정보를 추출 및 변환 합니다"
   ]
  },
  {
   "cell_type": "code",
   "execution_count": 10,
   "metadata": {
    "ExecuteTime": {
     "end_time": "2023-11-22T06:27:04.741239Z",
     "start_time": "2023-11-22T06:27:04.677344Z"
    },
    "id": "EW2G7DuZJoRl",
    "outputId": "d89c739a-03ae-4f40-f211-ec98c345003d",
    "pbl_cell_type": "code",
    "step_id": 5169,
    "step_number": 3
   },
   "outputs": [
    {
     "data": {
      "text/plain": [
       "\"columns of train_df : Index(['ID', '요일', '기상상태', '도로형태', '노면상태', '사고유형', '사고유형 - 세부분류', '법규위반',\\n       '가해운전자 차종', '가해운전자 성별', '가해운전자 연령', '가해운전자 상해정도', '피해운전자 차종',\\n       '피해운전자 성별', '피해운전자 연령', '피해운전자 상해정도', '사망자수', '중상자수', '경상자수', '부상자수',\\n       'ECLO', '연', '월', '일', '시간', '도시', '구', '동'],\\n      dtype='object')\""
      ]
     },
     "metadata": {},
     "output_type": "display_data"
    },
    {
     "data": {
      "text/plain": [
       "\"columns of test_df : Index(['ID', '요일', '기상상태', '도로형태', '노면상태', '사고유형', '연', '월', '일', '시간', '도시',\\n       '구', '동'],\\n      dtype='object')\""
      ]
     },
     "metadata": {},
     "output_type": "display_data"
    }
   ],
   "source": [
    "location_pattern = r'(\\S+) (\\S+) (\\S+)'\n",
    "\n",
    "train_df[['도시', '구', '동']] = train_org['시군구'].str.extract(location_pattern)\n",
    "train_df = train_df.drop(columns=['시군구'])\n",
    "\n",
    "test_df[['도시', '구', '동']] = test_org['시군구'].str.extract(location_pattern)\n",
    "test_df = test_df.drop(columns=['시군구'])\n",
    "\n",
    "display(f\"columns of train_df : {train_df.columns}\")\n",
    "display(f\"columns of test_df : {test_df.columns}\")"
   ]
  },
  {
   "cell_type": "markdown",
   "metadata": {
    "id": "w2eqjFtJJoRl",
    "pbl_cell_type": "markdown",
    "step_id": 5170,
    "step_number": 4
   },
   "source": [
    "### **파생 변수 추출 3 : 도로 형태 정보 추출**  \n",
    "\n",
    "'도로형태' 컬럼은 '단일로 - 기타'와 같은 패턴으로 구성되어 있습니다. 이를 두종류의 독립된 정보로 보고 두개의 컬럼으로 분리하여 생성합니다."
   ]
  },
  {
   "cell_type": "code",
   "execution_count": 11,
   "metadata": {
    "ExecuteTime": {
     "end_time": "2023-11-22T06:27:04.832178Z",
     "start_time": "2023-11-22T06:27:04.742178Z"
    },
    "id": "worronJqJoRl",
    "outputId": "6d006717-80ca-4828-bf14-aa4da1faf322",
    "pbl_cell_type": "code",
    "step_id": 5170,
    "step_number": 4
   },
   "outputs": [
    {
     "data": {
      "text/plain": [
       "\"columns of train_df : Index(['ID', '요일', '기상상태', '노면상태', '사고유형', '사고유형 - 세부분류', '법규위반', '가해운전자 차종',\\n       '가해운전자 성별', '가해운전자 연령', '가해운전자 상해정도', '피해운전자 차종', '피해운전자 성별',\\n       '피해운전자 연령', '피해운전자 상해정도', '사망자수', '중상자수', '경상자수', '부상자수', 'ECLO', '연',\\n       '월', '일', '시간', '도시', '구', '동', '도로형태1', '도로형태2'],\\n      dtype='object')\""
      ]
     },
     "metadata": {},
     "output_type": "display_data"
    },
    {
     "data": {
      "text/plain": [
       "\"columns of test_df : Index(['ID', '요일', '기상상태', '노면상태', '사고유형', '연', '월', '일', '시간', '도시', '구', '동',\\n       '도로형태1', '도로형태2'],\\n      dtype='object')\""
      ]
     },
     "metadata": {},
     "output_type": "display_data"
    }
   ],
   "source": [
    "road_pattern = r'(.+) - (.+)'\n",
    "\n",
    "train_df[['도로형태1', '도로형태2']] = train_org['도로형태'].str.extract(road_pattern)\n",
    "train_df = train_df.drop(columns=['도로형태'])\n",
    "\n",
    "test_df[['도로형태1', '도로형태2']] = test_org['도로형태'].str.extract(road_pattern)\n",
    "test_df = test_df.drop(columns=['도로형태'])\n",
    "\n",
    "display(f\"columns of train_df : {train_df.columns}\")\n",
    "display(f\"columns of test_df : {test_df.columns}\")"
   ]
  },
  {
   "cell_type": "markdown",
   "metadata": {},
   "source": [
    "# **📌 \b추가 전처리**"
   ]
  },
  {
   "cell_type": "markdown",
   "metadata": {
    "id": "Um8Y2i3uJoRl"
   },
   "source": [
    "## **train, test 컬럼 수 맞추기**\n",
    "\n",
    "test에 있는 컬럼들만 사용하여 train 데이터를 구성했습니다."
   ]
  },
  {
   "cell_type": "code",
   "execution_count": 12,
   "metadata": {
    "ExecuteTime": {
     "end_time": "2023-11-22T06:27:04.846304Z",
     "start_time": "2023-11-22T06:27:04.833038Z"
    },
    "id": "7C4sfAN4JoRl",
    "outputId": "17c80b0b-cc0f-4e56-a193-7d316fcbfe0a"
   },
   "outputs": [
    {
     "data": {
      "text/html": [
       "<div>\n",
       "<style scoped>\n",
       "    .dataframe tbody tr th:only-of-type {\n",
       "        vertical-align: middle;\n",
       "    }\n",
       "\n",
       "    .dataframe tbody tr th {\n",
       "        vertical-align: top;\n",
       "    }\n",
       "\n",
       "    .dataframe thead th {\n",
       "        text-align: right;\n",
       "    }\n",
       "</style>\n",
       "<table border=\"1\" class=\"dataframe\">\n",
       "  <thead>\n",
       "    <tr style=\"text-align: right;\">\n",
       "      <th></th>\n",
       "      <th>ID</th>\n",
       "      <th>요일</th>\n",
       "      <th>기상상태</th>\n",
       "      <th>노면상태</th>\n",
       "      <th>사고유형</th>\n",
       "      <th>연</th>\n",
       "      <th>월</th>\n",
       "      <th>일</th>\n",
       "      <th>시간</th>\n",
       "      <th>도시</th>\n",
       "      <th>구</th>\n",
       "      <th>동</th>\n",
       "      <th>도로형태1</th>\n",
       "      <th>도로형태2</th>\n",
       "    </tr>\n",
       "  </thead>\n",
       "  <tbody>\n",
       "    <tr>\n",
       "      <th>0</th>\n",
       "      <td>ACCIDENT_00000</td>\n",
       "      <td>화요일</td>\n",
       "      <td>맑음</td>\n",
       "      <td>건조</td>\n",
       "      <td>차대사람</td>\n",
       "      <td>2019</td>\n",
       "      <td>1</td>\n",
       "      <td>1</td>\n",
       "      <td>0</td>\n",
       "      <td>대구광역시</td>\n",
       "      <td>중구</td>\n",
       "      <td>대신동</td>\n",
       "      <td>단일로</td>\n",
       "      <td>기타</td>\n",
       "    </tr>\n",
       "    <tr>\n",
       "      <th>1</th>\n",
       "      <td>ACCIDENT_00001</td>\n",
       "      <td>화요일</td>\n",
       "      <td>흐림</td>\n",
       "      <td>건조</td>\n",
       "      <td>차대사람</td>\n",
       "      <td>2019</td>\n",
       "      <td>1</td>\n",
       "      <td>1</td>\n",
       "      <td>0</td>\n",
       "      <td>대구광역시</td>\n",
       "      <td>달서구</td>\n",
       "      <td>감삼동</td>\n",
       "      <td>단일로</td>\n",
       "      <td>기타</td>\n",
       "    </tr>\n",
       "    <tr>\n",
       "      <th>2</th>\n",
       "      <td>ACCIDENT_00002</td>\n",
       "      <td>화요일</td>\n",
       "      <td>맑음</td>\n",
       "      <td>건조</td>\n",
       "      <td>차대사람</td>\n",
       "      <td>2019</td>\n",
       "      <td>1</td>\n",
       "      <td>1</td>\n",
       "      <td>1</td>\n",
       "      <td>대구광역시</td>\n",
       "      <td>수성구</td>\n",
       "      <td>두산동</td>\n",
       "      <td>단일로</td>\n",
       "      <td>기타</td>\n",
       "    </tr>\n",
       "    <tr>\n",
       "      <th>3</th>\n",
       "      <td>ACCIDENT_00003</td>\n",
       "      <td>화요일</td>\n",
       "      <td>맑음</td>\n",
       "      <td>건조</td>\n",
       "      <td>차대차</td>\n",
       "      <td>2019</td>\n",
       "      <td>1</td>\n",
       "      <td>1</td>\n",
       "      <td>2</td>\n",
       "      <td>대구광역시</td>\n",
       "      <td>북구</td>\n",
       "      <td>복현동</td>\n",
       "      <td>단일로</td>\n",
       "      <td>기타</td>\n",
       "    </tr>\n",
       "    <tr>\n",
       "      <th>4</th>\n",
       "      <td>ACCIDENT_00004</td>\n",
       "      <td>화요일</td>\n",
       "      <td>맑음</td>\n",
       "      <td>건조</td>\n",
       "      <td>차대차</td>\n",
       "      <td>2019</td>\n",
       "      <td>1</td>\n",
       "      <td>1</td>\n",
       "      <td>4</td>\n",
       "      <td>대구광역시</td>\n",
       "      <td>동구</td>\n",
       "      <td>신암동</td>\n",
       "      <td>단일로</td>\n",
       "      <td>기타</td>\n",
       "    </tr>\n",
       "    <tr>\n",
       "      <th>...</th>\n",
       "      <td>...</td>\n",
       "      <td>...</td>\n",
       "      <td>...</td>\n",
       "      <td>...</td>\n",
       "      <td>...</td>\n",
       "      <td>...</td>\n",
       "      <td>...</td>\n",
       "      <td>...</td>\n",
       "      <td>...</td>\n",
       "      <td>...</td>\n",
       "      <td>...</td>\n",
       "      <td>...</td>\n",
       "      <td>...</td>\n",
       "      <td>...</td>\n",
       "    </tr>\n",
       "    <tr>\n",
       "      <th>39604</th>\n",
       "      <td>ACCIDENT_39604</td>\n",
       "      <td>금요일</td>\n",
       "      <td>맑음</td>\n",
       "      <td>건조</td>\n",
       "      <td>차대차</td>\n",
       "      <td>2021</td>\n",
       "      <td>12</td>\n",
       "      <td>31</td>\n",
       "      <td>19</td>\n",
       "      <td>대구광역시</td>\n",
       "      <td>수성구</td>\n",
       "      <td>수성동3가</td>\n",
       "      <td>교차로</td>\n",
       "      <td>교차로안</td>\n",
       "    </tr>\n",
       "    <tr>\n",
       "      <th>39605</th>\n",
       "      <td>ACCIDENT_39605</td>\n",
       "      <td>금요일</td>\n",
       "      <td>맑음</td>\n",
       "      <td>건조</td>\n",
       "      <td>차대차</td>\n",
       "      <td>2021</td>\n",
       "      <td>12</td>\n",
       "      <td>31</td>\n",
       "      <td>19</td>\n",
       "      <td>대구광역시</td>\n",
       "      <td>달서구</td>\n",
       "      <td>상인동</td>\n",
       "      <td>단일로</td>\n",
       "      <td>기타</td>\n",
       "    </tr>\n",
       "    <tr>\n",
       "      <th>39606</th>\n",
       "      <td>ACCIDENT_39606</td>\n",
       "      <td>금요일</td>\n",
       "      <td>맑음</td>\n",
       "      <td>건조</td>\n",
       "      <td>차대차</td>\n",
       "      <td>2021</td>\n",
       "      <td>12</td>\n",
       "      <td>31</td>\n",
       "      <td>21</td>\n",
       "      <td>대구광역시</td>\n",
       "      <td>달서구</td>\n",
       "      <td>월성동</td>\n",
       "      <td>교차로</td>\n",
       "      <td>교차로안</td>\n",
       "    </tr>\n",
       "    <tr>\n",
       "      <th>39607</th>\n",
       "      <td>ACCIDENT_39607</td>\n",
       "      <td>금요일</td>\n",
       "      <td>맑음</td>\n",
       "      <td>건조</td>\n",
       "      <td>차대차</td>\n",
       "      <td>2021</td>\n",
       "      <td>12</td>\n",
       "      <td>31</td>\n",
       "      <td>22</td>\n",
       "      <td>대구광역시</td>\n",
       "      <td>달서구</td>\n",
       "      <td>장동</td>\n",
       "      <td>기타</td>\n",
       "      <td>기타</td>\n",
       "    </tr>\n",
       "    <tr>\n",
       "      <th>39608</th>\n",
       "      <td>ACCIDENT_39608</td>\n",
       "      <td>금요일</td>\n",
       "      <td>맑음</td>\n",
       "      <td>건조</td>\n",
       "      <td>차대차</td>\n",
       "      <td>2021</td>\n",
       "      <td>12</td>\n",
       "      <td>31</td>\n",
       "      <td>23</td>\n",
       "      <td>대구광역시</td>\n",
       "      <td>서구</td>\n",
       "      <td>비산동</td>\n",
       "      <td>단일로</td>\n",
       "      <td>지하차도(도로)내</td>\n",
       "    </tr>\n",
       "  </tbody>\n",
       "</table>\n",
       "<p>39609 rows × 14 columns</p>\n",
       "</div>"
      ],
      "text/plain": [
       "                   ID   요일 기상상태 노면상태  사고유형     연   월   일  시간     도시    구  \\\n",
       "0      ACCIDENT_00000  화요일   맑음   건조  차대사람  2019   1   1   0  대구광역시   중구   \n",
       "1      ACCIDENT_00001  화요일   흐림   건조  차대사람  2019   1   1   0  대구광역시  달서구   \n",
       "2      ACCIDENT_00002  화요일   맑음   건조  차대사람  2019   1   1   1  대구광역시  수성구   \n",
       "3      ACCIDENT_00003  화요일   맑음   건조   차대차  2019   1   1   2  대구광역시   북구   \n",
       "4      ACCIDENT_00004  화요일   맑음   건조   차대차  2019   1   1   4  대구광역시   동구   \n",
       "...               ...  ...  ...  ...   ...   ...  ..  ..  ..    ...  ...   \n",
       "39604  ACCIDENT_39604  금요일   맑음   건조   차대차  2021  12  31  19  대구광역시  수성구   \n",
       "39605  ACCIDENT_39605  금요일   맑음   건조   차대차  2021  12  31  19  대구광역시  달서구   \n",
       "39606  ACCIDENT_39606  금요일   맑음   건조   차대차  2021  12  31  21  대구광역시  달서구   \n",
       "39607  ACCIDENT_39607  금요일   맑음   건조   차대차  2021  12  31  22  대구광역시  달서구   \n",
       "39608  ACCIDENT_39608  금요일   맑음   건조   차대차  2021  12  31  23  대구광역시   서구   \n",
       "\n",
       "           동 도로형태1      도로형태2  \n",
       "0        대신동   단일로         기타  \n",
       "1        감삼동   단일로         기타  \n",
       "2        두산동   단일로         기타  \n",
       "3        복현동   단일로         기타  \n",
       "4        신암동   단일로         기타  \n",
       "...      ...   ...        ...  \n",
       "39604  수성동3가   교차로       교차로안  \n",
       "39605    상인동   단일로         기타  \n",
       "39606    월성동   교차로       교차로안  \n",
       "39607     장동    기타         기타  \n",
       "39608    비산동   단일로  지하차도(도로)내  \n",
       "\n",
       "[39609 rows x 14 columns]"
      ]
     },
     "execution_count": 12,
     "metadata": {},
     "output_type": "execute_result"
    }
   ],
   "source": [
    "train_df= train_df[['ID','요일','기상상태','노면상태', '사고유형', '연', '월', '일', '시간', '도시', '구','동', '도로형태1', '도로형태2']]\n",
    "train_df"
   ]
  },
  {
   "cell_type": "markdown",
   "metadata": {
    "id": "t-m18OgNJoRm",
    "pbl_cell_type": "markdown",
    "step_id": 5171,
    "step_number": 5
   },
   "source": [
    "## **전처리 결과 확인**\n",
    "\n",
    "지금까지 전처리한 결과를 확인해 봅시다"
   ]
  },
  {
   "cell_type": "code",
   "execution_count": 13,
   "metadata": {
    "ExecuteTime": {
     "end_time": "2023-11-22T06:27:04.856882Z",
     "start_time": "2023-11-22T06:27:04.846972Z"
    },
    "id": "REMMuAFfJoRm",
    "outputId": "0f3f1f98-a6e2-4ef8-c784-9f3355d736e7",
    "pbl_cell_type": "code",
    "scrolled": true,
    "step_id": 5171,
    "step_number": 5
   },
   "outputs": [
    {
     "data": {
      "text/html": [
       "<div>\n",
       "<style scoped>\n",
       "    .dataframe tbody tr th:only-of-type {\n",
       "        vertical-align: middle;\n",
       "    }\n",
       "\n",
       "    .dataframe tbody tr th {\n",
       "        vertical-align: top;\n",
       "    }\n",
       "\n",
       "    .dataframe thead th {\n",
       "        text-align: right;\n",
       "    }\n",
       "</style>\n",
       "<table border=\"1\" class=\"dataframe\">\n",
       "  <thead>\n",
       "    <tr style=\"text-align: right;\">\n",
       "      <th></th>\n",
       "      <th>ID</th>\n",
       "      <th>요일</th>\n",
       "      <th>기상상태</th>\n",
       "      <th>노면상태</th>\n",
       "      <th>사고유형</th>\n",
       "      <th>연</th>\n",
       "      <th>월</th>\n",
       "      <th>일</th>\n",
       "      <th>시간</th>\n",
       "      <th>도시</th>\n",
       "      <th>구</th>\n",
       "      <th>동</th>\n",
       "      <th>도로형태1</th>\n",
       "      <th>도로형태2</th>\n",
       "    </tr>\n",
       "  </thead>\n",
       "  <tbody>\n",
       "    <tr>\n",
       "      <th>0</th>\n",
       "      <td>ACCIDENT_00000</td>\n",
       "      <td>화요일</td>\n",
       "      <td>맑음</td>\n",
       "      <td>건조</td>\n",
       "      <td>차대사람</td>\n",
       "      <td>2019</td>\n",
       "      <td>1</td>\n",
       "      <td>1</td>\n",
       "      <td>0</td>\n",
       "      <td>대구광역시</td>\n",
       "      <td>중구</td>\n",
       "      <td>대신동</td>\n",
       "      <td>단일로</td>\n",
       "      <td>기타</td>\n",
       "    </tr>\n",
       "    <tr>\n",
       "      <th>1</th>\n",
       "      <td>ACCIDENT_00001</td>\n",
       "      <td>화요일</td>\n",
       "      <td>흐림</td>\n",
       "      <td>건조</td>\n",
       "      <td>차대사람</td>\n",
       "      <td>2019</td>\n",
       "      <td>1</td>\n",
       "      <td>1</td>\n",
       "      <td>0</td>\n",
       "      <td>대구광역시</td>\n",
       "      <td>달서구</td>\n",
       "      <td>감삼동</td>\n",
       "      <td>단일로</td>\n",
       "      <td>기타</td>\n",
       "    </tr>\n",
       "    <tr>\n",
       "      <th>2</th>\n",
       "      <td>ACCIDENT_00002</td>\n",
       "      <td>화요일</td>\n",
       "      <td>맑음</td>\n",
       "      <td>건조</td>\n",
       "      <td>차대사람</td>\n",
       "      <td>2019</td>\n",
       "      <td>1</td>\n",
       "      <td>1</td>\n",
       "      <td>1</td>\n",
       "      <td>대구광역시</td>\n",
       "      <td>수성구</td>\n",
       "      <td>두산동</td>\n",
       "      <td>단일로</td>\n",
       "      <td>기타</td>\n",
       "    </tr>\n",
       "    <tr>\n",
       "      <th>3</th>\n",
       "      <td>ACCIDENT_00003</td>\n",
       "      <td>화요일</td>\n",
       "      <td>맑음</td>\n",
       "      <td>건조</td>\n",
       "      <td>차대차</td>\n",
       "      <td>2019</td>\n",
       "      <td>1</td>\n",
       "      <td>1</td>\n",
       "      <td>2</td>\n",
       "      <td>대구광역시</td>\n",
       "      <td>북구</td>\n",
       "      <td>복현동</td>\n",
       "      <td>단일로</td>\n",
       "      <td>기타</td>\n",
       "    </tr>\n",
       "    <tr>\n",
       "      <th>4</th>\n",
       "      <td>ACCIDENT_00004</td>\n",
       "      <td>화요일</td>\n",
       "      <td>맑음</td>\n",
       "      <td>건조</td>\n",
       "      <td>차대차</td>\n",
       "      <td>2019</td>\n",
       "      <td>1</td>\n",
       "      <td>1</td>\n",
       "      <td>4</td>\n",
       "      <td>대구광역시</td>\n",
       "      <td>동구</td>\n",
       "      <td>신암동</td>\n",
       "      <td>단일로</td>\n",
       "      <td>기타</td>\n",
       "    </tr>\n",
       "  </tbody>\n",
       "</table>\n",
       "</div>"
      ],
      "text/plain": [
       "               ID   요일 기상상태 노면상태  사고유형     연  월  일  시간     도시    구    동 도로형태1  \\\n",
       "0  ACCIDENT_00000  화요일   맑음   건조  차대사람  2019  1  1   0  대구광역시   중구  대신동   단일로   \n",
       "1  ACCIDENT_00001  화요일   흐림   건조  차대사람  2019  1  1   0  대구광역시  달서구  감삼동   단일로   \n",
       "2  ACCIDENT_00002  화요일   맑음   건조  차대사람  2019  1  1   1  대구광역시  수성구  두산동   단일로   \n",
       "3  ACCIDENT_00003  화요일   맑음   건조   차대차  2019  1  1   2  대구광역시   북구  복현동   단일로   \n",
       "4  ACCIDENT_00004  화요일   맑음   건조   차대차  2019  1  1   4  대구광역시   동구  신암동   단일로   \n",
       "\n",
       "  도로형태2  \n",
       "0    기타  \n",
       "1    기타  \n",
       "2    기타  \n",
       "3    기타  \n",
       "4    기타  "
      ]
     },
     "metadata": {},
     "output_type": "display_data"
    },
    {
     "data": {
      "text/html": [
       "<div>\n",
       "<style scoped>\n",
       "    .dataframe tbody tr th:only-of-type {\n",
       "        vertical-align: middle;\n",
       "    }\n",
       "\n",
       "    .dataframe tbody tr th {\n",
       "        vertical-align: top;\n",
       "    }\n",
       "\n",
       "    .dataframe thead th {\n",
       "        text-align: right;\n",
       "    }\n",
       "</style>\n",
       "<table border=\"1\" class=\"dataframe\">\n",
       "  <thead>\n",
       "    <tr style=\"text-align: right;\">\n",
       "      <th></th>\n",
       "      <th>ID</th>\n",
       "      <th>요일</th>\n",
       "      <th>기상상태</th>\n",
       "      <th>노면상태</th>\n",
       "      <th>사고유형</th>\n",
       "      <th>연</th>\n",
       "      <th>월</th>\n",
       "      <th>일</th>\n",
       "      <th>시간</th>\n",
       "      <th>도시</th>\n",
       "      <th>구</th>\n",
       "      <th>동</th>\n",
       "      <th>도로형태1</th>\n",
       "      <th>도로형태2</th>\n",
       "    </tr>\n",
       "  </thead>\n",
       "  <tbody>\n",
       "    <tr>\n",
       "      <th>0</th>\n",
       "      <td>ACCIDENT_39609</td>\n",
       "      <td>토요일</td>\n",
       "      <td>맑음</td>\n",
       "      <td>건조</td>\n",
       "      <td>차대사람</td>\n",
       "      <td>2022</td>\n",
       "      <td>1</td>\n",
       "      <td>1</td>\n",
       "      <td>1</td>\n",
       "      <td>대구광역시</td>\n",
       "      <td>수성구</td>\n",
       "      <td>상동</td>\n",
       "      <td>교차로</td>\n",
       "      <td>교차로안</td>\n",
       "    </tr>\n",
       "    <tr>\n",
       "      <th>1</th>\n",
       "      <td>ACCIDENT_39610</td>\n",
       "      <td>토요일</td>\n",
       "      <td>맑음</td>\n",
       "      <td>건조</td>\n",
       "      <td>차대사람</td>\n",
       "      <td>2022</td>\n",
       "      <td>1</td>\n",
       "      <td>1</td>\n",
       "      <td>1</td>\n",
       "      <td>대구광역시</td>\n",
       "      <td>수성구</td>\n",
       "      <td>지산동</td>\n",
       "      <td>단일로</td>\n",
       "      <td>기타</td>\n",
       "    </tr>\n",
       "    <tr>\n",
       "      <th>2</th>\n",
       "      <td>ACCIDENT_39611</td>\n",
       "      <td>토요일</td>\n",
       "      <td>맑음</td>\n",
       "      <td>건조</td>\n",
       "      <td>차대차</td>\n",
       "      <td>2022</td>\n",
       "      <td>1</td>\n",
       "      <td>1</td>\n",
       "      <td>4</td>\n",
       "      <td>대구광역시</td>\n",
       "      <td>수성구</td>\n",
       "      <td>수성동2가</td>\n",
       "      <td>교차로</td>\n",
       "      <td>교차로안</td>\n",
       "    </tr>\n",
       "    <tr>\n",
       "      <th>3</th>\n",
       "      <td>ACCIDENT_39612</td>\n",
       "      <td>토요일</td>\n",
       "      <td>맑음</td>\n",
       "      <td>건조</td>\n",
       "      <td>차대차</td>\n",
       "      <td>2022</td>\n",
       "      <td>1</td>\n",
       "      <td>1</td>\n",
       "      <td>4</td>\n",
       "      <td>대구광역시</td>\n",
       "      <td>수성구</td>\n",
       "      <td>신매동</td>\n",
       "      <td>단일로</td>\n",
       "      <td>기타</td>\n",
       "    </tr>\n",
       "    <tr>\n",
       "      <th>4</th>\n",
       "      <td>ACCIDENT_39613</td>\n",
       "      <td>토요일</td>\n",
       "      <td>맑음</td>\n",
       "      <td>건조</td>\n",
       "      <td>차대차</td>\n",
       "      <td>2022</td>\n",
       "      <td>1</td>\n",
       "      <td>1</td>\n",
       "      <td>6</td>\n",
       "      <td>대구광역시</td>\n",
       "      <td>달서구</td>\n",
       "      <td>감삼동</td>\n",
       "      <td>교차로</td>\n",
       "      <td>교차로안</td>\n",
       "    </tr>\n",
       "  </tbody>\n",
       "</table>\n",
       "</div>"
      ],
      "text/plain": [
       "               ID   요일 기상상태 노면상태  사고유형     연  월  일  시간     도시    구      동  \\\n",
       "0  ACCIDENT_39609  토요일   맑음   건조  차대사람  2022  1  1   1  대구광역시  수성구     상동   \n",
       "1  ACCIDENT_39610  토요일   맑음   건조  차대사람  2022  1  1   1  대구광역시  수성구    지산동   \n",
       "2  ACCIDENT_39611  토요일   맑음   건조   차대차  2022  1  1   4  대구광역시  수성구  수성동2가   \n",
       "3  ACCIDENT_39612  토요일   맑음   건조   차대차  2022  1  1   4  대구광역시  수성구    신매동   \n",
       "4  ACCIDENT_39613  토요일   맑음   건조   차대차  2022  1  1   6  대구광역시  달서구    감삼동   \n",
       "\n",
       "  도로형태1 도로형태2  \n",
       "0   교차로  교차로안  \n",
       "1   단일로    기타  \n",
       "2   교차로  교차로안  \n",
       "3   단일로    기타  \n",
       "4   교차로  교차로안  "
      ]
     },
     "metadata": {},
     "output_type": "display_data"
    }
   ],
   "source": [
    "display(train_df.head())\n",
    "display(test_df.head())"
   ]
  },
  {
   "cell_type": "code",
   "execution_count": 14,
   "metadata": {
    "ExecuteTime": {
     "end_time": "2023-11-22T06:28:50.824437Z",
     "start_time": "2023-11-22T06:28:50.738601Z"
    }
   },
   "outputs": [
    {
     "name": "stdout",
     "output_type": "stream",
     "text": [
      "<class 'pandas.core.frame.DataFrame'>\n",
      "RangeIndex: 39609 entries, 0 to 39608\n",
      "Data columns (total 14 columns):\n",
      " #   Column  Non-Null Count  Dtype \n",
      "---  ------  --------------  ----- \n",
      " 0   ID      39609 non-null  object\n",
      " 1   요일      39609 non-null  object\n",
      " 2   기상상태    39609 non-null  object\n",
      " 3   노면상태    39609 non-null  object\n",
      " 4   사고유형    39609 non-null  object\n",
      " 5   연       39609 non-null  int64 \n",
      " 6   월       39609 non-null  int64 \n",
      " 7   일       39609 non-null  int64 \n",
      " 8   시간      39609 non-null  int64 \n",
      " 9   도시      39609 non-null  object\n",
      " 10  구       39609 non-null  object\n",
      " 11  동       39609 non-null  object\n",
      " 12  도로형태1   39609 non-null  object\n",
      " 13  도로형태2   39609 non-null  object\n",
      "dtypes: int64(4), object(10)\n",
      "memory usage: 4.2+ MB\n"
     ]
    },
    {
     "data": {
      "text/plain": [
       "None"
      ]
     },
     "metadata": {},
     "output_type": "display_data"
    },
    {
     "name": "stdout",
     "output_type": "stream",
     "text": [
      "<class 'pandas.core.frame.DataFrame'>\n",
      "RangeIndex: 10963 entries, 0 to 10962\n",
      "Data columns (total 14 columns):\n",
      " #   Column  Non-Null Count  Dtype \n",
      "---  ------  --------------  ----- \n",
      " 0   ID      10963 non-null  object\n",
      " 1   요일      10963 non-null  object\n",
      " 2   기상상태    10963 non-null  object\n",
      " 3   노면상태    10963 non-null  object\n",
      " 4   사고유형    10963 non-null  object\n",
      " 5   연       10963 non-null  int64 \n",
      " 6   월       10963 non-null  int64 \n",
      " 7   일       10963 non-null  int64 \n",
      " 8   시간      10963 non-null  int64 \n",
      " 9   도시      10963 non-null  object\n",
      " 10  구       10963 non-null  object\n",
      " 11  동       10963 non-null  object\n",
      " 12  도로형태1   10963 non-null  object\n",
      " 13  도로형태2   10963 non-null  object\n",
      "dtypes: int64(4), object(10)\n",
      "memory usage: 1.2+ MB\n"
     ]
    },
    {
     "data": {
      "text/plain": [
       "None"
      ]
     },
     "metadata": {},
     "output_type": "display_data"
    }
   ],
   "source": [
    "display(train_df.info())\n",
    "display(test_df.info())"
   ]
  },
  {
   "cell_type": "markdown",
   "metadata": {},
   "source": [
    "# **📌 인코딩 (Label & One-Hot)**"
   ]
  },
  {
   "cell_type": "markdown",
   "metadata": {},
   "source": [
    "## **0. 데이터 초기화 (data_label_enco, data_onehot_enco)**"
   ]
  },
  {
   "cell_type": "code",
   "execution_count": 15,
   "metadata": {
    "ExecuteTime": {
     "end_time": "2023-11-22T06:29:00.393723Z",
     "start_time": "2023-11-22T06:29:00.333410Z"
    }
   },
   "outputs": [],
   "source": [
    "# 전처리를 위해 train과 test 데이터 합치기\n",
    "data = pd.concat([train_df, test_df], sort=False)\n",
    "data_label_enco = data.copy()\n",
    "data_onehot_enco = data.copy()"
   ]
  },
  {
   "cell_type": "markdown",
   "metadata": {},
   "source": [
    "## **1. 노면상태, 사고유형 인코딩**"
   ]
  },
  {
   "cell_type": "markdown",
   "metadata": {},
   "source": [
    "### **Label Encoding - 노면상태, 사고유형**"
   ]
  },
  {
   "cell_type": "code",
   "execution_count": 16,
   "metadata": {},
   "outputs": [
    {
     "name": "stdout",
     "output_type": "stream",
     "text": [
      "       사고유형  노면상태\n",
      "0         0     0\n",
      "1         0     0\n",
      "2         0     0\n",
      "3         1     0\n",
      "4         1     0\n",
      "...     ...   ...\n",
      "10958     1     0\n",
      "10959     1     0\n",
      "10960     1     0\n",
      "10961     1     0\n",
      "10962     1     0\n",
      "\n",
      "[50572 rows x 2 columns]\n",
      "<class 'pandas.core.frame.DataFrame'>\n",
      "Index: 50572 entries, 0 to 10962\n",
      "Data columns (total 14 columns):\n",
      " #   Column  Non-Null Count  Dtype \n",
      "---  ------  --------------  ----- \n",
      " 0   ID      50572 non-null  object\n",
      " 1   요일      50572 non-null  object\n",
      " 2   기상상태    50572 non-null  object\n",
      " 3   노면상태    50572 non-null  int64 \n",
      " 4   사고유형    50572 non-null  int64 \n",
      " 5   연       50572 non-null  int64 \n",
      " 6   월       50572 non-null  int64 \n",
      " 7   일       50572 non-null  int64 \n",
      " 8   시간      50572 non-null  int64 \n",
      " 9   도시      50572 non-null  object\n",
      " 10  구       50572 non-null  object\n",
      " 11  동       50572 non-null  object\n",
      " 12  도로형태1   50572 non-null  object\n",
      " 13  도로형태2   50572 non-null  object\n",
      "dtypes: int64(6), object(8)\n",
      "memory usage: 5.8+ MB\n"
     ]
    }
   ],
   "source": [
    "# LabelEncoder 객체 생성\n",
    "label_encoder = LabelEncoder()\n",
    "\n",
    "# \"사고유형\" 컬럼 Label Encoding\n",
    "data_label_enco['사고유형'] = label_encoder.fit_transform(data_label_enco['사고유형'])\n",
    "\n",
    "# \"노면상태\" 컬럼 Label Encoding\n",
    "data_label_enco['노면상태'] = label_encoder.fit_transform(data_label_enco['노면상태'])\n",
    "\n",
    "# 결과 확인\n",
    "print(data_label_enco[['사고유형', '노면상태']])\n",
    "data_label_enco.info()"
   ]
  },
  {
   "cell_type": "markdown",
   "metadata": {},
   "source": [
    "### **One-Hot Encoding - 노면상태, 사고유형**"
   ]
  },
  {
   "cell_type": "code",
   "execution_count": 17,
   "metadata": {},
   "outputs": [],
   "source": [
    "# \"사고유형\" 및 \"노면상태\" 컬럼을 원-핫 인코딩\n",
    "data_onehot_enco = pd.get_dummies(data, columns=['사고유형', '노면상태'])"
   ]
  },
  {
   "cell_type": "markdown",
   "metadata": {},
   "source": [
    "## **2. 도로형태1, 도로형태2 인코딩**"
   ]
  },
  {
   "cell_type": "markdown",
   "metadata": {},
   "source": [
    "### **Label Encoding - 도로형태1**"
   ]
  },
  {
   "cell_type": "code",
   "execution_count": 18,
   "metadata": {},
   "outputs": [
    {
     "data": {
      "text/html": [
       "<style>#sk-container-id-1 {color: black;}#sk-container-id-1 pre{padding: 0;}#sk-container-id-1 div.sk-toggleable {background-color: white;}#sk-container-id-1 label.sk-toggleable__label {cursor: pointer;display: block;width: 100%;margin-bottom: 0;padding: 0.3em;box-sizing: border-box;text-align: center;}#sk-container-id-1 label.sk-toggleable__label-arrow:before {content: \"▸\";float: left;margin-right: 0.25em;color: #696969;}#sk-container-id-1 label.sk-toggleable__label-arrow:hover:before {color: black;}#sk-container-id-1 div.sk-estimator:hover label.sk-toggleable__label-arrow:before {color: black;}#sk-container-id-1 div.sk-toggleable__content {max-height: 0;max-width: 0;overflow: hidden;text-align: left;background-color: #f0f8ff;}#sk-container-id-1 div.sk-toggleable__content pre {margin: 0.2em;color: black;border-radius: 0.25em;background-color: #f0f8ff;}#sk-container-id-1 input.sk-toggleable__control:checked~div.sk-toggleable__content {max-height: 200px;max-width: 100%;overflow: auto;}#sk-container-id-1 input.sk-toggleable__control:checked~label.sk-toggleable__label-arrow:before {content: \"▾\";}#sk-container-id-1 div.sk-estimator input.sk-toggleable__control:checked~label.sk-toggleable__label {background-color: #d4ebff;}#sk-container-id-1 div.sk-label input.sk-toggleable__control:checked~label.sk-toggleable__label {background-color: #d4ebff;}#sk-container-id-1 input.sk-hidden--visually {border: 0;clip: rect(1px 1px 1px 1px);clip: rect(1px, 1px, 1px, 1px);height: 1px;margin: -1px;overflow: hidden;padding: 0;position: absolute;width: 1px;}#sk-container-id-1 div.sk-estimator {font-family: monospace;background-color: #f0f8ff;border: 1px dotted black;border-radius: 0.25em;box-sizing: border-box;margin-bottom: 0.5em;}#sk-container-id-1 div.sk-estimator:hover {background-color: #d4ebff;}#sk-container-id-1 div.sk-parallel-item::after {content: \"\";width: 100%;border-bottom: 1px solid gray;flex-grow: 1;}#sk-container-id-1 div.sk-label:hover label.sk-toggleable__label {background-color: #d4ebff;}#sk-container-id-1 div.sk-serial::before {content: \"\";position: absolute;border-left: 1px solid gray;box-sizing: border-box;top: 0;bottom: 0;left: 50%;z-index: 0;}#sk-container-id-1 div.sk-serial {display: flex;flex-direction: column;align-items: center;background-color: white;padding-right: 0.2em;padding-left: 0.2em;position: relative;}#sk-container-id-1 div.sk-item {position: relative;z-index: 1;}#sk-container-id-1 div.sk-parallel {display: flex;align-items: stretch;justify-content: center;background-color: white;position: relative;}#sk-container-id-1 div.sk-item::before, #sk-container-id-1 div.sk-parallel-item::before {content: \"\";position: absolute;border-left: 1px solid gray;box-sizing: border-box;top: 0;bottom: 0;left: 50%;z-index: -1;}#sk-container-id-1 div.sk-parallel-item {display: flex;flex-direction: column;z-index: 1;position: relative;background-color: white;}#sk-container-id-1 div.sk-parallel-item:first-child::after {align-self: flex-end;width: 50%;}#sk-container-id-1 div.sk-parallel-item:last-child::after {align-self: flex-start;width: 50%;}#sk-container-id-1 div.sk-parallel-item:only-child::after {width: 0;}#sk-container-id-1 div.sk-dashed-wrapped {border: 1px dashed gray;margin: 0 0.4em 0.5em 0.4em;box-sizing: border-box;padding-bottom: 0.4em;background-color: white;}#sk-container-id-1 div.sk-label label {font-family: monospace;font-weight: bold;display: inline-block;line-height: 1.2em;}#sk-container-id-1 div.sk-label-container {text-align: center;}#sk-container-id-1 div.sk-container {/* jupyter's `normalize.less` sets `[hidden] { display: none; }` but bootstrap.min.css set `[hidden] { display: none !important; }` so we also need the `!important` here to be able to override the default hidden behavior on the sphinx rendered scikit-learn.org. See: https://github.com/scikit-learn/scikit-learn/issues/21755 */display: inline-block !important;position: relative;}#sk-container-id-1 div.sk-text-repr-fallback {display: none;}</style><div id=\"sk-container-id-1\" class=\"sk-top-container\"><div class=\"sk-text-repr-fallback\"><pre>LabelEncoder()</pre><b>In a Jupyter environment, please rerun this cell to show the HTML representation or trust the notebook. <br />On GitHub, the HTML representation is unable to render, please try loading this page with nbviewer.org.</b></div><div class=\"sk-container\" hidden><div class=\"sk-item\"><div class=\"sk-estimator sk-toggleable\"><input class=\"sk-toggleable__control sk-hidden--visually\" id=\"sk-estimator-id-1\" type=\"checkbox\" checked><label for=\"sk-estimator-id-1\" class=\"sk-toggleable__label sk-toggleable__label-arrow\">LabelEncoder</label><div class=\"sk-toggleable__content\"><pre>LabelEncoder()</pre></div></div></div></div></div>"
      ],
      "text/plain": [
       "LabelEncoder()"
      ]
     },
     "execution_count": 18,
     "metadata": {},
     "output_type": "execute_result"
    }
   ],
   "source": [
    "le = LabelEncoder()\n",
    "le.fit(data_label_enco['도로형태1'])"
   ]
  },
  {
   "cell_type": "code",
   "execution_count": 19,
   "metadata": {},
   "outputs": [
    {
     "data": {
      "text/plain": [
       "array([2, 2, 2, ..., 2, 0, 0])"
      ]
     },
     "execution_count": 19,
     "metadata": {},
     "output_type": "execute_result"
    }
   ],
   "source": [
    "le.transform(data_label_enco['도로형태1'])"
   ]
  },
  {
   "cell_type": "code",
   "execution_count": 20,
   "metadata": {},
   "outputs": [],
   "source": [
    "label_data = data.copy()"
   ]
  },
  {
   "cell_type": "code",
   "execution_count": 21,
   "metadata": {},
   "outputs": [],
   "source": [
    "data_label_enco['도로형태1'] = le.transform(data_label_enco['도로형태1'])"
   ]
  },
  {
   "cell_type": "code",
   "execution_count": 22,
   "metadata": {},
   "outputs": [
    {
     "name": "stdout",
     "output_type": "stream",
     "text": [
      "<class 'pandas.core.frame.DataFrame'>\n",
      "Index: 50572 entries, 0 to 10962\n",
      "Data columns (total 14 columns):\n",
      " #   Column  Non-Null Count  Dtype \n",
      "---  ------  --------------  ----- \n",
      " 0   ID      50572 non-null  object\n",
      " 1   요일      50572 non-null  object\n",
      " 2   기상상태    50572 non-null  object\n",
      " 3   노면상태    50572 non-null  int64 \n",
      " 4   사고유형    50572 non-null  int64 \n",
      " 5   연       50572 non-null  int64 \n",
      " 6   월       50572 non-null  int64 \n",
      " 7   일       50572 non-null  int64 \n",
      " 8   시간      50572 non-null  int64 \n",
      " 9   도시      50572 non-null  object\n",
      " 10  구       50572 non-null  object\n",
      " 11  동       50572 non-null  object\n",
      " 12  도로형태1   50572 non-null  int64 \n",
      " 13  도로형태2   50572 non-null  object\n",
      "dtypes: int64(7), object(7)\n",
      "memory usage: 5.8+ MB\n"
     ]
    }
   ],
   "source": [
    "data_label_enco.info()"
   ]
  },
  {
   "cell_type": "markdown",
   "metadata": {},
   "source": [
    "### **Label Encoding - 도로형태2**"
   ]
  },
  {
   "cell_type": "code",
   "execution_count": 23,
   "metadata": {},
   "outputs": [
    {
     "data": {
      "text/html": [
       "<style>#sk-container-id-2 {color: black;}#sk-container-id-2 pre{padding: 0;}#sk-container-id-2 div.sk-toggleable {background-color: white;}#sk-container-id-2 label.sk-toggleable__label {cursor: pointer;display: block;width: 100%;margin-bottom: 0;padding: 0.3em;box-sizing: border-box;text-align: center;}#sk-container-id-2 label.sk-toggleable__label-arrow:before {content: \"▸\";float: left;margin-right: 0.25em;color: #696969;}#sk-container-id-2 label.sk-toggleable__label-arrow:hover:before {color: black;}#sk-container-id-2 div.sk-estimator:hover label.sk-toggleable__label-arrow:before {color: black;}#sk-container-id-2 div.sk-toggleable__content {max-height: 0;max-width: 0;overflow: hidden;text-align: left;background-color: #f0f8ff;}#sk-container-id-2 div.sk-toggleable__content pre {margin: 0.2em;color: black;border-radius: 0.25em;background-color: #f0f8ff;}#sk-container-id-2 input.sk-toggleable__control:checked~div.sk-toggleable__content {max-height: 200px;max-width: 100%;overflow: auto;}#sk-container-id-2 input.sk-toggleable__control:checked~label.sk-toggleable__label-arrow:before {content: \"▾\";}#sk-container-id-2 div.sk-estimator input.sk-toggleable__control:checked~label.sk-toggleable__label {background-color: #d4ebff;}#sk-container-id-2 div.sk-label input.sk-toggleable__control:checked~label.sk-toggleable__label {background-color: #d4ebff;}#sk-container-id-2 input.sk-hidden--visually {border: 0;clip: rect(1px 1px 1px 1px);clip: rect(1px, 1px, 1px, 1px);height: 1px;margin: -1px;overflow: hidden;padding: 0;position: absolute;width: 1px;}#sk-container-id-2 div.sk-estimator {font-family: monospace;background-color: #f0f8ff;border: 1px dotted black;border-radius: 0.25em;box-sizing: border-box;margin-bottom: 0.5em;}#sk-container-id-2 div.sk-estimator:hover {background-color: #d4ebff;}#sk-container-id-2 div.sk-parallel-item::after {content: \"\";width: 100%;border-bottom: 1px solid gray;flex-grow: 1;}#sk-container-id-2 div.sk-label:hover label.sk-toggleable__label {background-color: #d4ebff;}#sk-container-id-2 div.sk-serial::before {content: \"\";position: absolute;border-left: 1px solid gray;box-sizing: border-box;top: 0;bottom: 0;left: 50%;z-index: 0;}#sk-container-id-2 div.sk-serial {display: flex;flex-direction: column;align-items: center;background-color: white;padding-right: 0.2em;padding-left: 0.2em;position: relative;}#sk-container-id-2 div.sk-item {position: relative;z-index: 1;}#sk-container-id-2 div.sk-parallel {display: flex;align-items: stretch;justify-content: center;background-color: white;position: relative;}#sk-container-id-2 div.sk-item::before, #sk-container-id-2 div.sk-parallel-item::before {content: \"\";position: absolute;border-left: 1px solid gray;box-sizing: border-box;top: 0;bottom: 0;left: 50%;z-index: -1;}#sk-container-id-2 div.sk-parallel-item {display: flex;flex-direction: column;z-index: 1;position: relative;background-color: white;}#sk-container-id-2 div.sk-parallel-item:first-child::after {align-self: flex-end;width: 50%;}#sk-container-id-2 div.sk-parallel-item:last-child::after {align-self: flex-start;width: 50%;}#sk-container-id-2 div.sk-parallel-item:only-child::after {width: 0;}#sk-container-id-2 div.sk-dashed-wrapped {border: 1px dashed gray;margin: 0 0.4em 0.5em 0.4em;box-sizing: border-box;padding-bottom: 0.4em;background-color: white;}#sk-container-id-2 div.sk-label label {font-family: monospace;font-weight: bold;display: inline-block;line-height: 1.2em;}#sk-container-id-2 div.sk-label-container {text-align: center;}#sk-container-id-2 div.sk-container {/* jupyter's `normalize.less` sets `[hidden] { display: none; }` but bootstrap.min.css set `[hidden] { display: none !important; }` so we also need the `!important` here to be able to override the default hidden behavior on the sphinx rendered scikit-learn.org. See: https://github.com/scikit-learn/scikit-learn/issues/21755 */display: inline-block !important;position: relative;}#sk-container-id-2 div.sk-text-repr-fallback {display: none;}</style><div id=\"sk-container-id-2\" class=\"sk-top-container\"><div class=\"sk-text-repr-fallback\"><pre>LabelEncoder()</pre><b>In a Jupyter environment, please rerun this cell to show the HTML representation or trust the notebook. <br />On GitHub, the HTML representation is unable to render, please try loading this page with nbviewer.org.</b></div><div class=\"sk-container\" hidden><div class=\"sk-item\"><div class=\"sk-estimator sk-toggleable\"><input class=\"sk-toggleable__control sk-hidden--visually\" id=\"sk-estimator-id-2\" type=\"checkbox\" checked><label for=\"sk-estimator-id-2\" class=\"sk-toggleable__label sk-toggleable__label-arrow\">LabelEncoder</label><div class=\"sk-toggleable__content\"><pre>LabelEncoder()</pre></div></div></div></div></div>"
      ],
      "text/plain": [
       "LabelEncoder()"
      ]
     },
     "execution_count": 23,
     "metadata": {},
     "output_type": "execute_result"
    }
   ],
   "source": [
    "le = LabelEncoder()\n",
    "le.fit(data_label_enco['도로형태2'])"
   ]
  },
  {
   "cell_type": "code",
   "execution_count": 24,
   "metadata": {},
   "outputs": [
    {
     "data": {
      "text/plain": [
       "array([5, 5, 5, ..., 5, 2, 2])"
      ]
     },
     "execution_count": 24,
     "metadata": {},
     "output_type": "execute_result"
    }
   ],
   "source": [
    "le.transform(data_label_enco['도로형태2'])"
   ]
  },
  {
   "cell_type": "code",
   "execution_count": 25,
   "metadata": {},
   "outputs": [],
   "source": [
    "data_label_enco['도로형태2'] = le.transform(data_label_enco['도로형태2'])"
   ]
  },
  {
   "cell_type": "code",
   "execution_count": 26,
   "metadata": {},
   "outputs": [
    {
     "name": "stdout",
     "output_type": "stream",
     "text": [
      "<class 'pandas.core.frame.DataFrame'>\n",
      "Index: 50572 entries, 0 to 10962\n",
      "Data columns (total 14 columns):\n",
      " #   Column  Non-Null Count  Dtype \n",
      "---  ------  --------------  ----- \n",
      " 0   ID      50572 non-null  object\n",
      " 1   요일      50572 non-null  object\n",
      " 2   기상상태    50572 non-null  object\n",
      " 3   노면상태    50572 non-null  int64 \n",
      " 4   사고유형    50572 non-null  int64 \n",
      " 5   연       50572 non-null  int64 \n",
      " 6   월       50572 non-null  int64 \n",
      " 7   일       50572 non-null  int64 \n",
      " 8   시간      50572 non-null  int64 \n",
      " 9   도시      50572 non-null  object\n",
      " 10  구       50572 non-null  object\n",
      " 11  동       50572 non-null  object\n",
      " 12  도로형태1   50572 non-null  int64 \n",
      " 13  도로형태2   50572 non-null  int64 \n",
      "dtypes: int64(8), object(6)\n",
      "memory usage: 5.8+ MB\n"
     ]
    }
   ],
   "source": [
    "data_label_enco.info()"
   ]
  },
  {
   "cell_type": "markdown",
   "metadata": {},
   "source": [
    "### **One-Hot Encoding - 도로형태1 & 도로형태2**"
   ]
  },
  {
   "cell_type": "code",
   "execution_count": 27,
   "metadata": {},
   "outputs": [],
   "source": [
    "data_onehot_enco = pd.get_dummies(data_onehot_enco, columns=['도로형태1', '도로형태2'])"
   ]
  },
  {
   "cell_type": "code",
   "execution_count": 28,
   "metadata": {},
   "outputs": [
    {
     "name": "stdout",
     "output_type": "stream",
     "text": [
      "<class 'pandas.core.frame.DataFrame'>\n",
      "Index: 50572 entries, 0 to 10962\n",
      "Data columns (total 34 columns):\n",
      " #   Column           Non-Null Count  Dtype \n",
      "---  ------           --------------  ----- \n",
      " 0   ID               50572 non-null  object\n",
      " 1   요일               50572 non-null  object\n",
      " 2   기상상태             50572 non-null  object\n",
      " 3   연                50572 non-null  int64 \n",
      " 4   월                50572 non-null  int64 \n",
      " 5   일                50572 non-null  int64 \n",
      " 6   시간               50572 non-null  int64 \n",
      " 7   도시               50572 non-null  object\n",
      " 8   구                50572 non-null  object\n",
      " 9   동                50572 non-null  object\n",
      " 10  사고유형_차대사람        50572 non-null  bool  \n",
      " 11  사고유형_차대차         50572 non-null  bool  \n",
      " 12  사고유형_차량단독        50572 non-null  bool  \n",
      " 13  노면상태_건조          50572 non-null  bool  \n",
      " 14  노면상태_기타          50572 non-null  bool  \n",
      " 15  노면상태_서리/결빙       50572 non-null  bool  \n",
      " 16  노면상태_적설          50572 non-null  bool  \n",
      " 17  노면상태_젖음/습기       50572 non-null  bool  \n",
      " 18  노면상태_침수          50572 non-null  bool  \n",
      " 19  도로형태1_교차로        50572 non-null  bool  \n",
      " 20  도로형태1_기타         50572 non-null  bool  \n",
      " 21  도로형태1_단일로        50572 non-null  bool  \n",
      " 22  도로형태1_미분류        50572 non-null  bool  \n",
      " 23  도로형태1_주차장        50572 non-null  bool  \n",
      " 24  도로형태2_고가도로위      50572 non-null  bool  \n",
      " 25  도로형태2_교량         50572 non-null  bool  \n",
      " 26  도로형태2_교차로부근      50572 non-null  bool  \n",
      " 27  도로형태2_교차로안       50572 non-null  bool  \n",
      " 28  도로형태2_교차로횡단보도내   50572 non-null  bool  \n",
      " 29  도로형태2_기타         50572 non-null  bool  \n",
      " 30  도로형태2_미분류        50572 non-null  bool  \n",
      " 31  도로형태2_주차장        50572 non-null  bool  \n",
      " 32  도로형태2_지하차도(도로)내  50572 non-null  bool  \n",
      " 33  도로형태2_터널         50572 non-null  bool  \n",
      "dtypes: bool(24), int64(4), object(6)\n",
      "memory usage: 5.4+ MB\n"
     ]
    }
   ],
   "source": [
    "data_onehot_enco.info()"
   ]
  },
  {
   "cell_type": "markdown",
   "metadata": {
    "jp-MarkdownHeadingCollapsed": true
   },
   "source": [
    "## **3. 구, 동 인코딩**"
   ]
  },
  {
   "cell_type": "markdown",
   "metadata": {},
   "source": [
    "### **Label Encoding - 구**"
   ]
  },
  {
   "cell_type": "code",
   "execution_count": 29,
   "metadata": {},
   "outputs": [],
   "source": [
    "label_encoder_gu = LabelEncoder()"
   ]
  },
  {
   "cell_type": "code",
   "execution_count": 30,
   "metadata": {},
   "outputs": [],
   "source": [
    "data_label_enco['구'] = label_encoder_gu.fit_transform(data['구'])"
   ]
  },
  {
   "cell_type": "code",
   "execution_count": 31,
   "metadata": {},
   "outputs": [
    {
     "name": "stdout",
     "output_type": "stream",
     "text": [
      "<class 'pandas.core.frame.DataFrame'>\n",
      "Index: 50572 entries, 0 to 10962\n",
      "Data columns (total 14 columns):\n",
      " #   Column  Non-Null Count  Dtype \n",
      "---  ------  --------------  ----- \n",
      " 0   ID      50572 non-null  object\n",
      " 1   요일      50572 non-null  object\n",
      " 2   기상상태    50572 non-null  object\n",
      " 3   노면상태    50572 non-null  int64 \n",
      " 4   사고유형    50572 non-null  int64 \n",
      " 5   연       50572 non-null  int64 \n",
      " 6   월       50572 non-null  int64 \n",
      " 7   일       50572 non-null  int64 \n",
      " 8   시간      50572 non-null  int64 \n",
      " 9   도시      50572 non-null  object\n",
      " 10  구       50572 non-null  int64 \n",
      " 11  동       50572 non-null  object\n",
      " 12  도로형태1   50572 non-null  int64 \n",
      " 13  도로형태2   50572 non-null  int64 \n",
      "dtypes: int64(9), object(5)\n",
      "memory usage: 5.8+ MB\n"
     ]
    }
   ],
   "source": [
    "data_label_enco.info()"
   ]
  },
  {
   "cell_type": "markdown",
   "metadata": {},
   "source": [
    "### **One-Hot Encoding - 구**"
   ]
  },
  {
   "cell_type": "code",
   "execution_count": 32,
   "metadata": {},
   "outputs": [
    {
     "name": "stdout",
     "output_type": "stream",
     "text": [
      "<class 'pandas.core.frame.DataFrame'>\n",
      "Index: 50572 entries, 0 to 10962\n",
      "Data columns (total 41 columns):\n",
      " #   Column           Non-Null Count  Dtype \n",
      "---  ------           --------------  ----- \n",
      " 0   ID               50572 non-null  object\n",
      " 1   요일               50572 non-null  object\n",
      " 2   기상상태             50572 non-null  object\n",
      " 3   연                50572 non-null  int64 \n",
      " 4   월                50572 non-null  int64 \n",
      " 5   일                50572 non-null  int64 \n",
      " 6   시간               50572 non-null  int64 \n",
      " 7   도시               50572 non-null  object\n",
      " 8   동                50572 non-null  object\n",
      " 9   사고유형_차대사람        50572 non-null  bool  \n",
      " 10  사고유형_차대차         50572 non-null  bool  \n",
      " 11  사고유형_차량단독        50572 non-null  bool  \n",
      " 12  노면상태_건조          50572 non-null  bool  \n",
      " 13  노면상태_기타          50572 non-null  bool  \n",
      " 14  노면상태_서리/결빙       50572 non-null  bool  \n",
      " 15  노면상태_적설          50572 non-null  bool  \n",
      " 16  노면상태_젖음/습기       50572 non-null  bool  \n",
      " 17  노면상태_침수          50572 non-null  bool  \n",
      " 18  도로형태1_교차로        50572 non-null  bool  \n",
      " 19  도로형태1_기타         50572 non-null  bool  \n",
      " 20  도로형태1_단일로        50572 non-null  bool  \n",
      " 21  도로형태1_미분류        50572 non-null  bool  \n",
      " 22  도로형태1_주차장        50572 non-null  bool  \n",
      " 23  도로형태2_고가도로위      50572 non-null  bool  \n",
      " 24  도로형태2_교량         50572 non-null  bool  \n",
      " 25  도로형태2_교차로부근      50572 non-null  bool  \n",
      " 26  도로형태2_교차로안       50572 non-null  bool  \n",
      " 27  도로형태2_교차로횡단보도내   50572 non-null  bool  \n",
      " 28  도로형태2_기타         50572 non-null  bool  \n",
      " 29  도로형태2_미분류        50572 non-null  bool  \n",
      " 30  도로형태2_주차장        50572 non-null  bool  \n",
      " 31  도로형태2_지하차도(도로)내  50572 non-null  bool  \n",
      " 32  도로형태2_터널         50572 non-null  bool  \n",
      " 33  구_남구             50572 non-null  bool  \n",
      " 34  구_달서구            50572 non-null  bool  \n",
      " 35  구_달성군            50572 non-null  bool  \n",
      " 36  구_동구             50572 non-null  bool  \n",
      " 37  구_북구             50572 non-null  bool  \n",
      " 38  구_서구             50572 non-null  bool  \n",
      " 39  구_수성구            50572 non-null  bool  \n",
      " 40  구_중구             50572 non-null  bool  \n",
      "dtypes: bool(32), int64(4), object(5)\n",
      "memory usage: 5.4+ MB\n"
     ]
    }
   ],
   "source": [
    "data_onehot_enco = pd.get_dummies(data_onehot_enco, columns=['구'])\n",
    "data_onehot_enco.info()"
   ]
  },
  {
   "cell_type": "markdown",
   "metadata": {},
   "source": [
    "### **(Label Encoding - 동) => 동 정보 일단 미적용**"
   ]
  },
  {
   "cell_type": "code",
   "execution_count": 33,
   "metadata": {},
   "outputs": [],
   "source": [
    "# label_encoder_gu = LabelEncoder()"
   ]
  },
  {
   "cell_type": "code",
   "execution_count": 34,
   "metadata": {},
   "outputs": [],
   "source": [
    "# data_label_enco['동'] = label_encoder_gu.fit_transform(data['동'])"
   ]
  },
  {
   "cell_type": "code",
   "execution_count": 35,
   "metadata": {},
   "outputs": [],
   "source": [
    "# data_label_enco.info()"
   ]
  },
  {
   "cell_type": "markdown",
   "metadata": {},
   "source": [
    "### **(One-Hot Encoding - 동) => 동 정보 일단 미적용**"
   ]
  },
  {
   "cell_type": "code",
   "execution_count": 36,
   "metadata": {},
   "outputs": [],
   "source": [
    "# data_onehot_enco = pd.get_dummies(data_onehot_enco, columns=['동'])\n",
    "# data_onehot_enco.info()"
   ]
  },
  {
   "cell_type": "markdown",
   "metadata": {
    "jp-MarkdownHeadingCollapsed": true
   },
   "source": [
    "## **4. 연,월,시 인코딩**\n",
    "- 이미 연도, 월, 시간은 숫자형 데이터로 되어 있기 때문에 Label Encoding을 적용 필요 X => One-Hot Encoding만 진행"
   ]
  },
  {
   "cell_type": "markdown",
   "metadata": {},
   "source": [
    "### **One-Hot Encoding - 연**"
   ]
  },
  {
   "cell_type": "code",
   "execution_count": 37,
   "metadata": {},
   "outputs": [
    {
     "name": "stdout",
     "output_type": "stream",
     "text": [
      "<class 'pandas.core.frame.DataFrame'>\n",
      "Index: 50572 entries, 0 to 10962\n",
      "Data columns (total 44 columns):\n",
      " #   Column           Non-Null Count  Dtype \n",
      "---  ------           --------------  ----- \n",
      " 0   ID               50572 non-null  object\n",
      " 1   요일               50572 non-null  object\n",
      " 2   기상상태             50572 non-null  object\n",
      " 3   월                50572 non-null  int64 \n",
      " 4   일                50572 non-null  int64 \n",
      " 5   시간               50572 non-null  int64 \n",
      " 6   도시               50572 non-null  object\n",
      " 7   동                50572 non-null  object\n",
      " 8   사고유형_차대사람        50572 non-null  bool  \n",
      " 9   사고유형_차대차         50572 non-null  bool  \n",
      " 10  사고유형_차량단독        50572 non-null  bool  \n",
      " 11  노면상태_건조          50572 non-null  bool  \n",
      " 12  노면상태_기타          50572 non-null  bool  \n",
      " 13  노면상태_서리/결빙       50572 non-null  bool  \n",
      " 14  노면상태_적설          50572 non-null  bool  \n",
      " 15  노면상태_젖음/습기       50572 non-null  bool  \n",
      " 16  노면상태_침수          50572 non-null  bool  \n",
      " 17  도로형태1_교차로        50572 non-null  bool  \n",
      " 18  도로형태1_기타         50572 non-null  bool  \n",
      " 19  도로형태1_단일로        50572 non-null  bool  \n",
      " 20  도로형태1_미분류        50572 non-null  bool  \n",
      " 21  도로형태1_주차장        50572 non-null  bool  \n",
      " 22  도로형태2_고가도로위      50572 non-null  bool  \n",
      " 23  도로형태2_교량         50572 non-null  bool  \n",
      " 24  도로형태2_교차로부근      50572 non-null  bool  \n",
      " 25  도로형태2_교차로안       50572 non-null  bool  \n",
      " 26  도로형태2_교차로횡단보도내   50572 non-null  bool  \n",
      " 27  도로형태2_기타         50572 non-null  bool  \n",
      " 28  도로형태2_미분류        50572 non-null  bool  \n",
      " 29  도로형태2_주차장        50572 non-null  bool  \n",
      " 30  도로형태2_지하차도(도로)내  50572 non-null  bool  \n",
      " 31  도로형태2_터널         50572 non-null  bool  \n",
      " 32  구_남구             50572 non-null  bool  \n",
      " 33  구_달서구            50572 non-null  bool  \n",
      " 34  구_달성군            50572 non-null  bool  \n",
      " 35  구_동구             50572 non-null  bool  \n",
      " 36  구_북구             50572 non-null  bool  \n",
      " 37  구_서구             50572 non-null  bool  \n",
      " 38  구_수성구            50572 non-null  bool  \n",
      " 39  구_중구             50572 non-null  bool  \n",
      " 40  연_2019           50572 non-null  bool  \n",
      " 41  연_2020           50572 non-null  bool  \n",
      " 42  연_2021           50572 non-null  bool  \n",
      " 43  연_2022           50572 non-null  bool  \n",
      "dtypes: bool(36), int64(3), object(5)\n",
      "memory usage: 5.2+ MB\n"
     ]
    }
   ],
   "source": [
    "# 연도의 one-hot encoding 및 확인\n",
    "data_onehot_enco = pd.get_dummies(data_onehot_enco, columns=['연'])\n",
    "data_onehot_enco.info()"
   ]
  },
  {
   "cell_type": "markdown",
   "metadata": {},
   "source": [
    "### **One-Hot Encoding - 월**"
   ]
  },
  {
   "cell_type": "code",
   "execution_count": 38,
   "metadata": {},
   "outputs": [
    {
     "name": "stdout",
     "output_type": "stream",
     "text": [
      "<class 'pandas.core.frame.DataFrame'>\n",
      "Index: 50572 entries, 0 to 10962\n",
      "Data columns (total 55 columns):\n",
      " #   Column           Non-Null Count  Dtype \n",
      "---  ------           --------------  ----- \n",
      " 0   ID               50572 non-null  object\n",
      " 1   요일               50572 non-null  object\n",
      " 2   기상상태             50572 non-null  object\n",
      " 3   일                50572 non-null  int64 \n",
      " 4   시간               50572 non-null  int64 \n",
      " 5   도시               50572 non-null  object\n",
      " 6   동                50572 non-null  object\n",
      " 7   사고유형_차대사람        50572 non-null  bool  \n",
      " 8   사고유형_차대차         50572 non-null  bool  \n",
      " 9   사고유형_차량단독        50572 non-null  bool  \n",
      " 10  노면상태_건조          50572 non-null  bool  \n",
      " 11  노면상태_기타          50572 non-null  bool  \n",
      " 12  노면상태_서리/결빙       50572 non-null  bool  \n",
      " 13  노면상태_적설          50572 non-null  bool  \n",
      " 14  노면상태_젖음/습기       50572 non-null  bool  \n",
      " 15  노면상태_침수          50572 non-null  bool  \n",
      " 16  도로형태1_교차로        50572 non-null  bool  \n",
      " 17  도로형태1_기타         50572 non-null  bool  \n",
      " 18  도로형태1_단일로        50572 non-null  bool  \n",
      " 19  도로형태1_미분류        50572 non-null  bool  \n",
      " 20  도로형태1_주차장        50572 non-null  bool  \n",
      " 21  도로형태2_고가도로위      50572 non-null  bool  \n",
      " 22  도로형태2_교량         50572 non-null  bool  \n",
      " 23  도로형태2_교차로부근      50572 non-null  bool  \n",
      " 24  도로형태2_교차로안       50572 non-null  bool  \n",
      " 25  도로형태2_교차로횡단보도내   50572 non-null  bool  \n",
      " 26  도로형태2_기타         50572 non-null  bool  \n",
      " 27  도로형태2_미분류        50572 non-null  bool  \n",
      " 28  도로형태2_주차장        50572 non-null  bool  \n",
      " 29  도로형태2_지하차도(도로)내  50572 non-null  bool  \n",
      " 30  도로형태2_터널         50572 non-null  bool  \n",
      " 31  구_남구             50572 non-null  bool  \n",
      " 32  구_달서구            50572 non-null  bool  \n",
      " 33  구_달성군            50572 non-null  bool  \n",
      " 34  구_동구             50572 non-null  bool  \n",
      " 35  구_북구             50572 non-null  bool  \n",
      " 36  구_서구             50572 non-null  bool  \n",
      " 37  구_수성구            50572 non-null  bool  \n",
      " 38  구_중구             50572 non-null  bool  \n",
      " 39  연_2019           50572 non-null  bool  \n",
      " 40  연_2020           50572 non-null  bool  \n",
      " 41  연_2021           50572 non-null  bool  \n",
      " 42  연_2022           50572 non-null  bool  \n",
      " 43  월_1              50572 non-null  bool  \n",
      " 44  월_2              50572 non-null  bool  \n",
      " 45  월_3              50572 non-null  bool  \n",
      " 46  월_4              50572 non-null  bool  \n",
      " 47  월_5              50572 non-null  bool  \n",
      " 48  월_6              50572 non-null  bool  \n",
      " 49  월_7              50572 non-null  bool  \n",
      " 50  월_8              50572 non-null  bool  \n",
      " 51  월_9              50572 non-null  bool  \n",
      " 52  월_10             50572 non-null  bool  \n",
      " 53  월_11             50572 non-null  bool  \n",
      " 54  월_12             50572 non-null  bool  \n",
      "dtypes: bool(48), int64(2), object(5)\n",
      "memory usage: 5.4+ MB\n"
     ]
    }
   ],
   "source": [
    "# 월의 one-hot encoding 및 확인\n",
    "data_onehot_enco = pd.get_dummies(data_onehot_enco, columns=['월'])\n",
    "data_onehot_enco.info()"
   ]
  },
  {
   "cell_type": "markdown",
   "metadata": {},
   "source": [
    "### **One-Hot Encoding - 시**"
   ]
  },
  {
   "cell_type": "code",
   "execution_count": 39,
   "metadata": {},
   "outputs": [
    {
     "name": "stdout",
     "output_type": "stream",
     "text": [
      "<class 'pandas.core.frame.DataFrame'>\n",
      "Index: 50572 entries, 0 to 10962\n",
      "Data columns (total 78 columns):\n",
      " #   Column           Non-Null Count  Dtype \n",
      "---  ------           --------------  ----- \n",
      " 0   ID               50572 non-null  object\n",
      " 1   요일               50572 non-null  object\n",
      " 2   기상상태             50572 non-null  object\n",
      " 3   일                50572 non-null  int64 \n",
      " 4   도시               50572 non-null  object\n",
      " 5   동                50572 non-null  object\n",
      " 6   사고유형_차대사람        50572 non-null  bool  \n",
      " 7   사고유형_차대차         50572 non-null  bool  \n",
      " 8   사고유형_차량단독        50572 non-null  bool  \n",
      " 9   노면상태_건조          50572 non-null  bool  \n",
      " 10  노면상태_기타          50572 non-null  bool  \n",
      " 11  노면상태_서리/결빙       50572 non-null  bool  \n",
      " 12  노면상태_적설          50572 non-null  bool  \n",
      " 13  노면상태_젖음/습기       50572 non-null  bool  \n",
      " 14  노면상태_침수          50572 non-null  bool  \n",
      " 15  도로형태1_교차로        50572 non-null  bool  \n",
      " 16  도로형태1_기타         50572 non-null  bool  \n",
      " 17  도로형태1_단일로        50572 non-null  bool  \n",
      " 18  도로형태1_미분류        50572 non-null  bool  \n",
      " 19  도로형태1_주차장        50572 non-null  bool  \n",
      " 20  도로형태2_고가도로위      50572 non-null  bool  \n",
      " 21  도로형태2_교량         50572 non-null  bool  \n",
      " 22  도로형태2_교차로부근      50572 non-null  bool  \n",
      " 23  도로형태2_교차로안       50572 non-null  bool  \n",
      " 24  도로형태2_교차로횡단보도내   50572 non-null  bool  \n",
      " 25  도로형태2_기타         50572 non-null  bool  \n",
      " 26  도로형태2_미분류        50572 non-null  bool  \n",
      " 27  도로형태2_주차장        50572 non-null  bool  \n",
      " 28  도로형태2_지하차도(도로)내  50572 non-null  bool  \n",
      " 29  도로형태2_터널         50572 non-null  bool  \n",
      " 30  구_남구             50572 non-null  bool  \n",
      " 31  구_달서구            50572 non-null  bool  \n",
      " 32  구_달성군            50572 non-null  bool  \n",
      " 33  구_동구             50572 non-null  bool  \n",
      " 34  구_북구             50572 non-null  bool  \n",
      " 35  구_서구             50572 non-null  bool  \n",
      " 36  구_수성구            50572 non-null  bool  \n",
      " 37  구_중구             50572 non-null  bool  \n",
      " 38  연_2019           50572 non-null  bool  \n",
      " 39  연_2020           50572 non-null  bool  \n",
      " 40  연_2021           50572 non-null  bool  \n",
      " 41  연_2022           50572 non-null  bool  \n",
      " 42  월_1              50572 non-null  bool  \n",
      " 43  월_2              50572 non-null  bool  \n",
      " 44  월_3              50572 non-null  bool  \n",
      " 45  월_4              50572 non-null  bool  \n",
      " 46  월_5              50572 non-null  bool  \n",
      " 47  월_6              50572 non-null  bool  \n",
      " 48  월_7              50572 non-null  bool  \n",
      " 49  월_8              50572 non-null  bool  \n",
      " 50  월_9              50572 non-null  bool  \n",
      " 51  월_10             50572 non-null  bool  \n",
      " 52  월_11             50572 non-null  bool  \n",
      " 53  월_12             50572 non-null  bool  \n",
      " 54  시간_0             50572 non-null  bool  \n",
      " 55  시간_1             50572 non-null  bool  \n",
      " 56  시간_2             50572 non-null  bool  \n",
      " 57  시간_3             50572 non-null  bool  \n",
      " 58  시간_4             50572 non-null  bool  \n",
      " 59  시간_5             50572 non-null  bool  \n",
      " 60  시간_6             50572 non-null  bool  \n",
      " 61  시간_7             50572 non-null  bool  \n",
      " 62  시간_8             50572 non-null  bool  \n",
      " 63  시간_9             50572 non-null  bool  \n",
      " 64  시간_10            50572 non-null  bool  \n",
      " 65  시간_11            50572 non-null  bool  \n",
      " 66  시간_12            50572 non-null  bool  \n",
      " 67  시간_13            50572 non-null  bool  \n",
      " 68  시간_14            50572 non-null  bool  \n",
      " 69  시간_15            50572 non-null  bool  \n",
      " 70  시간_16            50572 non-null  bool  \n",
      " 71  시간_17            50572 non-null  bool  \n",
      " 72  시간_18            50572 non-null  bool  \n",
      " 73  시간_19            50572 non-null  bool  \n",
      " 74  시간_20            50572 non-null  bool  \n",
      " 75  시간_21            50572 non-null  bool  \n",
      " 76  시간_22            50572 non-null  bool  \n",
      " 77  시간_23            50572 non-null  bool  \n",
      "dtypes: bool(72), int64(1), object(5)\n",
      "memory usage: 6.2+ MB\n"
     ]
    }
   ],
   "source": [
    "# 시간의 one-hot encoding 및 확인\n",
    "data_onehot_enco = pd.get_dummies(data_onehot_enco, columns=['시간'])\n",
    "data_onehot_enco.info()"
   ]
  },
  {
   "cell_type": "markdown",
   "metadata": {
    "jp-MarkdownHeadingCollapsed": true
   },
   "source": [
    "## **5. 요일, 기상상태 인코딩**"
   ]
  },
  {
   "cell_type": "markdown",
   "metadata": {},
   "source": [
    "### **Label Encoding - 요일**\n",
    "- 0 = 금요일 / 1 = 목요일 / 2 = 수요일 / 3 = 월요일 / 4 = 일요일 / 5 = 토요일 / 6 = 화요일"
   ]
  },
  {
   "cell_type": "code",
   "execution_count": 40,
   "metadata": {},
   "outputs": [],
   "source": [
    "# 인코딩된 값 삽입위해 기존 '요일' 컬럼 삭제\n",
    "data_label_enco = data_label_enco.drop(data_label_enco.columns[1], axis=1).copy()"
   ]
  },
  {
   "cell_type": "code",
   "execution_count": 41,
   "metadata": {},
   "outputs": [
    {
     "name": "stdout",
     "output_type": "stream",
     "text": [
      "<class 'pandas.core.frame.DataFrame'>\n",
      "Index: 50572 entries, 0 to 10962\n",
      "Data columns (total 14 columns):\n",
      " #   Column  Non-Null Count  Dtype \n",
      "---  ------  --------------  ----- \n",
      " 0   ID      50572 non-null  object\n",
      " 1   기상상태    50572 non-null  object\n",
      " 2   노면상태    50572 non-null  int64 \n",
      " 3   사고유형    50572 non-null  int64 \n",
      " 4   연       50572 non-null  int64 \n",
      " 5   월       50572 non-null  int64 \n",
      " 6   일       50572 non-null  int64 \n",
      " 7   시간      50572 non-null  int64 \n",
      " 8   도시      50572 non-null  object\n",
      " 9   구       50572 non-null  int64 \n",
      " 10  동       50572 non-null  object\n",
      " 11  도로형태1   50572 non-null  int64 \n",
      " 12  도로형태2   50572 non-null  int64 \n",
      " 13  요일      50572 non-null  int64 \n",
      "dtypes: int64(10), object(4)\n",
      "memory usage: 5.8+ MB\n"
     ]
    }
   ],
   "source": [
    "# 요일 컬럼 Label Encoding 후 컬럼 순서 다시 정렬\n",
    "encoder = LabelEncoder()\n",
    "encoder.fit(data['요일'])\n",
    "data_label_enco['요일'] = encoder.transform(data['요일'])\n",
    "data_label_enco.info()"
   ]
  },
  {
   "cell_type": "code",
   "execution_count": 42,
   "metadata": {},
   "outputs": [
    {
     "data": {
      "text/html": [
       "<div>\n",
       "<style scoped>\n",
       "    .dataframe tbody tr th:only-of-type {\n",
       "        vertical-align: middle;\n",
       "    }\n",
       "\n",
       "    .dataframe tbody tr th {\n",
       "        vertical-align: top;\n",
       "    }\n",
       "\n",
       "    .dataframe thead th {\n",
       "        text-align: right;\n",
       "    }\n",
       "</style>\n",
       "<table border=\"1\" class=\"dataframe\">\n",
       "  <thead>\n",
       "    <tr style=\"text-align: right;\">\n",
       "      <th></th>\n",
       "      <th>ID</th>\n",
       "      <th>요일</th>\n",
       "      <th>기상상태</th>\n",
       "      <th>노면상태</th>\n",
       "      <th>사고유형</th>\n",
       "      <th>연</th>\n",
       "      <th>월</th>\n",
       "      <th>일</th>\n",
       "      <th>시간</th>\n",
       "      <th>도시</th>\n",
       "      <th>구</th>\n",
       "      <th>동</th>\n",
       "      <th>도로형태1</th>\n",
       "      <th>도로형태2</th>\n",
       "    </tr>\n",
       "  </thead>\n",
       "  <tbody>\n",
       "    <tr>\n",
       "      <th>0</th>\n",
       "      <td>ACCIDENT_00000</td>\n",
       "      <td>6</td>\n",
       "      <td>맑음</td>\n",
       "      <td>0</td>\n",
       "      <td>0</td>\n",
       "      <td>2019</td>\n",
       "      <td>1</td>\n",
       "      <td>1</td>\n",
       "      <td>0</td>\n",
       "      <td>대구광역시</td>\n",
       "      <td>7</td>\n",
       "      <td>대신동</td>\n",
       "      <td>2</td>\n",
       "      <td>5</td>\n",
       "    </tr>\n",
       "    <tr>\n",
       "      <th>1</th>\n",
       "      <td>ACCIDENT_00001</td>\n",
       "      <td>6</td>\n",
       "      <td>흐림</td>\n",
       "      <td>0</td>\n",
       "      <td>0</td>\n",
       "      <td>2019</td>\n",
       "      <td>1</td>\n",
       "      <td>1</td>\n",
       "      <td>0</td>\n",
       "      <td>대구광역시</td>\n",
       "      <td>1</td>\n",
       "      <td>감삼동</td>\n",
       "      <td>2</td>\n",
       "      <td>5</td>\n",
       "    </tr>\n",
       "    <tr>\n",
       "      <th>2</th>\n",
       "      <td>ACCIDENT_00002</td>\n",
       "      <td>6</td>\n",
       "      <td>맑음</td>\n",
       "      <td>0</td>\n",
       "      <td>0</td>\n",
       "      <td>2019</td>\n",
       "      <td>1</td>\n",
       "      <td>1</td>\n",
       "      <td>1</td>\n",
       "      <td>대구광역시</td>\n",
       "      <td>6</td>\n",
       "      <td>두산동</td>\n",
       "      <td>2</td>\n",
       "      <td>5</td>\n",
       "    </tr>\n",
       "    <tr>\n",
       "      <th>3</th>\n",
       "      <td>ACCIDENT_00003</td>\n",
       "      <td>6</td>\n",
       "      <td>맑음</td>\n",
       "      <td>0</td>\n",
       "      <td>1</td>\n",
       "      <td>2019</td>\n",
       "      <td>1</td>\n",
       "      <td>1</td>\n",
       "      <td>2</td>\n",
       "      <td>대구광역시</td>\n",
       "      <td>4</td>\n",
       "      <td>복현동</td>\n",
       "      <td>2</td>\n",
       "      <td>5</td>\n",
       "    </tr>\n",
       "    <tr>\n",
       "      <th>4</th>\n",
       "      <td>ACCIDENT_00004</td>\n",
       "      <td>6</td>\n",
       "      <td>맑음</td>\n",
       "      <td>0</td>\n",
       "      <td>1</td>\n",
       "      <td>2019</td>\n",
       "      <td>1</td>\n",
       "      <td>1</td>\n",
       "      <td>4</td>\n",
       "      <td>대구광역시</td>\n",
       "      <td>3</td>\n",
       "      <td>신암동</td>\n",
       "      <td>2</td>\n",
       "      <td>5</td>\n",
       "    </tr>\n",
       "  </tbody>\n",
       "</table>\n",
       "</div>"
      ],
      "text/plain": [
       "               ID  요일 기상상태  노면상태  사고유형     연  월  일  시간     도시  구    동  도로형태1  \\\n",
       "0  ACCIDENT_00000   6   맑음     0     0  2019  1  1   0  대구광역시  7  대신동      2   \n",
       "1  ACCIDENT_00001   6   흐림     0     0  2019  1  1   0  대구광역시  1  감삼동      2   \n",
       "2  ACCIDENT_00002   6   맑음     0     0  2019  1  1   1  대구광역시  6  두산동      2   \n",
       "3  ACCIDENT_00003   6   맑음     0     1  2019  1  1   2  대구광역시  4  복현동      2   \n",
       "4  ACCIDENT_00004   6   맑음     0     1  2019  1  1   4  대구광역시  3  신암동      2   \n",
       "\n",
       "   도로형태2  \n",
       "0      5  \n",
       "1      5  \n",
       "2      5  \n",
       "3      5  \n",
       "4      5  "
      ]
     },
     "metadata": {},
     "output_type": "display_data"
    },
    {
     "name": "stdout",
     "output_type": "stream",
     "text": [
      "인코딩 변환값 : {0, 1, 2, 3, 4, 5, 6}\n"
     ]
    }
   ],
   "source": [
    "data_label_enco = data_label_enco[['ID', '요일', '기상상태', '노면상태', '사고유형', '연', '월', '일', '시간', '도시', '구', '동', '도로형태1', '도로형태2']]\n",
    "display(data_label_enco.head())\n",
    "print('인코딩 변환값 :', set(data_label_enco['요일']))"
   ]
  },
  {
   "cell_type": "markdown",
   "metadata": {},
   "source": [
    "### **One-Hot Encoding - 요일**"
   ]
  },
  {
   "cell_type": "code",
   "execution_count": 43,
   "metadata": {},
   "outputs": [
    {
     "name": "stdout",
     "output_type": "stream",
     "text": [
      "<class 'pandas.core.frame.DataFrame'>\n",
      "Index: 50572 entries, 0 to 10962\n",
      "Data columns (total 84 columns):\n",
      " #   Column           Non-Null Count  Dtype \n",
      "---  ------           --------------  ----- \n",
      " 0   ID               50572 non-null  object\n",
      " 1   기상상태             50572 non-null  object\n",
      " 2   일                50572 non-null  int64 \n",
      " 3   도시               50572 non-null  object\n",
      " 4   동                50572 non-null  object\n",
      " 5   사고유형_차대사람        50572 non-null  bool  \n",
      " 6   사고유형_차대차         50572 non-null  bool  \n",
      " 7   사고유형_차량단독        50572 non-null  bool  \n",
      " 8   노면상태_건조          50572 non-null  bool  \n",
      " 9   노면상태_기타          50572 non-null  bool  \n",
      " 10  노면상태_서리/결빙       50572 non-null  bool  \n",
      " 11  노면상태_적설          50572 non-null  bool  \n",
      " 12  노면상태_젖음/습기       50572 non-null  bool  \n",
      " 13  노면상태_침수          50572 non-null  bool  \n",
      " 14  도로형태1_교차로        50572 non-null  bool  \n",
      " 15  도로형태1_기타         50572 non-null  bool  \n",
      " 16  도로형태1_단일로        50572 non-null  bool  \n",
      " 17  도로형태1_미분류        50572 non-null  bool  \n",
      " 18  도로형태1_주차장        50572 non-null  bool  \n",
      " 19  도로형태2_고가도로위      50572 non-null  bool  \n",
      " 20  도로형태2_교량         50572 non-null  bool  \n",
      " 21  도로형태2_교차로부근      50572 non-null  bool  \n",
      " 22  도로형태2_교차로안       50572 non-null  bool  \n",
      " 23  도로형태2_교차로횡단보도내   50572 non-null  bool  \n",
      " 24  도로형태2_기타         50572 non-null  bool  \n",
      " 25  도로형태2_미분류        50572 non-null  bool  \n",
      " 26  도로형태2_주차장        50572 non-null  bool  \n",
      " 27  도로형태2_지하차도(도로)내  50572 non-null  bool  \n",
      " 28  도로형태2_터널         50572 non-null  bool  \n",
      " 29  구_남구             50572 non-null  bool  \n",
      " 30  구_달서구            50572 non-null  bool  \n",
      " 31  구_달성군            50572 non-null  bool  \n",
      " 32  구_동구             50572 non-null  bool  \n",
      " 33  구_북구             50572 non-null  bool  \n",
      " 34  구_서구             50572 non-null  bool  \n",
      " 35  구_수성구            50572 non-null  bool  \n",
      " 36  구_중구             50572 non-null  bool  \n",
      " 37  연_2019           50572 non-null  bool  \n",
      " 38  연_2020           50572 non-null  bool  \n",
      " 39  연_2021           50572 non-null  bool  \n",
      " 40  연_2022           50572 non-null  bool  \n",
      " 41  월_1              50572 non-null  bool  \n",
      " 42  월_2              50572 non-null  bool  \n",
      " 43  월_3              50572 non-null  bool  \n",
      " 44  월_4              50572 non-null  bool  \n",
      " 45  월_5              50572 non-null  bool  \n",
      " 46  월_6              50572 non-null  bool  \n",
      " 47  월_7              50572 non-null  bool  \n",
      " 48  월_8              50572 non-null  bool  \n",
      " 49  월_9              50572 non-null  bool  \n",
      " 50  월_10             50572 non-null  bool  \n",
      " 51  월_11             50572 non-null  bool  \n",
      " 52  월_12             50572 non-null  bool  \n",
      " 53  시간_0             50572 non-null  bool  \n",
      " 54  시간_1             50572 non-null  bool  \n",
      " 55  시간_2             50572 non-null  bool  \n",
      " 56  시간_3             50572 non-null  bool  \n",
      " 57  시간_4             50572 non-null  bool  \n",
      " 58  시간_5             50572 non-null  bool  \n",
      " 59  시간_6             50572 non-null  bool  \n",
      " 60  시간_7             50572 non-null  bool  \n",
      " 61  시간_8             50572 non-null  bool  \n",
      " 62  시간_9             50572 non-null  bool  \n",
      " 63  시간_10            50572 non-null  bool  \n",
      " 64  시간_11            50572 non-null  bool  \n",
      " 65  시간_12            50572 non-null  bool  \n",
      " 66  시간_13            50572 non-null  bool  \n",
      " 67  시간_14            50572 non-null  bool  \n",
      " 68  시간_15            50572 non-null  bool  \n",
      " 69  시간_16            50572 non-null  bool  \n",
      " 70  시간_17            50572 non-null  bool  \n",
      " 71  시간_18            50572 non-null  bool  \n",
      " 72  시간_19            50572 non-null  bool  \n",
      " 73  시간_20            50572 non-null  bool  \n",
      " 74  시간_21            50572 non-null  bool  \n",
      " 75  시간_22            50572 non-null  bool  \n",
      " 76  시간_23            50572 non-null  bool  \n",
      " 77  요일_금요일           50572 non-null  bool  \n",
      " 78  요일_목요일           50572 non-null  bool  \n",
      " 79  요일_수요일           50572 non-null  bool  \n",
      " 80  요일_월요일           50572 non-null  bool  \n",
      " 81  요일_일요일           50572 non-null  bool  \n",
      " 82  요일_토요일           50572 non-null  bool  \n",
      " 83  요일_화요일           50572 non-null  bool  \n",
      "dtypes: bool(79), int64(1), object(4)\n",
      "memory usage: 6.1+ MB\n"
     ]
    }
   ],
   "source": [
    "data_onehot_enco = pd.get_dummies(data_onehot_enco, columns=['요일'])\n",
    "data_onehot_enco.info()"
   ]
  },
  {
   "cell_type": "code",
   "execution_count": 44,
   "metadata": {},
   "outputs": [],
   "source": [
    "# 요일 컬럼 순서 변경 (75번부터 80번 컬럼)\n",
    "desired_order = ['요일_월요일', '요일_화요일', '요일_수요일', '요일_목요일', '요일_금요일', '요일_토요일', '요일_일요일']\n",
    "data_onehot_enco = data_onehot_enco[ [col for col in data_onehot_enco.columns if col not in desired_order] + desired_order]"
   ]
  },
  {
   "cell_type": "code",
   "execution_count": 45,
   "metadata": {},
   "outputs": [
    {
     "name": "stdout",
     "output_type": "stream",
     "text": [
      "<class 'pandas.core.frame.DataFrame'>\n",
      "Index: 50572 entries, 0 to 10962\n",
      "Data columns (total 84 columns):\n",
      " #   Column           Non-Null Count  Dtype \n",
      "---  ------           --------------  ----- \n",
      " 0   ID               50572 non-null  object\n",
      " 1   기상상태             50572 non-null  object\n",
      " 2   일                50572 non-null  int64 \n",
      " 3   도시               50572 non-null  object\n",
      " 4   동                50572 non-null  object\n",
      " 5   사고유형_차대사람        50572 non-null  bool  \n",
      " 6   사고유형_차대차         50572 non-null  bool  \n",
      " 7   사고유형_차량단독        50572 non-null  bool  \n",
      " 8   노면상태_건조          50572 non-null  bool  \n",
      " 9   노면상태_기타          50572 non-null  bool  \n",
      " 10  노면상태_서리/결빙       50572 non-null  bool  \n",
      " 11  노면상태_적설          50572 non-null  bool  \n",
      " 12  노면상태_젖음/습기       50572 non-null  bool  \n",
      " 13  노면상태_침수          50572 non-null  bool  \n",
      " 14  도로형태1_교차로        50572 non-null  bool  \n",
      " 15  도로형태1_기타         50572 non-null  bool  \n",
      " 16  도로형태1_단일로        50572 non-null  bool  \n",
      " 17  도로형태1_미분류        50572 non-null  bool  \n",
      " 18  도로형태1_주차장        50572 non-null  bool  \n",
      " 19  도로형태2_고가도로위      50572 non-null  bool  \n",
      " 20  도로형태2_교량         50572 non-null  bool  \n",
      " 21  도로형태2_교차로부근      50572 non-null  bool  \n",
      " 22  도로형태2_교차로안       50572 non-null  bool  \n",
      " 23  도로형태2_교차로횡단보도내   50572 non-null  bool  \n",
      " 24  도로형태2_기타         50572 non-null  bool  \n",
      " 25  도로형태2_미분류        50572 non-null  bool  \n",
      " 26  도로형태2_주차장        50572 non-null  bool  \n",
      " 27  도로형태2_지하차도(도로)내  50572 non-null  bool  \n",
      " 28  도로형태2_터널         50572 non-null  bool  \n",
      " 29  구_남구             50572 non-null  bool  \n",
      " 30  구_달서구            50572 non-null  bool  \n",
      " 31  구_달성군            50572 non-null  bool  \n",
      " 32  구_동구             50572 non-null  bool  \n",
      " 33  구_북구             50572 non-null  bool  \n",
      " 34  구_서구             50572 non-null  bool  \n",
      " 35  구_수성구            50572 non-null  bool  \n",
      " 36  구_중구             50572 non-null  bool  \n",
      " 37  연_2019           50572 non-null  bool  \n",
      " 38  연_2020           50572 non-null  bool  \n",
      " 39  연_2021           50572 non-null  bool  \n",
      " 40  연_2022           50572 non-null  bool  \n",
      " 41  월_1              50572 non-null  bool  \n",
      " 42  월_2              50572 non-null  bool  \n",
      " 43  월_3              50572 non-null  bool  \n",
      " 44  월_4              50572 non-null  bool  \n",
      " 45  월_5              50572 non-null  bool  \n",
      " 46  월_6              50572 non-null  bool  \n",
      " 47  월_7              50572 non-null  bool  \n",
      " 48  월_8              50572 non-null  bool  \n",
      " 49  월_9              50572 non-null  bool  \n",
      " 50  월_10             50572 non-null  bool  \n",
      " 51  월_11             50572 non-null  bool  \n",
      " 52  월_12             50572 non-null  bool  \n",
      " 53  시간_0             50572 non-null  bool  \n",
      " 54  시간_1             50572 non-null  bool  \n",
      " 55  시간_2             50572 non-null  bool  \n",
      " 56  시간_3             50572 non-null  bool  \n",
      " 57  시간_4             50572 non-null  bool  \n",
      " 58  시간_5             50572 non-null  bool  \n",
      " 59  시간_6             50572 non-null  bool  \n",
      " 60  시간_7             50572 non-null  bool  \n",
      " 61  시간_8             50572 non-null  bool  \n",
      " 62  시간_9             50572 non-null  bool  \n",
      " 63  시간_10            50572 non-null  bool  \n",
      " 64  시간_11            50572 non-null  bool  \n",
      " 65  시간_12            50572 non-null  bool  \n",
      " 66  시간_13            50572 non-null  bool  \n",
      " 67  시간_14            50572 non-null  bool  \n",
      " 68  시간_15            50572 non-null  bool  \n",
      " 69  시간_16            50572 non-null  bool  \n",
      " 70  시간_17            50572 non-null  bool  \n",
      " 71  시간_18            50572 non-null  bool  \n",
      " 72  시간_19            50572 non-null  bool  \n",
      " 73  시간_20            50572 non-null  bool  \n",
      " 74  시간_21            50572 non-null  bool  \n",
      " 75  시간_22            50572 non-null  bool  \n",
      " 76  시간_23            50572 non-null  bool  \n",
      " 77  요일_월요일           50572 non-null  bool  \n",
      " 78  요일_화요일           50572 non-null  bool  \n",
      " 79  요일_수요일           50572 non-null  bool  \n",
      " 80  요일_목요일           50572 non-null  bool  \n",
      " 81  요일_금요일           50572 non-null  bool  \n",
      " 82  요일_토요일           50572 non-null  bool  \n",
      " 83  요일_일요일           50572 non-null  bool  \n",
      "dtypes: bool(79), int64(1), object(4)\n",
      "memory usage: 6.1+ MB\n"
     ]
    }
   ],
   "source": [
    "data_onehot_enco.info()"
   ]
  },
  {
   "cell_type": "markdown",
   "metadata": {},
   "source": [
    "### **Label Encoding - 기상상태**"
   ]
  },
  {
   "cell_type": "code",
   "execution_count": 46,
   "metadata": {},
   "outputs": [
    {
     "data": {
      "text/html": [
       "<div>\n",
       "<style scoped>\n",
       "    .dataframe tbody tr th:only-of-type {\n",
       "        vertical-align: middle;\n",
       "    }\n",
       "\n",
       "    .dataframe tbody tr th {\n",
       "        vertical-align: top;\n",
       "    }\n",
       "\n",
       "    .dataframe thead th {\n",
       "        text-align: right;\n",
       "    }\n",
       "</style>\n",
       "<table border=\"1\" class=\"dataframe\">\n",
       "  <thead>\n",
       "    <tr style=\"text-align: right;\">\n",
       "      <th></th>\n",
       "      <th>ID</th>\n",
       "      <th>요일</th>\n",
       "      <th>기상상태</th>\n",
       "      <th>노면상태</th>\n",
       "      <th>사고유형</th>\n",
       "      <th>연</th>\n",
       "      <th>월</th>\n",
       "      <th>일</th>\n",
       "      <th>시간</th>\n",
       "      <th>도시</th>\n",
       "      <th>구</th>\n",
       "      <th>동</th>\n",
       "      <th>도로형태1</th>\n",
       "      <th>도로형태2</th>\n",
       "    </tr>\n",
       "  </thead>\n",
       "  <tbody>\n",
       "    <tr>\n",
       "      <th>0</th>\n",
       "      <td>ACCIDENT_00000</td>\n",
       "      <td>6</td>\n",
       "      <td>2</td>\n",
       "      <td>0</td>\n",
       "      <td>0</td>\n",
       "      <td>2019</td>\n",
       "      <td>1</td>\n",
       "      <td>1</td>\n",
       "      <td>0</td>\n",
       "      <td>대구광역시</td>\n",
       "      <td>7</td>\n",
       "      <td>대신동</td>\n",
       "      <td>2</td>\n",
       "      <td>5</td>\n",
       "    </tr>\n",
       "    <tr>\n",
       "      <th>1</th>\n",
       "      <td>ACCIDENT_00001</td>\n",
       "      <td>6</td>\n",
       "      <td>5</td>\n",
       "      <td>0</td>\n",
       "      <td>0</td>\n",
       "      <td>2019</td>\n",
       "      <td>1</td>\n",
       "      <td>1</td>\n",
       "      <td>0</td>\n",
       "      <td>대구광역시</td>\n",
       "      <td>1</td>\n",
       "      <td>감삼동</td>\n",
       "      <td>2</td>\n",
       "      <td>5</td>\n",
       "    </tr>\n",
       "    <tr>\n",
       "      <th>2</th>\n",
       "      <td>ACCIDENT_00002</td>\n",
       "      <td>6</td>\n",
       "      <td>2</td>\n",
       "      <td>0</td>\n",
       "      <td>0</td>\n",
       "      <td>2019</td>\n",
       "      <td>1</td>\n",
       "      <td>1</td>\n",
       "      <td>1</td>\n",
       "      <td>대구광역시</td>\n",
       "      <td>6</td>\n",
       "      <td>두산동</td>\n",
       "      <td>2</td>\n",
       "      <td>5</td>\n",
       "    </tr>\n",
       "    <tr>\n",
       "      <th>3</th>\n",
       "      <td>ACCIDENT_00003</td>\n",
       "      <td>6</td>\n",
       "      <td>2</td>\n",
       "      <td>0</td>\n",
       "      <td>1</td>\n",
       "      <td>2019</td>\n",
       "      <td>1</td>\n",
       "      <td>1</td>\n",
       "      <td>2</td>\n",
       "      <td>대구광역시</td>\n",
       "      <td>4</td>\n",
       "      <td>복현동</td>\n",
       "      <td>2</td>\n",
       "      <td>5</td>\n",
       "    </tr>\n",
       "    <tr>\n",
       "      <th>4</th>\n",
       "      <td>ACCIDENT_00004</td>\n",
       "      <td>6</td>\n",
       "      <td>2</td>\n",
       "      <td>0</td>\n",
       "      <td>1</td>\n",
       "      <td>2019</td>\n",
       "      <td>1</td>\n",
       "      <td>1</td>\n",
       "      <td>4</td>\n",
       "      <td>대구광역시</td>\n",
       "      <td>3</td>\n",
       "      <td>신암동</td>\n",
       "      <td>2</td>\n",
       "      <td>5</td>\n",
       "    </tr>\n",
       "    <tr>\n",
       "      <th>...</th>\n",
       "      <td>...</td>\n",
       "      <td>...</td>\n",
       "      <td>...</td>\n",
       "      <td>...</td>\n",
       "      <td>...</td>\n",
       "      <td>...</td>\n",
       "      <td>...</td>\n",
       "      <td>...</td>\n",
       "      <td>...</td>\n",
       "      <td>...</td>\n",
       "      <td>...</td>\n",
       "      <td>...</td>\n",
       "      <td>...</td>\n",
       "      <td>...</td>\n",
       "    </tr>\n",
       "    <tr>\n",
       "      <th>10958</th>\n",
       "      <td>ACCIDENT_50567</td>\n",
       "      <td>5</td>\n",
       "      <td>2</td>\n",
       "      <td>0</td>\n",
       "      <td>1</td>\n",
       "      <td>2022</td>\n",
       "      <td>12</td>\n",
       "      <td>31</td>\n",
       "      <td>18</td>\n",
       "      <td>대구광역시</td>\n",
       "      <td>0</td>\n",
       "      <td>대명동</td>\n",
       "      <td>2</td>\n",
       "      <td>9</td>\n",
       "    </tr>\n",
       "    <tr>\n",
       "      <th>10959</th>\n",
       "      <td>ACCIDENT_50568</td>\n",
       "      <td>5</td>\n",
       "      <td>2</td>\n",
       "      <td>0</td>\n",
       "      <td>1</td>\n",
       "      <td>2022</td>\n",
       "      <td>12</td>\n",
       "      <td>31</td>\n",
       "      <td>18</td>\n",
       "      <td>대구광역시</td>\n",
       "      <td>6</td>\n",
       "      <td>시지동</td>\n",
       "      <td>2</td>\n",
       "      <td>5</td>\n",
       "    </tr>\n",
       "    <tr>\n",
       "      <th>10960</th>\n",
       "      <td>ACCIDENT_50569</td>\n",
       "      <td>5</td>\n",
       "      <td>2</td>\n",
       "      <td>0</td>\n",
       "      <td>1</td>\n",
       "      <td>2022</td>\n",
       "      <td>12</td>\n",
       "      <td>31</td>\n",
       "      <td>20</td>\n",
       "      <td>대구광역시</td>\n",
       "      <td>6</td>\n",
       "      <td>연호동</td>\n",
       "      <td>2</td>\n",
       "      <td>5</td>\n",
       "    </tr>\n",
       "    <tr>\n",
       "      <th>10961</th>\n",
       "      <td>ACCIDENT_50570</td>\n",
       "      <td>5</td>\n",
       "      <td>2</td>\n",
       "      <td>0</td>\n",
       "      <td>1</td>\n",
       "      <td>2022</td>\n",
       "      <td>12</td>\n",
       "      <td>31</td>\n",
       "      <td>20</td>\n",
       "      <td>대구광역시</td>\n",
       "      <td>6</td>\n",
       "      <td>범물동</td>\n",
       "      <td>0</td>\n",
       "      <td>2</td>\n",
       "    </tr>\n",
       "    <tr>\n",
       "      <th>10962</th>\n",
       "      <td>ACCIDENT_50571</td>\n",
       "      <td>5</td>\n",
       "      <td>2</td>\n",
       "      <td>0</td>\n",
       "      <td>1</td>\n",
       "      <td>2022</td>\n",
       "      <td>12</td>\n",
       "      <td>31</td>\n",
       "      <td>21</td>\n",
       "      <td>대구광역시</td>\n",
       "      <td>3</td>\n",
       "      <td>효목동</td>\n",
       "      <td>0</td>\n",
       "      <td>2</td>\n",
       "    </tr>\n",
       "  </tbody>\n",
       "</table>\n",
       "<p>50572 rows × 14 columns</p>\n",
       "</div>"
      ],
      "text/plain": [
       "                   ID  요일  기상상태  노면상태  사고유형     연   월   일  시간     도시  구    동  \\\n",
       "0      ACCIDENT_00000   6     2     0     0  2019   1   1   0  대구광역시  7  대신동   \n",
       "1      ACCIDENT_00001   6     5     0     0  2019   1   1   0  대구광역시  1  감삼동   \n",
       "2      ACCIDENT_00002   6     2     0     0  2019   1   1   1  대구광역시  6  두산동   \n",
       "3      ACCIDENT_00003   6     2     0     1  2019   1   1   2  대구광역시  4  복현동   \n",
       "4      ACCIDENT_00004   6     2     0     1  2019   1   1   4  대구광역시  3  신암동   \n",
       "...               ...  ..   ...   ...   ...   ...  ..  ..  ..    ... ..  ...   \n",
       "10958  ACCIDENT_50567   5     2     0     1  2022  12  31  18  대구광역시  0  대명동   \n",
       "10959  ACCIDENT_50568   5     2     0     1  2022  12  31  18  대구광역시  6  시지동   \n",
       "10960  ACCIDENT_50569   5     2     0     1  2022  12  31  20  대구광역시  6  연호동   \n",
       "10961  ACCIDENT_50570   5     2     0     1  2022  12  31  20  대구광역시  6  범물동   \n",
       "10962  ACCIDENT_50571   5     2     0     1  2022  12  31  21  대구광역시  3  효목동   \n",
       "\n",
       "       도로형태1  도로형태2  \n",
       "0          2      5  \n",
       "1          2      5  \n",
       "2          2      5  \n",
       "3          2      5  \n",
       "4          2      5  \n",
       "...      ...    ...  \n",
       "10958      2      9  \n",
       "10959      2      5  \n",
       "10960      2      5  \n",
       "10961      0      2  \n",
       "10962      0      2  \n",
       "\n",
       "[50572 rows x 14 columns]"
      ]
     },
     "metadata": {},
     "output_type": "display_data"
    },
    {
     "name": "stdout",
     "output_type": "stream",
     "text": [
      "인코딩 변환값 :  {0, 1, 2, 3, 4, 5}\n"
     ]
    }
   ],
   "source": [
    "encoder_weather = LabelEncoder()\n",
    "encoder_weather.fit(data['기상상태'])\n",
    "data_label_enco['기상상태'] = encoder_weather.transform(data['기상상태'])\n",
    "\n",
    "display(data_label_enco)\n",
    "print('인코딩 변환값 : ', set(data_label_enco['기상상태']))"
   ]
  },
  {
   "cell_type": "code",
   "execution_count": 47,
   "metadata": {},
   "outputs": [
    {
     "name": "stdout",
     "output_type": "stream",
     "text": [
      "<class 'pandas.core.frame.DataFrame'>\n",
      "Index: 50572 entries, 0 to 10962\n",
      "Data columns (total 14 columns):\n",
      " #   Column  Non-Null Count  Dtype \n",
      "---  ------  --------------  ----- \n",
      " 0   ID      50572 non-null  object\n",
      " 1   요일      50572 non-null  int64 \n",
      " 2   기상상태    50572 non-null  int64 \n",
      " 3   노면상태    50572 non-null  int64 \n",
      " 4   사고유형    50572 non-null  int64 \n",
      " 5   연       50572 non-null  int64 \n",
      " 6   월       50572 non-null  int64 \n",
      " 7   일       50572 non-null  int64 \n",
      " 8   시간      50572 non-null  int64 \n",
      " 9   도시      50572 non-null  object\n",
      " 10  구       50572 non-null  int64 \n",
      " 11  동       50572 non-null  object\n",
      " 12  도로형태1   50572 non-null  int64 \n",
      " 13  도로형태2   50572 non-null  int64 \n",
      "dtypes: int64(11), object(3)\n",
      "memory usage: 5.8+ MB\n"
     ]
    }
   ],
   "source": [
    "data_label_enco.info()"
   ]
  },
  {
   "cell_type": "markdown",
   "metadata": {},
   "source": [
    "### **One-Hot Encoding - 기상상태**"
   ]
  },
  {
   "cell_type": "code",
   "execution_count": 48,
   "metadata": {},
   "outputs": [
    {
     "name": "stdout",
     "output_type": "stream",
     "text": [
      "<class 'pandas.core.frame.DataFrame'>\n",
      "Index: 50572 entries, 0 to 10962\n",
      "Data columns (total 89 columns):\n",
      " #   Column           Non-Null Count  Dtype \n",
      "---  ------           --------------  ----- \n",
      " 0   ID               50572 non-null  object\n",
      " 1   일                50572 non-null  int64 \n",
      " 2   도시               50572 non-null  object\n",
      " 3   동                50572 non-null  object\n",
      " 4   사고유형_차대사람        50572 non-null  bool  \n",
      " 5   사고유형_차대차         50572 non-null  bool  \n",
      " 6   사고유형_차량단독        50572 non-null  bool  \n",
      " 7   노면상태_건조          50572 non-null  bool  \n",
      " 8   노면상태_기타          50572 non-null  bool  \n",
      " 9   노면상태_서리/결빙       50572 non-null  bool  \n",
      " 10  노면상태_적설          50572 non-null  bool  \n",
      " 11  노면상태_젖음/습기       50572 non-null  bool  \n",
      " 12  노면상태_침수          50572 non-null  bool  \n",
      " 13  도로형태1_교차로        50572 non-null  bool  \n",
      " 14  도로형태1_기타         50572 non-null  bool  \n",
      " 15  도로형태1_단일로        50572 non-null  bool  \n",
      " 16  도로형태1_미분류        50572 non-null  bool  \n",
      " 17  도로형태1_주차장        50572 non-null  bool  \n",
      " 18  도로형태2_고가도로위      50572 non-null  bool  \n",
      " 19  도로형태2_교량         50572 non-null  bool  \n",
      " 20  도로형태2_교차로부근      50572 non-null  bool  \n",
      " 21  도로형태2_교차로안       50572 non-null  bool  \n",
      " 22  도로형태2_교차로횡단보도내   50572 non-null  bool  \n",
      " 23  도로형태2_기타         50572 non-null  bool  \n",
      " 24  도로형태2_미분류        50572 non-null  bool  \n",
      " 25  도로형태2_주차장        50572 non-null  bool  \n",
      " 26  도로형태2_지하차도(도로)내  50572 non-null  bool  \n",
      " 27  도로형태2_터널         50572 non-null  bool  \n",
      " 28  구_남구             50572 non-null  bool  \n",
      " 29  구_달서구            50572 non-null  bool  \n",
      " 30  구_달성군            50572 non-null  bool  \n",
      " 31  구_동구             50572 non-null  bool  \n",
      " 32  구_북구             50572 non-null  bool  \n",
      " 33  구_서구             50572 non-null  bool  \n",
      " 34  구_수성구            50572 non-null  bool  \n",
      " 35  구_중구             50572 non-null  bool  \n",
      " 36  연_2019           50572 non-null  bool  \n",
      " 37  연_2020           50572 non-null  bool  \n",
      " 38  연_2021           50572 non-null  bool  \n",
      " 39  연_2022           50572 non-null  bool  \n",
      " 40  월_1              50572 non-null  bool  \n",
      " 41  월_2              50572 non-null  bool  \n",
      " 42  월_3              50572 non-null  bool  \n",
      " 43  월_4              50572 non-null  bool  \n",
      " 44  월_5              50572 non-null  bool  \n",
      " 45  월_6              50572 non-null  bool  \n",
      " 46  월_7              50572 non-null  bool  \n",
      " 47  월_8              50572 non-null  bool  \n",
      " 48  월_9              50572 non-null  bool  \n",
      " 49  월_10             50572 non-null  bool  \n",
      " 50  월_11             50572 non-null  bool  \n",
      " 51  월_12             50572 non-null  bool  \n",
      " 52  시간_0             50572 non-null  bool  \n",
      " 53  시간_1             50572 non-null  bool  \n",
      " 54  시간_2             50572 non-null  bool  \n",
      " 55  시간_3             50572 non-null  bool  \n",
      " 56  시간_4             50572 non-null  bool  \n",
      " 57  시간_5             50572 non-null  bool  \n",
      " 58  시간_6             50572 non-null  bool  \n",
      " 59  시간_7             50572 non-null  bool  \n",
      " 60  시간_8             50572 non-null  bool  \n",
      " 61  시간_9             50572 non-null  bool  \n",
      " 62  시간_10            50572 non-null  bool  \n",
      " 63  시간_11            50572 non-null  bool  \n",
      " 64  시간_12            50572 non-null  bool  \n",
      " 65  시간_13            50572 non-null  bool  \n",
      " 66  시간_14            50572 non-null  bool  \n",
      " 67  시간_15            50572 non-null  bool  \n",
      " 68  시간_16            50572 non-null  bool  \n",
      " 69  시간_17            50572 non-null  bool  \n",
      " 70  시간_18            50572 non-null  bool  \n",
      " 71  시간_19            50572 non-null  bool  \n",
      " 72  시간_20            50572 non-null  bool  \n",
      " 73  시간_21            50572 non-null  bool  \n",
      " 74  시간_22            50572 non-null  bool  \n",
      " 75  시간_23            50572 non-null  bool  \n",
      " 76  요일_월요일           50572 non-null  bool  \n",
      " 77  요일_화요일           50572 non-null  bool  \n",
      " 78  요일_수요일           50572 non-null  bool  \n",
      " 79  요일_목요일           50572 non-null  bool  \n",
      " 80  요일_금요일           50572 non-null  bool  \n",
      " 81  요일_토요일           50572 non-null  bool  \n",
      " 82  요일_일요일           50572 non-null  bool  \n",
      " 83  기상상태_기타          50572 non-null  bool  \n",
      " 84  기상상태_눈           50572 non-null  bool  \n",
      " 85  기상상태_맑음          50572 non-null  bool  \n",
      " 86  기상상태_비           50572 non-null  bool  \n",
      " 87  기상상태_안개          50572 non-null  bool  \n",
      " 88  기상상태_흐림          50572 non-null  bool  \n",
      "dtypes: bool(85), int64(1), object(3)\n",
      "memory usage: 6.0+ MB\n"
     ]
    }
   ],
   "source": [
    "data_onehot_enco = pd.get_dummies(data_onehot_enco, columns=['기상상태'])\n",
    "data_onehot_enco.info()"
   ]
  },
  {
   "cell_type": "markdown",
   "metadata": {},
   "source": [
    "## **6. 인코딩 확인**"
   ]
  },
  {
   "cell_type": "code",
   "execution_count": 49,
   "metadata": {},
   "outputs": [
    {
     "data": {
      "text/plain": [
       "Index(['ID', '일', '도시', '동', '사고유형_차대사람', '사고유형_차대차', '사고유형_차량단독', '노면상태_건조',\n",
       "       '노면상태_기타', '노면상태_서리/결빙', '노면상태_적설', '노면상태_젖음/습기', '노면상태_침수',\n",
       "       '도로형태1_교차로', '도로형태1_기타', '도로형태1_단일로', '도로형태1_미분류', '도로형태1_주차장',\n",
       "       '도로형태2_고가도로위', '도로형태2_교량', '도로형태2_교차로부근', '도로형태2_교차로안',\n",
       "       '도로형태2_교차로횡단보도내', '도로형태2_기타', '도로형태2_미분류', '도로형태2_주차장',\n",
       "       '도로형태2_지하차도(도로)내', '도로형태2_터널', '구_남구', '구_달서구', '구_달성군', '구_동구', '구_북구',\n",
       "       '구_서구', '구_수성구', '구_중구', '연_2019', '연_2020', '연_2021', '연_2022', '월_1',\n",
       "       '월_2', '월_3', '월_4', '월_5', '월_6', '월_7', '월_8', '월_9', '월_10', '월_11',\n",
       "       '월_12', '시간_0', '시간_1', '시간_2', '시간_3', '시간_4', '시간_5', '시간_6', '시간_7',\n",
       "       '시간_8', '시간_9', '시간_10', '시간_11', '시간_12', '시간_13', '시간_14', '시간_15',\n",
       "       '시간_16', '시간_17', '시간_18', '시간_19', '시간_20', '시간_21', '시간_22', '시간_23',\n",
       "       '요일_월요일', '요일_화요일', '요일_수요일', '요일_목요일', '요일_금요일', '요일_토요일', '요일_일요일',\n",
       "       '기상상태_기타', '기상상태_눈', '기상상태_맑음', '기상상태_비', '기상상태_안개', '기상상태_흐림'],\n",
       "      dtype='object')"
      ]
     },
     "execution_count": 49,
     "metadata": {},
     "output_type": "execute_result"
    }
   ],
   "source": [
    "data_onehot_enco.columns"
   ]
  },
  {
   "cell_type": "markdown",
   "metadata": {},
   "source": [
    "## **7. One-Hot Encoding 다중공선성 확인**"
   ]
  },
  {
   "cell_type": "code",
   "execution_count": 50,
   "metadata": {},
   "outputs": [],
   "source": [
    "data_onehot = data_onehot_enco.drop(data_onehot_enco.columns[0], axis=1)"
   ]
  },
  {
   "cell_type": "code",
   "execution_count": 51,
   "metadata": {},
   "outputs": [
    {
     "data": {
      "text/html": [
       "<div>\n",
       "<style scoped>\n",
       "    .dataframe tbody tr th:only-of-type {\n",
       "        vertical-align: middle;\n",
       "    }\n",
       "\n",
       "    .dataframe tbody tr th {\n",
       "        vertical-align: top;\n",
       "    }\n",
       "\n",
       "    .dataframe thead th {\n",
       "        text-align: right;\n",
       "    }\n",
       "</style>\n",
       "<table border=\"1\" class=\"dataframe\">\n",
       "  <thead>\n",
       "    <tr style=\"text-align: right;\">\n",
       "      <th></th>\n",
       "      <th>일</th>\n",
       "      <th>도시</th>\n",
       "      <th>동</th>\n",
       "      <th>사고유형_차대사람</th>\n",
       "      <th>사고유형_차대차</th>\n",
       "      <th>사고유형_차량단독</th>\n",
       "      <th>노면상태_건조</th>\n",
       "      <th>노면상태_기타</th>\n",
       "      <th>노면상태_서리/결빙</th>\n",
       "      <th>노면상태_적설</th>\n",
       "      <th>노면상태_젖음/습기</th>\n",
       "      <th>노면상태_침수</th>\n",
       "      <th>도로형태1_교차로</th>\n",
       "    </tr>\n",
       "  </thead>\n",
       "  <tbody>\n",
       "    <tr>\n",
       "      <th>0</th>\n",
       "      <td>1</td>\n",
       "      <td>대구광역시</td>\n",
       "      <td>대신동</td>\n",
       "      <td>True</td>\n",
       "      <td>False</td>\n",
       "      <td>False</td>\n",
       "      <td>True</td>\n",
       "      <td>False</td>\n",
       "      <td>False</td>\n",
       "      <td>False</td>\n",
       "      <td>False</td>\n",
       "      <td>False</td>\n",
       "      <td>False</td>\n",
       "    </tr>\n",
       "    <tr>\n",
       "      <th>1</th>\n",
       "      <td>1</td>\n",
       "      <td>대구광역시</td>\n",
       "      <td>감삼동</td>\n",
       "      <td>True</td>\n",
       "      <td>False</td>\n",
       "      <td>False</td>\n",
       "      <td>True</td>\n",
       "      <td>False</td>\n",
       "      <td>False</td>\n",
       "      <td>False</td>\n",
       "      <td>False</td>\n",
       "      <td>False</td>\n",
       "      <td>False</td>\n",
       "    </tr>\n",
       "    <tr>\n",
       "      <th>2</th>\n",
       "      <td>1</td>\n",
       "      <td>대구광역시</td>\n",
       "      <td>두산동</td>\n",
       "      <td>True</td>\n",
       "      <td>False</td>\n",
       "      <td>False</td>\n",
       "      <td>True</td>\n",
       "      <td>False</td>\n",
       "      <td>False</td>\n",
       "      <td>False</td>\n",
       "      <td>False</td>\n",
       "      <td>False</td>\n",
       "      <td>False</td>\n",
       "    </tr>\n",
       "    <tr>\n",
       "      <th>3</th>\n",
       "      <td>1</td>\n",
       "      <td>대구광역시</td>\n",
       "      <td>복현동</td>\n",
       "      <td>False</td>\n",
       "      <td>True</td>\n",
       "      <td>False</td>\n",
       "      <td>True</td>\n",
       "      <td>False</td>\n",
       "      <td>False</td>\n",
       "      <td>False</td>\n",
       "      <td>False</td>\n",
       "      <td>False</td>\n",
       "      <td>False</td>\n",
       "    </tr>\n",
       "    <tr>\n",
       "      <th>4</th>\n",
       "      <td>1</td>\n",
       "      <td>대구광역시</td>\n",
       "      <td>신암동</td>\n",
       "      <td>False</td>\n",
       "      <td>True</td>\n",
       "      <td>False</td>\n",
       "      <td>True</td>\n",
       "      <td>False</td>\n",
       "      <td>False</td>\n",
       "      <td>False</td>\n",
       "      <td>False</td>\n",
       "      <td>False</td>\n",
       "      <td>False</td>\n",
       "    </tr>\n",
       "    <tr>\n",
       "      <th>...</th>\n",
       "      <td>...</td>\n",
       "      <td>...</td>\n",
       "      <td>...</td>\n",
       "      <td>...</td>\n",
       "      <td>...</td>\n",
       "      <td>...</td>\n",
       "      <td>...</td>\n",
       "      <td>...</td>\n",
       "      <td>...</td>\n",
       "      <td>...</td>\n",
       "      <td>...</td>\n",
       "      <td>...</td>\n",
       "      <td>...</td>\n",
       "    </tr>\n",
       "    <tr>\n",
       "      <th>10958</th>\n",
       "      <td>31</td>\n",
       "      <td>대구광역시</td>\n",
       "      <td>대명동</td>\n",
       "      <td>False</td>\n",
       "      <td>True</td>\n",
       "      <td>False</td>\n",
       "      <td>True</td>\n",
       "      <td>False</td>\n",
       "      <td>False</td>\n",
       "      <td>False</td>\n",
       "      <td>False</td>\n",
       "      <td>False</td>\n",
       "      <td>False</td>\n",
       "    </tr>\n",
       "    <tr>\n",
       "      <th>10959</th>\n",
       "      <td>31</td>\n",
       "      <td>대구광역시</td>\n",
       "      <td>시지동</td>\n",
       "      <td>False</td>\n",
       "      <td>True</td>\n",
       "      <td>False</td>\n",
       "      <td>True</td>\n",
       "      <td>False</td>\n",
       "      <td>False</td>\n",
       "      <td>False</td>\n",
       "      <td>False</td>\n",
       "      <td>False</td>\n",
       "      <td>False</td>\n",
       "    </tr>\n",
       "    <tr>\n",
       "      <th>10960</th>\n",
       "      <td>31</td>\n",
       "      <td>대구광역시</td>\n",
       "      <td>연호동</td>\n",
       "      <td>False</td>\n",
       "      <td>True</td>\n",
       "      <td>False</td>\n",
       "      <td>True</td>\n",
       "      <td>False</td>\n",
       "      <td>False</td>\n",
       "      <td>False</td>\n",
       "      <td>False</td>\n",
       "      <td>False</td>\n",
       "      <td>False</td>\n",
       "    </tr>\n",
       "    <tr>\n",
       "      <th>10961</th>\n",
       "      <td>31</td>\n",
       "      <td>대구광역시</td>\n",
       "      <td>범물동</td>\n",
       "      <td>False</td>\n",
       "      <td>True</td>\n",
       "      <td>False</td>\n",
       "      <td>True</td>\n",
       "      <td>False</td>\n",
       "      <td>False</td>\n",
       "      <td>False</td>\n",
       "      <td>False</td>\n",
       "      <td>False</td>\n",
       "      <td>True</td>\n",
       "    </tr>\n",
       "    <tr>\n",
       "      <th>10962</th>\n",
       "      <td>31</td>\n",
       "      <td>대구광역시</td>\n",
       "      <td>효목동</td>\n",
       "      <td>False</td>\n",
       "      <td>True</td>\n",
       "      <td>False</td>\n",
       "      <td>True</td>\n",
       "      <td>False</td>\n",
       "      <td>False</td>\n",
       "      <td>False</td>\n",
       "      <td>False</td>\n",
       "      <td>False</td>\n",
       "      <td>True</td>\n",
       "    </tr>\n",
       "  </tbody>\n",
       "</table>\n",
       "<p>50572 rows × 13 columns</p>\n",
       "</div>"
      ],
      "text/plain": [
       "        일     도시    동  사고유형_차대사람  사고유형_차대차  사고유형_차량단독  노면상태_건조  노면상태_기타  \\\n",
       "0       1  대구광역시  대신동       True     False      False     True    False   \n",
       "1       1  대구광역시  감삼동       True     False      False     True    False   \n",
       "2       1  대구광역시  두산동       True     False      False     True    False   \n",
       "3       1  대구광역시  복현동      False      True      False     True    False   \n",
       "4       1  대구광역시  신암동      False      True      False     True    False   \n",
       "...    ..    ...  ...        ...       ...        ...      ...      ...   \n",
       "10958  31  대구광역시  대명동      False      True      False     True    False   \n",
       "10959  31  대구광역시  시지동      False      True      False     True    False   \n",
       "10960  31  대구광역시  연호동      False      True      False     True    False   \n",
       "10961  31  대구광역시  범물동      False      True      False     True    False   \n",
       "10962  31  대구광역시  효목동      False      True      False     True    False   \n",
       "\n",
       "       노면상태_서리/결빙  노면상태_적설  노면상태_젖음/습기  노면상태_침수  도로형태1_교차로  \n",
       "0           False    False       False    False      False  \n",
       "1           False    False       False    False      False  \n",
       "2           False    False       False    False      False  \n",
       "3           False    False       False    False      False  \n",
       "4           False    False       False    False      False  \n",
       "...           ...      ...         ...      ...        ...  \n",
       "10958       False    False       False    False      False  \n",
       "10959       False    False       False    False      False  \n",
       "10960       False    False       False    False      False  \n",
       "10961       False    False       False    False       True  \n",
       "10962       False    False       False    False       True  \n",
       "\n",
       "[50572 rows x 13 columns]"
      ]
     },
     "execution_count": 51,
     "metadata": {},
     "output_type": "execute_result"
    }
   ],
   "source": [
    "column_range = list(range(13))\n",
    "data_corr = data_onehot.iloc[:, column_range]\n",
    "data_corr"
   ]
  },
  {
   "cell_type": "markdown",
   "metadata": {},
   "source": [
    "- feature간 상관계수를 통해 다중공선성 확인 결과, 뚜렷하게 나타나는 변수 간 강한 양의 상관관계는 없는 것으로 보아\n",
    "- 다중공선성에 대한 문제는 없는 것으로 보임\n",
    "- VIF(Variance Inflation Factors)를 통해 확인해보는 방법도 존재\n",
    "- https://aliencoder.tistory.com/17 - VIF 설명"
   ]
  },
  {
   "cell_type": "markdown",
   "metadata": {},
   "source": [
    "# **📌 최종 데이터**\n",
    "1. **data_label_enco** : LabelEncoding 데이터프레임\n",
    "2. **data_onehot_enco** : One-Hot Encoding 데이터프레임"
   ]
  },
  {
   "cell_type": "code",
   "execution_count": 52,
   "metadata": {},
   "outputs": [
    {
     "name": "stdout",
     "output_type": "stream",
     "text": [
      "<class 'pandas.core.frame.DataFrame'>\n",
      "Index: 50572 entries, 0 to 10962\n",
      "Data columns (total 14 columns):\n",
      " #   Column  Non-Null Count  Dtype \n",
      "---  ------  --------------  ----- \n",
      " 0   ID      50572 non-null  object\n",
      " 1   요일      50572 non-null  int64 \n",
      " 2   기상상태    50572 non-null  int64 \n",
      " 3   노면상태    50572 non-null  int64 \n",
      " 4   사고유형    50572 non-null  int64 \n",
      " 5   연       50572 non-null  int64 \n",
      " 6   월       50572 non-null  int64 \n",
      " 7   일       50572 non-null  int64 \n",
      " 8   시간      50572 non-null  int64 \n",
      " 9   도시      50572 non-null  object\n",
      " 10  구       50572 non-null  int64 \n",
      " 11  동       50572 non-null  object\n",
      " 12  도로형태1   50572 non-null  int64 \n",
      " 13  도로형태2   50572 non-null  int64 \n",
      "dtypes: int64(11), object(3)\n",
      "memory usage: 5.8+ MB\n"
     ]
    }
   ],
   "source": [
    "data_label_enco.info()"
   ]
  },
  {
   "cell_type": "code",
   "execution_count": 53,
   "metadata": {},
   "outputs": [
    {
     "name": "stdout",
     "output_type": "stream",
     "text": [
      "<class 'pandas.core.frame.DataFrame'>\n",
      "Index: 50572 entries, 0 to 10962\n",
      "Data columns (total 89 columns):\n",
      " #   Column           Non-Null Count  Dtype \n",
      "---  ------           --------------  ----- \n",
      " 0   ID               50572 non-null  object\n",
      " 1   일                50572 non-null  int64 \n",
      " 2   도시               50572 non-null  object\n",
      " 3   동                50572 non-null  object\n",
      " 4   사고유형_차대사람        50572 non-null  bool  \n",
      " 5   사고유형_차대차         50572 non-null  bool  \n",
      " 6   사고유형_차량단독        50572 non-null  bool  \n",
      " 7   노면상태_건조          50572 non-null  bool  \n",
      " 8   노면상태_기타          50572 non-null  bool  \n",
      " 9   노면상태_서리/결빙       50572 non-null  bool  \n",
      " 10  노면상태_적설          50572 non-null  bool  \n",
      " 11  노면상태_젖음/습기       50572 non-null  bool  \n",
      " 12  노면상태_침수          50572 non-null  bool  \n",
      " 13  도로형태1_교차로        50572 non-null  bool  \n",
      " 14  도로형태1_기타         50572 non-null  bool  \n",
      " 15  도로형태1_단일로        50572 non-null  bool  \n",
      " 16  도로형태1_미분류        50572 non-null  bool  \n",
      " 17  도로형태1_주차장        50572 non-null  bool  \n",
      " 18  도로형태2_고가도로위      50572 non-null  bool  \n",
      " 19  도로형태2_교량         50572 non-null  bool  \n",
      " 20  도로형태2_교차로부근      50572 non-null  bool  \n",
      " 21  도로형태2_교차로안       50572 non-null  bool  \n",
      " 22  도로형태2_교차로횡단보도내   50572 non-null  bool  \n",
      " 23  도로형태2_기타         50572 non-null  bool  \n",
      " 24  도로형태2_미분류        50572 non-null  bool  \n",
      " 25  도로형태2_주차장        50572 non-null  bool  \n",
      " 26  도로형태2_지하차도(도로)내  50572 non-null  bool  \n",
      " 27  도로형태2_터널         50572 non-null  bool  \n",
      " 28  구_남구             50572 non-null  bool  \n",
      " 29  구_달서구            50572 non-null  bool  \n",
      " 30  구_달성군            50572 non-null  bool  \n",
      " 31  구_동구             50572 non-null  bool  \n",
      " 32  구_북구             50572 non-null  bool  \n",
      " 33  구_서구             50572 non-null  bool  \n",
      " 34  구_수성구            50572 non-null  bool  \n",
      " 35  구_중구             50572 non-null  bool  \n",
      " 36  연_2019           50572 non-null  bool  \n",
      " 37  연_2020           50572 non-null  bool  \n",
      " 38  연_2021           50572 non-null  bool  \n",
      " 39  연_2022           50572 non-null  bool  \n",
      " 40  월_1              50572 non-null  bool  \n",
      " 41  월_2              50572 non-null  bool  \n",
      " 42  월_3              50572 non-null  bool  \n",
      " 43  월_4              50572 non-null  bool  \n",
      " 44  월_5              50572 non-null  bool  \n",
      " 45  월_6              50572 non-null  bool  \n",
      " 46  월_7              50572 non-null  bool  \n",
      " 47  월_8              50572 non-null  bool  \n",
      " 48  월_9              50572 non-null  bool  \n",
      " 49  월_10             50572 non-null  bool  \n",
      " 50  월_11             50572 non-null  bool  \n",
      " 51  월_12             50572 non-null  bool  \n",
      " 52  시간_0             50572 non-null  bool  \n",
      " 53  시간_1             50572 non-null  bool  \n",
      " 54  시간_2             50572 non-null  bool  \n",
      " 55  시간_3             50572 non-null  bool  \n",
      " 56  시간_4             50572 non-null  bool  \n",
      " 57  시간_5             50572 non-null  bool  \n",
      " 58  시간_6             50572 non-null  bool  \n",
      " 59  시간_7             50572 non-null  bool  \n",
      " 60  시간_8             50572 non-null  bool  \n",
      " 61  시간_9             50572 non-null  bool  \n",
      " 62  시간_10            50572 non-null  bool  \n",
      " 63  시간_11            50572 non-null  bool  \n",
      " 64  시간_12            50572 non-null  bool  \n",
      " 65  시간_13            50572 non-null  bool  \n",
      " 66  시간_14            50572 non-null  bool  \n",
      " 67  시간_15            50572 non-null  bool  \n",
      " 68  시간_16            50572 non-null  bool  \n",
      " 69  시간_17            50572 non-null  bool  \n",
      " 70  시간_18            50572 non-null  bool  \n",
      " 71  시간_19            50572 non-null  bool  \n",
      " 72  시간_20            50572 non-null  bool  \n",
      " 73  시간_21            50572 non-null  bool  \n",
      " 74  시간_22            50572 non-null  bool  \n",
      " 75  시간_23            50572 non-null  bool  \n",
      " 76  요일_월요일           50572 non-null  bool  \n",
      " 77  요일_화요일           50572 non-null  bool  \n",
      " 78  요일_수요일           50572 non-null  bool  \n",
      " 79  요일_목요일           50572 non-null  bool  \n",
      " 80  요일_금요일           50572 non-null  bool  \n",
      " 81  요일_토요일           50572 non-null  bool  \n",
      " 82  요일_일요일           50572 non-null  bool  \n",
      " 83  기상상태_기타          50572 non-null  bool  \n",
      " 84  기상상태_눈           50572 non-null  bool  \n",
      " 85  기상상태_맑음          50572 non-null  bool  \n",
      " 86  기상상태_비           50572 non-null  bool  \n",
      " 87  기상상태_안개          50572 non-null  bool  \n",
      " 88  기상상태_흐림          50572 non-null  bool  \n",
      "dtypes: bool(85), int64(1), object(3)\n",
      "memory usage: 6.0+ MB\n"
     ]
    }
   ],
   "source": [
    "data_onehot_enco.info()"
   ]
  },
  {
   "cell_type": "markdown",
   "metadata": {},
   "source": [
    "# **📌 모델링**"
   ]
  },
  {
   "cell_type": "markdown",
   "metadata": {},
   "source": [
    "## **통합된 데이터 세트(data)를 다시 train과 test 세트로 분리**\n",
    "- 합쳐둔 data 날짜에 맞춰서 다시 train_new, test_new로 분리하기"
   ]
  },
  {
   "cell_type": "code",
   "execution_count": 54,
   "metadata": {},
   "outputs": [],
   "source": [
    "train_new  = data_onehot_enco[:len(train)]\n",
    "test_new = data_onehot_enco[len(train):]"
   ]
  },
  {
   "cell_type": "code",
   "execution_count": 55,
   "metadata": {
    "ExecuteTime": {
     "end_time": "2023-11-22T06:29:26.670538Z",
     "start_time": "2023-11-22T06:29:26.631810Z"
    },
    "scrolled": true
   },
   "outputs": [
    {
     "name": "stdout",
     "output_type": "stream",
     "text": [
      "<class 'pandas.core.frame.DataFrame'>\n",
      "Index: 39609 entries, 0 to 39608\n",
      "Data columns (total 89 columns):\n",
      " #   Column           Non-Null Count  Dtype \n",
      "---  ------           --------------  ----- \n",
      " 0   ID               39609 non-null  object\n",
      " 1   일                39609 non-null  int64 \n",
      " 2   도시               39609 non-null  object\n",
      " 3   동                39609 non-null  object\n",
      " 4   사고유형_차대사람        39609 non-null  bool  \n",
      " 5   사고유형_차대차         39609 non-null  bool  \n",
      " 6   사고유형_차량단독        39609 non-null  bool  \n",
      " 7   노면상태_건조          39609 non-null  bool  \n",
      " 8   노면상태_기타          39609 non-null  bool  \n",
      " 9   노면상태_서리/결빙       39609 non-null  bool  \n",
      " 10  노면상태_적설          39609 non-null  bool  \n",
      " 11  노면상태_젖음/습기       39609 non-null  bool  \n",
      " 12  노면상태_침수          39609 non-null  bool  \n",
      " 13  도로형태1_교차로        39609 non-null  bool  \n",
      " 14  도로형태1_기타         39609 non-null  bool  \n",
      " 15  도로형태1_단일로        39609 non-null  bool  \n",
      " 16  도로형태1_미분류        39609 non-null  bool  \n",
      " 17  도로형태1_주차장        39609 non-null  bool  \n",
      " 18  도로형태2_고가도로위      39609 non-null  bool  \n",
      " 19  도로형태2_교량         39609 non-null  bool  \n",
      " 20  도로형태2_교차로부근      39609 non-null  bool  \n",
      " 21  도로형태2_교차로안       39609 non-null  bool  \n",
      " 22  도로형태2_교차로횡단보도내   39609 non-null  bool  \n",
      " 23  도로형태2_기타         39609 non-null  bool  \n",
      " 24  도로형태2_미분류        39609 non-null  bool  \n",
      " 25  도로형태2_주차장        39609 non-null  bool  \n",
      " 26  도로형태2_지하차도(도로)내  39609 non-null  bool  \n",
      " 27  도로형태2_터널         39609 non-null  bool  \n",
      " 28  구_남구             39609 non-null  bool  \n",
      " 29  구_달서구            39609 non-null  bool  \n",
      " 30  구_달성군            39609 non-null  bool  \n",
      " 31  구_동구             39609 non-null  bool  \n",
      " 32  구_북구             39609 non-null  bool  \n",
      " 33  구_서구             39609 non-null  bool  \n",
      " 34  구_수성구            39609 non-null  bool  \n",
      " 35  구_중구             39609 non-null  bool  \n",
      " 36  연_2019           39609 non-null  bool  \n",
      " 37  연_2020           39609 non-null  bool  \n",
      " 38  연_2021           39609 non-null  bool  \n",
      " 39  연_2022           39609 non-null  bool  \n",
      " 40  월_1              39609 non-null  bool  \n",
      " 41  월_2              39609 non-null  bool  \n",
      " 42  월_3              39609 non-null  bool  \n",
      " 43  월_4              39609 non-null  bool  \n",
      " 44  월_5              39609 non-null  bool  \n",
      " 45  월_6              39609 non-null  bool  \n",
      " 46  월_7              39609 non-null  bool  \n",
      " 47  월_8              39609 non-null  bool  \n",
      " 48  월_9              39609 non-null  bool  \n",
      " 49  월_10             39609 non-null  bool  \n",
      " 50  월_11             39609 non-null  bool  \n",
      " 51  월_12             39609 non-null  bool  \n",
      " 52  시간_0             39609 non-null  bool  \n",
      " 53  시간_1             39609 non-null  bool  \n",
      " 54  시간_2             39609 non-null  bool  \n",
      " 55  시간_3             39609 non-null  bool  \n",
      " 56  시간_4             39609 non-null  bool  \n",
      " 57  시간_5             39609 non-null  bool  \n",
      " 58  시간_6             39609 non-null  bool  \n",
      " 59  시간_7             39609 non-null  bool  \n",
      " 60  시간_8             39609 non-null  bool  \n",
      " 61  시간_9             39609 non-null  bool  \n",
      " 62  시간_10            39609 non-null  bool  \n",
      " 63  시간_11            39609 non-null  bool  \n",
      " 64  시간_12            39609 non-null  bool  \n",
      " 65  시간_13            39609 non-null  bool  \n",
      " 66  시간_14            39609 non-null  bool  \n",
      " 67  시간_15            39609 non-null  bool  \n",
      " 68  시간_16            39609 non-null  bool  \n",
      " 69  시간_17            39609 non-null  bool  \n",
      " 70  시간_18            39609 non-null  bool  \n",
      " 71  시간_19            39609 non-null  bool  \n",
      " 72  시간_20            39609 non-null  bool  \n",
      " 73  시간_21            39609 non-null  bool  \n",
      " 74  시간_22            39609 non-null  bool  \n",
      " 75  시간_23            39609 non-null  bool  \n",
      " 76  요일_월요일           39609 non-null  bool  \n",
      " 77  요일_화요일           39609 non-null  bool  \n",
      " 78  요일_수요일           39609 non-null  bool  \n",
      " 79  요일_목요일           39609 non-null  bool  \n",
      " 80  요일_금요일           39609 non-null  bool  \n",
      " 81  요일_토요일           39609 non-null  bool  \n",
      " 82  요일_일요일           39609 non-null  bool  \n",
      " 83  기상상태_기타          39609 non-null  bool  \n",
      " 84  기상상태_눈           39609 non-null  bool  \n",
      " 85  기상상태_맑음          39609 non-null  bool  \n",
      " 86  기상상태_비           39609 non-null  bool  \n",
      " 87  기상상태_안개          39609 non-null  bool  \n",
      " 88  기상상태_흐림          39609 non-null  bool  \n",
      "dtypes: bool(85), int64(1), object(3)\n",
      "memory usage: 4.7+ MB\n"
     ]
    }
   ],
   "source": [
    "train_new.info()"
   ]
  },
  {
   "cell_type": "code",
   "execution_count": 56,
   "metadata": {
    "ExecuteTime": {
     "end_time": "2023-11-22T06:29:43.173775Z",
     "start_time": "2023-11-22T06:29:43.120221Z"
    },
    "scrolled": true
   },
   "outputs": [
    {
     "name": "stdout",
     "output_type": "stream",
     "text": [
      "<class 'pandas.core.frame.DataFrame'>\n",
      "Index: 10963 entries, 0 to 10962\n",
      "Data columns (total 89 columns):\n",
      " #   Column           Non-Null Count  Dtype \n",
      "---  ------           --------------  ----- \n",
      " 0   ID               10963 non-null  object\n",
      " 1   일                10963 non-null  int64 \n",
      " 2   도시               10963 non-null  object\n",
      " 3   동                10963 non-null  object\n",
      " 4   사고유형_차대사람        10963 non-null  bool  \n",
      " 5   사고유형_차대차         10963 non-null  bool  \n",
      " 6   사고유형_차량단독        10963 non-null  bool  \n",
      " 7   노면상태_건조          10963 non-null  bool  \n",
      " 8   노면상태_기타          10963 non-null  bool  \n",
      " 9   노면상태_서리/결빙       10963 non-null  bool  \n",
      " 10  노면상태_적설          10963 non-null  bool  \n",
      " 11  노면상태_젖음/습기       10963 non-null  bool  \n",
      " 12  노면상태_침수          10963 non-null  bool  \n",
      " 13  도로형태1_교차로        10963 non-null  bool  \n",
      " 14  도로형태1_기타         10963 non-null  bool  \n",
      " 15  도로형태1_단일로        10963 non-null  bool  \n",
      " 16  도로형태1_미분류        10963 non-null  bool  \n",
      " 17  도로형태1_주차장        10963 non-null  bool  \n",
      " 18  도로형태2_고가도로위      10963 non-null  bool  \n",
      " 19  도로형태2_교량         10963 non-null  bool  \n",
      " 20  도로형태2_교차로부근      10963 non-null  bool  \n",
      " 21  도로형태2_교차로안       10963 non-null  bool  \n",
      " 22  도로형태2_교차로횡단보도내   10963 non-null  bool  \n",
      " 23  도로형태2_기타         10963 non-null  bool  \n",
      " 24  도로형태2_미분류        10963 non-null  bool  \n",
      " 25  도로형태2_주차장        10963 non-null  bool  \n",
      " 26  도로형태2_지하차도(도로)내  10963 non-null  bool  \n",
      " 27  도로형태2_터널         10963 non-null  bool  \n",
      " 28  구_남구             10963 non-null  bool  \n",
      " 29  구_달서구            10963 non-null  bool  \n",
      " 30  구_달성군            10963 non-null  bool  \n",
      " 31  구_동구             10963 non-null  bool  \n",
      " 32  구_북구             10963 non-null  bool  \n",
      " 33  구_서구             10963 non-null  bool  \n",
      " 34  구_수성구            10963 non-null  bool  \n",
      " 35  구_중구             10963 non-null  bool  \n",
      " 36  연_2019           10963 non-null  bool  \n",
      " 37  연_2020           10963 non-null  bool  \n",
      " 38  연_2021           10963 non-null  bool  \n",
      " 39  연_2022           10963 non-null  bool  \n",
      " 40  월_1              10963 non-null  bool  \n",
      " 41  월_2              10963 non-null  bool  \n",
      " 42  월_3              10963 non-null  bool  \n",
      " 43  월_4              10963 non-null  bool  \n",
      " 44  월_5              10963 non-null  bool  \n",
      " 45  월_6              10963 non-null  bool  \n",
      " 46  월_7              10963 non-null  bool  \n",
      " 47  월_8              10963 non-null  bool  \n",
      " 48  월_9              10963 non-null  bool  \n",
      " 49  월_10             10963 non-null  bool  \n",
      " 50  월_11             10963 non-null  bool  \n",
      " 51  월_12             10963 non-null  bool  \n",
      " 52  시간_0             10963 non-null  bool  \n",
      " 53  시간_1             10963 non-null  bool  \n",
      " 54  시간_2             10963 non-null  bool  \n",
      " 55  시간_3             10963 non-null  bool  \n",
      " 56  시간_4             10963 non-null  bool  \n",
      " 57  시간_5             10963 non-null  bool  \n",
      " 58  시간_6             10963 non-null  bool  \n",
      " 59  시간_7             10963 non-null  bool  \n",
      " 60  시간_8             10963 non-null  bool  \n",
      " 61  시간_9             10963 non-null  bool  \n",
      " 62  시간_10            10963 non-null  bool  \n",
      " 63  시간_11            10963 non-null  bool  \n",
      " 64  시간_12            10963 non-null  bool  \n",
      " 65  시간_13            10963 non-null  bool  \n",
      " 66  시간_14            10963 non-null  bool  \n",
      " 67  시간_15            10963 non-null  bool  \n",
      " 68  시간_16            10963 non-null  bool  \n",
      " 69  시간_17            10963 non-null  bool  \n",
      " 70  시간_18            10963 non-null  bool  \n",
      " 71  시간_19            10963 non-null  bool  \n",
      " 72  시간_20            10963 non-null  bool  \n",
      " 73  시간_21            10963 non-null  bool  \n",
      " 74  시간_22            10963 non-null  bool  \n",
      " 75  시간_23            10963 non-null  bool  \n",
      " 76  요일_월요일           10963 non-null  bool  \n",
      " 77  요일_화요일           10963 non-null  bool  \n",
      " 78  요일_수요일           10963 non-null  bool  \n",
      " 79  요일_목요일           10963 non-null  bool  \n",
      " 80  요일_금요일           10963 non-null  bool  \n",
      " 81  요일_토요일           10963 non-null  bool  \n",
      " 82  요일_일요일           10963 non-null  bool  \n",
      " 83  기상상태_기타          10963 non-null  bool  \n",
      " 84  기상상태_눈           10963 non-null  bool  \n",
      " 85  기상상태_맑음          10963 non-null  bool  \n",
      " 86  기상상태_비           10963 non-null  bool  \n",
      " 87  기상상태_안개          10963 non-null  bool  \n",
      " 88  기상상태_흐림          10963 non-null  bool  \n",
      "dtypes: bool(85), int64(1), object(3)\n",
      "memory usage: 1.3+ MB\n"
     ]
    }
   ],
   "source": [
    "test_new.info()"
   ]
  },
  {
   "cell_type": "markdown",
   "metadata": {},
   "source": [
    "### (참고) 데이터 분할\n",
    "\n",
    "- 주어진 데이터셋이 이미 훈련용(train)과 테스트용(test)으로 나뉘어져 있으므로 train_test_split 함수를 사용하여 데이터를 분할할 필요 없음!\n",
    "- 그렇지만, 훈련데이터를 더 작은 훈련 세트(train set)와 검증 세트(validation set)로 나누는 것은 필요함.\n",
    "> - train data set의 피쳐를 X, 타겟을 y로 분리\n",
    "> - train data set를 훈련(train)과 검증(valid)로 나눈다.\n",
    "> - train:valid= 7:3 로 나누어 본다\n",
    ">> - 훈련 세트(train set): 모델을 훈련하는 데 사용됩니다.\n",
    ">> - 검증 세트(validation set): 모델을 튜닝하고 성능을 평가하는 데 사용됩니다. 이를 통해 모델이 훈련 데이터에 과적합되지 않고 다른 데이터에 대해서도 일반화될 수 있는지 확인할 수 있습니다.\n",
    "> - 대회에서는 주어진 테스트 데이터가 숨겨져 있으므로 모델을 평가하려면 모델의 예측을 검증 세트에 대해 평가하고, 최종적으로는 테스트 데이터에 대한 예측을 제출해야 합니다."
   ]
  },
  {
   "cell_type": "code",
   "execution_count": 57,
   "metadata": {},
   "outputs": [],
   "source": [
    "# from sklearn.model_selection import train_test_split \n",
    "# X_test1= train_new.drop('ID', axis=1)\n",
    "# y_test1= train['ECLO']"
   ]
  },
  {
   "cell_type": "code",
   "execution_count": 58,
   "metadata": {},
   "outputs": [],
   "source": [
    "# # train data set를 train과 validation data set로 나누기\n",
    "# X_train, X_valid, y_train, y_valid = train_test_split(X_test1, y_test1, test_size=0.3, random_state=0)"
   ]
  },
  {
   "cell_type": "code",
   "execution_count": 59,
   "metadata": {},
   "outputs": [],
   "source": [
    "# # 데이터 사이즈 확인\n",
    "# print(\"Size of X_train is:{}\\nSize of y_train is:{}\\nSize of X_valid is:{}\\nSize of Y_valid is:{}\\n\".format(\n",
    "#     X_train.shape,y_train.shape,X_valid.shape,y_valid.shape))"
   ]
  },
  {
   "cell_type": "markdown",
   "metadata": {
    "jp-MarkdownHeadingCollapsed": true
   },
   "source": [
    "## **피처에 대한 모델링 진행 방법**\n",
    "- 아래 방법 중 원하는 방법으로 사용\n",
    "1. 모든 columns (features) 사용하기 (ID, 도시, 동 제외한 모든 columns)\n",
    "2. 학습시킬 column (feature) 선택적으로 사용하기\n",
    "3. 참고사항 (RMSLE 함수, Submission 형식)"
   ]
  },
  {
   "cell_type": "markdown",
   "metadata": {},
   "source": [
    "### **1. 모든 columns (features) 사용하기**"
   ]
  },
  {
   "cell_type": "code",
   "execution_count": 60,
   "metadata": {},
   "outputs": [],
   "source": [
    "# # ID, 도시, 동 제외한 모든 컬럼\n",
    "# X_test = test_new.drop(columns=['ID','도시','동']).copy()\n",
    "# X_train = train_new[X_test.columns].copy()"
   ]
  },
  {
   "cell_type": "code",
   "execution_count": 61,
   "metadata": {},
   "outputs": [],
   "source": [
    "# y_train = train['ECLO'].copy()"
   ]
  },
  {
   "cell_type": "markdown",
   "metadata": {},
   "source": [
    "### **2. 학습시킬 column (feature) 선택적으로 사용하기**"
   ]
  },
  {
   "cell_type": "code",
   "execution_count": 62,
   "metadata": {
    "ExecuteTime": {
     "end_time": "2023-11-22T06:27:05.039883Z",
     "start_time": "2023-11-22T06:27:05.039877Z"
    }
   },
   "outputs": [],
   "source": [
    "# # 예측에 넣을 feature 추가하기\n",
    "# feature =['요일','기상상태','노면상태','사고유형','연','월','시간',,,,,,] "
   ]
  },
  {
   "cell_type": "code",
   "execution_count": 63,
   "metadata": {},
   "outputs": [],
   "source": [
    "# X_train = train_new[feature]\n",
    "# X_test = test_new[feature]"
   ]
  },
  {
   "cell_type": "code",
   "execution_count": 64,
   "metadata": {},
   "outputs": [],
   "source": [
    "# y_train = train['ECLO'].copy()"
   ]
  },
  {
   "cell_type": "markdown",
   "metadata": {},
   "source": [
    "### **3. 참고 사항**"
   ]
  },
  {
   "cell_type": "markdown",
   "metadata": {},
   "source": [
    "- 변수 이름 선택한 모델명으로 설정하기!!!"
   ]
  },
  {
   "cell_type": "code",
   "execution_count": 65,
   "metadata": {
    "ExecuteTime": {
     "end_time": "2023-11-22T06:33:20.417566Z",
     "start_time": "2023-11-22T06:33:20.394967Z"
    }
   },
   "outputs": [],
   "source": [
    "# 예시\n",
    "\n",
    "# from sklearn.tree import DecisionTreeRegressor\n",
    "# dtr = DecisionTreeRegressor()\n",
    "# dtr.fit(X_train, y_train)\n",
    "\n",
    "# prediction_dtr= dtr.predict(X_test)\n",
    "# prediction_dtr"
   ]
  },
  {
   "cell_type": "markdown",
   "metadata": {},
   "source": [
    "- 평가함수 (RMSLE)\n",
    "  - 리더보드 제출 전 RMSLE 점수 계산해볼 수 있는 코드입니다. 실제 점수와는 조금 다를수 있어요!"
   ]
  },
  {
   "cell_type": "code",
   "execution_count": 66,
   "metadata": {},
   "outputs": [],
   "source": [
    "# from sklearn.metrics import mean_squared_log_error\n",
    "# # RMSLE 계산\n",
    "# rmsle = mean_squared_log_error(y_test, y_pred, squared=False)\n",
    "\n",
    "# # 결과 출력\n",
    "# print(f'RMSLE: {rmsle}')"
   ]
  },
  {
   "cell_type": "code",
   "execution_count": 67,
   "metadata": {},
   "outputs": [],
   "source": [
    "# import numpy as np\n",
    "# from sklearn.metrics import make_scorer\n",
    "\n",
    "# def rmsle(predict, actual):\n",
    "#     log_predict= np.log(predict +1)\n",
    "#     log_actual = np.log(actual+1)\n",
    "    \n",
    "#     difference = log_predict - log_actual\n",
    "#     difference = np.square(difference)\n",
    "    \n",
    "#     mean_difference = difference.mean()\n",
    "    \n",
    "#     score = np.sqrt(mean_difference)\n",
    "    \n",
    "#     return score\n",
    "\n",
    "# rmsle_score = make_scorer(rmsle)"
   ]
  },
  {
   "cell_type": "code",
   "execution_count": 68,
   "metadata": {},
   "outputs": [],
   "source": [
    "# from sklearn.model_selection import cross_val_score\n",
    "\n",
    "# score = cross_val_score(model , X_train, y_train, cv =5, \n",
    "#                         scoring=rmsle_score).mean()\n",
    "\n",
    "# print('현재 점수는 {0:.5f}'.format(score))"
   ]
  },
  {
   "cell_type": "markdown",
   "metadata": {},
   "source": [
    "- Submission\n",
    "  - 형식 복붙해서 사용하시는 모델에 맞춰서 저장해주세요!"
   ]
  },
  {
   "cell_type": "code",
   "execution_count": 69,
   "metadata": {},
   "outputs": [],
   "source": [
    "# A (A or B choose)"
   ]
  },
  {
   "cell_type": "code",
   "execution_count": 70,
   "metadata": {},
   "outputs": [],
   "source": [
    "# sample_submission = pd.read_csv('open/sample_submission.csv')\n",
    "# sample_submission"
   ]
  },
  {
   "cell_type": "code",
   "execution_count": 71,
   "metadata": {},
   "outputs": [],
   "source": [
    "# B (A or B choose)"
   ]
  },
  {
   "cell_type": "code",
   "execution_count": 72,
   "metadata": {},
   "outputs": [],
   "source": [
    "# sample_submission = pd.read_csv('open/sample_submission.csv', index_col=0)\n",
    "# sample_submission"
   ]
  },
  {
   "cell_type": "code",
   "execution_count": 73,
   "metadata": {},
   "outputs": [],
   "source": [
    "# prediction_모델이름"
   ]
  },
  {
   "cell_type": "code",
   "execution_count": 74,
   "metadata": {},
   "outputs": [],
   "source": [
    "# 모델이름_submission = sample_submission.copy()\n",
    "# 모델이름_submission['ECLO'] = prediction_모델이름\n",
    "# 모델이름_submission"
   ]
  },
  {
   "cell_type": "code",
   "execution_count": 75,
   "metadata": {},
   "outputs": [],
   "source": [
    "# 모델이름_submission.to_csv('모델이름_submission.csv')"
   ]
  },
  {
   "cell_type": "markdown",
   "metadata": {},
   "source": [
    "## **🟣 모델링 진행 (검증)**"
   ]
  },
  {
   "cell_type": "markdown",
   "metadata": {},
   "source": [
    "- 선택한 모델로 test 결과 저장하기\n",
    "- 검증 데이터세트의 정확도가 높은 모델을 채택!"
   ]
  },
  {
   "cell_type": "markdown",
   "metadata": {
    "jp-MarkdownHeadingCollapsed": true
   },
   "source": [
    "### **LightGBM - 검증**\n",
    "- RMSLE: 0.466, RMSE: 3.133, MAE: 2.158"
   ]
  },
  {
   "cell_type": "markdown",
   "metadata": {},
   "source": [
    "- Packages"
   ]
  },
  {
   "cell_type": "code",
   "execution_count": 76,
   "metadata": {
    "scrolled": true
   },
   "outputs": [],
   "source": [
    "import lightgbm as lgb\n",
    "from sklearn.model_selection import train_test_split\n",
    "from sklearn.metrics import mean_squared_error"
   ]
  },
  {
   "cell_type": "markdown",
   "metadata": {},
   "source": [
    "- 데이터 준비 (train data를 train,val 로 나누기)"
   ]
  },
  {
   "cell_type": "code",
   "execution_count": 77,
   "metadata": {
    "scrolled": true
   },
   "outputs": [],
   "source": [
    "# 훈련 데이터에서 목표 변수 추출\n",
    "target_column = \"ECLO\"\n",
    "y_train = train[target_column]\n",
    "\n",
    "# 훈련 데이터에서 불필요한 열 제거\n",
    "features = train_new.drop([\"ID\", \"도시\", \"동\"], axis=1)\n",
    "\n",
    "# 데이터 분할\n",
    "X_train, X_val, y_train, y_val = train_test_split(features, y_train, test_size=0.3)"
   ]
  },
  {
   "cell_type": "markdown",
   "metadata": {},
   "source": [
    "- LightGBM 학습"
   ]
  },
  {
   "cell_type": "code",
   "execution_count": 78,
   "metadata": {},
   "outputs": [
    {
     "data": {
      "text/html": [
       "<style>#sk-container-id-3 {color: black;}#sk-container-id-3 pre{padding: 0;}#sk-container-id-3 div.sk-toggleable {background-color: white;}#sk-container-id-3 label.sk-toggleable__label {cursor: pointer;display: block;width: 100%;margin-bottom: 0;padding: 0.3em;box-sizing: border-box;text-align: center;}#sk-container-id-3 label.sk-toggleable__label-arrow:before {content: \"▸\";float: left;margin-right: 0.25em;color: #696969;}#sk-container-id-3 label.sk-toggleable__label-arrow:hover:before {color: black;}#sk-container-id-3 div.sk-estimator:hover label.sk-toggleable__label-arrow:before {color: black;}#sk-container-id-3 div.sk-toggleable__content {max-height: 0;max-width: 0;overflow: hidden;text-align: left;background-color: #f0f8ff;}#sk-container-id-3 div.sk-toggleable__content pre {margin: 0.2em;color: black;border-radius: 0.25em;background-color: #f0f8ff;}#sk-container-id-3 input.sk-toggleable__control:checked~div.sk-toggleable__content {max-height: 200px;max-width: 100%;overflow: auto;}#sk-container-id-3 input.sk-toggleable__control:checked~label.sk-toggleable__label-arrow:before {content: \"▾\";}#sk-container-id-3 div.sk-estimator input.sk-toggleable__control:checked~label.sk-toggleable__label {background-color: #d4ebff;}#sk-container-id-3 div.sk-label input.sk-toggleable__control:checked~label.sk-toggleable__label {background-color: #d4ebff;}#sk-container-id-3 input.sk-hidden--visually {border: 0;clip: rect(1px 1px 1px 1px);clip: rect(1px, 1px, 1px, 1px);height: 1px;margin: -1px;overflow: hidden;padding: 0;position: absolute;width: 1px;}#sk-container-id-3 div.sk-estimator {font-family: monospace;background-color: #f0f8ff;border: 1px dotted black;border-radius: 0.25em;box-sizing: border-box;margin-bottom: 0.5em;}#sk-container-id-3 div.sk-estimator:hover {background-color: #d4ebff;}#sk-container-id-3 div.sk-parallel-item::after {content: \"\";width: 100%;border-bottom: 1px solid gray;flex-grow: 1;}#sk-container-id-3 div.sk-label:hover label.sk-toggleable__label {background-color: #d4ebff;}#sk-container-id-3 div.sk-serial::before {content: \"\";position: absolute;border-left: 1px solid gray;box-sizing: border-box;top: 0;bottom: 0;left: 50%;z-index: 0;}#sk-container-id-3 div.sk-serial {display: flex;flex-direction: column;align-items: center;background-color: white;padding-right: 0.2em;padding-left: 0.2em;position: relative;}#sk-container-id-3 div.sk-item {position: relative;z-index: 1;}#sk-container-id-3 div.sk-parallel {display: flex;align-items: stretch;justify-content: center;background-color: white;position: relative;}#sk-container-id-3 div.sk-item::before, #sk-container-id-3 div.sk-parallel-item::before {content: \"\";position: absolute;border-left: 1px solid gray;box-sizing: border-box;top: 0;bottom: 0;left: 50%;z-index: -1;}#sk-container-id-3 div.sk-parallel-item {display: flex;flex-direction: column;z-index: 1;position: relative;background-color: white;}#sk-container-id-3 div.sk-parallel-item:first-child::after {align-self: flex-end;width: 50%;}#sk-container-id-3 div.sk-parallel-item:last-child::after {align-self: flex-start;width: 50%;}#sk-container-id-3 div.sk-parallel-item:only-child::after {width: 0;}#sk-container-id-3 div.sk-dashed-wrapped {border: 1px dashed gray;margin: 0 0.4em 0.5em 0.4em;box-sizing: border-box;padding-bottom: 0.4em;background-color: white;}#sk-container-id-3 div.sk-label label {font-family: monospace;font-weight: bold;display: inline-block;line-height: 1.2em;}#sk-container-id-3 div.sk-label-container {text-align: center;}#sk-container-id-3 div.sk-container {/* jupyter's `normalize.less` sets `[hidden] { display: none; }` but bootstrap.min.css set `[hidden] { display: none !important; }` so we also need the `!important` here to be able to override the default hidden behavior on the sphinx rendered scikit-learn.org. See: https://github.com/scikit-learn/scikit-learn/issues/21755 */display: inline-block !important;position: relative;}#sk-container-id-3 div.sk-text-repr-fallback {display: none;}</style><div id=\"sk-container-id-3\" class=\"sk-top-container\"><div class=\"sk-text-repr-fallback\"><pre>LGBMRegressor()</pre><b>In a Jupyter environment, please rerun this cell to show the HTML representation or trust the notebook. <br />On GitHub, the HTML representation is unable to render, please try loading this page with nbviewer.org.</b></div><div class=\"sk-container\" hidden><div class=\"sk-item\"><div class=\"sk-estimator sk-toggleable\"><input class=\"sk-toggleable__control sk-hidden--visually\" id=\"sk-estimator-id-3\" type=\"checkbox\" checked><label for=\"sk-estimator-id-3\" class=\"sk-toggleable__label sk-toggleable__label-arrow\">LGBMRegressor</label><div class=\"sk-toggleable__content\"><pre>LGBMRegressor()</pre></div></div></div></div></div>"
      ],
      "text/plain": [
       "LGBMRegressor()"
      ]
     },
     "execution_count": 78,
     "metadata": {},
     "output_type": "execute_result"
    }
   ],
   "source": [
    "lgbm = lgb.LGBMRegressor()\n",
    "lgbm.fit(X_train, y_train)"
   ]
  },
  {
   "cell_type": "markdown",
   "metadata": {},
   "source": [
    "- 예측"
   ]
  },
  {
   "cell_type": "code",
   "execution_count": 79,
   "metadata": {},
   "outputs": [],
   "source": [
    "pred_lgbm = lgbm.predict(X_val)"
   ]
  },
  {
   "cell_type": "markdown",
   "metadata": {},
   "source": [
    "- 평가"
   ]
  },
  {
   "cell_type": "code",
   "execution_count": 80,
   "metadata": {},
   "outputs": [],
   "source": [
    "from sklearn.metrics import mean_squared_error,mean_absolute_error\n",
    "#  1. RMSLE 작성\n",
    "def rmsle(pred, actual):\n",
    "    log_pred = np.log1p(pred) \n",
    "    log_actual = np.log1p(actual)\n",
    "    squared_error = (log_pred-log_actual)**2   \n",
    "    rmsle = np.sqrt(np.mean(squared_error))\n",
    "    return rmsle\n",
    "#  2. RMSE 작성\n",
    "def rmse(pred, actual):\n",
    "    return np.sqrt(mean_squared_error(pred, actual))\n",
    "#  3. MAE 작성\n",
    "def mae(pred, actual):\n",
    "    return mean_absolute_error(pred, actual)"
   ]
  },
  {
   "cell_type": "code",
   "execution_count": 81,
   "metadata": {},
   "outputs": [],
   "source": [
    "def evaluate_regr(pred, actual):\n",
    "    rmsle_val=rmsle(pred, actual)\n",
    "    rmsl_val=rmse(pred, actual)\n",
    "    mae_val=mae(pred, actual)\n",
    "    print('RMSLE: {:.3f}, RMSE: {:.3f}, MAE: {:.3f}'.format(rmsle_val, rmsl_val, mae_val))"
   ]
  },
  {
   "cell_type": "code",
   "execution_count": 82,
   "metadata": {},
   "outputs": [
    {
     "name": "stdout",
     "output_type": "stream",
     "text": [
      "RMSLE: 0.466, RMSE: 3.133, MAE: 2.158\n"
     ]
    }
   ],
   "source": [
    "evaluate_regr(pred_lgbm, y_val)"
   ]
  },
  {
   "cell_type": "markdown",
   "metadata": {
    "jp-MarkdownHeadingCollapsed": true
   },
   "source": [
    "### **LightGBM - 최적의 하이퍼파라미터 찾기 (Grid Search)**\n",
    "- RMSLE: 0.453, RMSE: 3.092, MAE: 2.107"
   ]
  },
  {
   "cell_type": "code",
   "execution_count": 83,
   "metadata": {},
   "outputs": [],
   "source": [
    "# from sklearn.model_selection import GridSearchCV"
   ]
  },
  {
   "cell_type": "code",
   "execution_count": 84,
   "metadata": {},
   "outputs": [],
   "source": [
    "# # Hyperparameter Grid 정의 - 각 parmas의 주요 range 에서 초기 범위 적용\n",
    "# param_grid = {\n",
    "#     'num_leaves': [20, 30, 40],             # Typical : 20~100\n",
    "#     'learning_rate': [0.005, 0.01, 0.1],    # Typical : 0.005 ~ 0.2\n",
    "#     'n_estimators': [50, 100, 200],         # Typical : 50 ~ 1000\n",
    "#     'max_depth': [5, 10, 15],               # Typical 3 ~ 15\n",
    "#     'feature_fraction' : [0.5, 0.75, 1]     # Typical 0.5 ~ 1\n",
    "# }"
   ]
  },
  {
   "cell_type": "code",
   "execution_count": 85,
   "metadata": {},
   "outputs": [],
   "source": [
    "# # LGBM 모델 생성\n",
    "# lgbm = lgb.LGBMRegressor()"
   ]
  },
  {
   "cell_type": "code",
   "execution_count": 86,
   "metadata": {},
   "outputs": [],
   "source": [
    "# # GridSearchCV 객체 생성\n",
    "# grid_search = GridSearchCV(estimator=lgbm, param_grid=param_grid, scoring='neg_mean_squared_error', cv=3)"
   ]
  },
  {
   "cell_type": "code",
   "execution_count": 87,
   "metadata": {
    "scrolled": true
   },
   "outputs": [],
   "source": [
    "# # 데이터에 grid_search 적용\n",
    "# grid_search.fit(X_train, y_train)"
   ]
  },
  {
   "cell_type": "code",
   "execution_count": 88,
   "metadata": {},
   "outputs": [],
   "source": [
    "# # best hyperparameters 는?\n",
    "# print(\"Best Hyperparameters:\", grid_search.best_params_)"
   ]
  },
  {
   "cell_type": "code",
   "execution_count": 89,
   "metadata": {},
   "outputs": [],
   "source": [
    "# # model 에 적용 \n",
    "# best_model = grid_search.best_estimator_"
   ]
  },
  {
   "cell_type": "code",
   "execution_count": 90,
   "metadata": {},
   "outputs": [],
   "source": [
    "# print(\"Best \bModels:\", best_model)"
   ]
  },
  {
   "cell_type": "code",
   "execution_count": 91,
   "metadata": {},
   "outputs": [],
   "source": [
    "# # 예측 \n",
    "# pred_grid = best_model.predict(X_val)"
   ]
  },
  {
   "cell_type": "code",
   "execution_count": 92,
   "metadata": {},
   "outputs": [],
   "source": [
    "# # 평가 함수 (1)\n",
    "# from sklearn.metrics import mean_squared_error,mean_absolute_error\n",
    "# #  1. RMSLE 작성\n",
    "# def rmsle(pred, actual):\n",
    "#     log_pred = np.log1p(pred) \n",
    "#     log_actual = np.log1p(actual)\n",
    "#     squared_error = (log_pred-log_actual)**2   \n",
    "#     rmsle = np.sqrt(np.mean(squared_error))\n",
    "#     return rmsle\n",
    "# #  2. RMSE 작성\n",
    "# def rmse(pred, actual):\n",
    "#     return np.sqrt(mean_squared_error(pred, actual))\n",
    "# #  3. MAE 작성\n",
    "# def mae(pred, actual):\n",
    "#     return mean_absolute_error(pred, actual)"
   ]
  },
  {
   "cell_type": "code",
   "execution_count": 93,
   "metadata": {},
   "outputs": [],
   "source": [
    "# # 평가 함수 (2)\n",
    "# def evaluate_regr(pred, actual):\n",
    "#     rmsle_val=rmsle(pred, actual)\n",
    "#     rmsl_val=rmse(pred, actual)\n",
    "#     mae_val=mae(pred, actual)\n",
    "#     print('RMSLE: {:.3f}, RMSE: {:.3f}, MAE: {:.3f}'.format(rmsle_val, rmsl_val, mae_val))"
   ]
  },
  {
   "cell_type": "code",
   "execution_count": 94,
   "metadata": {},
   "outputs": [],
   "source": [
    "# # 평가\n",
    "# evaluate_regr(pred_grid, y_val)"
   ]
  },
  {
   "cell_type": "markdown",
   "metadata": {
    "jp-MarkdownHeadingCollapsed": true
   },
   "source": [
    "### **LightGBM - 최적의 하이퍼파라미터 찾기 (Randomized Search)**\n",
    "- RMSLE: 0.445, RMSE: 3.035, MAE: 2.071"
   ]
  },
  {
   "cell_type": "code",
   "execution_count": 95,
   "metadata": {},
   "outputs": [],
   "source": [
    "# from sklearn.model_selection import RandomizedSearchCV\n",
    "# from scipy.stats import uniform, randint"
   ]
  },
  {
   "cell_type": "code",
   "execution_count": 96,
   "metadata": {},
   "outputs": [],
   "source": [
    "# # Hyperparameter Distributions 정의 - 각 parmas의 주요 range 에서 최소/최대값 적용 \n",
    "# param_dist = {\n",
    "#     'num_leaves': randint(20, 100),          # Typical : 20~100\n",
    "#     'learning_rate': uniform(0.005, 0.2),    # Typical : 0.005 ~ 0.2\n",
    "#     'n_estimators': randint(50, 1000),       # Typical : 50 ~ 1000\n",
    "#     'max_depth': randint(3, 15),             # Typical 3 ~ 15\n",
    "# }"
   ]
  },
  {
   "cell_type": "code",
   "execution_count": 97,
   "metadata": {},
   "outputs": [],
   "source": [
    "# # LGBM 모델 생성\n",
    "# lgbm = lgb.LGBMRegressor()"
   ]
  },
  {
   "cell_type": "code",
   "execution_count": 98,
   "metadata": {},
   "outputs": [],
   "source": [
    "# # \bRandomizedSearch CV 객체 생성\n",
    "# random_search = RandomizedSearchCV(estimator=lgbm, param_distributions=param_dist, scoring='neg_mean_squared_error', n_iter=10, cv=3)"
   ]
  },
  {
   "cell_type": "code",
   "execution_count": 99,
   "metadata": {},
   "outputs": [],
   "source": [
    "# # 데이터에 random_search 적용\n",
    "# random_search.fit(X_train, y_train)"
   ]
  },
  {
   "cell_type": "code",
   "execution_count": 100,
   "metadata": {},
   "outputs": [],
   "source": [
    "# # best hyperparameters 는?\n",
    "# print(\"Best Hyperparameters:\", random_search.best_params_)"
   ]
  },
  {
   "cell_type": "code",
   "execution_count": 101,
   "metadata": {},
   "outputs": [],
   "source": [
    "# # model 에 적용 \n",
    "# best_model = random_search.best_estimator_"
   ]
  },
  {
   "cell_type": "code",
   "execution_count": 102,
   "metadata": {},
   "outputs": [],
   "source": [
    "# print(\"Best \bModels:\", best_model)"
   ]
  },
  {
   "cell_type": "code",
   "execution_count": 103,
   "metadata": {},
   "outputs": [],
   "source": [
    "# # 예측 \n",
    "# pred_random = best_model.predict(X_val)"
   ]
  },
  {
   "cell_type": "code",
   "execution_count": 104,
   "metadata": {},
   "outputs": [],
   "source": [
    "# # 평가\n",
    "# evaluate_regr(pred_random, y_val)"
   ]
  },
  {
   "cell_type": "markdown",
   "metadata": {},
   "source": [
    "## **🟣 원본 데이터에 모델 적용 (Randomized Search Hyperparams 사용)**\n",
    "- Best Hyperparameters: {'learning_rate': 0.056307085566180866, 'max_depth': 10, 'n_estimators': 131, 'num_leaves': 43}"
   ]
  },
  {
   "cell_type": "markdown",
   "metadata": {},
   "source": [
    "- 데이터 준비"
   ]
  },
  {
   "cell_type": "code",
   "execution_count": 105,
   "metadata": {},
   "outputs": [],
   "source": [
    "# 예측에 모든 컬럼 사용하는 법.\n",
    "X_test = test_new.drop(columns=['ID','도시','동']).copy()\n",
    "X_train = train_new[X_test.columns].copy()"
   ]
  },
  {
   "cell_type": "code",
   "execution_count": 106,
   "metadata": {},
   "outputs": [],
   "source": [
    "y_train = train['ECLO'].copy()"
   ]
  },
  {
   "cell_type": "code",
   "execution_count": 107,
   "metadata": {
    "scrolled": true
   },
   "outputs": [
    {
     "data": {
      "text/html": [
       "<div>\n",
       "<style scoped>\n",
       "    .dataframe tbody tr th:only-of-type {\n",
       "        vertical-align: middle;\n",
       "    }\n",
       "\n",
       "    .dataframe tbody tr th {\n",
       "        vertical-align: top;\n",
       "    }\n",
       "\n",
       "    .dataframe thead th {\n",
       "        text-align: right;\n",
       "    }\n",
       "</style>\n",
       "<table border=\"1\" class=\"dataframe\">\n",
       "  <thead>\n",
       "    <tr style=\"text-align: right;\">\n",
       "      <th></th>\n",
       "      <th>ECLO</th>\n",
       "    </tr>\n",
       "    <tr>\n",
       "      <th>ID</th>\n",
       "      <th></th>\n",
       "    </tr>\n",
       "  </thead>\n",
       "  <tbody>\n",
       "    <tr>\n",
       "      <th>ACCIDENT_39609</th>\n",
       "      <td>0</td>\n",
       "    </tr>\n",
       "    <tr>\n",
       "      <th>ACCIDENT_39610</th>\n",
       "      <td>0</td>\n",
       "    </tr>\n",
       "    <tr>\n",
       "      <th>ACCIDENT_39611</th>\n",
       "      <td>0</td>\n",
       "    </tr>\n",
       "    <tr>\n",
       "      <th>ACCIDENT_39612</th>\n",
       "      <td>0</td>\n",
       "    </tr>\n",
       "    <tr>\n",
       "      <th>ACCIDENT_39613</th>\n",
       "      <td>0</td>\n",
       "    </tr>\n",
       "    <tr>\n",
       "      <th>...</th>\n",
       "      <td>...</td>\n",
       "    </tr>\n",
       "    <tr>\n",
       "      <th>ACCIDENT_50567</th>\n",
       "      <td>0</td>\n",
       "    </tr>\n",
       "    <tr>\n",
       "      <th>ACCIDENT_50568</th>\n",
       "      <td>0</td>\n",
       "    </tr>\n",
       "    <tr>\n",
       "      <th>ACCIDENT_50569</th>\n",
       "      <td>0</td>\n",
       "    </tr>\n",
       "    <tr>\n",
       "      <th>ACCIDENT_50570</th>\n",
       "      <td>0</td>\n",
       "    </tr>\n",
       "    <tr>\n",
       "      <th>ACCIDENT_50571</th>\n",
       "      <td>0</td>\n",
       "    </tr>\n",
       "  </tbody>\n",
       "</table>\n",
       "<p>10963 rows × 1 columns</p>\n",
       "</div>"
      ],
      "text/plain": [
       "                ECLO\n",
       "ID                  \n",
       "ACCIDENT_39609     0\n",
       "ACCIDENT_39610     0\n",
       "ACCIDENT_39611     0\n",
       "ACCIDENT_39612     0\n",
       "ACCIDENT_39613     0\n",
       "...              ...\n",
       "ACCIDENT_50567     0\n",
       "ACCIDENT_50568     0\n",
       "ACCIDENT_50569     0\n",
       "ACCIDENT_50570     0\n",
       "ACCIDENT_50571     0\n",
       "\n",
       "[10963 rows x 1 columns]"
      ]
     },
     "execution_count": 107,
     "metadata": {},
     "output_type": "execute_result"
    }
   ],
   "source": [
    "sample_submission = pd.read_csv('/Users/euijinlee/KDT_DATA/Project_1/data/sample_submission.csv', index_col=0)\n",
    "sample_submission"
   ]
  },
  {
   "cell_type": "code",
   "execution_count": 108,
   "metadata": {},
   "outputs": [],
   "source": [
    "#y_test로 일단 데이터수 확인 위해 설정\n",
    "y_test = sample_submission['ECLO'].copy()"
   ]
  },
  {
   "cell_type": "code",
   "execution_count": 109,
   "metadata": {},
   "outputs": [
    {
     "name": "stdout",
     "output_type": "stream",
     "text": [
      "Size of X_train is:(39609, 86)\n",
      "Size of y_train is:(39609,)\n",
      "Size of X_test is:(10963, 86)\n",
      "Size of y_test is:(10963,)\n",
      "\n"
     ]
    }
   ],
   "source": [
    "# 데이터 사이즈 확인\n",
    "print(\"Size of X_train is:{}\\nSize of y_train is:{}\\nSize of X_test is:{}\\nSize of y_test is:{}\\n\".format(\n",
    "    X_train.shape,y_train.shape,X_test.shape,y_test.shape))"
   ]
  },
  {
   "cell_type": "markdown",
   "metadata": {},
   "source": [
    "- LightGBM 진행\n",
    "  - Randomized Search 에서 찾은 최적의 하이퍼 파라미터 사용\n",
    "    - Best Hyperparameters: {'learning_rate': 0.056307085566180866, 'max_depth': 10, 'n_estimators': 131, 'num_leaves': 43}"
   ]
  },
  {
   "cell_type": "code",
   "execution_count": 110,
   "metadata": {},
   "outputs": [],
   "source": [
    "import lightgbm as lgb\n",
    "from sklearn.model_selection import train_test_split\n",
    "from sklearn.metrics import mean_squared_error"
   ]
  },
  {
   "cell_type": "code",
   "execution_count": 111,
   "metadata": {},
   "outputs": [],
   "source": [
    "best_params = {\n",
    "    'learning_rate': 0.056307085566180866,\n",
    "    'max_depth': 10,\n",
    "    'n_estimators': 131,\n",
    "    'num_leaves': 43\n",
    "}"
   ]
  },
  {
   "cell_type": "code",
   "execution_count": 112,
   "metadata": {},
   "outputs": [],
   "source": [
    "best_lgbm_model = lgb.LGBMRegressor(**best_params)"
   ]
  },
  {
   "cell_type": "code",
   "execution_count": 113,
   "metadata": {},
   "outputs": [
    {
     "data": {
      "text/html": [
       "<style>#sk-container-id-4 {color: black;}#sk-container-id-4 pre{padding: 0;}#sk-container-id-4 div.sk-toggleable {background-color: white;}#sk-container-id-4 label.sk-toggleable__label {cursor: pointer;display: block;width: 100%;margin-bottom: 0;padding: 0.3em;box-sizing: border-box;text-align: center;}#sk-container-id-4 label.sk-toggleable__label-arrow:before {content: \"▸\";float: left;margin-right: 0.25em;color: #696969;}#sk-container-id-4 label.sk-toggleable__label-arrow:hover:before {color: black;}#sk-container-id-4 div.sk-estimator:hover label.sk-toggleable__label-arrow:before {color: black;}#sk-container-id-4 div.sk-toggleable__content {max-height: 0;max-width: 0;overflow: hidden;text-align: left;background-color: #f0f8ff;}#sk-container-id-4 div.sk-toggleable__content pre {margin: 0.2em;color: black;border-radius: 0.25em;background-color: #f0f8ff;}#sk-container-id-4 input.sk-toggleable__control:checked~div.sk-toggleable__content {max-height: 200px;max-width: 100%;overflow: auto;}#sk-container-id-4 input.sk-toggleable__control:checked~label.sk-toggleable__label-arrow:before {content: \"▾\";}#sk-container-id-4 div.sk-estimator input.sk-toggleable__control:checked~label.sk-toggleable__label {background-color: #d4ebff;}#sk-container-id-4 div.sk-label input.sk-toggleable__control:checked~label.sk-toggleable__label {background-color: #d4ebff;}#sk-container-id-4 input.sk-hidden--visually {border: 0;clip: rect(1px 1px 1px 1px);clip: rect(1px, 1px, 1px, 1px);height: 1px;margin: -1px;overflow: hidden;padding: 0;position: absolute;width: 1px;}#sk-container-id-4 div.sk-estimator {font-family: monospace;background-color: #f0f8ff;border: 1px dotted black;border-radius: 0.25em;box-sizing: border-box;margin-bottom: 0.5em;}#sk-container-id-4 div.sk-estimator:hover {background-color: #d4ebff;}#sk-container-id-4 div.sk-parallel-item::after {content: \"\";width: 100%;border-bottom: 1px solid gray;flex-grow: 1;}#sk-container-id-4 div.sk-label:hover label.sk-toggleable__label {background-color: #d4ebff;}#sk-container-id-4 div.sk-serial::before {content: \"\";position: absolute;border-left: 1px solid gray;box-sizing: border-box;top: 0;bottom: 0;left: 50%;z-index: 0;}#sk-container-id-4 div.sk-serial {display: flex;flex-direction: column;align-items: center;background-color: white;padding-right: 0.2em;padding-left: 0.2em;position: relative;}#sk-container-id-4 div.sk-item {position: relative;z-index: 1;}#sk-container-id-4 div.sk-parallel {display: flex;align-items: stretch;justify-content: center;background-color: white;position: relative;}#sk-container-id-4 div.sk-item::before, #sk-container-id-4 div.sk-parallel-item::before {content: \"\";position: absolute;border-left: 1px solid gray;box-sizing: border-box;top: 0;bottom: 0;left: 50%;z-index: -1;}#sk-container-id-4 div.sk-parallel-item {display: flex;flex-direction: column;z-index: 1;position: relative;background-color: white;}#sk-container-id-4 div.sk-parallel-item:first-child::after {align-self: flex-end;width: 50%;}#sk-container-id-4 div.sk-parallel-item:last-child::after {align-self: flex-start;width: 50%;}#sk-container-id-4 div.sk-parallel-item:only-child::after {width: 0;}#sk-container-id-4 div.sk-dashed-wrapped {border: 1px dashed gray;margin: 0 0.4em 0.5em 0.4em;box-sizing: border-box;padding-bottom: 0.4em;background-color: white;}#sk-container-id-4 div.sk-label label {font-family: monospace;font-weight: bold;display: inline-block;line-height: 1.2em;}#sk-container-id-4 div.sk-label-container {text-align: center;}#sk-container-id-4 div.sk-container {/* jupyter's `normalize.less` sets `[hidden] { display: none; }` but bootstrap.min.css set `[hidden] { display: none !important; }` so we also need the `!important` here to be able to override the default hidden behavior on the sphinx rendered scikit-learn.org. See: https://github.com/scikit-learn/scikit-learn/issues/21755 */display: inline-block !important;position: relative;}#sk-container-id-4 div.sk-text-repr-fallback {display: none;}</style><div id=\"sk-container-id-4\" class=\"sk-top-container\"><div class=\"sk-text-repr-fallback\"><pre>LGBMRegressor(learning_rate=0.056307085566180866, max_depth=10,\n",
       "              n_estimators=131, num_leaves=43)</pre><b>In a Jupyter environment, please rerun this cell to show the HTML representation or trust the notebook. <br />On GitHub, the HTML representation is unable to render, please try loading this page with nbviewer.org.</b></div><div class=\"sk-container\" hidden><div class=\"sk-item\"><div class=\"sk-estimator sk-toggleable\"><input class=\"sk-toggleable__control sk-hidden--visually\" id=\"sk-estimator-id-4\" type=\"checkbox\" checked><label for=\"sk-estimator-id-4\" class=\"sk-toggleable__label sk-toggleable__label-arrow\">LGBMRegressor</label><div class=\"sk-toggleable__content\"><pre>LGBMRegressor(learning_rate=0.056307085566180866, max_depth=10,\n",
       "              n_estimators=131, num_leaves=43)</pre></div></div></div></div></div>"
      ],
      "text/plain": [
       "LGBMRegressor(learning_rate=0.056307085566180866, max_depth=10,\n",
       "              n_estimators=131, num_leaves=43)"
      ]
     },
     "execution_count": 113,
     "metadata": {},
     "output_type": "execute_result"
    }
   ],
   "source": [
    "best_lgbm_model.fit(X_train, y_train)"
   ]
  },
  {
   "cell_type": "code",
   "execution_count": 114,
   "metadata": {},
   "outputs": [],
   "source": [
    "pred_lgbm = best_lgbm_model.predict(X_test)"
   ]
  },
  {
   "cell_type": "code",
   "execution_count": 117,
   "metadata": {},
   "outputs": [
    {
     "data": {
      "text/html": [
       "<div>\n",
       "<style scoped>\n",
       "    .dataframe tbody tr th:only-of-type {\n",
       "        vertical-align: middle;\n",
       "    }\n",
       "\n",
       "    .dataframe tbody tr th {\n",
       "        vertical-align: top;\n",
       "    }\n",
       "\n",
       "    .dataframe thead th {\n",
       "        text-align: right;\n",
       "    }\n",
       "</style>\n",
       "<table border=\"1\" class=\"dataframe\">\n",
       "  <thead>\n",
       "    <tr style=\"text-align: right;\">\n",
       "      <th></th>\n",
       "      <th>ECLO</th>\n",
       "    </tr>\n",
       "    <tr>\n",
       "      <th>ID</th>\n",
       "      <th></th>\n",
       "    </tr>\n",
       "  </thead>\n",
       "  <tbody>\n",
       "    <tr>\n",
       "      <th>ACCIDENT_39609</th>\n",
       "      <td>3.886096</td>\n",
       "    </tr>\n",
       "    <tr>\n",
       "      <th>ACCIDENT_39610</th>\n",
       "      <td>3.650136</td>\n",
       "    </tr>\n",
       "    <tr>\n",
       "      <th>ACCIDENT_39611</th>\n",
       "      <td>5.337318</td>\n",
       "    </tr>\n",
       "    <tr>\n",
       "      <th>ACCIDENT_39612</th>\n",
       "      <td>5.076716</td>\n",
       "    </tr>\n",
       "    <tr>\n",
       "      <th>ACCIDENT_39613</th>\n",
       "      <td>5.012273</td>\n",
       "    </tr>\n",
       "    <tr>\n",
       "      <th>...</th>\n",
       "      <td>...</td>\n",
       "    </tr>\n",
       "    <tr>\n",
       "      <th>ACCIDENT_50567</th>\n",
       "      <td>5.546434</td>\n",
       "    </tr>\n",
       "    <tr>\n",
       "      <th>ACCIDENT_50568</th>\n",
       "      <td>4.568139</td>\n",
       "    </tr>\n",
       "    <tr>\n",
       "      <th>ACCIDENT_50569</th>\n",
       "      <td>4.750883</td>\n",
       "    </tr>\n",
       "    <tr>\n",
       "      <th>ACCIDENT_50570</th>\n",
       "      <td>4.657923</td>\n",
       "    </tr>\n",
       "    <tr>\n",
       "      <th>ACCIDENT_50571</th>\n",
       "      <td>4.650844</td>\n",
       "    </tr>\n",
       "  </tbody>\n",
       "</table>\n",
       "<p>10963 rows × 1 columns</p>\n",
       "</div>"
      ],
      "text/plain": [
       "                    ECLO\n",
       "ID                      \n",
       "ACCIDENT_39609  3.886096\n",
       "ACCIDENT_39610  3.650136\n",
       "ACCIDENT_39611  5.337318\n",
       "ACCIDENT_39612  5.076716\n",
       "ACCIDENT_39613  5.012273\n",
       "...                  ...\n",
       "ACCIDENT_50567  5.546434\n",
       "ACCIDENT_50568  4.568139\n",
       "ACCIDENT_50569  4.750883\n",
       "ACCIDENT_50570  4.657923\n",
       "ACCIDENT_50571  4.650844\n",
       "\n",
       "[10963 rows x 1 columns]"
      ]
     },
     "execution_count": 117,
     "metadata": {},
     "output_type": "execute_result"
    }
   ],
   "source": [
    "LGBM_submission = sample_submission.copy()\n",
    "LGBM_submission['ECLO'] = pred_lgbm\n",
    "LGBM_submission"
   ]
  },
  {
   "cell_type": "code",
   "execution_count": 118,
   "metadata": {},
   "outputs": [],
   "source": [
    "#submission 파일로 저장\n",
    "LGBM_submission.to_csv('LGBM_submission.csv')"
   ]
  },
  {
   "cell_type": "markdown",
   "metadata": {},
   "source": [
    "# ➡️ 대회 제출 점수 : 0.4423470594"
   ]
  }
 ],
 "metadata": {
  "colab": {
   "provenance": []
  },
  "kernelspec": {
   "display_name": "Python 3 (ipykernel)",
   "language": "python",
   "name": "python3"
  },
  "language_info": {
   "codemirror_mode": {
    "name": "ipython",
    "version": 3
   },
   "file_extension": ".py",
   "mimetype": "text/x-python",
   "name": "python",
   "nbconvert_exporter": "python",
   "pygments_lexer": "ipython3",
   "version": "3.10.10"
  }
 },
 "nbformat": 4,
 "nbformat_minor": 4
}
